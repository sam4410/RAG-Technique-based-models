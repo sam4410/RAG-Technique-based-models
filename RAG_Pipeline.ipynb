{
  "nbformat": 4,
  "nbformat_minor": 0,
  "metadata": {
    "colab": {
      "provenance": [],
      "authorship_tag": "ABX9TyORUSa7mUiS60KVlGfP0JbL",
      "include_colab_link": true
    },
    "kernelspec": {
      "name": "python3",
      "display_name": "Python 3"
    },
    "language_info": {
      "name": "python"
    },
    "widgets": {
      "application/vnd.jupyter.widget-state+json": {
        "0f00f2ae51874702ab9a77da2dd3672a": {
          "model_module": "@jupyter-widgets/controls",
          "model_name": "HBoxModel",
          "model_module_version": "1.5.0",
          "state": {
            "_dom_classes": [],
            "_model_module": "@jupyter-widgets/controls",
            "_model_module_version": "1.5.0",
            "_model_name": "HBoxModel",
            "_view_count": null,
            "_view_module": "@jupyter-widgets/controls",
            "_view_module_version": "1.5.0",
            "_view_name": "HBoxView",
            "box_style": "",
            "children": [
              "IPY_MODEL_c08702bcd16b411a8732aacf2301f5e0",
              "IPY_MODEL_06f0d285cddd4ab5a690869349974470",
              "IPY_MODEL_b904439f63764f19a6e90215b88265f6"
            ],
            "layout": "IPY_MODEL_eb13f78111c54d7c98ae7c7bde6cf545"
          }
        },
        "c08702bcd16b411a8732aacf2301f5e0": {
          "model_module": "@jupyter-widgets/controls",
          "model_name": "HTMLModel",
          "model_module_version": "1.5.0",
          "state": {
            "_dom_classes": [],
            "_model_module": "@jupyter-widgets/controls",
            "_model_module_version": "1.5.0",
            "_model_name": "HTMLModel",
            "_view_count": null,
            "_view_module": "@jupyter-widgets/controls",
            "_view_module_version": "1.5.0",
            "_view_name": "HTMLView",
            "description": "",
            "description_tooltip": null,
            "layout": "IPY_MODEL_41eaa68892ed41b0a22ebceed4a39380",
            "placeholder": "​",
            "style": "IPY_MODEL_1f05da9545d141208aafca1d343468b7",
            "value": "modules.json: 100%"
          }
        },
        "06f0d285cddd4ab5a690869349974470": {
          "model_module": "@jupyter-widgets/controls",
          "model_name": "FloatProgressModel",
          "model_module_version": "1.5.0",
          "state": {
            "_dom_classes": [],
            "_model_module": "@jupyter-widgets/controls",
            "_model_module_version": "1.5.0",
            "_model_name": "FloatProgressModel",
            "_view_count": null,
            "_view_module": "@jupyter-widgets/controls",
            "_view_module_version": "1.5.0",
            "_view_name": "ProgressView",
            "bar_style": "success",
            "description": "",
            "description_tooltip": null,
            "layout": "IPY_MODEL_d108c818c03045a3819e3f8a052c6a98",
            "max": 349,
            "min": 0,
            "orientation": "horizontal",
            "style": "IPY_MODEL_cb38c595c3914e57a890057fc1bf40fd",
            "value": 349
          }
        },
        "b904439f63764f19a6e90215b88265f6": {
          "model_module": "@jupyter-widgets/controls",
          "model_name": "HTMLModel",
          "model_module_version": "1.5.0",
          "state": {
            "_dom_classes": [],
            "_model_module": "@jupyter-widgets/controls",
            "_model_module_version": "1.5.0",
            "_model_name": "HTMLModel",
            "_view_count": null,
            "_view_module": "@jupyter-widgets/controls",
            "_view_module_version": "1.5.0",
            "_view_name": "HTMLView",
            "description": "",
            "description_tooltip": null,
            "layout": "IPY_MODEL_e02a86cc022344b485820e411fb06421",
            "placeholder": "​",
            "style": "IPY_MODEL_74b2a2c34fe8449a96194c334ef66072",
            "value": " 349/349 [00:00&lt;00:00, 24.7kB/s]"
          }
        },
        "eb13f78111c54d7c98ae7c7bde6cf545": {
          "model_module": "@jupyter-widgets/base",
          "model_name": "LayoutModel",
          "model_module_version": "1.2.0",
          "state": {
            "_model_module": "@jupyter-widgets/base",
            "_model_module_version": "1.2.0",
            "_model_name": "LayoutModel",
            "_view_count": null,
            "_view_module": "@jupyter-widgets/base",
            "_view_module_version": "1.2.0",
            "_view_name": "LayoutView",
            "align_content": null,
            "align_items": null,
            "align_self": null,
            "border": null,
            "bottom": null,
            "display": null,
            "flex": null,
            "flex_flow": null,
            "grid_area": null,
            "grid_auto_columns": null,
            "grid_auto_flow": null,
            "grid_auto_rows": null,
            "grid_column": null,
            "grid_gap": null,
            "grid_row": null,
            "grid_template_areas": null,
            "grid_template_columns": null,
            "grid_template_rows": null,
            "height": null,
            "justify_content": null,
            "justify_items": null,
            "left": null,
            "margin": null,
            "max_height": null,
            "max_width": null,
            "min_height": null,
            "min_width": null,
            "object_fit": null,
            "object_position": null,
            "order": null,
            "overflow": null,
            "overflow_x": null,
            "overflow_y": null,
            "padding": null,
            "right": null,
            "top": null,
            "visibility": null,
            "width": null
          }
        },
        "41eaa68892ed41b0a22ebceed4a39380": {
          "model_module": "@jupyter-widgets/base",
          "model_name": "LayoutModel",
          "model_module_version": "1.2.0",
          "state": {
            "_model_module": "@jupyter-widgets/base",
            "_model_module_version": "1.2.0",
            "_model_name": "LayoutModel",
            "_view_count": null,
            "_view_module": "@jupyter-widgets/base",
            "_view_module_version": "1.2.0",
            "_view_name": "LayoutView",
            "align_content": null,
            "align_items": null,
            "align_self": null,
            "border": null,
            "bottom": null,
            "display": null,
            "flex": null,
            "flex_flow": null,
            "grid_area": null,
            "grid_auto_columns": null,
            "grid_auto_flow": null,
            "grid_auto_rows": null,
            "grid_column": null,
            "grid_gap": null,
            "grid_row": null,
            "grid_template_areas": null,
            "grid_template_columns": null,
            "grid_template_rows": null,
            "height": null,
            "justify_content": null,
            "justify_items": null,
            "left": null,
            "margin": null,
            "max_height": null,
            "max_width": null,
            "min_height": null,
            "min_width": null,
            "object_fit": null,
            "object_position": null,
            "order": null,
            "overflow": null,
            "overflow_x": null,
            "overflow_y": null,
            "padding": null,
            "right": null,
            "top": null,
            "visibility": null,
            "width": null
          }
        },
        "1f05da9545d141208aafca1d343468b7": {
          "model_module": "@jupyter-widgets/controls",
          "model_name": "DescriptionStyleModel",
          "model_module_version": "1.5.0",
          "state": {
            "_model_module": "@jupyter-widgets/controls",
            "_model_module_version": "1.5.0",
            "_model_name": "DescriptionStyleModel",
            "_view_count": null,
            "_view_module": "@jupyter-widgets/base",
            "_view_module_version": "1.2.0",
            "_view_name": "StyleView",
            "description_width": ""
          }
        },
        "d108c818c03045a3819e3f8a052c6a98": {
          "model_module": "@jupyter-widgets/base",
          "model_name": "LayoutModel",
          "model_module_version": "1.2.0",
          "state": {
            "_model_module": "@jupyter-widgets/base",
            "_model_module_version": "1.2.0",
            "_model_name": "LayoutModel",
            "_view_count": null,
            "_view_module": "@jupyter-widgets/base",
            "_view_module_version": "1.2.0",
            "_view_name": "LayoutView",
            "align_content": null,
            "align_items": null,
            "align_self": null,
            "border": null,
            "bottom": null,
            "display": null,
            "flex": null,
            "flex_flow": null,
            "grid_area": null,
            "grid_auto_columns": null,
            "grid_auto_flow": null,
            "grid_auto_rows": null,
            "grid_column": null,
            "grid_gap": null,
            "grid_row": null,
            "grid_template_areas": null,
            "grid_template_columns": null,
            "grid_template_rows": null,
            "height": null,
            "justify_content": null,
            "justify_items": null,
            "left": null,
            "margin": null,
            "max_height": null,
            "max_width": null,
            "min_height": null,
            "min_width": null,
            "object_fit": null,
            "object_position": null,
            "order": null,
            "overflow": null,
            "overflow_x": null,
            "overflow_y": null,
            "padding": null,
            "right": null,
            "top": null,
            "visibility": null,
            "width": null
          }
        },
        "cb38c595c3914e57a890057fc1bf40fd": {
          "model_module": "@jupyter-widgets/controls",
          "model_name": "ProgressStyleModel",
          "model_module_version": "1.5.0",
          "state": {
            "_model_module": "@jupyter-widgets/controls",
            "_model_module_version": "1.5.0",
            "_model_name": "ProgressStyleModel",
            "_view_count": null,
            "_view_module": "@jupyter-widgets/base",
            "_view_module_version": "1.2.0",
            "_view_name": "StyleView",
            "bar_color": null,
            "description_width": ""
          }
        },
        "e02a86cc022344b485820e411fb06421": {
          "model_module": "@jupyter-widgets/base",
          "model_name": "LayoutModel",
          "model_module_version": "1.2.0",
          "state": {
            "_model_module": "@jupyter-widgets/base",
            "_model_module_version": "1.2.0",
            "_model_name": "LayoutModel",
            "_view_count": null,
            "_view_module": "@jupyter-widgets/base",
            "_view_module_version": "1.2.0",
            "_view_name": "LayoutView",
            "align_content": null,
            "align_items": null,
            "align_self": null,
            "border": null,
            "bottom": null,
            "display": null,
            "flex": null,
            "flex_flow": null,
            "grid_area": null,
            "grid_auto_columns": null,
            "grid_auto_flow": null,
            "grid_auto_rows": null,
            "grid_column": null,
            "grid_gap": null,
            "grid_row": null,
            "grid_template_areas": null,
            "grid_template_columns": null,
            "grid_template_rows": null,
            "height": null,
            "justify_content": null,
            "justify_items": null,
            "left": null,
            "margin": null,
            "max_height": null,
            "max_width": null,
            "min_height": null,
            "min_width": null,
            "object_fit": null,
            "object_position": null,
            "order": null,
            "overflow": null,
            "overflow_x": null,
            "overflow_y": null,
            "padding": null,
            "right": null,
            "top": null,
            "visibility": null,
            "width": null
          }
        },
        "74b2a2c34fe8449a96194c334ef66072": {
          "model_module": "@jupyter-widgets/controls",
          "model_name": "DescriptionStyleModel",
          "model_module_version": "1.5.0",
          "state": {
            "_model_module": "@jupyter-widgets/controls",
            "_model_module_version": "1.5.0",
            "_model_name": "DescriptionStyleModel",
            "_view_count": null,
            "_view_module": "@jupyter-widgets/base",
            "_view_module_version": "1.2.0",
            "_view_name": "StyleView",
            "description_width": ""
          }
        },
        "e02401d95f404fe2a7da80405dc42895": {
          "model_module": "@jupyter-widgets/controls",
          "model_name": "HBoxModel",
          "model_module_version": "1.5.0",
          "state": {
            "_dom_classes": [],
            "_model_module": "@jupyter-widgets/controls",
            "_model_module_version": "1.5.0",
            "_model_name": "HBoxModel",
            "_view_count": null,
            "_view_module": "@jupyter-widgets/controls",
            "_view_module_version": "1.5.0",
            "_view_name": "HBoxView",
            "box_style": "",
            "children": [
              "IPY_MODEL_d55fe9559c3b4d64adcb6ec990b92e43",
              "IPY_MODEL_9f5c5cfb9d1a4265ba95322c457a23bc",
              "IPY_MODEL_033110efc25041f6ad631e40837fcf79"
            ],
            "layout": "IPY_MODEL_7e6726a3be7746eaab1462d565e87c8c"
          }
        },
        "d55fe9559c3b4d64adcb6ec990b92e43": {
          "model_module": "@jupyter-widgets/controls",
          "model_name": "HTMLModel",
          "model_module_version": "1.5.0",
          "state": {
            "_dom_classes": [],
            "_model_module": "@jupyter-widgets/controls",
            "_model_module_version": "1.5.0",
            "_model_name": "HTMLModel",
            "_view_count": null,
            "_view_module": "@jupyter-widgets/controls",
            "_view_module_version": "1.5.0",
            "_view_name": "HTMLView",
            "description": "",
            "description_tooltip": null,
            "layout": "IPY_MODEL_09c7ddced0344ccca3d1b639860b741f",
            "placeholder": "​",
            "style": "IPY_MODEL_8261fa41b0c64af5abc754a03ddc8e49",
            "value": "config_sentence_transformers.json: 100%"
          }
        },
        "9f5c5cfb9d1a4265ba95322c457a23bc": {
          "model_module": "@jupyter-widgets/controls",
          "model_name": "FloatProgressModel",
          "model_module_version": "1.5.0",
          "state": {
            "_dom_classes": [],
            "_model_module": "@jupyter-widgets/controls",
            "_model_module_version": "1.5.0",
            "_model_name": "FloatProgressModel",
            "_view_count": null,
            "_view_module": "@jupyter-widgets/controls",
            "_view_module_version": "1.5.0",
            "_view_name": "ProgressView",
            "bar_style": "success",
            "description": "",
            "description_tooltip": null,
            "layout": "IPY_MODEL_4a5580fb97724fca9d467a3fcaaaaa91",
            "max": 116,
            "min": 0,
            "orientation": "horizontal",
            "style": "IPY_MODEL_df4504c57e0543509607c10380e11879",
            "value": 116
          }
        },
        "033110efc25041f6ad631e40837fcf79": {
          "model_module": "@jupyter-widgets/controls",
          "model_name": "HTMLModel",
          "model_module_version": "1.5.0",
          "state": {
            "_dom_classes": [],
            "_model_module": "@jupyter-widgets/controls",
            "_model_module_version": "1.5.0",
            "_model_name": "HTMLModel",
            "_view_count": null,
            "_view_module": "@jupyter-widgets/controls",
            "_view_module_version": "1.5.0",
            "_view_name": "HTMLView",
            "description": "",
            "description_tooltip": null,
            "layout": "IPY_MODEL_998cc55529204861a718939034dc73cb",
            "placeholder": "​",
            "style": "IPY_MODEL_2a993a5acc3d403ba58731848861990a",
            "value": " 116/116 [00:00&lt;00:00, 9.06kB/s]"
          }
        },
        "7e6726a3be7746eaab1462d565e87c8c": {
          "model_module": "@jupyter-widgets/base",
          "model_name": "LayoutModel",
          "model_module_version": "1.2.0",
          "state": {
            "_model_module": "@jupyter-widgets/base",
            "_model_module_version": "1.2.0",
            "_model_name": "LayoutModel",
            "_view_count": null,
            "_view_module": "@jupyter-widgets/base",
            "_view_module_version": "1.2.0",
            "_view_name": "LayoutView",
            "align_content": null,
            "align_items": null,
            "align_self": null,
            "border": null,
            "bottom": null,
            "display": null,
            "flex": null,
            "flex_flow": null,
            "grid_area": null,
            "grid_auto_columns": null,
            "grid_auto_flow": null,
            "grid_auto_rows": null,
            "grid_column": null,
            "grid_gap": null,
            "grid_row": null,
            "grid_template_areas": null,
            "grid_template_columns": null,
            "grid_template_rows": null,
            "height": null,
            "justify_content": null,
            "justify_items": null,
            "left": null,
            "margin": null,
            "max_height": null,
            "max_width": null,
            "min_height": null,
            "min_width": null,
            "object_fit": null,
            "object_position": null,
            "order": null,
            "overflow": null,
            "overflow_x": null,
            "overflow_y": null,
            "padding": null,
            "right": null,
            "top": null,
            "visibility": null,
            "width": null
          }
        },
        "09c7ddced0344ccca3d1b639860b741f": {
          "model_module": "@jupyter-widgets/base",
          "model_name": "LayoutModel",
          "model_module_version": "1.2.0",
          "state": {
            "_model_module": "@jupyter-widgets/base",
            "_model_module_version": "1.2.0",
            "_model_name": "LayoutModel",
            "_view_count": null,
            "_view_module": "@jupyter-widgets/base",
            "_view_module_version": "1.2.0",
            "_view_name": "LayoutView",
            "align_content": null,
            "align_items": null,
            "align_self": null,
            "border": null,
            "bottom": null,
            "display": null,
            "flex": null,
            "flex_flow": null,
            "grid_area": null,
            "grid_auto_columns": null,
            "grid_auto_flow": null,
            "grid_auto_rows": null,
            "grid_column": null,
            "grid_gap": null,
            "grid_row": null,
            "grid_template_areas": null,
            "grid_template_columns": null,
            "grid_template_rows": null,
            "height": null,
            "justify_content": null,
            "justify_items": null,
            "left": null,
            "margin": null,
            "max_height": null,
            "max_width": null,
            "min_height": null,
            "min_width": null,
            "object_fit": null,
            "object_position": null,
            "order": null,
            "overflow": null,
            "overflow_x": null,
            "overflow_y": null,
            "padding": null,
            "right": null,
            "top": null,
            "visibility": null,
            "width": null
          }
        },
        "8261fa41b0c64af5abc754a03ddc8e49": {
          "model_module": "@jupyter-widgets/controls",
          "model_name": "DescriptionStyleModel",
          "model_module_version": "1.5.0",
          "state": {
            "_model_module": "@jupyter-widgets/controls",
            "_model_module_version": "1.5.0",
            "_model_name": "DescriptionStyleModel",
            "_view_count": null,
            "_view_module": "@jupyter-widgets/base",
            "_view_module_version": "1.2.0",
            "_view_name": "StyleView",
            "description_width": ""
          }
        },
        "4a5580fb97724fca9d467a3fcaaaaa91": {
          "model_module": "@jupyter-widgets/base",
          "model_name": "LayoutModel",
          "model_module_version": "1.2.0",
          "state": {
            "_model_module": "@jupyter-widgets/base",
            "_model_module_version": "1.2.0",
            "_model_name": "LayoutModel",
            "_view_count": null,
            "_view_module": "@jupyter-widgets/base",
            "_view_module_version": "1.2.0",
            "_view_name": "LayoutView",
            "align_content": null,
            "align_items": null,
            "align_self": null,
            "border": null,
            "bottom": null,
            "display": null,
            "flex": null,
            "flex_flow": null,
            "grid_area": null,
            "grid_auto_columns": null,
            "grid_auto_flow": null,
            "grid_auto_rows": null,
            "grid_column": null,
            "grid_gap": null,
            "grid_row": null,
            "grid_template_areas": null,
            "grid_template_columns": null,
            "grid_template_rows": null,
            "height": null,
            "justify_content": null,
            "justify_items": null,
            "left": null,
            "margin": null,
            "max_height": null,
            "max_width": null,
            "min_height": null,
            "min_width": null,
            "object_fit": null,
            "object_position": null,
            "order": null,
            "overflow": null,
            "overflow_x": null,
            "overflow_y": null,
            "padding": null,
            "right": null,
            "top": null,
            "visibility": null,
            "width": null
          }
        },
        "df4504c57e0543509607c10380e11879": {
          "model_module": "@jupyter-widgets/controls",
          "model_name": "ProgressStyleModel",
          "model_module_version": "1.5.0",
          "state": {
            "_model_module": "@jupyter-widgets/controls",
            "_model_module_version": "1.5.0",
            "_model_name": "ProgressStyleModel",
            "_view_count": null,
            "_view_module": "@jupyter-widgets/base",
            "_view_module_version": "1.2.0",
            "_view_name": "StyleView",
            "bar_color": null,
            "description_width": ""
          }
        },
        "998cc55529204861a718939034dc73cb": {
          "model_module": "@jupyter-widgets/base",
          "model_name": "LayoutModel",
          "model_module_version": "1.2.0",
          "state": {
            "_model_module": "@jupyter-widgets/base",
            "_model_module_version": "1.2.0",
            "_model_name": "LayoutModel",
            "_view_count": null,
            "_view_module": "@jupyter-widgets/base",
            "_view_module_version": "1.2.0",
            "_view_name": "LayoutView",
            "align_content": null,
            "align_items": null,
            "align_self": null,
            "border": null,
            "bottom": null,
            "display": null,
            "flex": null,
            "flex_flow": null,
            "grid_area": null,
            "grid_auto_columns": null,
            "grid_auto_flow": null,
            "grid_auto_rows": null,
            "grid_column": null,
            "grid_gap": null,
            "grid_row": null,
            "grid_template_areas": null,
            "grid_template_columns": null,
            "grid_template_rows": null,
            "height": null,
            "justify_content": null,
            "justify_items": null,
            "left": null,
            "margin": null,
            "max_height": null,
            "max_width": null,
            "min_height": null,
            "min_width": null,
            "object_fit": null,
            "object_position": null,
            "order": null,
            "overflow": null,
            "overflow_x": null,
            "overflow_y": null,
            "padding": null,
            "right": null,
            "top": null,
            "visibility": null,
            "width": null
          }
        },
        "2a993a5acc3d403ba58731848861990a": {
          "model_module": "@jupyter-widgets/controls",
          "model_name": "DescriptionStyleModel",
          "model_module_version": "1.5.0",
          "state": {
            "_model_module": "@jupyter-widgets/controls",
            "_model_module_version": "1.5.0",
            "_model_name": "DescriptionStyleModel",
            "_view_count": null,
            "_view_module": "@jupyter-widgets/base",
            "_view_module_version": "1.2.0",
            "_view_name": "StyleView",
            "description_width": ""
          }
        },
        "8587c4d7cb4b4ad0a1093ee22ae30a0f": {
          "model_module": "@jupyter-widgets/controls",
          "model_name": "HBoxModel",
          "model_module_version": "1.5.0",
          "state": {
            "_dom_classes": [],
            "_model_module": "@jupyter-widgets/controls",
            "_model_module_version": "1.5.0",
            "_model_name": "HBoxModel",
            "_view_count": null,
            "_view_module": "@jupyter-widgets/controls",
            "_view_module_version": "1.5.0",
            "_view_name": "HBoxView",
            "box_style": "",
            "children": [
              "IPY_MODEL_b1c592bfdf3f41fcb8300f386c3a20ff",
              "IPY_MODEL_0f4f536de21b4e7bad3a0354db96e159",
              "IPY_MODEL_58c93f3d81da4d249a6ca5cef8dd3517"
            ],
            "layout": "IPY_MODEL_9d15a0ae52264711b5b52f668e53bbac"
          }
        },
        "b1c592bfdf3f41fcb8300f386c3a20ff": {
          "model_module": "@jupyter-widgets/controls",
          "model_name": "HTMLModel",
          "model_module_version": "1.5.0",
          "state": {
            "_dom_classes": [],
            "_model_module": "@jupyter-widgets/controls",
            "_model_module_version": "1.5.0",
            "_model_name": "HTMLModel",
            "_view_count": null,
            "_view_module": "@jupyter-widgets/controls",
            "_view_module_version": "1.5.0",
            "_view_name": "HTMLView",
            "description": "",
            "description_tooltip": null,
            "layout": "IPY_MODEL_b3537c01f0cc449cabe29b736f24d400",
            "placeholder": "​",
            "style": "IPY_MODEL_0f0dd057100a4f499d57d56c006a70dc",
            "value": "README.md: 100%"
          }
        },
        "0f4f536de21b4e7bad3a0354db96e159": {
          "model_module": "@jupyter-widgets/controls",
          "model_name": "FloatProgressModel",
          "model_module_version": "1.5.0",
          "state": {
            "_dom_classes": [],
            "_model_module": "@jupyter-widgets/controls",
            "_model_module_version": "1.5.0",
            "_model_name": "FloatProgressModel",
            "_view_count": null,
            "_view_module": "@jupyter-widgets/controls",
            "_view_module_version": "1.5.0",
            "_view_name": "ProgressView",
            "bar_style": "success",
            "description": "",
            "description_tooltip": null,
            "layout": "IPY_MODEL_9050d983439744288e2db2ea341fd7b4",
            "max": 10454,
            "min": 0,
            "orientation": "horizontal",
            "style": "IPY_MODEL_6014ea3c75c64ab49908145cb0d5dba4",
            "value": 10454
          }
        },
        "58c93f3d81da4d249a6ca5cef8dd3517": {
          "model_module": "@jupyter-widgets/controls",
          "model_name": "HTMLModel",
          "model_module_version": "1.5.0",
          "state": {
            "_dom_classes": [],
            "_model_module": "@jupyter-widgets/controls",
            "_model_module_version": "1.5.0",
            "_model_name": "HTMLModel",
            "_view_count": null,
            "_view_module": "@jupyter-widgets/controls",
            "_view_module_version": "1.5.0",
            "_view_name": "HTMLView",
            "description": "",
            "description_tooltip": null,
            "layout": "IPY_MODEL_9554f9f852e2494aa7c58593bd235f16",
            "placeholder": "​",
            "style": "IPY_MODEL_07a8d2f99de04f40ac63f6a1b5c02403",
            "value": " 10.5k/10.5k [00:00&lt;00:00, 638kB/s]"
          }
        },
        "9d15a0ae52264711b5b52f668e53bbac": {
          "model_module": "@jupyter-widgets/base",
          "model_name": "LayoutModel",
          "model_module_version": "1.2.0",
          "state": {
            "_model_module": "@jupyter-widgets/base",
            "_model_module_version": "1.2.0",
            "_model_name": "LayoutModel",
            "_view_count": null,
            "_view_module": "@jupyter-widgets/base",
            "_view_module_version": "1.2.0",
            "_view_name": "LayoutView",
            "align_content": null,
            "align_items": null,
            "align_self": null,
            "border": null,
            "bottom": null,
            "display": null,
            "flex": null,
            "flex_flow": null,
            "grid_area": null,
            "grid_auto_columns": null,
            "grid_auto_flow": null,
            "grid_auto_rows": null,
            "grid_column": null,
            "grid_gap": null,
            "grid_row": null,
            "grid_template_areas": null,
            "grid_template_columns": null,
            "grid_template_rows": null,
            "height": null,
            "justify_content": null,
            "justify_items": null,
            "left": null,
            "margin": null,
            "max_height": null,
            "max_width": null,
            "min_height": null,
            "min_width": null,
            "object_fit": null,
            "object_position": null,
            "order": null,
            "overflow": null,
            "overflow_x": null,
            "overflow_y": null,
            "padding": null,
            "right": null,
            "top": null,
            "visibility": null,
            "width": null
          }
        },
        "b3537c01f0cc449cabe29b736f24d400": {
          "model_module": "@jupyter-widgets/base",
          "model_name": "LayoutModel",
          "model_module_version": "1.2.0",
          "state": {
            "_model_module": "@jupyter-widgets/base",
            "_model_module_version": "1.2.0",
            "_model_name": "LayoutModel",
            "_view_count": null,
            "_view_module": "@jupyter-widgets/base",
            "_view_module_version": "1.2.0",
            "_view_name": "LayoutView",
            "align_content": null,
            "align_items": null,
            "align_self": null,
            "border": null,
            "bottom": null,
            "display": null,
            "flex": null,
            "flex_flow": null,
            "grid_area": null,
            "grid_auto_columns": null,
            "grid_auto_flow": null,
            "grid_auto_rows": null,
            "grid_column": null,
            "grid_gap": null,
            "grid_row": null,
            "grid_template_areas": null,
            "grid_template_columns": null,
            "grid_template_rows": null,
            "height": null,
            "justify_content": null,
            "justify_items": null,
            "left": null,
            "margin": null,
            "max_height": null,
            "max_width": null,
            "min_height": null,
            "min_width": null,
            "object_fit": null,
            "object_position": null,
            "order": null,
            "overflow": null,
            "overflow_x": null,
            "overflow_y": null,
            "padding": null,
            "right": null,
            "top": null,
            "visibility": null,
            "width": null
          }
        },
        "0f0dd057100a4f499d57d56c006a70dc": {
          "model_module": "@jupyter-widgets/controls",
          "model_name": "DescriptionStyleModel",
          "model_module_version": "1.5.0",
          "state": {
            "_model_module": "@jupyter-widgets/controls",
            "_model_module_version": "1.5.0",
            "_model_name": "DescriptionStyleModel",
            "_view_count": null,
            "_view_module": "@jupyter-widgets/base",
            "_view_module_version": "1.2.0",
            "_view_name": "StyleView",
            "description_width": ""
          }
        },
        "9050d983439744288e2db2ea341fd7b4": {
          "model_module": "@jupyter-widgets/base",
          "model_name": "LayoutModel",
          "model_module_version": "1.2.0",
          "state": {
            "_model_module": "@jupyter-widgets/base",
            "_model_module_version": "1.2.0",
            "_model_name": "LayoutModel",
            "_view_count": null,
            "_view_module": "@jupyter-widgets/base",
            "_view_module_version": "1.2.0",
            "_view_name": "LayoutView",
            "align_content": null,
            "align_items": null,
            "align_self": null,
            "border": null,
            "bottom": null,
            "display": null,
            "flex": null,
            "flex_flow": null,
            "grid_area": null,
            "grid_auto_columns": null,
            "grid_auto_flow": null,
            "grid_auto_rows": null,
            "grid_column": null,
            "grid_gap": null,
            "grid_row": null,
            "grid_template_areas": null,
            "grid_template_columns": null,
            "grid_template_rows": null,
            "height": null,
            "justify_content": null,
            "justify_items": null,
            "left": null,
            "margin": null,
            "max_height": null,
            "max_width": null,
            "min_height": null,
            "min_width": null,
            "object_fit": null,
            "object_position": null,
            "order": null,
            "overflow": null,
            "overflow_x": null,
            "overflow_y": null,
            "padding": null,
            "right": null,
            "top": null,
            "visibility": null,
            "width": null
          }
        },
        "6014ea3c75c64ab49908145cb0d5dba4": {
          "model_module": "@jupyter-widgets/controls",
          "model_name": "ProgressStyleModel",
          "model_module_version": "1.5.0",
          "state": {
            "_model_module": "@jupyter-widgets/controls",
            "_model_module_version": "1.5.0",
            "_model_name": "ProgressStyleModel",
            "_view_count": null,
            "_view_module": "@jupyter-widgets/base",
            "_view_module_version": "1.2.0",
            "_view_name": "StyleView",
            "bar_color": null,
            "description_width": ""
          }
        },
        "9554f9f852e2494aa7c58593bd235f16": {
          "model_module": "@jupyter-widgets/base",
          "model_name": "LayoutModel",
          "model_module_version": "1.2.0",
          "state": {
            "_model_module": "@jupyter-widgets/base",
            "_model_module_version": "1.2.0",
            "_model_name": "LayoutModel",
            "_view_count": null,
            "_view_module": "@jupyter-widgets/base",
            "_view_module_version": "1.2.0",
            "_view_name": "LayoutView",
            "align_content": null,
            "align_items": null,
            "align_self": null,
            "border": null,
            "bottom": null,
            "display": null,
            "flex": null,
            "flex_flow": null,
            "grid_area": null,
            "grid_auto_columns": null,
            "grid_auto_flow": null,
            "grid_auto_rows": null,
            "grid_column": null,
            "grid_gap": null,
            "grid_row": null,
            "grid_template_areas": null,
            "grid_template_columns": null,
            "grid_template_rows": null,
            "height": null,
            "justify_content": null,
            "justify_items": null,
            "left": null,
            "margin": null,
            "max_height": null,
            "max_width": null,
            "min_height": null,
            "min_width": null,
            "object_fit": null,
            "object_position": null,
            "order": null,
            "overflow": null,
            "overflow_x": null,
            "overflow_y": null,
            "padding": null,
            "right": null,
            "top": null,
            "visibility": null,
            "width": null
          }
        },
        "07a8d2f99de04f40ac63f6a1b5c02403": {
          "model_module": "@jupyter-widgets/controls",
          "model_name": "DescriptionStyleModel",
          "model_module_version": "1.5.0",
          "state": {
            "_model_module": "@jupyter-widgets/controls",
            "_model_module_version": "1.5.0",
            "_model_name": "DescriptionStyleModel",
            "_view_count": null,
            "_view_module": "@jupyter-widgets/base",
            "_view_module_version": "1.2.0",
            "_view_name": "StyleView",
            "description_width": ""
          }
        },
        "ae4f5773cfee4d91b136bb42446510b7": {
          "model_module": "@jupyter-widgets/controls",
          "model_name": "HBoxModel",
          "model_module_version": "1.5.0",
          "state": {
            "_dom_classes": [],
            "_model_module": "@jupyter-widgets/controls",
            "_model_module_version": "1.5.0",
            "_model_name": "HBoxModel",
            "_view_count": null,
            "_view_module": "@jupyter-widgets/controls",
            "_view_module_version": "1.5.0",
            "_view_name": "HBoxView",
            "box_style": "",
            "children": [
              "IPY_MODEL_136367418535404a98bd2aaba31e63ae",
              "IPY_MODEL_073331b0541e458da9e50244e5ce8f86",
              "IPY_MODEL_8dea50b78b764c95a2d0d466e924497d"
            ],
            "layout": "IPY_MODEL_3a83ee395f3a4778ac8b12a4083f811f"
          }
        },
        "136367418535404a98bd2aaba31e63ae": {
          "model_module": "@jupyter-widgets/controls",
          "model_name": "HTMLModel",
          "model_module_version": "1.5.0",
          "state": {
            "_dom_classes": [],
            "_model_module": "@jupyter-widgets/controls",
            "_model_module_version": "1.5.0",
            "_model_name": "HTMLModel",
            "_view_count": null,
            "_view_module": "@jupyter-widgets/controls",
            "_view_module_version": "1.5.0",
            "_view_name": "HTMLView",
            "description": "",
            "description_tooltip": null,
            "layout": "IPY_MODEL_e712e0de78134070b0c9e11667758ec3",
            "placeholder": "​",
            "style": "IPY_MODEL_e0ac1ec0920341f884936a2fcfb89c6a",
            "value": "sentence_bert_config.json: 100%"
          }
        },
        "073331b0541e458da9e50244e5ce8f86": {
          "model_module": "@jupyter-widgets/controls",
          "model_name": "FloatProgressModel",
          "model_module_version": "1.5.0",
          "state": {
            "_dom_classes": [],
            "_model_module": "@jupyter-widgets/controls",
            "_model_module_version": "1.5.0",
            "_model_name": "FloatProgressModel",
            "_view_count": null,
            "_view_module": "@jupyter-widgets/controls",
            "_view_module_version": "1.5.0",
            "_view_name": "ProgressView",
            "bar_style": "success",
            "description": "",
            "description_tooltip": null,
            "layout": "IPY_MODEL_3397be7bb8ff479189a642ee0e960011",
            "max": 53,
            "min": 0,
            "orientation": "horizontal",
            "style": "IPY_MODEL_2692589e37e249028e36f3bdc7471b16",
            "value": 53
          }
        },
        "8dea50b78b764c95a2d0d466e924497d": {
          "model_module": "@jupyter-widgets/controls",
          "model_name": "HTMLModel",
          "model_module_version": "1.5.0",
          "state": {
            "_dom_classes": [],
            "_model_module": "@jupyter-widgets/controls",
            "_model_module_version": "1.5.0",
            "_model_name": "HTMLModel",
            "_view_count": null,
            "_view_module": "@jupyter-widgets/controls",
            "_view_module_version": "1.5.0",
            "_view_name": "HTMLView",
            "description": "",
            "description_tooltip": null,
            "layout": "IPY_MODEL_756573b2ca6f4baf957f94009ac5167e",
            "placeholder": "​",
            "style": "IPY_MODEL_40ca3ae70d1b460986719e18d6e5d6d0",
            "value": " 53.0/53.0 [00:00&lt;00:00, 2.90kB/s]"
          }
        },
        "3a83ee395f3a4778ac8b12a4083f811f": {
          "model_module": "@jupyter-widgets/base",
          "model_name": "LayoutModel",
          "model_module_version": "1.2.0",
          "state": {
            "_model_module": "@jupyter-widgets/base",
            "_model_module_version": "1.2.0",
            "_model_name": "LayoutModel",
            "_view_count": null,
            "_view_module": "@jupyter-widgets/base",
            "_view_module_version": "1.2.0",
            "_view_name": "LayoutView",
            "align_content": null,
            "align_items": null,
            "align_self": null,
            "border": null,
            "bottom": null,
            "display": null,
            "flex": null,
            "flex_flow": null,
            "grid_area": null,
            "grid_auto_columns": null,
            "grid_auto_flow": null,
            "grid_auto_rows": null,
            "grid_column": null,
            "grid_gap": null,
            "grid_row": null,
            "grid_template_areas": null,
            "grid_template_columns": null,
            "grid_template_rows": null,
            "height": null,
            "justify_content": null,
            "justify_items": null,
            "left": null,
            "margin": null,
            "max_height": null,
            "max_width": null,
            "min_height": null,
            "min_width": null,
            "object_fit": null,
            "object_position": null,
            "order": null,
            "overflow": null,
            "overflow_x": null,
            "overflow_y": null,
            "padding": null,
            "right": null,
            "top": null,
            "visibility": null,
            "width": null
          }
        },
        "e712e0de78134070b0c9e11667758ec3": {
          "model_module": "@jupyter-widgets/base",
          "model_name": "LayoutModel",
          "model_module_version": "1.2.0",
          "state": {
            "_model_module": "@jupyter-widgets/base",
            "_model_module_version": "1.2.0",
            "_model_name": "LayoutModel",
            "_view_count": null,
            "_view_module": "@jupyter-widgets/base",
            "_view_module_version": "1.2.0",
            "_view_name": "LayoutView",
            "align_content": null,
            "align_items": null,
            "align_self": null,
            "border": null,
            "bottom": null,
            "display": null,
            "flex": null,
            "flex_flow": null,
            "grid_area": null,
            "grid_auto_columns": null,
            "grid_auto_flow": null,
            "grid_auto_rows": null,
            "grid_column": null,
            "grid_gap": null,
            "grid_row": null,
            "grid_template_areas": null,
            "grid_template_columns": null,
            "grid_template_rows": null,
            "height": null,
            "justify_content": null,
            "justify_items": null,
            "left": null,
            "margin": null,
            "max_height": null,
            "max_width": null,
            "min_height": null,
            "min_width": null,
            "object_fit": null,
            "object_position": null,
            "order": null,
            "overflow": null,
            "overflow_x": null,
            "overflow_y": null,
            "padding": null,
            "right": null,
            "top": null,
            "visibility": null,
            "width": null
          }
        },
        "e0ac1ec0920341f884936a2fcfb89c6a": {
          "model_module": "@jupyter-widgets/controls",
          "model_name": "DescriptionStyleModel",
          "model_module_version": "1.5.0",
          "state": {
            "_model_module": "@jupyter-widgets/controls",
            "_model_module_version": "1.5.0",
            "_model_name": "DescriptionStyleModel",
            "_view_count": null,
            "_view_module": "@jupyter-widgets/base",
            "_view_module_version": "1.2.0",
            "_view_name": "StyleView",
            "description_width": ""
          }
        },
        "3397be7bb8ff479189a642ee0e960011": {
          "model_module": "@jupyter-widgets/base",
          "model_name": "LayoutModel",
          "model_module_version": "1.2.0",
          "state": {
            "_model_module": "@jupyter-widgets/base",
            "_model_module_version": "1.2.0",
            "_model_name": "LayoutModel",
            "_view_count": null,
            "_view_module": "@jupyter-widgets/base",
            "_view_module_version": "1.2.0",
            "_view_name": "LayoutView",
            "align_content": null,
            "align_items": null,
            "align_self": null,
            "border": null,
            "bottom": null,
            "display": null,
            "flex": null,
            "flex_flow": null,
            "grid_area": null,
            "grid_auto_columns": null,
            "grid_auto_flow": null,
            "grid_auto_rows": null,
            "grid_column": null,
            "grid_gap": null,
            "grid_row": null,
            "grid_template_areas": null,
            "grid_template_columns": null,
            "grid_template_rows": null,
            "height": null,
            "justify_content": null,
            "justify_items": null,
            "left": null,
            "margin": null,
            "max_height": null,
            "max_width": null,
            "min_height": null,
            "min_width": null,
            "object_fit": null,
            "object_position": null,
            "order": null,
            "overflow": null,
            "overflow_x": null,
            "overflow_y": null,
            "padding": null,
            "right": null,
            "top": null,
            "visibility": null,
            "width": null
          }
        },
        "2692589e37e249028e36f3bdc7471b16": {
          "model_module": "@jupyter-widgets/controls",
          "model_name": "ProgressStyleModel",
          "model_module_version": "1.5.0",
          "state": {
            "_model_module": "@jupyter-widgets/controls",
            "_model_module_version": "1.5.0",
            "_model_name": "ProgressStyleModel",
            "_view_count": null,
            "_view_module": "@jupyter-widgets/base",
            "_view_module_version": "1.2.0",
            "_view_name": "StyleView",
            "bar_color": null,
            "description_width": ""
          }
        },
        "756573b2ca6f4baf957f94009ac5167e": {
          "model_module": "@jupyter-widgets/base",
          "model_name": "LayoutModel",
          "model_module_version": "1.2.0",
          "state": {
            "_model_module": "@jupyter-widgets/base",
            "_model_module_version": "1.2.0",
            "_model_name": "LayoutModel",
            "_view_count": null,
            "_view_module": "@jupyter-widgets/base",
            "_view_module_version": "1.2.0",
            "_view_name": "LayoutView",
            "align_content": null,
            "align_items": null,
            "align_self": null,
            "border": null,
            "bottom": null,
            "display": null,
            "flex": null,
            "flex_flow": null,
            "grid_area": null,
            "grid_auto_columns": null,
            "grid_auto_flow": null,
            "grid_auto_rows": null,
            "grid_column": null,
            "grid_gap": null,
            "grid_row": null,
            "grid_template_areas": null,
            "grid_template_columns": null,
            "grid_template_rows": null,
            "height": null,
            "justify_content": null,
            "justify_items": null,
            "left": null,
            "margin": null,
            "max_height": null,
            "max_width": null,
            "min_height": null,
            "min_width": null,
            "object_fit": null,
            "object_position": null,
            "order": null,
            "overflow": null,
            "overflow_x": null,
            "overflow_y": null,
            "padding": null,
            "right": null,
            "top": null,
            "visibility": null,
            "width": null
          }
        },
        "40ca3ae70d1b460986719e18d6e5d6d0": {
          "model_module": "@jupyter-widgets/controls",
          "model_name": "DescriptionStyleModel",
          "model_module_version": "1.5.0",
          "state": {
            "_model_module": "@jupyter-widgets/controls",
            "_model_module_version": "1.5.0",
            "_model_name": "DescriptionStyleModel",
            "_view_count": null,
            "_view_module": "@jupyter-widgets/base",
            "_view_module_version": "1.2.0",
            "_view_name": "StyleView",
            "description_width": ""
          }
        },
        "7e2bcbbe7b234f64943401005f56de0b": {
          "model_module": "@jupyter-widgets/controls",
          "model_name": "HBoxModel",
          "model_module_version": "1.5.0",
          "state": {
            "_dom_classes": [],
            "_model_module": "@jupyter-widgets/controls",
            "_model_module_version": "1.5.0",
            "_model_name": "HBoxModel",
            "_view_count": null,
            "_view_module": "@jupyter-widgets/controls",
            "_view_module_version": "1.5.0",
            "_view_name": "HBoxView",
            "box_style": "",
            "children": [
              "IPY_MODEL_36c1aecf7a2d4317a5d7140c45261abb",
              "IPY_MODEL_68448c6a67ed4009a89e5b08e5b9cb82",
              "IPY_MODEL_a44eb758b208435baaa3c0c26b5e77da"
            ],
            "layout": "IPY_MODEL_6a482a2a37ea438f883540b7e92f69bd"
          }
        },
        "36c1aecf7a2d4317a5d7140c45261abb": {
          "model_module": "@jupyter-widgets/controls",
          "model_name": "HTMLModel",
          "model_module_version": "1.5.0",
          "state": {
            "_dom_classes": [],
            "_model_module": "@jupyter-widgets/controls",
            "_model_module_version": "1.5.0",
            "_model_name": "HTMLModel",
            "_view_count": null,
            "_view_module": "@jupyter-widgets/controls",
            "_view_module_version": "1.5.0",
            "_view_name": "HTMLView",
            "description": "",
            "description_tooltip": null,
            "layout": "IPY_MODEL_cac2270ca224412cad28ccc47bf7d3f4",
            "placeholder": "​",
            "style": "IPY_MODEL_0cf800eb13954d95bf7fdc2d1dbae150",
            "value": "config.json: 100%"
          }
        },
        "68448c6a67ed4009a89e5b08e5b9cb82": {
          "model_module": "@jupyter-widgets/controls",
          "model_name": "FloatProgressModel",
          "model_module_version": "1.5.0",
          "state": {
            "_dom_classes": [],
            "_model_module": "@jupyter-widgets/controls",
            "_model_module_version": "1.5.0",
            "_model_name": "FloatProgressModel",
            "_view_count": null,
            "_view_module": "@jupyter-widgets/controls",
            "_view_module_version": "1.5.0",
            "_view_name": "ProgressView",
            "bar_style": "success",
            "description": "",
            "description_tooltip": null,
            "layout": "IPY_MODEL_cdb6776067144fc387571557df71460a",
            "max": 612,
            "min": 0,
            "orientation": "horizontal",
            "style": "IPY_MODEL_4a7976ce78d54665a4e4fe9b8828f8db",
            "value": 612
          }
        },
        "a44eb758b208435baaa3c0c26b5e77da": {
          "model_module": "@jupyter-widgets/controls",
          "model_name": "HTMLModel",
          "model_module_version": "1.5.0",
          "state": {
            "_dom_classes": [],
            "_model_module": "@jupyter-widgets/controls",
            "_model_module_version": "1.5.0",
            "_model_name": "HTMLModel",
            "_view_count": null,
            "_view_module": "@jupyter-widgets/controls",
            "_view_module_version": "1.5.0",
            "_view_name": "HTMLView",
            "description": "",
            "description_tooltip": null,
            "layout": "IPY_MODEL_9fca524560224840be5d1cda30d5543f",
            "placeholder": "​",
            "style": "IPY_MODEL_1a566261572e47f48d24ffb00cb1ec1a",
            "value": " 612/612 [00:00&lt;00:00, 35.4kB/s]"
          }
        },
        "6a482a2a37ea438f883540b7e92f69bd": {
          "model_module": "@jupyter-widgets/base",
          "model_name": "LayoutModel",
          "model_module_version": "1.2.0",
          "state": {
            "_model_module": "@jupyter-widgets/base",
            "_model_module_version": "1.2.0",
            "_model_name": "LayoutModel",
            "_view_count": null,
            "_view_module": "@jupyter-widgets/base",
            "_view_module_version": "1.2.0",
            "_view_name": "LayoutView",
            "align_content": null,
            "align_items": null,
            "align_self": null,
            "border": null,
            "bottom": null,
            "display": null,
            "flex": null,
            "flex_flow": null,
            "grid_area": null,
            "grid_auto_columns": null,
            "grid_auto_flow": null,
            "grid_auto_rows": null,
            "grid_column": null,
            "grid_gap": null,
            "grid_row": null,
            "grid_template_areas": null,
            "grid_template_columns": null,
            "grid_template_rows": null,
            "height": null,
            "justify_content": null,
            "justify_items": null,
            "left": null,
            "margin": null,
            "max_height": null,
            "max_width": null,
            "min_height": null,
            "min_width": null,
            "object_fit": null,
            "object_position": null,
            "order": null,
            "overflow": null,
            "overflow_x": null,
            "overflow_y": null,
            "padding": null,
            "right": null,
            "top": null,
            "visibility": null,
            "width": null
          }
        },
        "cac2270ca224412cad28ccc47bf7d3f4": {
          "model_module": "@jupyter-widgets/base",
          "model_name": "LayoutModel",
          "model_module_version": "1.2.0",
          "state": {
            "_model_module": "@jupyter-widgets/base",
            "_model_module_version": "1.2.0",
            "_model_name": "LayoutModel",
            "_view_count": null,
            "_view_module": "@jupyter-widgets/base",
            "_view_module_version": "1.2.0",
            "_view_name": "LayoutView",
            "align_content": null,
            "align_items": null,
            "align_self": null,
            "border": null,
            "bottom": null,
            "display": null,
            "flex": null,
            "flex_flow": null,
            "grid_area": null,
            "grid_auto_columns": null,
            "grid_auto_flow": null,
            "grid_auto_rows": null,
            "grid_column": null,
            "grid_gap": null,
            "grid_row": null,
            "grid_template_areas": null,
            "grid_template_columns": null,
            "grid_template_rows": null,
            "height": null,
            "justify_content": null,
            "justify_items": null,
            "left": null,
            "margin": null,
            "max_height": null,
            "max_width": null,
            "min_height": null,
            "min_width": null,
            "object_fit": null,
            "object_position": null,
            "order": null,
            "overflow": null,
            "overflow_x": null,
            "overflow_y": null,
            "padding": null,
            "right": null,
            "top": null,
            "visibility": null,
            "width": null
          }
        },
        "0cf800eb13954d95bf7fdc2d1dbae150": {
          "model_module": "@jupyter-widgets/controls",
          "model_name": "DescriptionStyleModel",
          "model_module_version": "1.5.0",
          "state": {
            "_model_module": "@jupyter-widgets/controls",
            "_model_module_version": "1.5.0",
            "_model_name": "DescriptionStyleModel",
            "_view_count": null,
            "_view_module": "@jupyter-widgets/base",
            "_view_module_version": "1.2.0",
            "_view_name": "StyleView",
            "description_width": ""
          }
        },
        "cdb6776067144fc387571557df71460a": {
          "model_module": "@jupyter-widgets/base",
          "model_name": "LayoutModel",
          "model_module_version": "1.2.0",
          "state": {
            "_model_module": "@jupyter-widgets/base",
            "_model_module_version": "1.2.0",
            "_model_name": "LayoutModel",
            "_view_count": null,
            "_view_module": "@jupyter-widgets/base",
            "_view_module_version": "1.2.0",
            "_view_name": "LayoutView",
            "align_content": null,
            "align_items": null,
            "align_self": null,
            "border": null,
            "bottom": null,
            "display": null,
            "flex": null,
            "flex_flow": null,
            "grid_area": null,
            "grid_auto_columns": null,
            "grid_auto_flow": null,
            "grid_auto_rows": null,
            "grid_column": null,
            "grid_gap": null,
            "grid_row": null,
            "grid_template_areas": null,
            "grid_template_columns": null,
            "grid_template_rows": null,
            "height": null,
            "justify_content": null,
            "justify_items": null,
            "left": null,
            "margin": null,
            "max_height": null,
            "max_width": null,
            "min_height": null,
            "min_width": null,
            "object_fit": null,
            "object_position": null,
            "order": null,
            "overflow": null,
            "overflow_x": null,
            "overflow_y": null,
            "padding": null,
            "right": null,
            "top": null,
            "visibility": null,
            "width": null
          }
        },
        "4a7976ce78d54665a4e4fe9b8828f8db": {
          "model_module": "@jupyter-widgets/controls",
          "model_name": "ProgressStyleModel",
          "model_module_version": "1.5.0",
          "state": {
            "_model_module": "@jupyter-widgets/controls",
            "_model_module_version": "1.5.0",
            "_model_name": "ProgressStyleModel",
            "_view_count": null,
            "_view_module": "@jupyter-widgets/base",
            "_view_module_version": "1.2.0",
            "_view_name": "StyleView",
            "bar_color": null,
            "description_width": ""
          }
        },
        "9fca524560224840be5d1cda30d5543f": {
          "model_module": "@jupyter-widgets/base",
          "model_name": "LayoutModel",
          "model_module_version": "1.2.0",
          "state": {
            "_model_module": "@jupyter-widgets/base",
            "_model_module_version": "1.2.0",
            "_model_name": "LayoutModel",
            "_view_count": null,
            "_view_module": "@jupyter-widgets/base",
            "_view_module_version": "1.2.0",
            "_view_name": "LayoutView",
            "align_content": null,
            "align_items": null,
            "align_self": null,
            "border": null,
            "bottom": null,
            "display": null,
            "flex": null,
            "flex_flow": null,
            "grid_area": null,
            "grid_auto_columns": null,
            "grid_auto_flow": null,
            "grid_auto_rows": null,
            "grid_column": null,
            "grid_gap": null,
            "grid_row": null,
            "grid_template_areas": null,
            "grid_template_columns": null,
            "grid_template_rows": null,
            "height": null,
            "justify_content": null,
            "justify_items": null,
            "left": null,
            "margin": null,
            "max_height": null,
            "max_width": null,
            "min_height": null,
            "min_width": null,
            "object_fit": null,
            "object_position": null,
            "order": null,
            "overflow": null,
            "overflow_x": null,
            "overflow_y": null,
            "padding": null,
            "right": null,
            "top": null,
            "visibility": null,
            "width": null
          }
        },
        "1a566261572e47f48d24ffb00cb1ec1a": {
          "model_module": "@jupyter-widgets/controls",
          "model_name": "DescriptionStyleModel",
          "model_module_version": "1.5.0",
          "state": {
            "_model_module": "@jupyter-widgets/controls",
            "_model_module_version": "1.5.0",
            "_model_name": "DescriptionStyleModel",
            "_view_count": null,
            "_view_module": "@jupyter-widgets/base",
            "_view_module_version": "1.2.0",
            "_view_name": "StyleView",
            "description_width": ""
          }
        },
        "f9d7953b1b53492fbd1373c59a5be927": {
          "model_module": "@jupyter-widgets/controls",
          "model_name": "HBoxModel",
          "model_module_version": "1.5.0",
          "state": {
            "_dom_classes": [],
            "_model_module": "@jupyter-widgets/controls",
            "_model_module_version": "1.5.0",
            "_model_name": "HBoxModel",
            "_view_count": null,
            "_view_module": "@jupyter-widgets/controls",
            "_view_module_version": "1.5.0",
            "_view_name": "HBoxView",
            "box_style": "",
            "children": [
              "IPY_MODEL_101d78b351364cdebd6a962f9ba2cb0d",
              "IPY_MODEL_aa3792fbb27e432cbfae8ea8a676909e",
              "IPY_MODEL_9d4666fa24b642ed9690c12727f6a9d6"
            ],
            "layout": "IPY_MODEL_fcd9b78a36e44e9c8f8759c424037724"
          }
        },
        "101d78b351364cdebd6a962f9ba2cb0d": {
          "model_module": "@jupyter-widgets/controls",
          "model_name": "HTMLModel",
          "model_module_version": "1.5.0",
          "state": {
            "_dom_classes": [],
            "_model_module": "@jupyter-widgets/controls",
            "_model_module_version": "1.5.0",
            "_model_name": "HTMLModel",
            "_view_count": null,
            "_view_module": "@jupyter-widgets/controls",
            "_view_module_version": "1.5.0",
            "_view_name": "HTMLView",
            "description": "",
            "description_tooltip": null,
            "layout": "IPY_MODEL_ba178ef6ec7942259e3f7d6b7d4a544a",
            "placeholder": "​",
            "style": "IPY_MODEL_591fd0d4edc34628a33b271eed307d65",
            "value": "model.safetensors: 100%"
          }
        },
        "aa3792fbb27e432cbfae8ea8a676909e": {
          "model_module": "@jupyter-widgets/controls",
          "model_name": "FloatProgressModel",
          "model_module_version": "1.5.0",
          "state": {
            "_dom_classes": [],
            "_model_module": "@jupyter-widgets/controls",
            "_model_module_version": "1.5.0",
            "_model_name": "FloatProgressModel",
            "_view_count": null,
            "_view_module": "@jupyter-widgets/controls",
            "_view_module_version": "1.5.0",
            "_view_name": "ProgressView",
            "bar_style": "success",
            "description": "",
            "description_tooltip": null,
            "layout": "IPY_MODEL_7dca50addf7e41efb3618ce3d552cd26",
            "max": 90868376,
            "min": 0,
            "orientation": "horizontal",
            "style": "IPY_MODEL_6d3faf8bfa00412480eaa9ecf4bfc8b7",
            "value": 90868376
          }
        },
        "9d4666fa24b642ed9690c12727f6a9d6": {
          "model_module": "@jupyter-widgets/controls",
          "model_name": "HTMLModel",
          "model_module_version": "1.5.0",
          "state": {
            "_dom_classes": [],
            "_model_module": "@jupyter-widgets/controls",
            "_model_module_version": "1.5.0",
            "_model_name": "HTMLModel",
            "_view_count": null,
            "_view_module": "@jupyter-widgets/controls",
            "_view_module_version": "1.5.0",
            "_view_name": "HTMLView",
            "description": "",
            "description_tooltip": null,
            "layout": "IPY_MODEL_4f01cdd498734561a9955be9d9448da2",
            "placeholder": "​",
            "style": "IPY_MODEL_1551702968154e7ab173330029a6754b",
            "value": " 90.9M/90.9M [00:00&lt;00:00, 133MB/s]"
          }
        },
        "fcd9b78a36e44e9c8f8759c424037724": {
          "model_module": "@jupyter-widgets/base",
          "model_name": "LayoutModel",
          "model_module_version": "1.2.0",
          "state": {
            "_model_module": "@jupyter-widgets/base",
            "_model_module_version": "1.2.0",
            "_model_name": "LayoutModel",
            "_view_count": null,
            "_view_module": "@jupyter-widgets/base",
            "_view_module_version": "1.2.0",
            "_view_name": "LayoutView",
            "align_content": null,
            "align_items": null,
            "align_self": null,
            "border": null,
            "bottom": null,
            "display": null,
            "flex": null,
            "flex_flow": null,
            "grid_area": null,
            "grid_auto_columns": null,
            "grid_auto_flow": null,
            "grid_auto_rows": null,
            "grid_column": null,
            "grid_gap": null,
            "grid_row": null,
            "grid_template_areas": null,
            "grid_template_columns": null,
            "grid_template_rows": null,
            "height": null,
            "justify_content": null,
            "justify_items": null,
            "left": null,
            "margin": null,
            "max_height": null,
            "max_width": null,
            "min_height": null,
            "min_width": null,
            "object_fit": null,
            "object_position": null,
            "order": null,
            "overflow": null,
            "overflow_x": null,
            "overflow_y": null,
            "padding": null,
            "right": null,
            "top": null,
            "visibility": null,
            "width": null
          }
        },
        "ba178ef6ec7942259e3f7d6b7d4a544a": {
          "model_module": "@jupyter-widgets/base",
          "model_name": "LayoutModel",
          "model_module_version": "1.2.0",
          "state": {
            "_model_module": "@jupyter-widgets/base",
            "_model_module_version": "1.2.0",
            "_model_name": "LayoutModel",
            "_view_count": null,
            "_view_module": "@jupyter-widgets/base",
            "_view_module_version": "1.2.0",
            "_view_name": "LayoutView",
            "align_content": null,
            "align_items": null,
            "align_self": null,
            "border": null,
            "bottom": null,
            "display": null,
            "flex": null,
            "flex_flow": null,
            "grid_area": null,
            "grid_auto_columns": null,
            "grid_auto_flow": null,
            "grid_auto_rows": null,
            "grid_column": null,
            "grid_gap": null,
            "grid_row": null,
            "grid_template_areas": null,
            "grid_template_columns": null,
            "grid_template_rows": null,
            "height": null,
            "justify_content": null,
            "justify_items": null,
            "left": null,
            "margin": null,
            "max_height": null,
            "max_width": null,
            "min_height": null,
            "min_width": null,
            "object_fit": null,
            "object_position": null,
            "order": null,
            "overflow": null,
            "overflow_x": null,
            "overflow_y": null,
            "padding": null,
            "right": null,
            "top": null,
            "visibility": null,
            "width": null
          }
        },
        "591fd0d4edc34628a33b271eed307d65": {
          "model_module": "@jupyter-widgets/controls",
          "model_name": "DescriptionStyleModel",
          "model_module_version": "1.5.0",
          "state": {
            "_model_module": "@jupyter-widgets/controls",
            "_model_module_version": "1.5.0",
            "_model_name": "DescriptionStyleModel",
            "_view_count": null,
            "_view_module": "@jupyter-widgets/base",
            "_view_module_version": "1.2.0",
            "_view_name": "StyleView",
            "description_width": ""
          }
        },
        "7dca50addf7e41efb3618ce3d552cd26": {
          "model_module": "@jupyter-widgets/base",
          "model_name": "LayoutModel",
          "model_module_version": "1.2.0",
          "state": {
            "_model_module": "@jupyter-widgets/base",
            "_model_module_version": "1.2.0",
            "_model_name": "LayoutModel",
            "_view_count": null,
            "_view_module": "@jupyter-widgets/base",
            "_view_module_version": "1.2.0",
            "_view_name": "LayoutView",
            "align_content": null,
            "align_items": null,
            "align_self": null,
            "border": null,
            "bottom": null,
            "display": null,
            "flex": null,
            "flex_flow": null,
            "grid_area": null,
            "grid_auto_columns": null,
            "grid_auto_flow": null,
            "grid_auto_rows": null,
            "grid_column": null,
            "grid_gap": null,
            "grid_row": null,
            "grid_template_areas": null,
            "grid_template_columns": null,
            "grid_template_rows": null,
            "height": null,
            "justify_content": null,
            "justify_items": null,
            "left": null,
            "margin": null,
            "max_height": null,
            "max_width": null,
            "min_height": null,
            "min_width": null,
            "object_fit": null,
            "object_position": null,
            "order": null,
            "overflow": null,
            "overflow_x": null,
            "overflow_y": null,
            "padding": null,
            "right": null,
            "top": null,
            "visibility": null,
            "width": null
          }
        },
        "6d3faf8bfa00412480eaa9ecf4bfc8b7": {
          "model_module": "@jupyter-widgets/controls",
          "model_name": "ProgressStyleModel",
          "model_module_version": "1.5.0",
          "state": {
            "_model_module": "@jupyter-widgets/controls",
            "_model_module_version": "1.5.0",
            "_model_name": "ProgressStyleModel",
            "_view_count": null,
            "_view_module": "@jupyter-widgets/base",
            "_view_module_version": "1.2.0",
            "_view_name": "StyleView",
            "bar_color": null,
            "description_width": ""
          }
        },
        "4f01cdd498734561a9955be9d9448da2": {
          "model_module": "@jupyter-widgets/base",
          "model_name": "LayoutModel",
          "model_module_version": "1.2.0",
          "state": {
            "_model_module": "@jupyter-widgets/base",
            "_model_module_version": "1.2.0",
            "_model_name": "LayoutModel",
            "_view_count": null,
            "_view_module": "@jupyter-widgets/base",
            "_view_module_version": "1.2.0",
            "_view_name": "LayoutView",
            "align_content": null,
            "align_items": null,
            "align_self": null,
            "border": null,
            "bottom": null,
            "display": null,
            "flex": null,
            "flex_flow": null,
            "grid_area": null,
            "grid_auto_columns": null,
            "grid_auto_flow": null,
            "grid_auto_rows": null,
            "grid_column": null,
            "grid_gap": null,
            "grid_row": null,
            "grid_template_areas": null,
            "grid_template_columns": null,
            "grid_template_rows": null,
            "height": null,
            "justify_content": null,
            "justify_items": null,
            "left": null,
            "margin": null,
            "max_height": null,
            "max_width": null,
            "min_height": null,
            "min_width": null,
            "object_fit": null,
            "object_position": null,
            "order": null,
            "overflow": null,
            "overflow_x": null,
            "overflow_y": null,
            "padding": null,
            "right": null,
            "top": null,
            "visibility": null,
            "width": null
          }
        },
        "1551702968154e7ab173330029a6754b": {
          "model_module": "@jupyter-widgets/controls",
          "model_name": "DescriptionStyleModel",
          "model_module_version": "1.5.0",
          "state": {
            "_model_module": "@jupyter-widgets/controls",
            "_model_module_version": "1.5.0",
            "_model_name": "DescriptionStyleModel",
            "_view_count": null,
            "_view_module": "@jupyter-widgets/base",
            "_view_module_version": "1.2.0",
            "_view_name": "StyleView",
            "description_width": ""
          }
        },
        "25d3321d3ee444789d704ce6bb63983a": {
          "model_module": "@jupyter-widgets/controls",
          "model_name": "HBoxModel",
          "model_module_version": "1.5.0",
          "state": {
            "_dom_classes": [],
            "_model_module": "@jupyter-widgets/controls",
            "_model_module_version": "1.5.0",
            "_model_name": "HBoxModel",
            "_view_count": null,
            "_view_module": "@jupyter-widgets/controls",
            "_view_module_version": "1.5.0",
            "_view_name": "HBoxView",
            "box_style": "",
            "children": [
              "IPY_MODEL_fc79c78cd4be491784b402fc2e7917d1",
              "IPY_MODEL_b2ffb2393b7b4cb78a483f026b31a096",
              "IPY_MODEL_aeab57a882074fb8a6546545f787ebf5"
            ],
            "layout": "IPY_MODEL_7a2ca663e8c148faac484e139f08e973"
          }
        },
        "fc79c78cd4be491784b402fc2e7917d1": {
          "model_module": "@jupyter-widgets/controls",
          "model_name": "HTMLModel",
          "model_module_version": "1.5.0",
          "state": {
            "_dom_classes": [],
            "_model_module": "@jupyter-widgets/controls",
            "_model_module_version": "1.5.0",
            "_model_name": "HTMLModel",
            "_view_count": null,
            "_view_module": "@jupyter-widgets/controls",
            "_view_module_version": "1.5.0",
            "_view_name": "HTMLView",
            "description": "",
            "description_tooltip": null,
            "layout": "IPY_MODEL_633a0fcbddd24d7fb769e4dce1465f54",
            "placeholder": "​",
            "style": "IPY_MODEL_046f990104b44a92870aff4dd5ad2f58",
            "value": "tokenizer_config.json: 100%"
          }
        },
        "b2ffb2393b7b4cb78a483f026b31a096": {
          "model_module": "@jupyter-widgets/controls",
          "model_name": "FloatProgressModel",
          "model_module_version": "1.5.0",
          "state": {
            "_dom_classes": [],
            "_model_module": "@jupyter-widgets/controls",
            "_model_module_version": "1.5.0",
            "_model_name": "FloatProgressModel",
            "_view_count": null,
            "_view_module": "@jupyter-widgets/controls",
            "_view_module_version": "1.5.0",
            "_view_name": "ProgressView",
            "bar_style": "success",
            "description": "",
            "description_tooltip": null,
            "layout": "IPY_MODEL_f2aa8ccb1c12483ba664b5746b51e61b",
            "max": 350,
            "min": 0,
            "orientation": "horizontal",
            "style": "IPY_MODEL_2ed661f218d54e7abc30bcb20ab5e1c5",
            "value": 350
          }
        },
        "aeab57a882074fb8a6546545f787ebf5": {
          "model_module": "@jupyter-widgets/controls",
          "model_name": "HTMLModel",
          "model_module_version": "1.5.0",
          "state": {
            "_dom_classes": [],
            "_model_module": "@jupyter-widgets/controls",
            "_model_module_version": "1.5.0",
            "_model_name": "HTMLModel",
            "_view_count": null,
            "_view_module": "@jupyter-widgets/controls",
            "_view_module_version": "1.5.0",
            "_view_name": "HTMLView",
            "description": "",
            "description_tooltip": null,
            "layout": "IPY_MODEL_2268f8b4ce0a4c779a0378743d76a3ca",
            "placeholder": "​",
            "style": "IPY_MODEL_00f2cd4dc8774eecab79cb09bb678b87",
            "value": " 350/350 [00:00&lt;00:00, 15.9kB/s]"
          }
        },
        "7a2ca663e8c148faac484e139f08e973": {
          "model_module": "@jupyter-widgets/base",
          "model_name": "LayoutModel",
          "model_module_version": "1.2.0",
          "state": {
            "_model_module": "@jupyter-widgets/base",
            "_model_module_version": "1.2.0",
            "_model_name": "LayoutModel",
            "_view_count": null,
            "_view_module": "@jupyter-widgets/base",
            "_view_module_version": "1.2.0",
            "_view_name": "LayoutView",
            "align_content": null,
            "align_items": null,
            "align_self": null,
            "border": null,
            "bottom": null,
            "display": null,
            "flex": null,
            "flex_flow": null,
            "grid_area": null,
            "grid_auto_columns": null,
            "grid_auto_flow": null,
            "grid_auto_rows": null,
            "grid_column": null,
            "grid_gap": null,
            "grid_row": null,
            "grid_template_areas": null,
            "grid_template_columns": null,
            "grid_template_rows": null,
            "height": null,
            "justify_content": null,
            "justify_items": null,
            "left": null,
            "margin": null,
            "max_height": null,
            "max_width": null,
            "min_height": null,
            "min_width": null,
            "object_fit": null,
            "object_position": null,
            "order": null,
            "overflow": null,
            "overflow_x": null,
            "overflow_y": null,
            "padding": null,
            "right": null,
            "top": null,
            "visibility": null,
            "width": null
          }
        },
        "633a0fcbddd24d7fb769e4dce1465f54": {
          "model_module": "@jupyter-widgets/base",
          "model_name": "LayoutModel",
          "model_module_version": "1.2.0",
          "state": {
            "_model_module": "@jupyter-widgets/base",
            "_model_module_version": "1.2.0",
            "_model_name": "LayoutModel",
            "_view_count": null,
            "_view_module": "@jupyter-widgets/base",
            "_view_module_version": "1.2.0",
            "_view_name": "LayoutView",
            "align_content": null,
            "align_items": null,
            "align_self": null,
            "border": null,
            "bottom": null,
            "display": null,
            "flex": null,
            "flex_flow": null,
            "grid_area": null,
            "grid_auto_columns": null,
            "grid_auto_flow": null,
            "grid_auto_rows": null,
            "grid_column": null,
            "grid_gap": null,
            "grid_row": null,
            "grid_template_areas": null,
            "grid_template_columns": null,
            "grid_template_rows": null,
            "height": null,
            "justify_content": null,
            "justify_items": null,
            "left": null,
            "margin": null,
            "max_height": null,
            "max_width": null,
            "min_height": null,
            "min_width": null,
            "object_fit": null,
            "object_position": null,
            "order": null,
            "overflow": null,
            "overflow_x": null,
            "overflow_y": null,
            "padding": null,
            "right": null,
            "top": null,
            "visibility": null,
            "width": null
          }
        },
        "046f990104b44a92870aff4dd5ad2f58": {
          "model_module": "@jupyter-widgets/controls",
          "model_name": "DescriptionStyleModel",
          "model_module_version": "1.5.0",
          "state": {
            "_model_module": "@jupyter-widgets/controls",
            "_model_module_version": "1.5.0",
            "_model_name": "DescriptionStyleModel",
            "_view_count": null,
            "_view_module": "@jupyter-widgets/base",
            "_view_module_version": "1.2.0",
            "_view_name": "StyleView",
            "description_width": ""
          }
        },
        "f2aa8ccb1c12483ba664b5746b51e61b": {
          "model_module": "@jupyter-widgets/base",
          "model_name": "LayoutModel",
          "model_module_version": "1.2.0",
          "state": {
            "_model_module": "@jupyter-widgets/base",
            "_model_module_version": "1.2.0",
            "_model_name": "LayoutModel",
            "_view_count": null,
            "_view_module": "@jupyter-widgets/base",
            "_view_module_version": "1.2.0",
            "_view_name": "LayoutView",
            "align_content": null,
            "align_items": null,
            "align_self": null,
            "border": null,
            "bottom": null,
            "display": null,
            "flex": null,
            "flex_flow": null,
            "grid_area": null,
            "grid_auto_columns": null,
            "grid_auto_flow": null,
            "grid_auto_rows": null,
            "grid_column": null,
            "grid_gap": null,
            "grid_row": null,
            "grid_template_areas": null,
            "grid_template_columns": null,
            "grid_template_rows": null,
            "height": null,
            "justify_content": null,
            "justify_items": null,
            "left": null,
            "margin": null,
            "max_height": null,
            "max_width": null,
            "min_height": null,
            "min_width": null,
            "object_fit": null,
            "object_position": null,
            "order": null,
            "overflow": null,
            "overflow_x": null,
            "overflow_y": null,
            "padding": null,
            "right": null,
            "top": null,
            "visibility": null,
            "width": null
          }
        },
        "2ed661f218d54e7abc30bcb20ab5e1c5": {
          "model_module": "@jupyter-widgets/controls",
          "model_name": "ProgressStyleModel",
          "model_module_version": "1.5.0",
          "state": {
            "_model_module": "@jupyter-widgets/controls",
            "_model_module_version": "1.5.0",
            "_model_name": "ProgressStyleModel",
            "_view_count": null,
            "_view_module": "@jupyter-widgets/base",
            "_view_module_version": "1.2.0",
            "_view_name": "StyleView",
            "bar_color": null,
            "description_width": ""
          }
        },
        "2268f8b4ce0a4c779a0378743d76a3ca": {
          "model_module": "@jupyter-widgets/base",
          "model_name": "LayoutModel",
          "model_module_version": "1.2.0",
          "state": {
            "_model_module": "@jupyter-widgets/base",
            "_model_module_version": "1.2.0",
            "_model_name": "LayoutModel",
            "_view_count": null,
            "_view_module": "@jupyter-widgets/base",
            "_view_module_version": "1.2.0",
            "_view_name": "LayoutView",
            "align_content": null,
            "align_items": null,
            "align_self": null,
            "border": null,
            "bottom": null,
            "display": null,
            "flex": null,
            "flex_flow": null,
            "grid_area": null,
            "grid_auto_columns": null,
            "grid_auto_flow": null,
            "grid_auto_rows": null,
            "grid_column": null,
            "grid_gap": null,
            "grid_row": null,
            "grid_template_areas": null,
            "grid_template_columns": null,
            "grid_template_rows": null,
            "height": null,
            "justify_content": null,
            "justify_items": null,
            "left": null,
            "margin": null,
            "max_height": null,
            "max_width": null,
            "min_height": null,
            "min_width": null,
            "object_fit": null,
            "object_position": null,
            "order": null,
            "overflow": null,
            "overflow_x": null,
            "overflow_y": null,
            "padding": null,
            "right": null,
            "top": null,
            "visibility": null,
            "width": null
          }
        },
        "00f2cd4dc8774eecab79cb09bb678b87": {
          "model_module": "@jupyter-widgets/controls",
          "model_name": "DescriptionStyleModel",
          "model_module_version": "1.5.0",
          "state": {
            "_model_module": "@jupyter-widgets/controls",
            "_model_module_version": "1.5.0",
            "_model_name": "DescriptionStyleModel",
            "_view_count": null,
            "_view_module": "@jupyter-widgets/base",
            "_view_module_version": "1.2.0",
            "_view_name": "StyleView",
            "description_width": ""
          }
        },
        "15ad47325e854f518f985b1abc65a2fb": {
          "model_module": "@jupyter-widgets/controls",
          "model_name": "HBoxModel",
          "model_module_version": "1.5.0",
          "state": {
            "_dom_classes": [],
            "_model_module": "@jupyter-widgets/controls",
            "_model_module_version": "1.5.0",
            "_model_name": "HBoxModel",
            "_view_count": null,
            "_view_module": "@jupyter-widgets/controls",
            "_view_module_version": "1.5.0",
            "_view_name": "HBoxView",
            "box_style": "",
            "children": [
              "IPY_MODEL_2d7508fc05964083aec82b5f9c087139",
              "IPY_MODEL_c1247d92d8d34b3c94f6d85fdecb725b",
              "IPY_MODEL_4316ce463dea4386be491d26a487ac71"
            ],
            "layout": "IPY_MODEL_ea2843d43a824c0dbfb7284d94405773"
          }
        },
        "2d7508fc05964083aec82b5f9c087139": {
          "model_module": "@jupyter-widgets/controls",
          "model_name": "HTMLModel",
          "model_module_version": "1.5.0",
          "state": {
            "_dom_classes": [],
            "_model_module": "@jupyter-widgets/controls",
            "_model_module_version": "1.5.0",
            "_model_name": "HTMLModel",
            "_view_count": null,
            "_view_module": "@jupyter-widgets/controls",
            "_view_module_version": "1.5.0",
            "_view_name": "HTMLView",
            "description": "",
            "description_tooltip": null,
            "layout": "IPY_MODEL_33d974fcfaa844269add859d89f60406",
            "placeholder": "​",
            "style": "IPY_MODEL_3a6623343dbd4afb8ce9a32192de1522",
            "value": "vocab.txt: 100%"
          }
        },
        "c1247d92d8d34b3c94f6d85fdecb725b": {
          "model_module": "@jupyter-widgets/controls",
          "model_name": "FloatProgressModel",
          "model_module_version": "1.5.0",
          "state": {
            "_dom_classes": [],
            "_model_module": "@jupyter-widgets/controls",
            "_model_module_version": "1.5.0",
            "_model_name": "FloatProgressModel",
            "_view_count": null,
            "_view_module": "@jupyter-widgets/controls",
            "_view_module_version": "1.5.0",
            "_view_name": "ProgressView",
            "bar_style": "success",
            "description": "",
            "description_tooltip": null,
            "layout": "IPY_MODEL_955bc8f6ae34471e8f7fa8a632f41573",
            "max": 231508,
            "min": 0,
            "orientation": "horizontal",
            "style": "IPY_MODEL_3490299b0c794331b7d4ae188d074e94",
            "value": 231508
          }
        },
        "4316ce463dea4386be491d26a487ac71": {
          "model_module": "@jupyter-widgets/controls",
          "model_name": "HTMLModel",
          "model_module_version": "1.5.0",
          "state": {
            "_dom_classes": [],
            "_model_module": "@jupyter-widgets/controls",
            "_model_module_version": "1.5.0",
            "_model_name": "HTMLModel",
            "_view_count": null,
            "_view_module": "@jupyter-widgets/controls",
            "_view_module_version": "1.5.0",
            "_view_name": "HTMLView",
            "description": "",
            "description_tooltip": null,
            "layout": "IPY_MODEL_db0fa388bea8492cb54555ecf8c5e9de",
            "placeholder": "​",
            "style": "IPY_MODEL_91791b2da2da49cf8dd1f50d639a35d2",
            "value": " 232k/232k [00:00&lt;00:00, 3.27MB/s]"
          }
        },
        "ea2843d43a824c0dbfb7284d94405773": {
          "model_module": "@jupyter-widgets/base",
          "model_name": "LayoutModel",
          "model_module_version": "1.2.0",
          "state": {
            "_model_module": "@jupyter-widgets/base",
            "_model_module_version": "1.2.0",
            "_model_name": "LayoutModel",
            "_view_count": null,
            "_view_module": "@jupyter-widgets/base",
            "_view_module_version": "1.2.0",
            "_view_name": "LayoutView",
            "align_content": null,
            "align_items": null,
            "align_self": null,
            "border": null,
            "bottom": null,
            "display": null,
            "flex": null,
            "flex_flow": null,
            "grid_area": null,
            "grid_auto_columns": null,
            "grid_auto_flow": null,
            "grid_auto_rows": null,
            "grid_column": null,
            "grid_gap": null,
            "grid_row": null,
            "grid_template_areas": null,
            "grid_template_columns": null,
            "grid_template_rows": null,
            "height": null,
            "justify_content": null,
            "justify_items": null,
            "left": null,
            "margin": null,
            "max_height": null,
            "max_width": null,
            "min_height": null,
            "min_width": null,
            "object_fit": null,
            "object_position": null,
            "order": null,
            "overflow": null,
            "overflow_x": null,
            "overflow_y": null,
            "padding": null,
            "right": null,
            "top": null,
            "visibility": null,
            "width": null
          }
        },
        "33d974fcfaa844269add859d89f60406": {
          "model_module": "@jupyter-widgets/base",
          "model_name": "LayoutModel",
          "model_module_version": "1.2.0",
          "state": {
            "_model_module": "@jupyter-widgets/base",
            "_model_module_version": "1.2.0",
            "_model_name": "LayoutModel",
            "_view_count": null,
            "_view_module": "@jupyter-widgets/base",
            "_view_module_version": "1.2.0",
            "_view_name": "LayoutView",
            "align_content": null,
            "align_items": null,
            "align_self": null,
            "border": null,
            "bottom": null,
            "display": null,
            "flex": null,
            "flex_flow": null,
            "grid_area": null,
            "grid_auto_columns": null,
            "grid_auto_flow": null,
            "grid_auto_rows": null,
            "grid_column": null,
            "grid_gap": null,
            "grid_row": null,
            "grid_template_areas": null,
            "grid_template_columns": null,
            "grid_template_rows": null,
            "height": null,
            "justify_content": null,
            "justify_items": null,
            "left": null,
            "margin": null,
            "max_height": null,
            "max_width": null,
            "min_height": null,
            "min_width": null,
            "object_fit": null,
            "object_position": null,
            "order": null,
            "overflow": null,
            "overflow_x": null,
            "overflow_y": null,
            "padding": null,
            "right": null,
            "top": null,
            "visibility": null,
            "width": null
          }
        },
        "3a6623343dbd4afb8ce9a32192de1522": {
          "model_module": "@jupyter-widgets/controls",
          "model_name": "DescriptionStyleModel",
          "model_module_version": "1.5.0",
          "state": {
            "_model_module": "@jupyter-widgets/controls",
            "_model_module_version": "1.5.0",
            "_model_name": "DescriptionStyleModel",
            "_view_count": null,
            "_view_module": "@jupyter-widgets/base",
            "_view_module_version": "1.2.0",
            "_view_name": "StyleView",
            "description_width": ""
          }
        },
        "955bc8f6ae34471e8f7fa8a632f41573": {
          "model_module": "@jupyter-widgets/base",
          "model_name": "LayoutModel",
          "model_module_version": "1.2.0",
          "state": {
            "_model_module": "@jupyter-widgets/base",
            "_model_module_version": "1.2.0",
            "_model_name": "LayoutModel",
            "_view_count": null,
            "_view_module": "@jupyter-widgets/base",
            "_view_module_version": "1.2.0",
            "_view_name": "LayoutView",
            "align_content": null,
            "align_items": null,
            "align_self": null,
            "border": null,
            "bottom": null,
            "display": null,
            "flex": null,
            "flex_flow": null,
            "grid_area": null,
            "grid_auto_columns": null,
            "grid_auto_flow": null,
            "grid_auto_rows": null,
            "grid_column": null,
            "grid_gap": null,
            "grid_row": null,
            "grid_template_areas": null,
            "grid_template_columns": null,
            "grid_template_rows": null,
            "height": null,
            "justify_content": null,
            "justify_items": null,
            "left": null,
            "margin": null,
            "max_height": null,
            "max_width": null,
            "min_height": null,
            "min_width": null,
            "object_fit": null,
            "object_position": null,
            "order": null,
            "overflow": null,
            "overflow_x": null,
            "overflow_y": null,
            "padding": null,
            "right": null,
            "top": null,
            "visibility": null,
            "width": null
          }
        },
        "3490299b0c794331b7d4ae188d074e94": {
          "model_module": "@jupyter-widgets/controls",
          "model_name": "ProgressStyleModel",
          "model_module_version": "1.5.0",
          "state": {
            "_model_module": "@jupyter-widgets/controls",
            "_model_module_version": "1.5.0",
            "_model_name": "ProgressStyleModel",
            "_view_count": null,
            "_view_module": "@jupyter-widgets/base",
            "_view_module_version": "1.2.0",
            "_view_name": "StyleView",
            "bar_color": null,
            "description_width": ""
          }
        },
        "db0fa388bea8492cb54555ecf8c5e9de": {
          "model_module": "@jupyter-widgets/base",
          "model_name": "LayoutModel",
          "model_module_version": "1.2.0",
          "state": {
            "_model_module": "@jupyter-widgets/base",
            "_model_module_version": "1.2.0",
            "_model_name": "LayoutModel",
            "_view_count": null,
            "_view_module": "@jupyter-widgets/base",
            "_view_module_version": "1.2.0",
            "_view_name": "LayoutView",
            "align_content": null,
            "align_items": null,
            "align_self": null,
            "border": null,
            "bottom": null,
            "display": null,
            "flex": null,
            "flex_flow": null,
            "grid_area": null,
            "grid_auto_columns": null,
            "grid_auto_flow": null,
            "grid_auto_rows": null,
            "grid_column": null,
            "grid_gap": null,
            "grid_row": null,
            "grid_template_areas": null,
            "grid_template_columns": null,
            "grid_template_rows": null,
            "height": null,
            "justify_content": null,
            "justify_items": null,
            "left": null,
            "margin": null,
            "max_height": null,
            "max_width": null,
            "min_height": null,
            "min_width": null,
            "object_fit": null,
            "object_position": null,
            "order": null,
            "overflow": null,
            "overflow_x": null,
            "overflow_y": null,
            "padding": null,
            "right": null,
            "top": null,
            "visibility": null,
            "width": null
          }
        },
        "91791b2da2da49cf8dd1f50d639a35d2": {
          "model_module": "@jupyter-widgets/controls",
          "model_name": "DescriptionStyleModel",
          "model_module_version": "1.5.0",
          "state": {
            "_model_module": "@jupyter-widgets/controls",
            "_model_module_version": "1.5.0",
            "_model_name": "DescriptionStyleModel",
            "_view_count": null,
            "_view_module": "@jupyter-widgets/base",
            "_view_module_version": "1.2.0",
            "_view_name": "StyleView",
            "description_width": ""
          }
        },
        "3cd62c1d4c6a4e91ad3f159dd3a9f8f0": {
          "model_module": "@jupyter-widgets/controls",
          "model_name": "HBoxModel",
          "model_module_version": "1.5.0",
          "state": {
            "_dom_classes": [],
            "_model_module": "@jupyter-widgets/controls",
            "_model_module_version": "1.5.0",
            "_model_name": "HBoxModel",
            "_view_count": null,
            "_view_module": "@jupyter-widgets/controls",
            "_view_module_version": "1.5.0",
            "_view_name": "HBoxView",
            "box_style": "",
            "children": [
              "IPY_MODEL_7dcc12fd9b534b909e13f318ac23d69a",
              "IPY_MODEL_5e0d714d840f4b5c9d5b0c1c82d3381d",
              "IPY_MODEL_451baf440ef944ae9137aad8794dedd9"
            ],
            "layout": "IPY_MODEL_89bb404ef6074dc0b354920adc992093"
          }
        },
        "7dcc12fd9b534b909e13f318ac23d69a": {
          "model_module": "@jupyter-widgets/controls",
          "model_name": "HTMLModel",
          "model_module_version": "1.5.0",
          "state": {
            "_dom_classes": [],
            "_model_module": "@jupyter-widgets/controls",
            "_model_module_version": "1.5.0",
            "_model_name": "HTMLModel",
            "_view_count": null,
            "_view_module": "@jupyter-widgets/controls",
            "_view_module_version": "1.5.0",
            "_view_name": "HTMLView",
            "description": "",
            "description_tooltip": null,
            "layout": "IPY_MODEL_a92f2a0ad01d4493acd7b61731799b4e",
            "placeholder": "​",
            "style": "IPY_MODEL_1701c1694a9e4e239d078ffffa1f75ff",
            "value": "tokenizer.json: 100%"
          }
        },
        "5e0d714d840f4b5c9d5b0c1c82d3381d": {
          "model_module": "@jupyter-widgets/controls",
          "model_name": "FloatProgressModel",
          "model_module_version": "1.5.0",
          "state": {
            "_dom_classes": [],
            "_model_module": "@jupyter-widgets/controls",
            "_model_module_version": "1.5.0",
            "_model_name": "FloatProgressModel",
            "_view_count": null,
            "_view_module": "@jupyter-widgets/controls",
            "_view_module_version": "1.5.0",
            "_view_name": "ProgressView",
            "bar_style": "success",
            "description": "",
            "description_tooltip": null,
            "layout": "IPY_MODEL_bdc24235ed9e48c19e64f6b213c5f7fa",
            "max": 466247,
            "min": 0,
            "orientation": "horizontal",
            "style": "IPY_MODEL_3126686ba16344eaac2a870c39420c49",
            "value": 466247
          }
        },
        "451baf440ef944ae9137aad8794dedd9": {
          "model_module": "@jupyter-widgets/controls",
          "model_name": "HTMLModel",
          "model_module_version": "1.5.0",
          "state": {
            "_dom_classes": [],
            "_model_module": "@jupyter-widgets/controls",
            "_model_module_version": "1.5.0",
            "_model_name": "HTMLModel",
            "_view_count": null,
            "_view_module": "@jupyter-widgets/controls",
            "_view_module_version": "1.5.0",
            "_view_name": "HTMLView",
            "description": "",
            "description_tooltip": null,
            "layout": "IPY_MODEL_eab184d3aeb945f89520ab7c0ad175a0",
            "placeholder": "​",
            "style": "IPY_MODEL_55a27e22631b4d839816c1d6d46f6d87",
            "value": " 466k/466k [00:00&lt;00:00, 8.50MB/s]"
          }
        },
        "89bb404ef6074dc0b354920adc992093": {
          "model_module": "@jupyter-widgets/base",
          "model_name": "LayoutModel",
          "model_module_version": "1.2.0",
          "state": {
            "_model_module": "@jupyter-widgets/base",
            "_model_module_version": "1.2.0",
            "_model_name": "LayoutModel",
            "_view_count": null,
            "_view_module": "@jupyter-widgets/base",
            "_view_module_version": "1.2.0",
            "_view_name": "LayoutView",
            "align_content": null,
            "align_items": null,
            "align_self": null,
            "border": null,
            "bottom": null,
            "display": null,
            "flex": null,
            "flex_flow": null,
            "grid_area": null,
            "grid_auto_columns": null,
            "grid_auto_flow": null,
            "grid_auto_rows": null,
            "grid_column": null,
            "grid_gap": null,
            "grid_row": null,
            "grid_template_areas": null,
            "grid_template_columns": null,
            "grid_template_rows": null,
            "height": null,
            "justify_content": null,
            "justify_items": null,
            "left": null,
            "margin": null,
            "max_height": null,
            "max_width": null,
            "min_height": null,
            "min_width": null,
            "object_fit": null,
            "object_position": null,
            "order": null,
            "overflow": null,
            "overflow_x": null,
            "overflow_y": null,
            "padding": null,
            "right": null,
            "top": null,
            "visibility": null,
            "width": null
          }
        },
        "a92f2a0ad01d4493acd7b61731799b4e": {
          "model_module": "@jupyter-widgets/base",
          "model_name": "LayoutModel",
          "model_module_version": "1.2.0",
          "state": {
            "_model_module": "@jupyter-widgets/base",
            "_model_module_version": "1.2.0",
            "_model_name": "LayoutModel",
            "_view_count": null,
            "_view_module": "@jupyter-widgets/base",
            "_view_module_version": "1.2.0",
            "_view_name": "LayoutView",
            "align_content": null,
            "align_items": null,
            "align_self": null,
            "border": null,
            "bottom": null,
            "display": null,
            "flex": null,
            "flex_flow": null,
            "grid_area": null,
            "grid_auto_columns": null,
            "grid_auto_flow": null,
            "grid_auto_rows": null,
            "grid_column": null,
            "grid_gap": null,
            "grid_row": null,
            "grid_template_areas": null,
            "grid_template_columns": null,
            "grid_template_rows": null,
            "height": null,
            "justify_content": null,
            "justify_items": null,
            "left": null,
            "margin": null,
            "max_height": null,
            "max_width": null,
            "min_height": null,
            "min_width": null,
            "object_fit": null,
            "object_position": null,
            "order": null,
            "overflow": null,
            "overflow_x": null,
            "overflow_y": null,
            "padding": null,
            "right": null,
            "top": null,
            "visibility": null,
            "width": null
          }
        },
        "1701c1694a9e4e239d078ffffa1f75ff": {
          "model_module": "@jupyter-widgets/controls",
          "model_name": "DescriptionStyleModel",
          "model_module_version": "1.5.0",
          "state": {
            "_model_module": "@jupyter-widgets/controls",
            "_model_module_version": "1.5.0",
            "_model_name": "DescriptionStyleModel",
            "_view_count": null,
            "_view_module": "@jupyter-widgets/base",
            "_view_module_version": "1.2.0",
            "_view_name": "StyleView",
            "description_width": ""
          }
        },
        "bdc24235ed9e48c19e64f6b213c5f7fa": {
          "model_module": "@jupyter-widgets/base",
          "model_name": "LayoutModel",
          "model_module_version": "1.2.0",
          "state": {
            "_model_module": "@jupyter-widgets/base",
            "_model_module_version": "1.2.0",
            "_model_name": "LayoutModel",
            "_view_count": null,
            "_view_module": "@jupyter-widgets/base",
            "_view_module_version": "1.2.0",
            "_view_name": "LayoutView",
            "align_content": null,
            "align_items": null,
            "align_self": null,
            "border": null,
            "bottom": null,
            "display": null,
            "flex": null,
            "flex_flow": null,
            "grid_area": null,
            "grid_auto_columns": null,
            "grid_auto_flow": null,
            "grid_auto_rows": null,
            "grid_column": null,
            "grid_gap": null,
            "grid_row": null,
            "grid_template_areas": null,
            "grid_template_columns": null,
            "grid_template_rows": null,
            "height": null,
            "justify_content": null,
            "justify_items": null,
            "left": null,
            "margin": null,
            "max_height": null,
            "max_width": null,
            "min_height": null,
            "min_width": null,
            "object_fit": null,
            "object_position": null,
            "order": null,
            "overflow": null,
            "overflow_x": null,
            "overflow_y": null,
            "padding": null,
            "right": null,
            "top": null,
            "visibility": null,
            "width": null
          }
        },
        "3126686ba16344eaac2a870c39420c49": {
          "model_module": "@jupyter-widgets/controls",
          "model_name": "ProgressStyleModel",
          "model_module_version": "1.5.0",
          "state": {
            "_model_module": "@jupyter-widgets/controls",
            "_model_module_version": "1.5.0",
            "_model_name": "ProgressStyleModel",
            "_view_count": null,
            "_view_module": "@jupyter-widgets/base",
            "_view_module_version": "1.2.0",
            "_view_name": "StyleView",
            "bar_color": null,
            "description_width": ""
          }
        },
        "eab184d3aeb945f89520ab7c0ad175a0": {
          "model_module": "@jupyter-widgets/base",
          "model_name": "LayoutModel",
          "model_module_version": "1.2.0",
          "state": {
            "_model_module": "@jupyter-widgets/base",
            "_model_module_version": "1.2.0",
            "_model_name": "LayoutModel",
            "_view_count": null,
            "_view_module": "@jupyter-widgets/base",
            "_view_module_version": "1.2.0",
            "_view_name": "LayoutView",
            "align_content": null,
            "align_items": null,
            "align_self": null,
            "border": null,
            "bottom": null,
            "display": null,
            "flex": null,
            "flex_flow": null,
            "grid_area": null,
            "grid_auto_columns": null,
            "grid_auto_flow": null,
            "grid_auto_rows": null,
            "grid_column": null,
            "grid_gap": null,
            "grid_row": null,
            "grid_template_areas": null,
            "grid_template_columns": null,
            "grid_template_rows": null,
            "height": null,
            "justify_content": null,
            "justify_items": null,
            "left": null,
            "margin": null,
            "max_height": null,
            "max_width": null,
            "min_height": null,
            "min_width": null,
            "object_fit": null,
            "object_position": null,
            "order": null,
            "overflow": null,
            "overflow_x": null,
            "overflow_y": null,
            "padding": null,
            "right": null,
            "top": null,
            "visibility": null,
            "width": null
          }
        },
        "55a27e22631b4d839816c1d6d46f6d87": {
          "model_module": "@jupyter-widgets/controls",
          "model_name": "DescriptionStyleModel",
          "model_module_version": "1.5.0",
          "state": {
            "_model_module": "@jupyter-widgets/controls",
            "_model_module_version": "1.5.0",
            "_model_name": "DescriptionStyleModel",
            "_view_count": null,
            "_view_module": "@jupyter-widgets/base",
            "_view_module_version": "1.2.0",
            "_view_name": "StyleView",
            "description_width": ""
          }
        },
        "0574d0ac855447f1bcb7ea4ea0833d7f": {
          "model_module": "@jupyter-widgets/controls",
          "model_name": "HBoxModel",
          "model_module_version": "1.5.0",
          "state": {
            "_dom_classes": [],
            "_model_module": "@jupyter-widgets/controls",
            "_model_module_version": "1.5.0",
            "_model_name": "HBoxModel",
            "_view_count": null,
            "_view_module": "@jupyter-widgets/controls",
            "_view_module_version": "1.5.0",
            "_view_name": "HBoxView",
            "box_style": "",
            "children": [
              "IPY_MODEL_6164eb455fea41e0ba956f16e84eb472",
              "IPY_MODEL_a0b4ccbd9b5443f79a92c4fcc67913b1",
              "IPY_MODEL_21272a50f265406c90da278df9562a80"
            ],
            "layout": "IPY_MODEL_9ff394877ed548d28d0debbbf260819f"
          }
        },
        "6164eb455fea41e0ba956f16e84eb472": {
          "model_module": "@jupyter-widgets/controls",
          "model_name": "HTMLModel",
          "model_module_version": "1.5.0",
          "state": {
            "_dom_classes": [],
            "_model_module": "@jupyter-widgets/controls",
            "_model_module_version": "1.5.0",
            "_model_name": "HTMLModel",
            "_view_count": null,
            "_view_module": "@jupyter-widgets/controls",
            "_view_module_version": "1.5.0",
            "_view_name": "HTMLView",
            "description": "",
            "description_tooltip": null,
            "layout": "IPY_MODEL_5dc50ad7ef2b4a05b92178243f18b5a6",
            "placeholder": "​",
            "style": "IPY_MODEL_1259007af1a94bdb86af5cc43d0f67ca",
            "value": "special_tokens_map.json: 100%"
          }
        },
        "a0b4ccbd9b5443f79a92c4fcc67913b1": {
          "model_module": "@jupyter-widgets/controls",
          "model_name": "FloatProgressModel",
          "model_module_version": "1.5.0",
          "state": {
            "_dom_classes": [],
            "_model_module": "@jupyter-widgets/controls",
            "_model_module_version": "1.5.0",
            "_model_name": "FloatProgressModel",
            "_view_count": null,
            "_view_module": "@jupyter-widgets/controls",
            "_view_module_version": "1.5.0",
            "_view_name": "ProgressView",
            "bar_style": "success",
            "description": "",
            "description_tooltip": null,
            "layout": "IPY_MODEL_7cbcf0c93d5742898e8407bb2f1cdb27",
            "max": 112,
            "min": 0,
            "orientation": "horizontal",
            "style": "IPY_MODEL_4e83e6778a3c412ebb8f587935537bdf",
            "value": 112
          }
        },
        "21272a50f265406c90da278df9562a80": {
          "model_module": "@jupyter-widgets/controls",
          "model_name": "HTMLModel",
          "model_module_version": "1.5.0",
          "state": {
            "_dom_classes": [],
            "_model_module": "@jupyter-widgets/controls",
            "_model_module_version": "1.5.0",
            "_model_name": "HTMLModel",
            "_view_count": null,
            "_view_module": "@jupyter-widgets/controls",
            "_view_module_version": "1.5.0",
            "_view_name": "HTMLView",
            "description": "",
            "description_tooltip": null,
            "layout": "IPY_MODEL_921cbe734fe84613a32abc49311f9363",
            "placeholder": "​",
            "style": "IPY_MODEL_4691c32d76d14d0bb98cf3e7fd39a2a5",
            "value": " 112/112 [00:00&lt;00:00, 5.90kB/s]"
          }
        },
        "9ff394877ed548d28d0debbbf260819f": {
          "model_module": "@jupyter-widgets/base",
          "model_name": "LayoutModel",
          "model_module_version": "1.2.0",
          "state": {
            "_model_module": "@jupyter-widgets/base",
            "_model_module_version": "1.2.0",
            "_model_name": "LayoutModel",
            "_view_count": null,
            "_view_module": "@jupyter-widgets/base",
            "_view_module_version": "1.2.0",
            "_view_name": "LayoutView",
            "align_content": null,
            "align_items": null,
            "align_self": null,
            "border": null,
            "bottom": null,
            "display": null,
            "flex": null,
            "flex_flow": null,
            "grid_area": null,
            "grid_auto_columns": null,
            "grid_auto_flow": null,
            "grid_auto_rows": null,
            "grid_column": null,
            "grid_gap": null,
            "grid_row": null,
            "grid_template_areas": null,
            "grid_template_columns": null,
            "grid_template_rows": null,
            "height": null,
            "justify_content": null,
            "justify_items": null,
            "left": null,
            "margin": null,
            "max_height": null,
            "max_width": null,
            "min_height": null,
            "min_width": null,
            "object_fit": null,
            "object_position": null,
            "order": null,
            "overflow": null,
            "overflow_x": null,
            "overflow_y": null,
            "padding": null,
            "right": null,
            "top": null,
            "visibility": null,
            "width": null
          }
        },
        "5dc50ad7ef2b4a05b92178243f18b5a6": {
          "model_module": "@jupyter-widgets/base",
          "model_name": "LayoutModel",
          "model_module_version": "1.2.0",
          "state": {
            "_model_module": "@jupyter-widgets/base",
            "_model_module_version": "1.2.0",
            "_model_name": "LayoutModel",
            "_view_count": null,
            "_view_module": "@jupyter-widgets/base",
            "_view_module_version": "1.2.0",
            "_view_name": "LayoutView",
            "align_content": null,
            "align_items": null,
            "align_self": null,
            "border": null,
            "bottom": null,
            "display": null,
            "flex": null,
            "flex_flow": null,
            "grid_area": null,
            "grid_auto_columns": null,
            "grid_auto_flow": null,
            "grid_auto_rows": null,
            "grid_column": null,
            "grid_gap": null,
            "grid_row": null,
            "grid_template_areas": null,
            "grid_template_columns": null,
            "grid_template_rows": null,
            "height": null,
            "justify_content": null,
            "justify_items": null,
            "left": null,
            "margin": null,
            "max_height": null,
            "max_width": null,
            "min_height": null,
            "min_width": null,
            "object_fit": null,
            "object_position": null,
            "order": null,
            "overflow": null,
            "overflow_x": null,
            "overflow_y": null,
            "padding": null,
            "right": null,
            "top": null,
            "visibility": null,
            "width": null
          }
        },
        "1259007af1a94bdb86af5cc43d0f67ca": {
          "model_module": "@jupyter-widgets/controls",
          "model_name": "DescriptionStyleModel",
          "model_module_version": "1.5.0",
          "state": {
            "_model_module": "@jupyter-widgets/controls",
            "_model_module_version": "1.5.0",
            "_model_name": "DescriptionStyleModel",
            "_view_count": null,
            "_view_module": "@jupyter-widgets/base",
            "_view_module_version": "1.2.0",
            "_view_name": "StyleView",
            "description_width": ""
          }
        },
        "7cbcf0c93d5742898e8407bb2f1cdb27": {
          "model_module": "@jupyter-widgets/base",
          "model_name": "LayoutModel",
          "model_module_version": "1.2.0",
          "state": {
            "_model_module": "@jupyter-widgets/base",
            "_model_module_version": "1.2.0",
            "_model_name": "LayoutModel",
            "_view_count": null,
            "_view_module": "@jupyter-widgets/base",
            "_view_module_version": "1.2.0",
            "_view_name": "LayoutView",
            "align_content": null,
            "align_items": null,
            "align_self": null,
            "border": null,
            "bottom": null,
            "display": null,
            "flex": null,
            "flex_flow": null,
            "grid_area": null,
            "grid_auto_columns": null,
            "grid_auto_flow": null,
            "grid_auto_rows": null,
            "grid_column": null,
            "grid_gap": null,
            "grid_row": null,
            "grid_template_areas": null,
            "grid_template_columns": null,
            "grid_template_rows": null,
            "height": null,
            "justify_content": null,
            "justify_items": null,
            "left": null,
            "margin": null,
            "max_height": null,
            "max_width": null,
            "min_height": null,
            "min_width": null,
            "object_fit": null,
            "object_position": null,
            "order": null,
            "overflow": null,
            "overflow_x": null,
            "overflow_y": null,
            "padding": null,
            "right": null,
            "top": null,
            "visibility": null,
            "width": null
          }
        },
        "4e83e6778a3c412ebb8f587935537bdf": {
          "model_module": "@jupyter-widgets/controls",
          "model_name": "ProgressStyleModel",
          "model_module_version": "1.5.0",
          "state": {
            "_model_module": "@jupyter-widgets/controls",
            "_model_module_version": "1.5.0",
            "_model_name": "ProgressStyleModel",
            "_view_count": null,
            "_view_module": "@jupyter-widgets/base",
            "_view_module_version": "1.2.0",
            "_view_name": "StyleView",
            "bar_color": null,
            "description_width": ""
          }
        },
        "921cbe734fe84613a32abc49311f9363": {
          "model_module": "@jupyter-widgets/base",
          "model_name": "LayoutModel",
          "model_module_version": "1.2.0",
          "state": {
            "_model_module": "@jupyter-widgets/base",
            "_model_module_version": "1.2.0",
            "_model_name": "LayoutModel",
            "_view_count": null,
            "_view_module": "@jupyter-widgets/base",
            "_view_module_version": "1.2.0",
            "_view_name": "LayoutView",
            "align_content": null,
            "align_items": null,
            "align_self": null,
            "border": null,
            "bottom": null,
            "display": null,
            "flex": null,
            "flex_flow": null,
            "grid_area": null,
            "grid_auto_columns": null,
            "grid_auto_flow": null,
            "grid_auto_rows": null,
            "grid_column": null,
            "grid_gap": null,
            "grid_row": null,
            "grid_template_areas": null,
            "grid_template_columns": null,
            "grid_template_rows": null,
            "height": null,
            "justify_content": null,
            "justify_items": null,
            "left": null,
            "margin": null,
            "max_height": null,
            "max_width": null,
            "min_height": null,
            "min_width": null,
            "object_fit": null,
            "object_position": null,
            "order": null,
            "overflow": null,
            "overflow_x": null,
            "overflow_y": null,
            "padding": null,
            "right": null,
            "top": null,
            "visibility": null,
            "width": null
          }
        },
        "4691c32d76d14d0bb98cf3e7fd39a2a5": {
          "model_module": "@jupyter-widgets/controls",
          "model_name": "DescriptionStyleModel",
          "model_module_version": "1.5.0",
          "state": {
            "_model_module": "@jupyter-widgets/controls",
            "_model_module_version": "1.5.0",
            "_model_name": "DescriptionStyleModel",
            "_view_count": null,
            "_view_module": "@jupyter-widgets/base",
            "_view_module_version": "1.2.0",
            "_view_name": "StyleView",
            "description_width": ""
          }
        },
        "cc4cd111dc034700a19a9f6ba31f6de7": {
          "model_module": "@jupyter-widgets/controls",
          "model_name": "HBoxModel",
          "model_module_version": "1.5.0",
          "state": {
            "_dom_classes": [],
            "_model_module": "@jupyter-widgets/controls",
            "_model_module_version": "1.5.0",
            "_model_name": "HBoxModel",
            "_view_count": null,
            "_view_module": "@jupyter-widgets/controls",
            "_view_module_version": "1.5.0",
            "_view_name": "HBoxView",
            "box_style": "",
            "children": [
              "IPY_MODEL_01aa3617cba54816a2c0cf0763831538",
              "IPY_MODEL_9e42653ebaed430d8ee5581a9bf7ad7f",
              "IPY_MODEL_196817ad94134fc89717475748751bab"
            ],
            "layout": "IPY_MODEL_92696bb318f24b459f6138ca9c591174"
          }
        },
        "01aa3617cba54816a2c0cf0763831538": {
          "model_module": "@jupyter-widgets/controls",
          "model_name": "HTMLModel",
          "model_module_version": "1.5.0",
          "state": {
            "_dom_classes": [],
            "_model_module": "@jupyter-widgets/controls",
            "_model_module_version": "1.5.0",
            "_model_name": "HTMLModel",
            "_view_count": null,
            "_view_module": "@jupyter-widgets/controls",
            "_view_module_version": "1.5.0",
            "_view_name": "HTMLView",
            "description": "",
            "description_tooltip": null,
            "layout": "IPY_MODEL_314cc814cd4c48b68e4c20e19856b2e7",
            "placeholder": "​",
            "style": "IPY_MODEL_a4ec229e4d5c467893c9461453c98a82",
            "value": "config.json: 100%"
          }
        },
        "9e42653ebaed430d8ee5581a9bf7ad7f": {
          "model_module": "@jupyter-widgets/controls",
          "model_name": "FloatProgressModel",
          "model_module_version": "1.5.0",
          "state": {
            "_dom_classes": [],
            "_model_module": "@jupyter-widgets/controls",
            "_model_module_version": "1.5.0",
            "_model_name": "FloatProgressModel",
            "_view_count": null,
            "_view_module": "@jupyter-widgets/controls",
            "_view_module_version": "1.5.0",
            "_view_name": "ProgressView",
            "bar_style": "success",
            "description": "",
            "description_tooltip": null,
            "layout": "IPY_MODEL_3b91a306d32c4b4e830e90c09909f265",
            "max": 190,
            "min": 0,
            "orientation": "horizontal",
            "style": "IPY_MODEL_4b423177e1624b618579a22935e831e9",
            "value": 190
          }
        },
        "196817ad94134fc89717475748751bab": {
          "model_module": "@jupyter-widgets/controls",
          "model_name": "HTMLModel",
          "model_module_version": "1.5.0",
          "state": {
            "_dom_classes": [],
            "_model_module": "@jupyter-widgets/controls",
            "_model_module_version": "1.5.0",
            "_model_name": "HTMLModel",
            "_view_count": null,
            "_view_module": "@jupyter-widgets/controls",
            "_view_module_version": "1.5.0",
            "_view_name": "HTMLView",
            "description": "",
            "description_tooltip": null,
            "layout": "IPY_MODEL_7aba59bf5ce642d8a9000334d17c2964",
            "placeholder": "​",
            "style": "IPY_MODEL_07e4a85aa3bc404baa532d5078022804",
            "value": " 190/190 [00:00&lt;00:00, 10.0kB/s]"
          }
        },
        "92696bb318f24b459f6138ca9c591174": {
          "model_module": "@jupyter-widgets/base",
          "model_name": "LayoutModel",
          "model_module_version": "1.2.0",
          "state": {
            "_model_module": "@jupyter-widgets/base",
            "_model_module_version": "1.2.0",
            "_model_name": "LayoutModel",
            "_view_count": null,
            "_view_module": "@jupyter-widgets/base",
            "_view_module_version": "1.2.0",
            "_view_name": "LayoutView",
            "align_content": null,
            "align_items": null,
            "align_self": null,
            "border": null,
            "bottom": null,
            "display": null,
            "flex": null,
            "flex_flow": null,
            "grid_area": null,
            "grid_auto_columns": null,
            "grid_auto_flow": null,
            "grid_auto_rows": null,
            "grid_column": null,
            "grid_gap": null,
            "grid_row": null,
            "grid_template_areas": null,
            "grid_template_columns": null,
            "grid_template_rows": null,
            "height": null,
            "justify_content": null,
            "justify_items": null,
            "left": null,
            "margin": null,
            "max_height": null,
            "max_width": null,
            "min_height": null,
            "min_width": null,
            "object_fit": null,
            "object_position": null,
            "order": null,
            "overflow": null,
            "overflow_x": null,
            "overflow_y": null,
            "padding": null,
            "right": null,
            "top": null,
            "visibility": null,
            "width": null
          }
        },
        "314cc814cd4c48b68e4c20e19856b2e7": {
          "model_module": "@jupyter-widgets/base",
          "model_name": "LayoutModel",
          "model_module_version": "1.2.0",
          "state": {
            "_model_module": "@jupyter-widgets/base",
            "_model_module_version": "1.2.0",
            "_model_name": "LayoutModel",
            "_view_count": null,
            "_view_module": "@jupyter-widgets/base",
            "_view_module_version": "1.2.0",
            "_view_name": "LayoutView",
            "align_content": null,
            "align_items": null,
            "align_self": null,
            "border": null,
            "bottom": null,
            "display": null,
            "flex": null,
            "flex_flow": null,
            "grid_area": null,
            "grid_auto_columns": null,
            "grid_auto_flow": null,
            "grid_auto_rows": null,
            "grid_column": null,
            "grid_gap": null,
            "grid_row": null,
            "grid_template_areas": null,
            "grid_template_columns": null,
            "grid_template_rows": null,
            "height": null,
            "justify_content": null,
            "justify_items": null,
            "left": null,
            "margin": null,
            "max_height": null,
            "max_width": null,
            "min_height": null,
            "min_width": null,
            "object_fit": null,
            "object_position": null,
            "order": null,
            "overflow": null,
            "overflow_x": null,
            "overflow_y": null,
            "padding": null,
            "right": null,
            "top": null,
            "visibility": null,
            "width": null
          }
        },
        "a4ec229e4d5c467893c9461453c98a82": {
          "model_module": "@jupyter-widgets/controls",
          "model_name": "DescriptionStyleModel",
          "model_module_version": "1.5.0",
          "state": {
            "_model_module": "@jupyter-widgets/controls",
            "_model_module_version": "1.5.0",
            "_model_name": "DescriptionStyleModel",
            "_view_count": null,
            "_view_module": "@jupyter-widgets/base",
            "_view_module_version": "1.2.0",
            "_view_name": "StyleView",
            "description_width": ""
          }
        },
        "3b91a306d32c4b4e830e90c09909f265": {
          "model_module": "@jupyter-widgets/base",
          "model_name": "LayoutModel",
          "model_module_version": "1.2.0",
          "state": {
            "_model_module": "@jupyter-widgets/base",
            "_model_module_version": "1.2.0",
            "_model_name": "LayoutModel",
            "_view_count": null,
            "_view_module": "@jupyter-widgets/base",
            "_view_module_version": "1.2.0",
            "_view_name": "LayoutView",
            "align_content": null,
            "align_items": null,
            "align_self": null,
            "border": null,
            "bottom": null,
            "display": null,
            "flex": null,
            "flex_flow": null,
            "grid_area": null,
            "grid_auto_columns": null,
            "grid_auto_flow": null,
            "grid_auto_rows": null,
            "grid_column": null,
            "grid_gap": null,
            "grid_row": null,
            "grid_template_areas": null,
            "grid_template_columns": null,
            "grid_template_rows": null,
            "height": null,
            "justify_content": null,
            "justify_items": null,
            "left": null,
            "margin": null,
            "max_height": null,
            "max_width": null,
            "min_height": null,
            "min_width": null,
            "object_fit": null,
            "object_position": null,
            "order": null,
            "overflow": null,
            "overflow_x": null,
            "overflow_y": null,
            "padding": null,
            "right": null,
            "top": null,
            "visibility": null,
            "width": null
          }
        },
        "4b423177e1624b618579a22935e831e9": {
          "model_module": "@jupyter-widgets/controls",
          "model_name": "ProgressStyleModel",
          "model_module_version": "1.5.0",
          "state": {
            "_model_module": "@jupyter-widgets/controls",
            "_model_module_version": "1.5.0",
            "_model_name": "ProgressStyleModel",
            "_view_count": null,
            "_view_module": "@jupyter-widgets/base",
            "_view_module_version": "1.2.0",
            "_view_name": "StyleView",
            "bar_color": null,
            "description_width": ""
          }
        },
        "7aba59bf5ce642d8a9000334d17c2964": {
          "model_module": "@jupyter-widgets/base",
          "model_name": "LayoutModel",
          "model_module_version": "1.2.0",
          "state": {
            "_model_module": "@jupyter-widgets/base",
            "_model_module_version": "1.2.0",
            "_model_name": "LayoutModel",
            "_view_count": null,
            "_view_module": "@jupyter-widgets/base",
            "_view_module_version": "1.2.0",
            "_view_name": "LayoutView",
            "align_content": null,
            "align_items": null,
            "align_self": null,
            "border": null,
            "bottom": null,
            "display": null,
            "flex": null,
            "flex_flow": null,
            "grid_area": null,
            "grid_auto_columns": null,
            "grid_auto_flow": null,
            "grid_auto_rows": null,
            "grid_column": null,
            "grid_gap": null,
            "grid_row": null,
            "grid_template_areas": null,
            "grid_template_columns": null,
            "grid_template_rows": null,
            "height": null,
            "justify_content": null,
            "justify_items": null,
            "left": null,
            "margin": null,
            "max_height": null,
            "max_width": null,
            "min_height": null,
            "min_width": null,
            "object_fit": null,
            "object_position": null,
            "order": null,
            "overflow": null,
            "overflow_x": null,
            "overflow_y": null,
            "padding": null,
            "right": null,
            "top": null,
            "visibility": null,
            "width": null
          }
        },
        "07e4a85aa3bc404baa532d5078022804": {
          "model_module": "@jupyter-widgets/controls",
          "model_name": "DescriptionStyleModel",
          "model_module_version": "1.5.0",
          "state": {
            "_model_module": "@jupyter-widgets/controls",
            "_model_module_version": "1.5.0",
            "_model_name": "DescriptionStyleModel",
            "_view_count": null,
            "_view_module": "@jupyter-widgets/base",
            "_view_module_version": "1.2.0",
            "_view_name": "StyleView",
            "description_width": ""
          }
        }
      }
    }
  },
  "cells": [
    {
      "cell_type": "markdown",
      "metadata": {
        "id": "view-in-github",
        "colab_type": "text"
      },
      "source": [
        "<a href=\"https://colab.research.google.com/github/sam4410/RAG-Technique-based-models/blob/main/RAG_Pipeline.ipynb\" target=\"_parent\"><img src=\"https://colab.research.google.com/assets/colab-badge.svg\" alt=\"Open In Colab\"/></a>"
      ]
    },
    {
      "cell_type": "code",
      "execution_count": 1,
      "metadata": {
        "id": "EWicTIlprray"
      },
      "outputs": [],
      "source": [
        "!pip install -q beautifulsoup4==4.12.3 requests==2.31.0 deeplake==3.9.18 openai"
      ]
    },
    {
      "cell_type": "markdown",
      "source": [
        "Components involved in Building RAG Pipeline\n",
        "\n",
        "* Data collection and preparation\n",
        "* Data embedding and storage\n",
        "* Augmented generation"
      ],
      "metadata": {
        "id": "h8tXWfBVsKvB"
      }
    },
    {
      "cell_type": "code",
      "source": [
        "import os\n",
        "from google.colab import userdata\n",
        "import openai\n",
        "from deeplake.core.vectorstore.deeplake_vectorstore import VectorStore\n",
        "import deeplake.util\n",
        "from google.colab import drive\n",
        "\n",
        "# Connect this Colab to my Google Drive\n",
        "drive.mount(\"/content/drive\")\n",
        "\n",
        "#Retrieving and setting OpenAI API key\n",
        "f = open(\"drive/MyDrive/Colab Notebooks/key_files/openai_api_key.txt\", \"r\")\n",
        "API_KEY=f.readline().strip()\n",
        "f.close()\n",
        "\n",
        "#The OpenAI API key\n",
        "os.environ['OPENAI_API_KEY'] =API_KEY\n",
        "openai.api_key = os.getenv(\"OPENAI_API_KEY\")\n",
        "\n",
        "#Retrieving and setting Activeloop API token\n",
        "f = open(\"drive/MyDrive/Colab Notebooks/key_files/activeloop_token.txt\", \"r\")\n",
        "API_token=f.readline().strip()\n",
        "f.close()\n",
        "ACTIVELOOP_TOKEN=API_token\n",
        "os.environ['ACTIVELOOP_TOKEN'] =ACTIVELOOP_TOKEN\n",
        "\n",
        "# signing to hugging face hub\n",
        "hf_token = userdata.get('HF_TOKEN')\n",
        "login(hf_token, add_to_git_credential=False)"
      ],
      "metadata": {
        "id": "ym_T3bcEsZiB",
        "colab": {
          "base_uri": "https://localhost:8080/"
        },
        "outputId": "8d8dcff4-91ea-4662-9cb3-5b666a2c0395"
      },
      "execution_count": 2,
      "outputs": [
        {
          "output_type": "stream",
          "name": "stderr",
          "text": [
            "/usr/local/lib/python3.11/dist-packages/deeplake/util/check_latest_version.py:32: UserWarning: A newer version of deeplake (4.1.13) is available. It's recommended that you update to the latest version using `pip install -U deeplake`.\n",
            "  warnings.warn(\n"
          ]
        },
        {
          "output_type": "stream",
          "name": "stdout",
          "text": [
            "Drive already mounted at /content/drive; to attempt to forcibly remount, call drive.mount(\"/content/drive\", force_remount=True).\n"
          ]
        }
      ]
    },
    {
      "cell_type": "code",
      "source": [
        "# # Creating a subprocess to download files from GitHub\n",
        "# # program contains a function to download files using curl, with the option to add a private token if necessary\n",
        "# import subprocess\n",
        "# url = \"https://raw.githubusercontent.com/Denis2054/RAG-Driven-Generative-AI/main/commons/grequests.py\"\n",
        "# output_file = \"grequests.py\"\n",
        "\n",
        "# # Prepare the curl command using the private token\n",
        "# curl_command = [\n",
        "# \"curl\",\n",
        "# \"-o\", output_file,\n",
        "# url\n",
        "# ]\n",
        "\n",
        "# # Execute the curl command\n",
        "# try:\n",
        "#   subprocess.run(curl_command, check=True)\n",
        "#   print(\"Download successful.\")\n",
        "# except subprocess.CalledProcessError:\n",
        "#   print(\"Failed to download the file.\")"
      ],
      "metadata": {
        "colab": {
          "base_uri": "https://localhost:8080/"
        },
        "id": "FQhhHJPZyZ0w",
        "outputId": "24f3665a-10b3-4b1d-eb53-f55905a42fc8"
      },
      "execution_count": 3,
      "outputs": [
        {
          "output_type": "stream",
          "name": "stdout",
          "text": [
            "Download successful.\n"
          ]
        }
      ]
    },
    {
      "cell_type": "code",
      "source": [
        "# # add a private token after the filename if necessary\n",
        "# def download(directory, filename):\n",
        "# # The base URL of the image files in the GitHub repository\n",
        "#     base_url = 'https://raw.githubusercontent.com/Denis2054/RAG-Driven-Generative-AI/main/'\n",
        "#     # Complete URL for the file\n",
        "#     file_url = f\"{base_url}{directory}/{filename}\"\n",
        "#     # Use curl to download the file, including an Authorization header for the private token\n",
        "#     try:\n",
        "#         # Prepare the curl command with the Authorization header\n",
        "#         #curl_command = f'curl -H \"Authorization: token {private_token}\" -o{filename} {file_url}'\n",
        "#         curl_command = f'curl -H -o {filename} {file_url}'\n",
        "#         # Execute the curl command\n",
        "#         subprocess.run(curl_command, check=True, shell=True)\n",
        "#         print(f\"Downloaded '{filename}' successfully.\")\n",
        "#     except subprocess.CalledProcessError:\n",
        "#         print(f\"Failed to download '{filename}'. Check the URL, your internet connection, and if the token is correct and has appropriate permissions.\")"
      ],
      "metadata": {
        "id": "U13QVHq21lPD"
      },
      "execution_count": 4,
      "outputs": []
    },
    {
      "cell_type": "code",
      "source": [
        "# For Google Colab and Activeloop(Deeplake library)\n",
        "#This line writes the string \"nameserver 8.8.8.8\" to the file. This is specifying that the DNS server the system\n",
        "#should use is at the IP address 8.8.8.8, which is one of Google's Public DNS servers.\n",
        "with open('/etc/resolv.conf', 'w') as file:\n",
        "    file.write(\"nameserver 8.8.8.8\")"
      ],
      "metadata": {
        "id": "EG5D3nnT2NW8"
      },
      "execution_count": 3,
      "outputs": []
    },
    {
      "cell_type": "markdown",
      "source": [
        "## Component 1: Data Collection and Preprocessing"
      ],
      "metadata": {
        "id": "e4K2FUMGNVsO"
      }
    },
    {
      "cell_type": "markdown",
      "source": [
        "We will retrieve and process 10 Wikipedia articles that provide a comprehensive view of various aspects of space exploration:\n",
        "* Space exploration: Overview of the history, technologies, missions, and plans involved in the\n",
        "exploration of space (https://en.wikipedia.org/wiki/Space_exploration)\n",
        "* Apollo program: Details about the NASA program that landed the first humans on the Moon\n",
        "and its significant missions (https://en.wikipedia.org/wiki/Apollo_program)\n",
        "* Hubble Space Telescope: Information on one of the most significant telescopes ever built,\n",
        "which has been crucial in many astronomical discoveries (https://en.wikipedia.org/wiki/\n",
        "Hubble_Space_Telescope)\n",
        "* Mars rover: Insight into the rovers that have been sent to Mars to study its surface and environment\n",
        "(https://en.wikipedia.org/wiki/Mars_rover)\n",
        "* International Space Station (ISS): Details about the ISS, its construction, international collaboration,\n",
        "and its role in space research (https://en.wikipedia.org/wiki/International_\n",
        "Space_Station)\n",
        "* SpaceX: Covers the history, achievements, and goals of SpaceX, one of the most influential\n",
        "private spaceflight companies (https://en.wikipedia.org/wiki/SpaceX)\n",
        "* Juno (spacecraft): Information about the NASA space probe that orbits and studies Jupiter, its\n",
        "structure, and moons (https://en.wikipedia.org/wiki/Juno_(spacecraft))\n",
        "42 RAG Embedding Vector Stores with Deep Lake and OpenAI\n",
        "* Voyager program: Details on the Voyager missions, including their contributions to our understanding\n",
        "of the outer solar system and interstellar space (https://en.wikipedia.org/wiki/Voyager_program)\n",
        "* Galileo (spacecraft): Overview of the mission that studied Jupiter and its moons, providing\n",
        "valuable data on the gas giant and its system (https://en.wikipedia.org/wiki/Galileo_\n",
        "(spacecraft))\n",
        "* Kepler space telescope: Information about the space telescope designed to discover Earth-size\n",
        "planets orbiting other stars (https://en.wikipedia.org/wiki/Kepler_Space_Telescope)\n",
        "\n",
        "These articles cover a wide range of topics in space exploration, from historical programs to modern\n",
        "technological advances and missions."
      ],
      "metadata": {
        "id": "dC56REDC7gak"
      }
    },
    {
      "cell_type": "code",
      "source": [
        "# Collecting the data\n",
        "import requests\n",
        "from bs4 import BeautifulSoup\n",
        "import re\n",
        "\n",
        "# select the URLs we need\n",
        "urls = [\n",
        "\"https://en.wikipedia.org/wiki/Space_exploration\",\n",
        "\"https://en.wikipedia.org/wiki/Apollo_program\",\n",
        "\"https://en.wikipedia.org/wiki/Hubble_Space_Telescope\",\n",
        "\"https://en.wikipedia.org/wiki/Mars_over\",\n",
        "\"https://en.wikipedia.org/wiki/International_Space_Station\",\n",
        "\"https://en.wikipedia.org/wiki/SpaceX\",\n",
        "\"https://en.wikipedia.org/wiki/Juno_(spacecraft)\",\n",
        "\"https://en.wikipedia.org/wiki/Voyager_program\",\n",
        "\"https://en.wikipedia.org/wiki/Galileo_(spacecraft)\",\n",
        "\"https://en.wikipedia.org/wiki/Kepler_Space_Telescope\"\n",
        "]\n",
        "\n",
        "# Preparing the data\n",
        "# remove numerical references such as [1] [2] from a given text string, using regular expressions\n",
        "def clean_text(content):\n",
        "# Remove references that usually appear as [1], [2], etc.\n",
        "    content = re.sub(r'\\[\\d+\\]', '', content)\n",
        "    return content\n",
        "\n",
        "# fetch and clean function, which will return a nice and clean text by extracting the content we need from the documents\n",
        "def fetch_and_clean(url):\n",
        "  # Fetch the content of the URL\n",
        "  response = requests.get(url)\n",
        "  soup = BeautifulSoup(response.content, 'html.parser')\n",
        "\n",
        "  # Find the main content of the article, ignoring side boxes and headers\n",
        "  content = soup.find('div', {'class': 'mw-parser-output'})\n",
        "\n",
        "  # Remove the bibliography section, which generally follows a header like \"References\", \"Bibliography\"\n",
        "  for section_title in ['References', 'Bibliography', 'External links', 'See also']:\n",
        "    section = content.find('span', id=section_title)\n",
        "    if section:\n",
        "      # Remove all content from this section to the end of the document\n",
        "      for sib in section.parent.find_next_siblings():\n",
        "        sib.decompose()\n",
        "      section.parent.decompose()\n",
        "\n",
        "  # Extract and clean the text\n",
        "  text = content.get_text(separator=' ', strip=True)\n",
        "  text = clean_text(text)\n",
        "  return text"
      ],
      "metadata": {
        "id": "9KuIOjSB7-5c"
      },
      "execution_count": 4,
      "outputs": []
    },
    {
      "cell_type": "code",
      "source": [
        "# write the content in llm.txt file\n",
        "with open('llm.txt', 'w', encoding = 'utf-8') as f:\n",
        "  for url in urls:\n",
        "    f.write(fetch_and_clean(url))\n",
        "\n",
        "print(\"Content written to llm.txt\")"
      ],
      "metadata": {
        "colab": {
          "base_uri": "https://localhost:8080/"
        },
        "id": "Q6iYwC6KLUGy",
        "outputId": "b1c175a9-9c19-4c51-f725-1b5805f87f82"
      },
      "execution_count": 5,
      "outputs": [
        {
          "output_type": "stream",
          "name": "stdout",
          "text": [
            "Content written to llm.txt\n"
          ]
        }
      ]
    },
    {
      "cell_type": "code",
      "source": [
        "# verify the content written to file\n",
        "with open('llm.txt', 'r', encoding = 'utf-8') as file:\n",
        "  lines = file.readlines()\n",
        "  # Print the first 20 lines\n",
        "  for line in lines[:20]:\n",
        "    print(line.strip())"
      ],
      "metadata": {
        "colab": {
          "base_uri": "https://localhost:8080/"
        },
        "id": "ji-eFWfGLq97",
        "outputId": "46dcb3ed-0fe8-4d39-c8e3-b43b8cdecd9a"
      },
      "execution_count": 6,
      "outputs": [
        {
          "output_type": "stream",
          "name": "stdout",
          "text": [
            "Exploration of space, planets, and moons For broader coverage of this topic, see Exploration . Buzz Aldrin taking a core sample of the Moon during the Apollo 11 mission Self-portrait of Curiosity rover on Mars 's surface Part of a series on Spaceflight History History of spaceflight Space Race Timeline of spaceflight Space probes Lunar missions Mars missions Applications Communications Earth observation Exploration Espionage Military Navigation Colonization Habitation Exploration Telescopes Tourism Spacecraft Robotic spacecraft Satellite Space probe Cargo spacecraft Crewed spacecraft Apollo Lunar Module Space capsules Space Shuttle Space stations Spaceplanes Vostok Space launch Spaceport Launch pad Expendable and reusable launch vehicles Escape velocity Non-rocket spacelaunch Spaceflight types Sub-orbital Orbital Interplanetary Interstellar Intergalactic List of space organizations Space agencies Space forces Companies Spaceflight portal v t e Space exploration is the use of astronomy and space technology to explore outer space . [ 1 ] While the exploration of space is currently carried out mainly by astronomers with telescopes , its physical exploration is conducted both by uncrewed robotic space probes and human spaceflight . Space exploration, like its classical form astronomy , is one of the main sources for space science . While the observation of objects in space, known as astronomy , predates reliable recorded history , it was the development of large and relatively efficient rockets during the mid-twentieth century that allowed physical space exploration to become a reality. Common rationales for exploring space include advancing scientific research, national prestige, uniting different nations, ensuring the future survival of humanity, and developing military and strategic advantages against other countries. [ 2 ] The early era of space exploration was driven by a \" Space Race \" between the Soviet Union and the United States . A driving force of the start of space exploration was during the Cold War. After the ability to create nuclear weapons, the narrative of defense/offense left land and the power to control the air the focus. Both the Soviet Union and the U.S. were racing to prove their superiority in technology through exploring space. In fact, the reason NASA was created was as a response to Sputnik I. [ 3 ] The launch of the first human-made object to orbit Earth , the Soviet Union's Sputnik 1 , on 4 October 1957, and the first Moon landing by the American Apollo 11 mission on 20 July 1969 are often taken as landmarks for this initial period. The Soviet space program achieved many of the first milestones, including the first living being in orbit in 1957, the first human spaceflight ( Yuri Gagarin aboard Vostok 1 ) in 1961, the first spacewalk (by Alexei Leonov ) on 18 March 1965, the first automatic landing on another celestial body in 1966, and the launch of the first space station ( Salyut 1 ) in 1971. After the first 20 years of exploration, focus shifted from one-off flights to renewable hardware, such as the Space Shuttle program , and from competition to cooperation as with the International Space Station (ISS). With the substantial completion of the ISS [ 4 ] following STS-133 in March 2011, plans for space exploration by the U.S. remained in flux. The Constellation program aiming for a return to the Moon by 2020 [ 5 ] was judged unrealistic by an expert review panel reporting in 2009. [ 6 ] Constellation ultimately was replaced with the Artemis Program , of which the first mission occurred in 2022 , with a planned crewed landing to occur with Artemis III . [ 7 ] The rise of the private space industry also began in earnest in the 2010s with the development of private launch vehicles, space capsules and satellite manufacturing. In the 2000s, China initiated a successful crewed spaceflight program while India launched the Chandrayaan programme , while the European Union and Japan have also planned future crewed space missions. The two primary global programs gaining traction in the 2020s are the Chinese-led International Lunar Research Station and the US-led Artemis Program, with its plan to build the Lunar Gateway and the Artemis Base Camp , each having its own set of international partners. History of exploration [ edit ] See also: History of astronomy , Discovery and exploration of the Solar System , Timeline of space exploration , Timeline of first orbital launches by country , and Outer space § Discovery V-2 Rocket in the Peenemünde Museum First telescopes [ edit ] The first telescope is said to have been invented in 1608 in the Netherlands by an eyeglass maker named Hans Lippershey , but their first recorded use in astronomy was by Galileo Galilei in 1609. [ 8 ] In 1668 Isaac Newton built his own reflecting telescope , the first fully functional telescope of this kind, and a landmark for future developments due to its superior features over the previous Galilean telescope . [ 9 ] A string of discoveries in the Solar System (and beyond) followed, then and in the next centuries : the mountains of the Moon , the phases of Venus , the main satellites of Jupiter and Saturn , the rings of Saturn , many comets , the asteroids , the new planets Uranus and Neptune , and many more satellites . The Orbiting Astronomical Observatory 2 was the first space telescope launched 1968, [ 10 ] but the launching of Hubble Space Telescope in 1990 [ 11 ] set a milestone. As of 1 December 2022, there were 5,284 confirmed exoplanets discovered. The Milky Way is estimated to contain 100–400 billion stars [ 12 ] and more than 100 billion planets . [ 13 ] There are at least 2 trillion galaxies in the observable universe . [ 14 ] [ 15 ] HD1 is the most distant known object from Earth, reported as 33.4 billion light-years away. [ 16 ] [ 17 ] [ 18 ] [ 19 ] [ 20 ] [ 21 ] First outer space flights [ edit ] Model of Vostok spacecraft Apollo Command Service Module in lunar orbit MW 18014 was a German V-2 rocket test launch that took place on 20 June 1944, at the Peenemünde Army Research Center in Peenemünde . It was the first human-made object to reach outer space , attaining an apogee of 176 kilometers, [ 22 ] which is well above the Kármán line . [ 23 ] It was a vertical test launch. Although the rocket reached space, it did not reach orbital velocity , and therefore returned to Earth in an impact, becoming the first sub-orbital spaceflight . [ 24 ] In 1949, the Bumper-WAC reached an altitude of 393 kilometres (244 mi), becoming the first human-made object to enter space, according to NASA . [ 25 ] First object in orbit [ edit ] The first successful orbital launch was of the Soviet uncrewed Sputnik 1 (\"Satellite 1\") mission on 4 October 1957. The satellite weighed about 83 kg (183 lb), and is believed to have orbited Earth at a height of about 250 km (160 mi). It had two radio transmitters (20 and 40 MHz), which emitted \"beeps\" that could be heard by radios around the globe. Analysis of the radio signals was used to gather information about the electron density of the ionosphere, while temperature and pressure data was encoded in the duration of radio beeps. The results indicated that the satellite was not punctured by a meteoroid . Sputnik 1 was launched by an R-7 rocket. It burned up upon re-entry on 3 January 1958. First human outer space flight [ edit ] The first successful human spaceflight was Vostok 1 (\"East 1\"), carrying the 27-year-old Russian cosmonaut , Yuri Gagarin , on 12 April 1961. The spacecraft completed one orbit around the globe, lasting about 1 hour and 48 minutes. Gagarin's flight resonated around the world; it was a demonstration of the advanced Soviet space program and it opened an entirely new era in space exploration: human spaceflight . First astronomical body space explorations [ edit ] The first artificial object to reach another celestial body was Luna 2 reaching the Moon in 1959. [ 26 ] The first soft landing on another celestial body was performed by Luna 9 landing on the Moon on 3 February 1966. [ 27 ] Luna 10 became the first artificial satellite of the Moon, entering in a lunar orbit on 3 April 1966. [ 28 ] The first crewed landing on another celestial body was performed by Apollo 11 on 20 July 1969, landing on the Moon. There have been a total of six spacecraft with humans landing on the Moon starting from 1969 to the last human landing in 1972. The first interplanetary flyby was the 1961 Venera 1 flyby of Venus , though the 1962 Mariner 2 was the first flyby of Venus to return data (closest approach 34,773 kilometers). Pioneer 6 was the first satellite to orbit the Sun , launched on 16 December 1965. The other planets were first flown by in 1965 for Mars by Mariner 4 , 1973 for Jupiter by Pioneer 10 , 1974 for Mercury by Mariner 10 , 1979 for Saturn by Pioneer 11 , 1986 for Uranus by Voyager 2 , 1989 for Neptune by Voyager 2 . In 2015, the dwarf planets Ceres and Pluto were orbited by Dawn and passed by New Horizons , respectively. This accounts for flybys of each of the eight planets in the Solar System , the Sun , the Moon , and Ceres and Pluto (two of the five recognized dwarf planets ). The first interplanetary surface mission to return at least limited surface data from another planet was the 1970 landing of Venera 7 , which returned data to Earth for 23 minutes from Venus . In 1975, Venera 9 was the first to return images from the surface of another planet, returning images from Venus. In 1971, the Mars 3 mission achieved the first soft landing on Mars returning data for almost 20 seconds. Later, much longer duration surface missions were achieved, including over six years of Mars surface operation by Viking 1 from 1975 to 1982 and over two hours of transmission from the surface of Venus by Venera 13 in 1982, the longest ever Soviet planetary surface mission. Venus and Mars are the two planets outside of Earth on which humans have conducted surface missions with uncrewed robotic spacecraft . First space station [ edit ] Salyut 1 was the first space station of any kind, launched into low Earth orbit by the Soviet Union on 19 April 1971. The International Space Station (ISS) is currently the largest and oldest of the 2 current fully functional space stations, inhabited continuously since the year 2000. The other, Tiangong space station built by China, is now fully crewed and operational. First interstellar space flight [ edit ] Voyager 1 became the first human-made object to leave the Solar System into interstellar space on 25 August 2012. The probe passed the heliopause at 121 AU to enter interstellar space . [ 29 ] Farthest from Earth [ edit ] The Apollo 13 flight passed the far side of the Moon at an altitude of 254 kilometers (158 miles; 137 nautical miles) above the lunar surface, and 400,171 km (248,655 mi) from Earth, marking the record for the farthest humans have ever traveled from Earth in 1970. As of 9 February 2025 [update] Voyager 1 was at a distance of 166.4 AU (24.89 billion km; 15.47 billion mi) from Earth. [ 30 ] It is the most distant human-made object from Earth. [ 31 ] Targets of exploration [ edit ] Starting in the mid-20th century probes and then human missions were sent into Earth orbit, and then on to the Moon. Also, probes were sent throughout the known Solar System, and into Solar orbit. Uncrewed spacecraft have been sent into orbit around Saturn, Jupiter, Mars, Venus, and Mercury by the 21st century, and the most distance active spacecraft, Voyager 1 and 2 traveled beyond 100 times the Earth-Sun distance. The instruments were enough though that it is thought they have left the Sun's heliosphere, a sort of bubble of particles made in the Galaxy by the Sun's solar wind . The Sun [ edit ] The Sun is a major focus of space exploration. Being above the atmosphere in particular and Earth's magnetic field gives access to the solar wind and infrared and ultraviolet radiations that cannot reach Earth's surface. The Sun generates most space weather , which can affect power generation and transmission systems on Earth and interfere with, and even damage, satellites and space probes. Numerous spacecraft dedicated to observing the Sun, beginning with the Apollo Telescope Mount , have been launched and still others have had solar observation as a secondary objective. Parker Solar Probe , launched in 2018, will approach the Sun to within 1/9th the orbit of Mercury. Mercury [ edit ] Main article: Exploration of Mercury A MESSENGER image from 18,000 km showing a region about 500 km across (2008) Mercury remains the least explored of the Terrestrial planets . As of May 2013, the Mariner 10 and MESSENGER missions have been the only missions that have made close observations of Mercury. MESSENGER entered orbit around Mercury in March 2011, to further investigate the observations made by Mariner 10 in 1975 (Munsell, 2006b). A third mission to Mercury, scheduled to arrive in 2025, BepiColombo is to include two probes . BepiColombo is a joint mission between Japan and the European Space Agency . MESSENGER and BepiColombo are intended to gather complementary data to help scientists understand many of the mysteries discovered by Mariner 10's flybys . Flights to other planets within the Solar System are accomplished at a cost in energy, which is described by the net change in velocity of the spacecraft, or delta-v . Due to the relatively high delta-v to reach Mercury and its proximity to the Sun, it is difficult to explore and orbits around it are rather unstable. Venus [ edit ] Main article: Observations and explorations of Venus Venus was the first target of interplanetary flyby and lander missions and, despite one of the most hostile surface environments in the Solar System, has had more landers sent to it (nearly all from the Soviet Union) than any other planet in the Solar System. The first flyby was the 1961 Venera 1 , though the 1962 Mariner 2 was the first flyby to successfully return data. Mariner 2 has been followed by several other flybys by multiple space agencies often as part of missions using a Venus flyby to provide a gravitational assist en route to other celestial bodies. In 1967, Venera 4 became the first probe to enter and directly examine the atmosphere of Venus. In 1970, Venera 7 became the first successful lander to reach the surface of Venus and by 1985 it had been followed by eight additional successful Soviet Venus landers which provided images and other direct surface data. Starting in 1975, with the Soviet orbiter Venera 9 , some ten successful orbiter missions have been sent to Venus, including later missions which were able to map the surface of Venus using radar to pierce the obscuring atmosphere. Earth [ edit ] Main article: Earth observation satellite First television image of Earth from space, taken by TIROS-1 (1960) Space exploration has been used as a tool to understand Earth as a celestial object. Orbital missions can provide data for Earth that can be difficult or impossible to obtain from a purely ground-based point of reference. For example, the existence of the Van Allen radiation belts was unknown until their discovery by the United States' first artificial satellite, Explorer 1 . These belts contain radiation trapped by Earth's magnetic fields, which currently renders construction of habitable space stations above 1000 km impractical. Following this early unexpected discovery, a large number of Earth observation satellites have been deployed specifically to explore Earth from a space-based perspective. These satellites have significantly contributed to the understanding of a variety of Earth-based phenomena. For instance, the hole in the ozone layer was found by an artificial satellite that was exploring Earth's atmosphere, and satellites have allowed for the discovery of archeological sites or geological formations that were difficult or impossible to otherwise identify. Moon [ edit ] Main article: Exploration of the Moon Apollo 16 LEM Orion, the Lunar Roving Vehicle and astronaut John Young (1972) The Moon was the first celestial body to be the object of space exploration. It holds the distinctions of being the first remote celestial object to be flown by, orbited, and landed upon by spacecraft, and the only remote celestial object ever to be visited by humans. In 1959, the Soviets obtained the first images of the far side of the Moon , never previously visible to humans. The U.S. exploration of the Moon began with the Ranger 4 impactor in 1962. Starting in 1966, the Soviets successfully deployed a number of landers to the Moon which were able to obtain data directly from the Moon's surface; just four months later, Surveyor 1 marked the debut of a successful series of U.S. landers. The Soviet uncrewed missions culminated in the Lunokhod program in the early 1970s, which included the first uncrewed rovers and also successfully brought lunar soil samples to Earth for study. This marked the first (and to date the only) automated return of extraterrestrial soil samples to Earth. Uncrewed exploration of the Moon continues with various nations periodically deploying lunar orbiters. China's Chang'e 4 in 2019 and Chang'e 6 in 2024 achieved the world's first landing and sample return on the far side of the Moon . India's Chandrayaan-3 in 2023 achieved the world's first landing on the lunar south pole region. Crewed exploration of the Moon began in 1968 with the Apollo 8 mission that successfully orbited the Moon, the first time any extraterrestrial object was orbited by humans. In 1969, the Apollo 11 mission marked the first time humans set foot upon another world. Crewed exploration of the Moon did not continue for long. The Apollo 17 mission in 1972 marked the sixth landing and the most recent human visit. Artemis II is scheduled to complete a crewed flyby of the Moon in 2025, and Artemis III will perform the first lunar landing since Apollo 17 with it scheduled for launch no earlier than 2026. Robotic missions are still pursued vigorously. Mars [ edit ] Main article: Exploration of Mars Surface of Mars by the Spirit rover (2004) The exploration of Mars has been an important part of the space exploration programs of the Soviet Union (later Russia), the United States, Europe, Japan and India. Dozens of robotic spacecraft , including orbiters , landers , and rovers , have been launched toward Mars since the 1960s. These missions were aimed at gathering data about current conditions and answering questions about the history of Mars. The questions raised by the scientific community are expected to not only give a better appreciation of the Red Planet but also yield further insight into the past, and possible future, of Earth. The exploration of Mars has come at a considerable financial cost with roughly two-thirds of all spacecraft destined for Mars failing before completing their missions, with some failing before they even began. Such a high failure rate can be attributed to the complexity and large number of variables involved in an interplanetary journey, and has led researchers to jokingly speak of The Great Galactic Ghoul [ 32 ] which subsists on a diet of Mars probes. This phenomenon is also informally known as the \" Mars Curse \". [ 33 ] In contrast to overall high failure rates in the exploration of Mars, India has become the first country to achieve success of its maiden attempt. India's Mars Orbiter Mission (MOM) [ 34 ] [ 35 ] [ 36 ] is one of the least expensive interplanetary missions ever undertaken with an approximate total cost of ₹ 450 Crore ( US$73 million ). [ 37 ] [ 38 ] The first mission to Mars by any Arab country has been taken up by the United Arab Emirates. Called the Emirates Mars Mission , it was launched on 19 July 2020 and went into orbit around Mars on 9 February 2021. The uncrewed exploratory probe was named \"Hope Probe\" and was sent to Mars to study its atmosphere in detail. [ 39 ] Phobos [ edit ] Main article: Exploration of Phobos The Russian space mission Fobos-Grunt , which launched on 9 November 2011, experienced a failure leaving it stranded in low Earth orbit . [ 40 ] It was to begin exploration of the Phobos and Martian circumterrestrial orbit, and study whether the moons of Mars, or at least Phobos, could be a \"trans-shipment point\" for spaceships traveling to Mars. [ 41 ] Asteroids [ edit ] Main article: Exploration of the asteroids Asteroid 4 Vesta , imaged by the Dawn spacecraft (2011) Until the advent of space travel , objects in the asteroid belt were merely pinpricks of light in even the largest telescopes, their shapes and terrain remaining a mystery. Several asteroids have now been visited by probes, the first of which was Galileo , which flew past two: 951 Gaspra in 1991, followed by 243 Ida in 1993. Both of these lay near enough to Galileo' s planned trajectory to Jupiter that they could be visited at acceptable cost. The first landing on an asteroid was performed by the NEAR Shoemaker probe in 2000, following an orbital survey of the object, 433 Eros . The dwarf planet Ceres and the asteroid 4 Vesta , two of the three largest asteroids, were visited by NASA's Dawn spacecraft , launched in 2007. Hayabusa was a robotic spacecraft developed by the Japan Aerospace Exploration Agency to return a sample of material from the small near-Earth asteroid 25143 Itokawa to Earth for further analysis. Hayabusa was launched on 9 May 2003 and rendezvoused with Itokawa in mid-September 2005. After arriving at Itokawa, Hayabusa studied the asteroid's shape, spin, topography, color, composition, density, and history. In November 2005, it landed on the asteroid twice to collect samples. The spacecraft returned to Earth on 13 June 2010. Jupiter [ edit ] Main article: Exploration of Jupiter Tupan Patera on Jupiter's moon Io The exploration of Jupiter has consisted solely of a number of automated NASA spacecraft visiting the planet since 1973. A large majority of the missions have been \"flybys\", in which detailed observations are taken without the probe landing or entering orbit; such as in Pioneer and Voyager programs. The Galileo and Juno spacecraft are the only spacecraft to have entered the planet's orbit. As Jupiter is believed to have only a relatively small rocky core and no real solid surface, a landing mission is precluded. Reaching Jupiter from Earth requires a delta-v of 9.2 km/s, [ 42 ] which is comparable to the 9.7 km/s delta-v needed to reach low Earth orbit. [ 43 ] Fortunately, gravity assists through planetary flybys can be used to reduce the energy required at launch to reach Jupiter, albeit at the cost of a significantly longer flight duration. [ 42 ] Jupiter has 95 known moons , many of which have relatively little known information about them. Saturn [ edit ] Main article: Exploration of Saturn Saturn has been explored only through uncrewed spacecraft launched by NASA, including one mission ( Cassini–Huygens ) planned and executed in cooperation with other space agencies. These missions consist of flybys in 1979 by Pioneer 11 , in 1980 by Voyager 1 , in 1982 by Voyager 2 and an orbital mission by the Cassini spacecraft, which lasted from 2004 until 2017. Saturn has at least 62 known moons , although the exact number is debatable since Saturn's rings are made up of vast numbers of independently orbiting objects of varying sizes. The largest of the moons is Titan , which holds the distinction of being the only moon in the Solar System with an atmosphere denser and thicker than that of Earth. Titan holds the distinction of being the only object in the Outer Solar System that has been explored with a lander, the Huygens probe deployed by the Cassini spacecraft. Uranus [ edit ] Main article: Exploration of Uranus The exploration of Uranus has been entirely through the Voyager 2 spacecraft, with no other visits currently planned. Given its axial tilt of 97.77°, with its polar regions exposed to sunlight or darkness for long periods, scientists were not sure what to expect at Uranus. The closest approach to Uranus occurred on 24 January 1986. Voyager 2 studied the planet's unique atmosphere and magnetosphere . Voyager 2 also examined its ring system and the moons of Uranus including all five of the previously known moons, while discovering an additional ten previously unknown moons. Images of Uranus proved to have a uniform appearance, with no evidence of the dramatic storms or atmospheric banding evident on Jupiter and Saturn. Great effort was required to even identify a few clouds in the images of the planet. The magnetosphere of Uranus, however, proved to be unique, being profoundly affected by the planet's unusual axial tilt. In contrast to the bland appearance of Uranus itself, striking images were obtained of the Moons of Uranus, including evidence that Miranda had been unusually geologically active. Neptune [ edit ] Main article: Exploration of Neptune The exploration of Neptune began with the 25 August 1989 Voyager 2 flyby, the sole visit to the system as of 2025. The possibility of a Neptune Orbiter has been discussed, but no other missions have been given serious thought. Although the extremely uniform appearance of Uranus during Voyager 2 ' s visit in 1986 had led to expectations that Neptune would also have few visible atmospheric phenomena, the spacecraft found that Neptune had obvious banding, visible clouds, auroras , and even a conspicuous anticyclone storm system rivaled in size only by Jupiter's Great Red Spot . Neptune also proved to have the fastest winds of any planet in the Solar System, measured as high as 2,100 km/h. [ 44 ] Voyager 2 also examined Neptune's ring and moon system . It discovered 900 complete rings and additional partial ring \"arcs\" around Neptune. In addition to examining Neptune's three previously known moons, Voyager 2 also discovered five previously unknown moons, one of which, Proteus , proved to be the last largest moon in the system. Data from Voyager 2 supported the view that Neptune's largest moon, Triton , is a captured Kuiper belt object. [ 45 ] Pluto [ edit ] Main article: Pluto § Exploration The dwarf planet Pluto presents significant challenges for spacecraft because of its great distance from Earth (requiring high velocity for reasonable trip times) and small mass (making capture into orbit difficult at present). Voyager 1 could have visited Pluto, but controllers opted instead for a close flyby of Saturn's moon Titan, resulting in a trajectory incompatible with a Pluto flyby. Voyager 2 never had a plausible trajectory for reaching Pluto. [ 46 ] After an intense political battle, a mission to Pluto dubbed New Horizons was granted funding from the United States government in 2003. [ 47 ] New Horizons was launched successfully on 19 January 2006. In early 2007 the craft made use of a gravity assist from Jupiter . Its closest approach to Pluto was on 14 July 2015; scientific observations of Pluto began five months prior to closest approach and continued for 16 days after the encounter. Kuiper Belt Objects [ edit ] The New Horizons mission also performed a flyby of the small planetesimal Arrokoth , in the Kuiper belt , in 2019. This was its first extended mission. [ 48 ] Comets [ edit ] Main article: List of missions to comets Comet 103P/Hartley (2010) Although many comets have been studied from Earth sometimes with centuries-worth of observations, only a few comets have been closely visited. In 1985, the International Cometary Explorer conducted the first comet fly-by ( 21P/Giacobini-Zinner ) before joining the Halley Armada studying the famous comet. The Deep Impact probe smashed into 9P/Tempel to learn more about its structure and composition and the Stardust mission returned samples of another comet's tail. The Philae lander successfully landed on Comet Churyumov–Gerasimenko in 2014 as part of the broader Rosetta mission . Deep space exploration [ edit ] Main article: Deep space exploration This high-resolution image of the Hubble Ultra Deep Field includes galaxies of various ages, sizes, shapes, and colors. The smallest, reddest galaxies, are some of the most distant galaxies to have been imaged by an optical telescope. Deep space exploration is the branch of astronomy , astronautics and space technology that is involved with the exploration of distant regions of outer space. [ 49 ] Physical exploration of space is conducted both by human spaceflights (deep-space astronautics) and by robotic spacecraft . Some of the best candidates for future deep space engine technologies include anti-matter , nuclear power and beamed propulsion . [ 50 ] Beamed propulsion, appears to be the best candidate for deep space exploration presently available, since it uses known physics and known technology that is being developed for other purposes. [ 51 ] Future of space exploration [ edit ] Main article: Future of space exploration Concept art for a NASA Vision mission Artistic image of a rocket lifting from a Saturn moon Breakthrough Starshot [ edit ] Main article: Breakthrough Starshot Breakthrough Starshot is a research and engineering project by the Breakthrough Initiatives to develop a proof-of-concept fleet of light sail spacecraft named StarChip , [ 52 ] to be capable of making the journey to the Alpha Centauri star system 4.37 light-years away. It was founded in 2016 by Yuri Milner , Stephen Hawking , and Mark Zuckerberg . [ 53 ] [ 54 ] Asteroids [ edit ] Main article: Exploration of the asteroids An article in the science magazine Nature suggested the use of asteroids as a gateway for space exploration, with the ultimate destination being Mars. In order to make such an approach viable, three requirements need to be fulfilled: first, \"a thorough asteroid survey to find thousands of nearby bodies suitable for astronauts to visit\"; second, \"extending flight duration and distance capability to ever-increasing ranges out to Mars\"; and finally, \"developing better robotic vehicles and tools to enable astronauts to explore an asteroid regardless of its size, shape or spin\". Furthermore, using asteroids would provide astronauts with protection from galactic cosmic rays, with mission crews being able to land on them without great risk to radiation exposure. Artemis program [ edit ] Main article: Artemis program The Artemis program is an ongoing crewed spaceflight program carried out by NASA , U.S. commercial spaceflight companies , and international partners such as ESA , [ 55 ] with the goal of landing \"the first woman and the next man\" on the Moon, specifically at the lunar south pole region. Artemis would be the next step towards the long-term goal of establishing a sustainable presence on the Moon, laying the foundation for private companies to build a lunar economy, and eventually sending humans to Mars . In 2017, the lunar campaign was authorized by Space Policy Directive 1 , using various ongoing spacecraft programs such as Orion , the Lunar Gateway , Commercial Lunar Payload Services , and adding an undeveloped crewed lander. The Space Launch System will serve as the primary launch vehicle for Orion, while commercial launch vehicles are planned for use to launch other elements of the campaign. [ 56 ] NASA requested $1.6 billion in additional funding for Artemis for fiscal year 2020, [ 57 ] while the U.S. Senate Appropriations Committee requested from NASA a five-year budget profile [ 58 ] which is needed for evaluation and approval by the U.S. Congress . [ 59 ] [ 60 ] As of 2024, the first Artemis mission was launched in 2022 with the second mission, a crewed lunar flyby planned for 2025. [ 61 ] Construction on the Lunar Gateway is underway with initial capabilities set for the 2025–2027 timeframe. [ 62 ] The first CLPS lander landed in 2024, marking the first US spacecraft to land since Apollo 17 . [ 63 ] Rationales [ edit ] Main article: Space advocacy Astronaut Buzz Aldrin had a personal Communion service when he first arrived on the surface of the Moon . The research that is conducted by national space exploration agencies, such as NASA and Roscosmos , is one of the reasons supporters cite to justify government expenses. Economic analyses of the NASA programs often showed ongoing economic benefits (such as NASA spin-offs ), generating many times the revenue of the cost of the program. [ 64 ] It is also argued that space exploration would lead to the extraction of resources on other planets and especially asteroids, which contain billions of dollars worth of minerals and metals. Such expeditions could generate substantial revenue. [ 65 ] In addition, it has been argued that space exploration programs help inspire youth to study in science and engineering. [ 66 ] Space exploration also gives scientists the ability to perform experiments in other settings and expand humanity's knowledge. [ 67 ] Another claim is that space exploration is a necessity to humankind and that staying on Earth will eventually lead to extinction . Some of the reasons are lack of natural resources, comets, nuclear war, and worldwide epidemic. Stephen Hawking , renowned British theoretical physicist, said, \"I don't think the human race will survive the next thousand years, unless we spread into space. There are too many accidents that can befall life on a single planet. But I'm an optimist. We will reach out to the stars.\" [ 68 ] Author Arthur C. Clarke (1950) presented a summary of motivations for the human exploration of space in his non-fiction semi-technical monograph Interplanetary Flight . [ 69 ] He argued that humanity's choice is essentially between expansion off Earth into space, versus cultural (and eventually biological) stagnation and death. These motivations could be attributed to one of the first rocket scientists in NASA, Wernher von Braun , and his vision of humans moving beyond Earth. The basis of this plan was to: Develop multi-stage rockets capable of placing satellites, animals, and humans in space. Development of large, winged reusable spacecraft capable of carrying humans and equipment into Earth orbit in a way that made space access routine and cost-effective. Construction of a large, permanently occupied space station to be used as a platform both to observe Earth and from which to launch deep space expeditions. Launching the first human flights around the Moon, leading to the first landings of humans on the Moon, with the intent of exploring that body and establishing permanent lunar bases. Assembly and fueling of spaceships in Earth orbit for the purpose of sending humans to Mars with the intent of eventually colonizing that planet. [ 70 ] Known as the Von Braun Paradigm, the plan was formulated to lead humans in the exploration of space. Von Braun's vision of human space exploration served as the model for efforts in space exploration well into the twenty-first century, with NASA incorporating this approach into the majority of their projects. [ 70 ] The steps were followed out of order, as seen by the Apollo program reaching the moon before the space shuttle program was started, which in turn was used to complete the International Space Station. Von Braun's Paradigm formed NASA's drive for human exploration, in the hopes that humans discover the far reaches of the universe. NASA has produced a series of public service announcement videos supporting the concept of space exploration. [ 71 ] Overall, the U.S. public remains largely supportive of both crewed and uncrewed space exploration. According to an Associated Press Poll conducted in July 2003, 71% of U.S. citizens agreed with the statement that the space program is \"a good investment\", compared to 21% who did not. [ 72 ] Human nature [ edit ] Space advocacy and space policy [ 73 ] regularly invokes exploration as a human nature . [ 74 ] Topics [ edit ] Main articles: Space science and Human presence in space Spaceflight [ edit ] Main articles: Spaceflight and Astronautics Delta-v's in km/s for various orbital maneuvers Spaceflight is the use of space technology to achieve the flight of spacecraft into and through outer space. Spaceflight is used in space exploration, and also in commercial activities like space tourism and satellite telecommunications . Additional non-commercial uses of spaceflight include space observatories , reconnaissance satellites and other Earth observation satellites . A spaceflight typically begins with a rocket launch , which provides the initial thrust to overcome the force of gravity and propels the spacecraft from the surface of Earth. Once in space, the motion of a spacecraft—both when unpropelled and when under propulsion—is covered by the area of study called astrodynamics . Some spacecraft remain in space indefinitely, some disintegrate during atmospheric reentry , and others reach a planetary or lunar surface for landing or impact. Satellites [ edit ] Main article: Satellite Satellites are used for a large number of purposes. Common types include military (spy) and civilian Earth observation satellites, communication satellites, navigation satellites, weather satellites, and research satellites. Space stations and human spacecraft in orbit are also satellites. Commercialization of space [ edit ] Main article: Commercialization of space The commercialization of space first started out with the launching of private satellites by NASA or other space agencies. Current examples of the commercial satellite use of space include satellite navigation systems , satellite television, satellite communications (such as internet services) and satellite radio . The next step of commercialization of space was seen as human spaceflight. Flying humans safely to and from space had become routine to NASA and Russia. [ 75 ] Reusable spacecraft were an entirely new engineering challenge, something only seen in novels and films like Star Trek and War of the Worlds. Astronaut Buzz Aldrin supported the use of making a reusable vehicle like the space shuttle. Aldrin held that reusable spacecraft were the key in making space travel affordable, stating that the use of \"passenger space travel is a huge potential market big enough to justify the creation of reusable launch vehicles\". [ 76 ] Space tourism is a next step in the use of reusable vehicles in the commercialization of space. The purpose of this form of space travel is personal pleasure. Private spaceflight companies such as SpaceX and Blue Origin , and commercial space stations such as the Axiom Space and the Bigelow Commercial Space Station have changed the cost and overall landscape of space exploration, and are expected to continue to do so in the near future. Alien life [ edit ] Main articles: Astrobiology and Extraterrestrial life Astrobiology is the interdisciplinary study of life in the universe, combining aspects of astronomy , biology and geology. [ 77 ] It is focused primarily on the study of the origin , distribution and evolution of life. It is also known as exobiology (from Greek: έξω, exo , \"outside\"). [ 78 ] [ 79 ] [ 80 ] The term \"Xenobiology\" has been used as well, but this is technically incorrect because its terminology means \"biology of the foreigners\". [ 81 ] Astrobiologists must also consider the possibility of life that is chemically entirely distinct from any life found on Earth. [ 82 ] In the Solar System, some of the prime locations for current or past astrobiology are on Enceladus, Europa, Mars, and Titan. [ 83 ] Human spaceflight and habitation [ edit ] Main articles: Human spaceflight , Bioastronautics , Effect of spaceflight on the human body , Space medicine , Space architecture , Space station , Space habitat (facility) , and Space habitat (settlement) Crew quarters on Zvezda , the base ISS crew module To date, the longest human occupation of space is the International Space Station which has been in continuous use for 24 years, 130 days. Valeri Polyakov 's record single spaceflight of almost 438 days aboard the Mir space station has not been surpassed. The health effects of space have been well documented through years of research conducted in the field of aerospace medicine . Analog environments similar to those experienced in space travel (like deep sea submarines), have been used in this research to further explore the relationship between isolation and extreme environments. [ 84 ] It is imperative that the health of the crew be maintained as any deviation from baseline may compromise the integrity of the mission as well as the safety of the crew, hence the astronauts must endure rigorous medical screenings and tests prior to embarking on any missions. However, it does not take long for the environmental dynamics of spaceflight to commence its toll on the human body; for example, space motion sickness (SMS) – a condition which affects the neurovestibular system and culminates in mild to severe signs and symptoms such as vertigo, dizziness, fatigue, nausea, and disorientation – plagues almost all space travelers within their first few days in orbit. [ 84 ] Space travel can also have an impact on the psyche of the crew members as delineated in anecdotal writings composed after their retirement. Space travel can adversely affect the body's natural biological clock ( circadian rhythm ); sleep patterns causing sleep deprivation and fatigue; and social interaction; consequently, residing in a Low Earth Orbit (LEO) environment for a prolonged amount of time can result in both mental and physical exhaustion. [ 84 ] Long-term stays in space reveal issues with bone and muscle loss in low gravity, immune system suppression, problems with eyesight, and radiation exposure. The lack of gravity causes fluid to rise upward which can cause pressure to build up in the eye, resulting in vision problems; the loss of bone minerals and densities; cardiovascular deconditioning; and decreased endurance and muscle mass. [ 85 ] Radiation is an insidious health hazard to space travelers as it is invisible and can cause cancer. When above the Earth's magnetic field, spacecraft are no longer protected from the sun's radiation; the danger of radiation is even more potent in deep space. The hazards of radiation can be ameliorated through protective shielding on the spacecraft, alerts, and dosimetry . [ 86 ] Fortunately, with new and rapidly evolving technological advancements, those in Mission Control are able to monitor the health of their astronauts more closely using telemedicine . One may not be able to completely evade the physiological effects of space flight, but those effects can be mitigated. For example, medical systems aboard space vessels such as the International Space Station (ISS) are well equipped and designed to counteract the effects of lack of gravity and weightlessness; on-board treadmills can help prevent muscle loss and reduce the risk of developing premature osteoporosis . [ 84 ] [ 86 ] Additionally, a crew medical officer is appointed for each ISS mission and a flight surgeon is available 24/7 via the ISS Mission Control Center located in Houston, Texas. [ 86 ] Although the interactions are intended to take place in real time, communications between the space and terrestrial crew may become delayed – sometimes by as much as 20 minutes [ 86 ] – as their distance from each other increases when the spacecraft moves further out of low Earth orbit; because of this the crew are trained and need to be prepared to respond to any medical emergencies that may arise on the vessel as the ground crew are hundreds of miles away. Many past and current concepts for the continued exploration and colonization of space focus on a return to the Moon as a \"steppingstone\" to the other planets, especially Mars. At the end of 2006, NASA announced they were planning to build a permanent Moon base with continual presence by 2024. [ 87 ] Beyond the technical factors that could make living in space more widespread, it has been suggested that the lack of private property , the inability or difficulty in establishing property rights in space, has been an impediment to the development of space for human habitation. Since the advent of space technology in the latter half of the twentieth century, the ownership of property in space has been murky, with strong arguments both for and against. In particular, the making of national territorial claims in outer space and on celestial bodies has been specifically proscribed by the Outer Space Treaty , which had been, as of 2012 [update] , ratified by all spacefaring nations . [ 88 ] Space colonization, also called space settlement and space humanization, would be the permanent autonomous (self-sufficient) human habitation of locations outside Earth, especially of natural satellites or planets such as the Moon or Mars , using significant amounts of in-situ resource utilization . Human representation and participation [ edit ] See also: Space law Participation and representation of humanity in space is an issue ever since the first phase of space exploration. [ 89 ] Some rights of non-spacefaring countries have been mostly secured through international space law , declaring space the \" province of all mankind \", understanding spaceflight as its resource, though sharing of space for all humanity is still criticized as imperialist and lacking. [ 89 ] Additionally to international inclusion, the inclusion of women and people of colour has also been lacking. To reach a more inclusive spaceflight, some organizations like the Justspace Alliance [ 89 ] and IAU featured Inclusive Astronomy [ 90 ] have been formed in recent years. Women [ edit ] Main article: Women in space The first woman to go to space was Valentina Tereshkova . She flew in 1963 but it was not until the 1980s that another woman entered space again. All astronauts were required to be military test pilots at the time and women were not able to join this career. This is one reason for the delay in allowing women to join space crews. [ 91 ] After the rule changed, Svetlana Savitskaya became the second woman to go to space, she was also from the Soviet Union . Sally Ride became the next woman in space and the first woman to fly to space through the United States program. Since then, eleven other countries have allowed women astronauts. The first all-female space walk occurred in 2018, including Christina Koch and Jessica Meir . They had both previously participated in space walks with NASA. The first woman to go to the Moon is planned for 2026. Despite these developments, women are underrepresented among astronauts and especially cosmonauts. Issues that block potential applicants from the programs, and limit the space missions they are able to go on, include: agencies limiting women to half as much time in space than men, arguing that there may be unresearched additional risks for cancer. [ 92 ] a lack of space suits sized appropriately for female astronauts. [ 93 ] Art [ edit ] See also: Space art § Art in space Artistry in and from space ranges from signals, capturing and arranging material like Yuri Gagarin 's selfie in space or the image The Blue Marble , over drawings like the first one in space by cosmonaut and artist Alexei Leonov , music videos like Chris Hadfield's cover of Space Oddity on board the ISS, to permanent installations on celestial bodies like on the Moon . See also [ edit ] Spaceflight portal Main article: Outline of space exploration Discovery and exploration of the Solar System Spacecraft propulsion List of crewed spacecraft List of missions to Mars List of missions to the outer planets List of landings on extraterrestrial bodies List of spaceflight records Robotic space exploration programs [ edit ] Robotic spacecraft Timeline of planetary exploration Landings on other planets Pioneer program Luna program Zond program Venera program Mars probe program Ranger program Mariner program Surveyor program Viking program Voyager program Vega program Phobos program Discovery program Chandrayaan Program Mangalyaan Program Chang'e Program Private Astrobotic Technology Program Living in space [ edit ] Interplanetary contamination Animals in space [ edit ] Animals in space Monkeys in space Russian space dogs Humans in space [ edit ] Astronauts List of human spaceflights List of human spaceflights by program Vostok program Mercury program Voskhod program Gemini program Soyuz program Apollo program Salyut program Skylab Space Shuttle program Mir International Space Station Vision for Space Exploration Aurora Programme Tier One Effect of spaceflight on the human body Space architecture Research station – Facility for scientific research Space observatory – Instrument in space to study astronomical objects Pages displaying short descriptions of redirect targets Space archaeology flexible path destinations set Recent and future developments [ edit ] Commercial astronauts Artemis program Energy development Exploration of Mars Space tourism Private spaceflight Space colonization Interstellar spaceflight Deep space exploration Human outpost Mars to Stay NewSpace NASA lunar outpost concepts Other [ edit ] List of spaceflights Timeline of Solar System exploration List of artificial objects on extra-terrestrial surfaces Space station Space telescope Sample return mission Atmospheric reentry Space and survival List of spaceflight-related accidents and incidents Religion in space Militarisation of space French space program Russian explorers U.S. space exploration history on U.S. stamps Deep-sea exploration Arctic exploration Criticism of space exploration References [ edit ] ^ \"How Space is Explored\" . NASA. Archived from the original on 2 July 2009. ^ Roston, Michael (28 August 2015). \"NASA's Next Horizon in Space\" . The New York Times . Retrieved 28 August 2015 . ^ \"NASA Created\" . HISTORY . Retrieved 27 April 2023 . ^ Chow, Denise (9 March 2011). \"After 13 Years, International Space Station Has All Its NASA Rooms\" . Space.com . ^ Connolly, John F. (October 2006). \"Constellation Program Overview\" (PDF) . Constellation Program Office. Archived from the original (PDF) on 10 July 2007 . Retrieved 6 July 2009 . ^ Lawler, Andrew (22 October 2009). \"No to NASA: Augustine Commission Wants to More Boldly Go\" . Science. Archived from the original on 13 May 2013. ^ \" \"What We Need Now is Urgency\": Looking Back at Artemis After 5 Years\" . www.americaspace.com . 26 March 2024 . Retrieved 9 May 2024 . ^ King, C. C. (2003). The History of the Telescope . Dover Publications. pp. 30– 32. ISBN 978-0-486-43265-6 . ^ A. Rupert Hall (1996). Isaac Newton: Adventurer in Thought . Cambridge University Press. p. 67 . ISBN 978-0-521-56669-8 . ^ Angelo, Joseph A. (2014). Spacecraft for Astronomy . Infobase Publishing. p. 20. ISBN 978-1-4381-0896-4 . ^ \"STS-31\" . NASA. Archived from the original on 15 August 2011 . Retrieved 26 April 2008 . ^ \"How Many Stars in the Milky Way?\" . NASA Blueshift . Archived from the original on 25 January 2016. ^ \"100 Billion Alien Planets Fill Our Milky Way Galaxy: Study\" . Space.com . 2 January 2013. Archived from the original on 3 January 2013. ^ Conselice, Christopher J.; et al. (2016). \"The Evolution of Galaxy Number Density at z < 8 and Its Implications\" . The Astrophysical Journal . 830 (2): 83. arXiv : 1607.03909v2 . Bibcode : 2016ApJ...830...83C . doi : 10.3847/0004-637X/830/2/83 . S2CID 17424588 . ^ Fountain, Henry (17 October 2016). \"Two Trillion Galaxies, at the Very Least\" . The New York Times . Retrieved 17 October 2016 . ^ Lira, Nicolás; Iono, Daisuke; Oliver, Amy C.; Ferreira, Bárbara (7 April 2022). \"Astronomers Detect Most Distant Galaxy Candidate Yet\" . Atacama Large Millimeter Array . Archived from the original on 17 July 2022 . Retrieved 8 April 2022 . ^ Harikane, Yuichi; et al. (2 February 2022). \"A Search for H-Dropout Lyman Break Galaxies at z ∼ 12–16\" . The Astrophysical Journal . 929 (1): 1. arXiv : 2112.09141 . Bibcode : 2022ApJ...929....1H . doi : 10.3847/1538-4357/ac53a9 . S2CID 246823511 . ^ Crane, Leah (7 April 2022). \"Astronomers have found what may be the most distant galaxy ever seen – A galaxy called HD1 appears to be about 33.4 billion light years away, making it the most distant object ever seen – and its extreme brightness is puzzling researchers\" . New Scientist . Retrieved 8 April 2022 . ^ Pacucci, Fabio; et al. (7 April 2022). \"Are the newly-discovered z ∼ 13 drop-out sources starburst galaxies or quasars?\" . Monthly Notices of the Royal Astronomical Society . 514 : L6 – L10 . arXiv : 2201.00823 . doi : 10.1093/mnrasl/slac035 . ^ Buongiorno, Caitlyn (7 April 2022). \"Astronomers discover the most distant galaxy yet - Unusually bright in ultraviolet light, HD1 may also set another cosmic record\" . Astronomy . Retrieved 7 April 2022 . ^ Wenz, John (7 April 2022). \"Behold! Astronomers May Have Discovered The Most Distant Galaxy Ever – HD1 could be from just 300 million years after the Big Bang\" . Inverse . Retrieved 7 April 2022 . ^ Milazzo, M. P.; Kestay, L.; Dundas, C.; U.S. Geological Survey (2017). \"The Challenge for 2050: Cohesive Analysis of More Than One Hundred Years of Planetary Data\" (PDF) . Planetary Science Vision 2050 Workshop . 1989 . Planetary Science Division, NASA: 8070. Bibcode : 2017LPICo1989.8070M . Retrieved 7 June 2019 . ^ Williams, Matt (16 September 2016). \"How high is space?\" . Universe Today . Archived from the original on 2 June 2017 . Retrieved 14 May 2017 . ^ \"V-2 rocket (MW 18014) became the first human-made object in space on June 20, 1944\" . Our Planet . 20 June 2022 . Retrieved 11 July 2022 . ^ \"First Human-Made Object to Enter Space\" . NASA . 3 January 2008. ^ \"NASA on Luna 2 mission\" . Sse.jpl.nasa.gov. Archived from the original on 31 March 2012 . Retrieved 24 May 2012 . ^ \"NASA on Luna 9 mission\" . Sse.jpl.nasa.gov. Archived from the original on 31 March 2012 . Retrieved 24 May 2012 . ^ \"NASA on Luna 10 mission\" . Sse.jpl.nasa.gov. Archived from the original on 18 February 2012 . Retrieved 24 May 2012 . ^ Harwood, William (12 September 2013). \"Voyager 1 finally crosses into interstellar space\" . CBS News . Archived from the original on 13 November 2013 . Retrieved 1 February 2019 . ^ \"Voyager – Mission Status\" . Jet Propulsion Laboratory . National Aeronautics and Space Administration . Retrieved 1 January 2019 . ^ \"Voyager 1\" . BBC Solar System . Archived from the original on February 3, 2018 . Retrieved September 4, 2018 . ^ Dinerman, Taylor (27 September 2004). \"Is the Great Galactic Ghoul losing his appetite?\" . The space review . Retrieved 27 March 2007 . ^ Knight, Matthew. \"Beating the curse of Mars\" . Science & Space . Retrieved 27 March 2007 . ^ \"India becomes first Asian nation to reach Mars orbit, joins elite global space club\" . The Washington Post . 24 September 2014 . Retrieved 24 September 2014 . India became the first Asian nation to reach the Red Planet when its indigenously made unmanned spacecraft entered the orbit of Mars on Wednesday. ^ Park, Madison (24 September 2014). \"India's spacecraft reaches Mars orbit ... and history\" . CNN . India's Mars Orbiter Mission successfully entered Mars' orbit Wednesday morning, becoming the first nation to arrive on its first attempt and the first Asian country to reach the Red Planet. ^ Harris, Gardiner (24 September 2014). \"On a Shoestring, India Sends Orbiter to Mars on Its First Try\" . The New York Times . Retrieved 25 September 2014 . ^ \"India Successfully Launches First Mission to Mars; PM Congratulates ISRO Team\" . International Business Times . 5 November 2013 . Retrieved 13 October 2014 . ^ Bhatt, Abhinav (5 November 2013). \"India's 450-crore mission to Mars to begin today: 10 facts\" . NDTV . Retrieved 13 October 2014 . ^ \"Hope Mars Probe\" . mbrsc.ae . Mohammed Bin Rashid Space Centre. Archived from the original on 25 July 2016 . Retrieved 22 July 2016 . ^ Molczan, Ted (9 November 2011). \"Phobos-Grunt – serious problem reported\" . SeeSat-L . Retrieved 9 November 2011 . ^ \"Project Phobos-Grunt\" . YouTube. 22 August 2006 . Retrieved 24 May 2012 . ^ a b Wong, Al (28 May 1998). \"Galileo FAQ: Navigation\" . NASA. Archived from the original on 5 January 1997 . Retrieved 28 November 2006 . ^ Hirata, Chris. \"Delta-V in the Solar System\" . California Institute of Technology. Archived from the original on 15 July 2006 . Retrieved 28 November 2006 . ^ Suomi, V. E.; Limaye, S. S.; Johnson, D. R. (1991). \"High winds of Neptune: A possible mechanism\". Science . 251 (4996): 929– 932. Bibcode : 1991Sci...251..929S . doi : 10.1126/science.251.4996.929 . PMID 17847386 . S2CID 46419483 . ^ Agnor, C. B.; Hamilton, D. P. (2006). \"Neptune's capture of its moon Triton in a binary-planet gravitational encounter\". Nature . 441 (7090): 192– 194. Bibcode : 2006Natur.441..192A . doi : 10.1038/nature04792 . PMID 16688170 . S2CID 4420518 . ^ \"Voyager Frequently Asked Questions\" . Jet Propulsion Laboratory. 14 January 2003. Archived from the original on 21 July 2011 . Retrieved 8 September 2006 . ^ Britt, Robert Roy (26 February 2003). \"Pluto mission gets green light at last\" . space.com . Space4Peace.org . Retrieved 26 December 2013 . ^ Green, Jim; Stern, S. Alan (12 December 2017). New Horizons Kuiper Belt Extended Mission (PDF) . 2017 AGU Fall Meeting. Applied Physics Laboratory. pp. 12– 15. Archived from the original (PDF) on 26 December 2018 . Retrieved 26 December 2018 . ^ \"Space and its Exploration: How Space is Explored\" . NASA.gov . Archived from the original on 2 July 2009 . Retrieved 1 July 2009 . ^ \"Future Spaceflight\" . BBC . Archived from the original on 22 April 2009 . Retrieved 1 July 2009 . ^ Forward, Robert L. (January 1996). \"Ad Astra!\". Journal of the British Interplanetary Society . 49 : 23– 32. Bibcode : 1996JBIS...49...23F . ^ Gilster, Paul (12 April 2016). \"Breakthrough Starshot: Mission to Alpha Centauri\" . Centauri Dreams . Retrieved 14 April 2016 . ^ F, Jessica (14 April 2016). \"Stephen Hawking, Mark Zuckerberg, Yuri Milner Launch $100M Space Project Called Breakthrough Starshot\" . Nature World News . ^ Lee, Seung (13 April 2016). \"Mark Zuckerberg Launches $100 Million Initiative To Send Tiny Space Probes To Explore Stars\" . Newsweek . Retrieved 29 July 2019 . ^ \"NASA: Moon to Mars\" . NASA . Archived from the original on 5 August 2019 . Retrieved 19 May 2019 . ^ NASA administrator on new Moon plan: 'We're doing this in a way that's never been done before' . Loren Grush, The Verge . 17 May 2019. ^ Harwood, William (17 July 2019). \"NASA boss pleads for steady moon mission funding\" . CBS News . Retrieved 28 August 2019 . ^ Foust, Jeff (27 September 2019). \"Senate appropriators advance bill funding NASA despite uncertainties about Artemis costs\" . SpaceNews . Retrieved 23 February 2023 . ^ Fernholz, Tim (14 May 2019). \"Trump wants $1.6 billion for a moon mission and proposes to get it from college aid\" . Quartz . Retrieved 14 May 2019 . ^ Berger, Eric (14 May 2019). \"NASA reveals funding needed for Moon program, says it will be named Artemis\" . Ars Technica . Retrieved 22 May 2019 . ^ Success and Preparation . Retrieved 14 May 2024 – via www.youtube.com. ^ Zamora, Briana R.; NASA (13 May 2024). \"Forward Progress on Gateway, Humanity's First Lunar Space Station\" . SciTechDaily . Retrieved 14 May 2024 . ^ Foust, Jeff (22 February 2024). \"Intuitive Machines lands on the moon\" . SpaceNews . Retrieved 14 May 2024 . ^ Hertzfeld, H. R. (2002). \"Measuring the Economic Returns from Successful NASA Life Sciences Technology Transfers\". The Journal of Technology Transfer . 27 (4): 311– 320. doi : 10.1023/A:1020207506064 . PMID 14983842 . S2CID 20304464 . ^ Elvis, Martin (2012). \"Let's mine asteroids – for science and profit\" . Nature . 485 (7400): 549. Bibcode : 2012Natur.485..549E . doi : 10.1038/485549a . PMID 22660280 . ^ \"Is Space Exploration Worth the Cost? A Freakonomics Quorum\" . Freakonomics . freakonomics.com. 11 January 2008 . Retrieved 27 May 2014 . ^ Zelenyi, L. M.; Korablev, O. I.; Rodionov, D. S.; Novikov, B. S.; Marchenkov, K. I.; Andreev, O. N.; Larionov, E. V. (December 2015). \"Scientific objectives of the scientific equipment of the landing platform of the ExoMars-2018 mission\". Solar System Research . 49 (7): 509– 517. Bibcode : 2015SoSyR..49..509Z . doi : 10.1134/S0038094615070229 . ISSN 0038-0946 . S2CID 124269328 . ^ Highfield, Roger (15 October 2001). \"Colonies in space may be only hope, says Hawking\" . The Daily Telegraph . London. Archived from the original on 25 January 2004 . Retrieved 5 August 2007 . ^ Clarke, Arthur C. (1950). \"10\". Interplanetary Flight – An Introduction to Astronautics . New York: Harper & Brothers. ^ a b Launius, R. D.; Mccurdy, H. E. (2007). \"Robots and humans in space flight: Technology, evolution, and interplanetary travel\". Technology in Society . 29 (3): 271– 282. doi : 10.1016/j.techsoc.2007.04.007 . ^ \"NASA \"Reach\" Public Service Announcement for Space Exploration\" . NASA. 31 March 2012. ^ \"Origin of Human Life – USA Today/Gallup Poll\" . Pollingreport.com. 3 July 2007 . Retrieved 25 December 2013 . ^ Koren, Marina (17 September 2020). \"No One Should 'Colonize' Space\" . The Atlantic . Retrieved 2 November 2020 . ^ Weibel, Deana L. (12 July 2019). \"Destiny in Space\" . American Anthropological Association. Archived from the original on 31 October 2020 . Retrieved 2 December 2020 . ^ Gregory, Frederick; Garber, S. J. Looking Backward, Looking Forward: Forty Years of U.S. Human Spaceflight, 2002, pp. 73–80. Making Human Spaceflight as Safe as Possible. ^ Aldrin, Buzz; Garber, S. J. Looking Backward, Looking Forward: Forty Years of U.S. Human Spaceflight, 2002. pp. 91–100. Apollo and Beyond. ^ \"NASA Astrobiology\" . Astrobiology.arc.nasa.gov. Archived from the original on 28 September 2015 . Retrieved 24 May 2012 . ^ \"X\" . Aleph.se. 11 March 2000 . Retrieved 24 May 2012 . ^ \"Fears and dreads\" . World Wide Words. 31 May 1997 . Retrieved 24 May 2012 . ^ Atkins, William (27 April 2007). \"Scientists will look for alien life, but Where and How?\" . iTWire. Archived from the original on 14 October 2008 . Retrieved 24 May 2012 . ^ \"Astrobiology\" . Biocab.org. Archived from the original on 12 December 2010 . Retrieved 24 May 2012 . ^ Ward, Peter (8 December 2006). \"Launching the Alien Debates\" . Astrobiology Magazine . Archived from the original on 23 October 2020 . Retrieved 25 December 2013 . ^ \"Astrobiology: the quest for extraterrestrial life\" . Spacechronology.com. 29 September 2010. Archived from the original on 14 July 2012 . Retrieved 24 May 2012 . ^ a b c d Doarn, Charles R.; Polk, J. D.; Shepanek, Marc (2019). \"Health challenges including behavioral problems in long-duration spaceflight\" . Neurology India . 67 (8): S190 – S195 . doi : 10.4103/0028-3886.259116 . ISSN 0028-3886 . PMID 31134909 . S2CID 167219863 . ^ Perez, Jason (30 March 2016). \"The Human Body in Space\" . NASA . Retrieved 11 November 2019 . ^ a b c d Mars, Kelli (27 March 2018). \"5 Hazards of Human Spaceflight\" . NASA . Archived from the original on 28 April 2022 . Retrieved 6 October 2019 . ^ \"Global Exploration Strategy and Lunar Architecture\" (PDF) (Press release). NASA. 4 December 2006. Archived from the original (PDF) on 14 June 2007 . Retrieved 5 August 2007 . ^ Simberg, Rand (Fall 2012). \"Property Rights in Space\" . The New Atlantis (37): 20– 31. Archived from the original on 15 December 2012 . Retrieved 14 December 2012 . ^ a b c Durrani, Haris (19 July 2019). \"Is Spaceflight Colonialism?\" . The Nation . Retrieved 2 October 2020 . ^ \"Website of the IAU100 Inclusive Astronomy project\" . Archived from the original on 22 December 2021 . Retrieved 8 January 2022 . ^ Healey, Devlin. (2018). There are no bras in space: how spaceflight adapted to women and how women adapt to spaceflight. Georgetown Journal of Gender and the Law, 19(3), 593-618. ^ Kramer, Miriam (27 August 2013). \"Female Astronauts Face Discrimination from Space Radiation Concerns, Astronauts Say\" . Space.com . Purch . Retrieved 7 January 2017 . ^ Sokolowski, Susan L. (5 April 2019). \"Female astronauts: How performance products like space suits and bras are designed to pave the way for women's accomplishments\" . The Conversation . Retrieved 10 May 2020 . Further reading [ edit ] Launius, R.D.; et al. (2012). \"Spaceflight: The Development of Science, Surveillance, and Commerce in Space\" . Proceedings of the IEEE . 100 (special centennial issue): 1785– 1818. doi : 10.1109/JPROC.2012.2187143 . An overview of the history of space exploration and predictions for the future. External links [ edit ] Wikiquote has quotations related to Space exploration . Wikimedia Commons has media related to Space exploration . Library resources about Space exploration Resources in your library Resources in other libraries Building a Spacefaring Civilization , Archived 22 May 2019 at the Wayback Machine Chronology of space exploration, astrobiology, exoplanets and news . Archived 29 September 2020 at the Wayback Machine Space related news Space Exploration Network NASA's website on human space travel NASA's website on space exploration technology . Archived 13 July 2023 at the Wayback Machine \"America's Space Program: Exploring a New Frontier\", a National Park Service Teaching with Historic Places (TwHP) lesson plan The Soviet-Russian Spaceflight's History Photoarchive The 21 Greatest Space Photos Ever . Archived 27 December 2010 at the Wayback Machine – slideshow by Life Magazine \" From Stargazers to Starships \", extensive educational web site and course covering spaceflight, astronomy and related physics We Are The Explorers , NASA Promotional Video ( Press Release . Archived 26 January 2021 at the Wayback Machine ) Recent Advancement in Space technology and satellite technology 2024 . Archived 7 February 2024 at the Wayback Machine v t e Space exploration Benefits Future Topics Astronomy Deep space exploration Space colonization Space research Spaceflight Human Uncrewed Exploration targets Asteroids Comets Earth Moon Jupiter Mars Human mission Phobos Mercury Neptune Pluto Saturn Uranus Venus History List of spaceflight records Timeline of Solar System exploration Timeline of space exploration Space agencies CNSA CSA ESA ISRO JAXA NASA Roscosmos UAESA Category Outline v t e Exploration of the Solar System Timeline of Solar System exploration Exploration of Mercury Venus Moon Mars Jupiter Saturn Uranus Neptune Pluto Artificial objects On extra-terrestrial surfaces Moon Venus Mars Titan Deep-space missions Heliocentric orbit Leaving the Solar System Lists Solar System probes Minor planets and comets visited by spacecraft Missions to minor planets Missions to comets Landings on extraterrestrial bodies Objects at Lagrangian points Space exploration outline timeline v t e Spaceflight lists and timelines Timeline of spaceflight General Space exploration outline timeline Spacecraft Spaceflight records Space Race Rocket and missile technology Human spaceflight General Crewed spacecraft timeline by program Spaceflights 1961–1970 1971–1980 1981–1990 1991–2000 2001–2010 2011–2020 2021–present Soviet Russian Vostok and Voskhod Soyuz Mercury Gemini Apollo Skylab Shenzhou Gaganyaan Spacelab Artemis Civilian spaceflight Orbital Suborbital Salyut Expeditions Spaceflights crewed uncrewed Spacewalks Visitors Mir Expeditions ESA Spaceflights crewed uncrewed Spacewalks Visitors ISS Expeditions ESA Visiting Spaceflights crewed uncrewed Spacewalks Visitors Deployed Tiangong Expeditions Crewed Spaceflights Spacewalks Shuttle Crews Missions Rollbacks People Astronauts by name by year of selection Apollo Gemini Mercury Chinese Asian European Cosmonauts women Muslim Arab African American Ibero-America Space scientists Space travelers by name by first flight by nationality billionaires timeline by nationality Spaceflight-related human fatalities EVA 1965–1999 2000–2014 2015–2024 2025–present Cumulative spacewalk records Longest spacewalks Spacewalkers Solar System exploration Timeline Interplanetary voyages Landings on other planets rovers artificial objects Objects at Lagrange points Probes active future orbiters leaving the Solar System lunar probes Missions to the Moon Timeline of satellites Sample-return mission Mars Earth-orbiting satellites Communications satellite firsts CubeSats PocketQube Earth observation satellites Timeline of first Earth observation satellites Geosynchronous orbit GOES GPS Kosmos Magnetospheric NRO TDRS USA Vehicles Orbital launch systems Comparison Sounding rocket list Spacecraft uncrewed crewed heaviest Upper stages Sounding rocket Small-lift launch vehicle Medium-lift launch vehicle Heavy-lift launch vehicle Super heavy-lift launch vehicle Launches by rocket type Ariane Antares Atlas Atlas LV3B Atlas LV3C Black Brant Electron Delta DM-19 Delta 1 Delta II Delta III Delta IV Heavy Delta IV Medium Delta IV Falcon 9 and Heavy 2010–2019 2020–2022 GSLV H-II and H3 Kosmos Long March Minotaur Proton PSLV R-7 (including Semyorka, Molniya, Vostok, Voskhod and Soyuz) Scout SLS Starship Thor and Delta Thor-Agena Thor DM-18 Able Thor DM-18 Agena-A Thor DM-18 Thor DM-21 Agena-B Titan Tsyklon V-2 tests Vega Vulcan Zenit Launches by spaceport Satish Dhawan Agencies, companies and facilities Communications satellite companies comparison Private spaceflight companies Rocket launch sites Space agencies Spacecraft manufacturers Other mission lists and timelines First orbital launches by country First satellites by country NASA missions Constellation missions Timeline of first images of Earth from space Timeline of longest spaceflights Timeline of private spaceflight Related topics v t e ... in space Biology Human The human body Hygiene Locomotion Medicine Neuroscience Psychology Psychological and sociological effects Sex Sleep Non-human Animals Cats Cockroaches Dogs Frogs Fruit flies Mice Primates Tardigrades Tortoises Extraterrestrial life Microorganisms Plants Astrobotany Environment Climate Corrosion Debris Dust Magnetosphere Weather Weathering Society Advertising Alcohol Archaeology of Earth of items in space Art Burial Colonization Economy Mining Trade Ethics Exploration Food Law Military Music Religion Christmas Selfies Tourism Voting War Women Technology Human spaceflight Accidents Architecture Farming Food Carbonated drinks Toilets Writing Other technologies Logistics Manufacturing Mining Power Batteries Nuclear Solar for Earth for spacecraft Radar Telescopes Weapons Outer space portal v t e Public-sector space agencies Africa Pan-African and pan-Arab RASCOM Arabsat National ASAL EgSA NARSS ESSTI GSSTC KSA NASRDA SANSA Americas North America CSA NASA NESDIS OSC FAA/AST FCC USSF USSPACECOM NRO Latin America and the Caribbean ALCE AEM CONAE ABE AEB DCTA INPE ITA CCE ABAE IVIC Asia Pan-Asian APSCO Central Asia KazCosmos 1 Roscosmos 1 SRI VK TNSA 1 East Asia CNSA SASTIND CASC CALT CAST CCF CGWIC PLAASF CASIC JAXA ISAS JSS NICT NATA KASA KARI KASI SaTReC TASA South Asia SPARRSO ISRO 2 Antrix Corp DoS NRSC DSA SUPARCO Southeast Asia BRIN ORPA INASA MYSA PhilSA SSTL GISTDA VNSC West Asia ArmCosmos 1 MAKA 1 NSSA NEHSA ISA ISRC ISA NCSR SSA KACST-SRI SSA 2 GORS TUA TÜBİTAK UZAY UAESA ( MBRSC ) Europe Pan-European CEN / CENELEC CEPT ETSI Eurocontrol ECAC ESA ECSS ESTEC EAC ESRIN ECSAT ESAC ESOC ESTRACK Guiana Space Centre EUMETSAT EUTELSAT IGO ESO EU and EEA DG DEFIS EUSPA EU SatCen EASA BEREC ALR 2 BELSPO BIRA-IASB SRTI 2 CSO 2 DTU Space ESO 1 CNES 2 AAE CdE DLR 2 HSA HSO 2 ASI LSA LSO 1 SRON NSO NOSA POLSA 2 CBK PAN UKE KRRiT ORO ULC PTSPACE ROSA 2 INTA AEC EAE AEE SNSA Other ArmCosmos 1 MAKA 1 BSA 1 KazCosmos 1 Roscosmos 1 SRI VVKO SSO TUA TÜBİTAK UZAY SSAU 1 UKSA 2 Oceania ASA CSIRO NZSA World CCSDS CEOS COSPAR IPDA Cospas-Sarsat GEO GSC IADC ICSMD IMSO ISECG ISS MCB ITSO Intersputnik ODCWG ITU-R UNCOPUOS UNOOSA Former BNSC KCST LAPAN NAL NASDA SSP Interkosmos See also: Timeline of first orbital launches by country 1 Preceded by the Soviet space program 2 Preceded by Interkosmos participation v t e Solar System Sun Mercury Venus Earth Mars Ceres Jupiter Saturn Uranus Neptune Orcus Pluto Haumea Quaoar Makemake Gonggong Eris Sedna Planets , dwarfs , minors Terrestrials Mercury Venus Earth Mars Giants Gas Jupiter Saturn Ice Uranus Neptune Dwarfs Ceres Orcus Pluto Haumea Quaoar Makemake Gonggong Eris Sedna Large Minor Planets Salacia Varuna Ixion List Moons Earth Moon Claimed Mars Phobos Deimos Jupiter Ganymede Callisto Io Europa all 95 Saturn Titan Rhea Iapetus Dione Tethys Enceladus Mimas Hyperion Phoebe all 274 Uranus Titania Oberon Umbriel Ariel Miranda all 28 Neptune Triton Proteus Nereid all 16 Pluto Charon Nix Hydra Kerberos Styx Orcus Vanth Haumea Hiʻiaka Namaka Quaoar Weywot Makemake S/2015 (136472) 1 Gonggong Xiangliu Eris Dysnomia Formation, evolution , contents, and History Star formation Accretion Accretion disk Excretion Capture theory Capture of Triton Circumplanetary disk Circumstellar disc Circumstellar envelope Coatlicue Co-orbital configuration Saturn Moons Cosmic dust Debris disk Detached object Disk instability EXCEDE Exozodiacal dust Extraterrestrial materials Curation Sample-return mission Frost/Ice/Snow line Giant-impact hypothesis Grand tack hypothesis Gravitational collapse Hills cloud Hill sphere Interplanetary dust cloud Interplanetary medium/space Interstellar cloud Interstellar medium Interstellar space Kordylewski cloud Kuiper belt Kuiper cliff Late Heavy Bombardment Molecular cloud Nebular hypothesis Nice model Nice 2 model Five-planet Nice model Oort cloud Outer space Planet Disrupted Migration System Planetesimal Formation Merging stars Protoplanetary disk Ring system Roche limit vs. Hill sphere Rubble pile Scattered disc Rings Earth ? Jovian Saturnian ( Rhean ?) Charikloan Chironean Uranian Neptunian Haumean Quaoarian Hypothetical objects Bagby's moon Chiron Coatlicue Counter-Earth Chrysalis Fifth Giant Hyperion Lilith Mercury's moon Neith Nemesis Nibiru Petit's moon Phaeton Planet Nine Planet Ten Planet V Planet X Subsatellites Synestia Theia Themis Tyche Vulcan Vulcanoids Waltemath's moons Exploration ( outline ) Colonization Discovery astronomy historical models timeline Space probes timeline list Human spaceflight space stations list programs Mercury Venus Moon mining Mars Ceres Asteroids mining Comets Jupiter Saturn Uranus Neptune Pluto Deep space Small Solar System bodies Comets Damocloids Meteoroids Minor planets names and meanings moons Planetesimal Planetary orbit-crossers Mercury Venus Earth Mars Jupiter Saturn Uranus Neptune Trojans Venus Earth Mars Jupiter Trojan camp Greek camp Saturn Uranus Neptune Near-Earth objects NEAs Asteroid belt Asteroids Ceres Vesta Pallas Hygiea active List families PHA exceptional Kirkwood gap Centaurs Trans-Neptunian objects Kuiper belt Cubewanos Plutinos Detached objects Sednoids Scattered disc Hills cloud Oort cloud Lists Comets Possible dwarf planets Gravitationally rounded objects Minor planets Natural satellites Solar System models Solar System objects by size by discovery date Interstellar and circumstellar molecules Related Double planet Lagrange point Moonlet Syzygy Tidal locking Outline of the Solar System Solar System portal Astronomy portal Earth sciences portal Solar System → Local Interstellar Cloud → Local Bubble → Gould Belt → Orion Arm → Milky Way → Milky Way subgroup → Local Group → Local Sheet → Virgo Supercluster → Laniakea Supercluster → Local Hole → Observable universe → Universe Each arrow ( → ) may be read as \"within\" or \"part of\". v t e Spaceflight General Astrodynamics History Timeline Space Race Records Accidents and incidents Space launch Space policy Australia China European Space Agency European Union India Japan North Korea South Korea Russia Soviet Union United States Space law Outer Space Treaty Rescue Agreement Space Liability Convention Registration Convention Moon Treaty Space warfare Space command Space force Militarisation of space Private spaceflight Billionaire space race Applications Astronomy Earth observation Archaeology Imagery and mapping Reconnaissance Weather and environment monitoring Communications satellite Internet Radio Telephone Television Satellite navigation Commercial use of space Space launch market competition Space architecture Space exploration Space research Space technology Space weather Human spaceflight General Astronaut commercial Life-support system Animals in space Bioastronautics Space suit Extravehicular activity Overview effect Weightlessness Space toilet Space tourism Space colonization Space diving Programs Vostok Mercury Voskhod Gemini Soyuz Apollo Skylab Apollo–Soyuz Space Shuttle Mir Shuttle–Mir International Space Station Shenzhou Tiangong New Shepard Artemis Health issues Effect of spaceflight on the human body Space adaptation syndrome Health threat from cosmic rays Space psychology Psychological and sociological effects Space and survival Space medicine Space nursing Space sexology Spacecraft Launch vehicle Rocket Space capsule Orbital module Reentry capsule Service module Spaceplane Robotic spacecraft Satellite Space probe Lander Rover Self-replicating spacecraft Space telescope Spacecraft propulsion Rocket engine Electric propulsion Solar sail Gravity assist Destinations Sub-orbital Orbital Geocentric Geosynchronous Interplanetary Interstellar Intergalactic Space launch Direct ascent Escape velocity Expendable and reusable launch systems Launch pad Non-rocket spacelaunch Spaceport Ground segment Flight controller Ground station Pass Mission control center Category Portal v t e Space missions by destination Planets Mercury Venus Mars Outer planets Jupiter Saturn Uranus Neptune Others The Sun The Moon lunar probes Minor planets Comets Orbiters Extraterrestrial orbiters Mars orbiters Objects in heliocentric orbit Authority control databases : National United States Japan IsraelLook for Mars over on one of Wikipedia's sister projects : Wiktionary (dictionary) Wikibooks (textbooks) Wikiquote (quotations) Wikisource (library) Wikiversity (learning resources) Commons (media) Wikivoyage (travel guide) Wikinews (news source) Wikidata (linked database) Wikispecies (species directory) Wikipedia does not have an article with this exact name. Please search for Mars over in Wikipedia to check for alternative titles or spellings. You need to log in or create an account and be autoconfirmed to create new articles. Alternatively, you can use the article wizard to submit a draft for review, or request a new article . Search for \" Mars over \" in existing articles. Look for pages within Wikipedia that link to this title . Other reasons this message may be displayed: If a page was recently created here, it may not be visible yet because of a delay in updating the database; wait a few minutes or try the purge function . Titles on Wikipedia are case sensitive except for the first character; please check alternative capitalizations and consider adding a redirect here to the correct title. If the page has been deleted, check the deletion log , and see Why was the page I created deleted?Second NASA orbiter mission to Jupiter (2011–Present) Juno Artist's rendering of the Juno spacecraft Names New Frontiers 2 Mission type Jupiter orbiter Operator NASA / Jet Propulsion Laboratory COSPAR ID 2011-040A SATCAT no. 37773 Website www .nasa .gov /mission _pages /juno /main /index .html (NASA) www .missionjuno .swri .edu (SwRI) Mission duration Planned: 7 years Elapsed: 13 years, 7 months, 3 days Cruise: 4 years, 10 months, 29 days Science phase: 3 years, 7 months and 9 days (in progress; extended until September 2025) Spacecraft properties Manufacturer Lockheed Martin Space Launch mass 3,625 kg (7,992 lb) [ 1 ] Dry mass 1,593 kg (3,512 lb) [ 2 ] Dimensions 20.1 × 4.6 m (66 × 15 ft) [ 2 ] Power 14 kW at Earth, [ 2 ] 435 W at Jupiter [ 1 ] 2 × 55- ampere hour lithium-ion batteries [ 2 ] Start of mission Launch date August 5, 2011, 16:25:00 UTC Rocket Atlas V 551 (AV-029) Launch site Cape Canaveral , SLC-41 Contractor United Launch Alliance Flyby of Earth Closest approach October 9, 2013 Distance 559 km (347 mi) Jupiter orbiter Orbital insertion July 5, 2016, [ 3 ] 8 years, 8 months, 4 days ago Orbits 76 (planned) [ 4 ] [ 5 ] Orbital parameters Perijove altitude 4,200 km (2,600 mi) altitude 75,600 km (47,000 mi) radius Apojove altitude 8.1 × 10 ^ 6 km (5.0 × 10 ^ 6 mi) Inclination 90° (polar orbit) Instruments MWR Microwave Radiometer JIRAM Jovian Infrared Auroral Mapper MAG Magnetometer GRAV Gravity Science JADE Jovian Auroral Distributions Experiment JEDI Jovian Energetic Particle Detector Instrument Waves Radio and Plasma Wave Sensor UVS Ultraviolet Imaging Spectrograph Juno mission patch New Frontiers ← New Horizons OSIRIS-REx → Juno in launch configuration Juno is a NASA space probe orbiting the planet Jupiter . It was built by Lockheed Martin and is operated by NASA 's Jet Propulsion Laboratory . The spacecraft was launched from Cape Canaveral Air Force Station on August 5, 2011 UTC , as part of the New Frontiers program . [ 6 ] Juno entered a polar orbit of Jupiter on July 5, 2016, UTC, [ 4 ] [ 7 ] to begin a scientific investigation of the planet. [ 8 ] After completing its mission, Juno was originally planned to be intentionally deorbited into Jupiter's atmosphere, [ 8 ] but has since been approved to continue orbiting until contact is lost with the spacecraft. Juno 's mission is to measure Jupiter's composition, gravitational field , magnetic field , and polar magnetosphere . It also searches for clues about how the planet formed, including whether it has a rocky core, the amount of water present within the deep atmosphere, mass distribution , and its deep winds, which can reach speeds up to 620 km/h (390 mph). [ 9 ] Juno is the second spacecraft to orbit Jupiter, after the nuclear powered Galileo orbiter , which orbited from 1995 to 2003. Unlike all earlier spacecraft sent to the outer Solar System and beyond—which used radioisotope thermoelectric generators for power— Juno is powered by solar panels , more commonly used by satellites orbiting Earth and working in the inner Solar System . [ 8 ] Accordingly, Juno required the three largest solar panel wings ever deployed on a planetary probe (at the time of launching). These play an integral role in stabilizing the spacecraft as well as generating power. [ 10 ] Naming [ edit ] Juno 's name comes from Greek and Roman mythology . The god Jupiter drew a veil of clouds around himself to hide his mischief, and his wife, the goddess Juno , was able to peer through the clouds and reveal Jupiter's true nature. — NASA [ 11 ] A NASA compilation of mission names and acronyms referred to the mission by the backronym Jupiter Near-polar Orbiter . [ 12 ] However the project itself has consistently described it as a name with mythological associations [ 13 ] and not an acronym. The spacecraft's current name is in reference to the Roman goddess Juno . [ 11 ] Juno is sometimes called the New Frontiers 2 as the second mission in the New Frontiers program, [ 14 ] [ 15 ] but is not to be confused with New Horizons 2 , a proposed but unselected New Frontiers mission. Overview [ edit ] Juno 's interplanetary trajectory; tick marks at 30-day intervals. Juno spacecraft trajectory animation Animation of Juno 's trajectory from August 5, 2011 Juno · Earth · Mars · Jupiter Juno was selected on June 9, 2005, as the next New Frontiers mission after New Horizons . [ 16 ] The desire for a Jupiter probe was strong in the years prior to this, but there had not been any approved missions. [ 17 ] [ 18 ] The Discovery Program had passed over the somewhat similar but more limited Interior Structure and Internal Dynamical Evolution of Jupiter (INSIDE Jupiter) proposal, [ 18 ] and the turn-of-the-century era Europa Orbiter was canceled in 2002. [ 17 ] The flagship-level Europa Jupiter System Mission was in the works in the early 2000s, but funding issues resulted in it evolving into ESA's Jupiter Icy Moons Explorer . [ 19 ] Juno completed a five-year cruise to Jupiter, arriving on July 5, 2016. [ 7 ] The spacecraft traveled a total distance of roughly 2.8 × 10 ^ 9 km (19 AU; 1.7 × 10 ^ 9 mi) to reach Jupiter. [ 20 ] The spacecraft was designed to orbit Jupiter 37 times over the course of its mission. This was originally planned to take 20 months. [ 4 ] [ 5 ] Juno 's trajectory used a gravity assist speed boost from Earth, accomplished by an Earth flyby in October 2013, two years after its launch on August 5, 2011. [ 21 ] The spacecraft performed an orbit insertion burn to slow it enough to allow capture. It was expected to make three 53-day orbits before performing another burn on December 11, 2016, that would bring it into a 14-day polar orbit called the Science Orbit. Because of a suspected problem in Juno 's main engine, the burn scheduled on December 11, 2016, was cancelled and Juno remained in its 53-day orbit until the first Ganymede encounter of its Extended Mission. [ 22 ] This extended mission began with a flyby of Ganymede on June 7, 2021. [ 23 ] [ 24 ] Subsequent flybys of Europa and then Io will further decrease the orbital period to 33 days by February 2024. [ 25 ] During the science mission, infrared and microwave instruments will measure the thermal radiation emanating from deep within Jupiter's atmosphere . These observations will complement previous studies of its composition by assessing the abundance and distribution of water, and therefore oxygen. This data will provide insight into Jupiter's origins. Juno will also investigate the convection that drives natural circulation patterns in Jupiter's atmosphere. Other instruments aboard Juno will gather data about its gravitational field and polar magnetosphere . The Juno mission was planned to conclude in February 2018 after completing 37 orbits of Jupiter, but now has been commissioned through 2025 to do a further 42 additional orbits of Jupiter as well as close flybys of Ganymede, Europa and Io. [ 26 ] The probe was then intended to be deorbited and burnt up in Jupiter's outer atmosphere [ 4 ] [ 5 ] to avoid any possibility of impact and biological contamination of one of its moons. [ 27 ] Flight trajectory [ edit ] Juno awaiting its launch in 2011 Launch [ edit ] Juno was launched atop an Atlas V ( 551 configuration ) at Cape Canaveral Air Force Station (CCAFS), Florida on August 5, 2011, 16:25:00 UTC. The Atlas V (AV-029) used a Russian-built RD-180 main engine, powered by kerosene and liquid oxygen . The main engine ignited and underwent checkout then, 3.8 seconds later, the five strap-on solid rocket boosters (SRBs) ignited. Following the SRB burnout, about 93 seconds into the flight, two of the spent boosters fell away from the vehicle, followed 1.5 seconds later by the remaining three. When heating levels had dropped below predetermined limits, the payload fairing that protected Juno during launch and transit through the thickest part of the atmosphere separated, about 3 minutes 24 seconds into the flight. The Atlas V main engine cut off 4 minutes 26 seconds after liftoff. Sixteen seconds later, the Centaur second stage ignited, and it burned for about 6 minutes, putting the satellite into an initial parking orbit . [ 28 ] The vehicle coasted for about 30 minutes, and then the Centaur was reignited for a second firing of 9 minutes, placing the spacecraft on an Earth escape trajectory in a heliocentric orbit . [ 28 ] Prior to separation, the Centaur stage used onboard reaction engines to spin Juno up to 1.4 r.p.m. About 54 minutes after launch, the spacecraft separated from the Centaur and began to extend its solar panels . [ 28 ] Following the full deployment and locking of the solar panels, Juno 's batteries began to recharge. Deployment of the solar panels reduced Juno 's spin rate by two-thirds. The probe is spun to ensure stability during the voyage and so that all instruments on the probe are able to observe Jupiter. [ 27 ] [ 29 ] The voyage to Jupiter took five years, and included two orbital maneuvers in August and September 2012 and a flyby of the Earth on October 9, 2013. [ 30 ] [ 31 ] When it reached the Jovian system , Juno had traveled approximately 19 astronomical units (2.8 billion kilometres). [ 32 ] Atlas V on launch pad Lift-off Launch video Flyby of the Earth [ edit ] South America [ 33 ] as seen by JunoCam on its October 2013 Earth flyby Video of Earth and Moon taken by the Juno spacecraft After traveling for about a year in an elliptical heliocentric orbit, Juno fired its engine twice in 2012 near aphelion (beyond the orbit of Mars ) to change its orbit and return to pass by the Earth at a distance of 559 kilometers in October 2013. [ 30 ] It used Earth's gravity to help slingshot itself toward the Jovian system in a maneuver called a gravity assist . [ 34 ] The spacecraft received a boost in speed of more than 3.9 km/s (8,700 mph), and it was set on a course to Jupiter. [ 34 ] [ 35 ] [ 36 ] The flyby was also used as a rehearsal for the Juno science team to test some instruments and practice certain procedures before the arrival at Jupiter. [ 34 ] [ 37 ] Insertion into Jovian orbit [ edit ] Jupiter's gravity accelerated the approaching spacecraft to around 210,000 km/h (130,000 mph). [ 38 ] On July 5, 2016, between 03:18 and 03:53 UTC Earth-received time , an insertion burn lasting 2,102 seconds decelerated Juno by 542 m/s (1,780 ft/s) [ 39 ] and changed its trajectory from a hyperbolic flyby to an elliptical , polar orbit with a period of about 53.5 days. [ 40 ] The spacecraft successfully entered Jovian orbit on July 5, 2016, at 03:53 UTC. [ 3 ] Orbit and environment [ edit ] Juno 's elliptical orbit and the Jovian radiation belts Juno 's highly elliptical initial polar orbit takes it within 4,200 km (2,600 mi) of the planet and out to 8.1 × 10 ^ 6 km (5.0 × 10 ^ 6 mi), far beyond Callisto 's orbit. An eccentricity -reducing burn, called the Period Reduction Maneuver, was planned that would drop the probe into a much shorter 14 day science orbit. [ 41 ] Originally, Juno was expected to complete 37 orbits over 20 months before the end of its mission. Due to problems with helium valves that are important during main engine burns, mission managers announced on February 17, 2017, that Juno would remain in its original 53-day orbit, since the chance of an engine misfire putting the spacecraft into a bad orbit was too high. [ 22 ] Juno completed only 12 science orbits before the end of its budgeted mission plan, ending July 2018. [ 42 ] In June 2018, NASA extended the mission through July 2021, as described below. The orbits were carefully planned in order to minimize contact with Jupiter's dense radiation belts , which can damage spacecraft electronics and solar panels, by exploiting a gap in the radiation envelope near the planet, passing through a region of minimal radiation. [ 8 ] [ 43 ] The \" Juno Radiation Vault \", with 1-centimeter-thick titanium walls (three times as thick as the Galileo spacecraft body's), also aids in protecting Juno 's electronics by reducing the incoming radiation by a factor of 800. [ 44 ] Despite the intense radiation, JunoCam and the Jovian Infrared Auroral Mapper (JIRAM) are expected to endure at least eight orbits, while the Microwave Radiometer (MWR) should endure at least eleven orbits. [ 45 ] Although the flux of electrons close to Jupiter is about ten times as high as it is around Jupiter's moon Europa, [ 46 ] Juno will still receive a lower total dose of radiation in its polar orbit (20 mrad through end of mission) [ 47 ] than the Galileo orbiter received in its equatorial orbit. Galileo 's subsystems were damaged by radiation during its mission, including an LED in its data recording system. [ 48 ] Orbital operations [ edit ] Animation of Juno 's trajectory around Jupiter from June 1, 2016, to October 25, 2025 Juno · Jupiter Ganymede , photographed on 7 June 2021 by Juno during its extended mission The spacecraft completed its first flyby of Jupiter ( perijove 1) on August 26, 2016, and captured the first images of the planet's north pole. [ 49 ] On October 14, 2016, days prior to perijove 2 and the planned Period Reduction Maneuver, telemetry showed that some of Juno 's helium valves were not opening properly. [ 50 ] On October 18, 2016, some 13 hours before its second close approach to Jupiter, Juno entered into safe mode , an operational mode engaged when its onboard computer encounters unexpected conditions. The spacecraft powered down all non-critical systems and reoriented itself to face the Sun to gather the most power. Due to this, no science operations were conducted during perijove 2. [ 51 ] On December 11, 2016, the spacecraft completed perijove 3, with all but one instrument operating and returning data. One instrument, JIRAM, was off pending a flight software update. [ 52 ] Perijove 4 occurred on February 2, 2017, with all instruments operating. [ 22 ] Perijove 5 occurred on March 27, 2017. [ 53 ] Perijove 6 took place on May 19, 2017. [ 53 ] [ 54 ] Although the mission's lifetime is inherently limited by radiation exposure, almost all of this dose was planned to be acquired during the perijoves. As of 2017 [update] , the 53.4 day orbit was planned to be maintained through July 2018 for a total of twelve science-gathering perijoves. At the end of this prime mission, the project was planned to go through a science review process by NASA's Planetary Science Division to determine if it will receive funding for an extended mission. [ 22 ] In June 2018, NASA extended the mission operations plan to July 2021. [ 55 ] In January 2021, NASA extended the mission operations to September 2025. [ 56 ] In this phase Juno began to examine Jupiter's inner moons, Ganymede , Europa and Io. A flyby of Ganymede occurred on June 7, 2021, 17:35 UTC , coming within 1,038 km (645 mi), the closest any spacecraft has come to the moon since Galileo in 2000. [ 23 ] [ 24 ] [ 57 ] A flyby of Europa took place on September 29, 2022, at a distance of 352 km (219 mi). [ 58 ] [ 59 ] Juno performed two flybys of Io on December 30, 2023, and February 3, 2024, gathering observational data on volcanic activity. From April 2024, Juno will begin a series of experiments to learn more about Jupiter's interior shape and structure. [ 60 ] Planned deorbit and disintegration [ edit ] NASA originally planned to deorbit the spacecraft into the atmosphere of Jupiter after completing 32 orbits of Jupiter, but has since extended the mission to September 2025. [ 61 ] [ 56 ] The controlled deorbit is intended to eliminate space debris and risks of contamination in accordance with NASA's planetary protection guidelines. [ 62 ] [ 63 ] [ 64 ] Team [ edit ] Scott Bolton of the Southwest Research Institute in San Antonio , Texas is the principal investigator and is responsible for all aspects of the mission. The Jet Propulsion Laboratory in California manages the mission and the Lockheed Martin Corporation was responsible for the spacecraft development and construction. The mission is being carried out with the participation of several institutional partners. Coinvestigators include Toby Owen of the University of Hawaii , Andrew Ingersoll of California Institute of Technology , Frances Bagenal of the University of Colorado at Boulder , and Candy Hansen of the Planetary Science Institute . Jack Connerney of the Goddard Space Flight Center served as instrument lead. [ 65 ] [ 66 ] Cost [ edit ] Juno was originally proposed at a cost of approximately US$700 million (fiscal year 2003) for a launch in June 2009 (equivalent to US$1197 million in 2024). NASA budgetary restrictions resulted in postponement until August 2011, and a launch on board an Atlas V rocket in the 551 configuration . As of 2019 [update] the mission was projected to cost US$1.46 billion for operations and data analysis through 2022. [ 67 ] Scientific objectives [ edit ] Jupiter imaged using the VISIR instrument on the VLT . These observations will inform the work to be undertaken by Juno . [ 68 ] The Juno spacecraft's suite of science instruments will: [ 69 ] Determine the ratio of oxygen to hydrogen , effectively measuring the abundance of water in Jupiter, which will help distinguish among prevailing theories linking Jupiter's formation to the Solar System. Obtain a better estimate of Jupiter's core mass, which will also help distinguish among prevailing theories linking Jupiter's formation to the Solar System. Precisely map Jupiter's gravitational field to assess the distribution of mass in Jupiter's interior, including properties of its structure and dynamics. Precisely map Jupiter's magnetic field to assess the origin and structure of the field, and the depth at which the planet's magnetic field is created. This experiment will also help scientists understand the fundamental physics of dynamo theory . Map the variation in atmospheric composition, temperature, structure, cloud opacity and dynamics to pressures far greater than 100 bar (10 MPa; 1,500 psi) at all latitudes. Characterize and explore the three-dimensional structure of Jupiter's polar magnetosphere and auroras . [ 69 ] Measure the orbital frame-dragging , known also as Lense–Thirring precession caused by the angular momentum of Jupiter, [ 70 ] [ 71 ] and possibly a new test of general relativity effects connected with the Jovian rotation. [ 72 ] Scientific instruments [ edit ] The Juno mission's scientific objectives are being achieved with a payload of nine instruments on board the spacecraft: [ 73 ] [ 74 ] [ 75 ] [ 76 ] [ 77 ] Microwave radiometer (MWR) [ edit ] Main article: Microwave Radiometer (Juno) Microwave Radiometer The microwave radiometer comprises six antennas mounted on two of the sides of the body of the probe. They will perform measurements of electromagnetic waves on frequencies in the microwave range: 600 MHz , 1.2, 2.4, 4.8, 9.6 and 22 GHz, the only microwave frequencies which are able to pass through the thick Jovian atmosphere. The radiometer will measure the abundance of water and ammonia in the deep layers of the atmosphere up to 200 bar (20 MPa; 2,900 psi) pressure or 500–600 km (310–370 mi) deep. The combination of different wavelengths and the emission angle should make it possible to obtain a temperature profile at various levels of the atmosphere. The data collected will determine how deep the atmospheric circulation is. [ 78 ] [ 79 ] The MWR is designed to function through orbit 11 of Jupiter. [ 80 ] (Principal investigator: Mike Janssen, Jet Propulsion Laboratory ) Jovian Infrared Auroral Mapper (JIRAM) [ edit ] Main article: Jovian Infrared Auroral Mapper Jovian Infrared Auroral Mapper The spectrometer mapper JIRAM, operating in the near infrared (between 2 and 5 μm), conducts surveys in the upper layers of the atmosphere to a depth of between 50 and 70 km (31 and 43 mi) where the pressure reaches 5 to 7 bar (500 to 700 kPa). JIRAM will provide images of the aurora in the wavelength of 3.4 μm in regions with abundant H 3 + ions. By measuring the heat radiated by the atmosphere of Jupiter, JIRAM can determine how clouds with water are flowing beneath the surface. It can also detect methane , water vapor , ammonia and phosphine . It was not required that this device meets the radiation resistance requirements. [ 81 ] [ 82 ] [ 83 ] The JIRAM instrument is expected to operate through the eighth orbit of Jupiter. [ 80 ] (Principal investigator: Alberto Adriani, Italian National Institute for Astrophysics ) JIRAM's  spin-compensation mirror is stuck since PJ44, but the instrument is operational. [ 84 ] Magnetometer (MAG) [ edit ] Main article: Magnetometer (Juno) MAG The magnetic field investigation has three goals: mapping of the magnetic field, determining the dynamics of Jupiter's interior, and determination of the three-dimensional structure of the polar magnetosphere. The magnetometer experiment consists of the Flux Gate Magnetometer ( FGM ), which will observe the strength and direction of the magnetic field lines, and the Advanced Stellar Compass ( ASC ), which will monitor the orientation of the magnetometer sensors. [ 75 ] (Principal investigator: Jack Connerney, NASA's Goddard Space Flight Center ) Gravity Science (GS) [ edit ] Main article: Gravity Science (Juno) Gravity Science The purpose of measuring gravity by radio waves is to establish a map of the distribution of mass inside Jupiter. The uneven distribution of mass in Jupiter induces small variations in gravity all along the orbit followed by the probe when it runs closer to the surface of the planet. These gravity variations drive small probe velocity changes. The purpose of radio science is to detect the Doppler effect on radio broadcasts issued by Juno toward Earth in Ka-band and X-band , which are frequency ranges that can conduct the study with fewer disruptions related to the solar wind or Jupiter 's ionosphere . [ 85 ] [ 86 ] [ 74 ] (Principal investigator: John Anderson, Jet Propulsion Laboratory ; Principal investigator (Juno's Ka-band Translator): Luciano Iess, Sapienza University of Rome ) Jovian Auroral Distributions Experiment (JADE) [ edit ] Main article: Jovian Auroral Distributions Experiment JADE The energetic particle detector JADE will measure the angular distribution, energy, and the velocity vector of ions and electrons at low energy (ions between 13 eV and 20 KeV, electrons of 200 eV to 40 KeV) present in the aurora of Jupiter. On JADE, like JEDI, the electron analyzers are installed on three sides of the upper plate which allows a measure of frequency three times higher. [ 74 ] [ 87 ] (Principal investigator: David McComas , Southwest Research Institute ) Jovian Energetic Particle Detector Instrument (JEDI) [ edit ] Main article: Jovian Energetic Particle Detector Instrument JEDI The energetic particle detector JEDI will measure the angular distribution and the velocity vector of ions and electrons at high energy (ions between 20 keV and 1 MeV, electrons from 40 to 500 keV) present in the polar magnetosphere of Jupiter. JEDI has three identical sensors dedicated to the study of particular ions of hydrogen , helium , oxygen and sulfur . [ 74 ] [ 88 ] (Principal investigator: Barry Mauk, Applied Physics Laboratory ) Radio and Plasma Wave Sensor (Waves) [ edit ] Main article: Waves (Juno) Radio and Plasma Wave Sensor This instrument will identify the regions of auroral currents that define Jovian radio emissions and acceleration of the auroral particles by measuring the radio and plasma spectra in the auroral region. It will also observe the interactions between Jupiter's atmosphere and magnetosphere . The instrument consists of two antennae that detect radio and plasma waves. [ 75 ] (Principal investigator: William Kurth, University of Iowa ) Ultraviolet Spectrograph (UVS) [ edit ] Main article: UVS (Juno) Ultraviolet Spectrograph UVS will record the wavelength, position and arrival time of detected ultraviolet photons during the time when the spectrograph slit views Jupiter during each turn of the spacecraft. The instrument will provide spectral images of the UV auroral emissions in the polar magnetosphere. [ 75 ] (Principal investigator: G. Randall Gladstone, Southwest Research Institute ) JunoCam (JCM) [ edit ] Main article: JunoCam JunoCam A visible light camera/telescope, included in the payload to facilitate education and public outreach ; later re-purposed to study the dynamics of Jupiter's clouds, particularly those at the poles. [ 89 ] It was anticipated that it would operate through only eight orbits of Jupiter ending in September 2017 [ 90 ] due to the planet's damaging radiation and magnetic field, [ 80 ] but as of October 2023 (55 orbits), JunoCam remains operational. [ 91 ] (Principal investigator: Michael C. Malin , Malin Space Science Systems ) Locations of Juno 's science instruments Interactive 3D model of Juno Operational components [ edit ] Solar panels [ edit ] Illumination test on one of Juno 's solar panels Juno is the first mission to Jupiter to use solar panels instead of the radioisotope thermoelectric generators (RTG) used by Pioneer 10 , Pioneer 11 , the Voyager program , Ulysses , Cassini–Huygens , New Horizons , and the Galileo orbiter . [ 92 ] It is also the farthest solar-powered trip in the history of space exploration. [ 93 ] Once in orbit around Jupiter, Juno receives only 4% as much sunlight as it would on Earth , but the global shortage of plutonium-238 at the time, [ 94 ] [ 95 ] [ 96 ] [ 97 ] as well as advances made in solar cell technology over the past several decades, makes it economically preferable to use solar panels of practical size to provide power at a distance of 5 a.u. from the Sun . [ 98 ] The Juno spacecraft uses three solar panels symmetrically arranged around the spacecraft. Shortly after it cleared Earth's atmosphere, the panels were deployed. Two of the panels have four hinged segments each, and the third panel has three segments and a magnetometer . Each panel is 2.7 by 8.9 m (8 ft 10 in by 29 ft 2 in) [ 99 ] providing 50 square metres (540 sq ft) of active cells [ 100 ] [ 101 ] – the largest on any NASA deep-space probe at the time of launching. [ 102 ] The combined mass of the three panels is nearly 340 kg (750 lb). [ 103 ] If the panels were optimized to operate at Earth, they would produce 12 to 14 kilowatts of power. Only about 486 watts were generated when Juno arrived at Jupiter, projected to decline to near 420 watts as radiation degrades the cells. [ 104 ] The solar panels will remain in sunlight continuously from launch through the end of the mission, except for short periods during the operation of the main engine and eclipses by Jupiter. A central power distribution and drive unit monitors the power that is generated by the solar panels and distributes it to instruments, heaters, and experiment sensors, as well as to batteries that are charged when excess power is available. Two 55 Ah lithium-ion batteries that are able to withstand the radiation environment of Jupiter provide power when Juno passes through eclipse. [ 105 ] Telecommunications [ edit ] Juno 's high-gain antenna dish being installed Juno uses in-band signaling (\"tones\") for several critical operations as well as status reporting during cruise mode, [ 106 ] but it is expected to be used infrequently. Communications are via the 34 m (112 ft) and 70 m (230 ft) antennas of the NASA Deep Space Network (DSN) utilizing an X-band direct link. [ 105 ] The command and data processing of the Juno spacecraft includes a flight computer capable of providing about 50 Mbit/s of instrument throughput. Gravity science subsystems use the X-band and K a -band Doppler tracking and autoranging. [ 107 ] Due to telecommunications constraints, Juno will only be able to return about 40 megabytes of JunoCam data during each 11-day orbital period, limiting the number of images that are captured and transmitted during each orbit to somewhere between 10 and 100 depending on the compression level used. [ 108 ] [ needs update ] The overall amount of data downlinked on each orbit is significantly higher and used for the mission's scientific instruments; JunoCam is intended for public outreach and is thus secondary to the science data. This is comparable to the previous Galileo mission that orbited Jupiter, which captured thousands of images [ 109 ] despite its slow data rate of 1000 bit/s (at maximum compression level) due to the failure of its high gain antenna . The communication system is also used as part of the Gravity Science experiment. [ 110 ] Propulsion [ edit ] Juno uses a LEROS 1b main engine with hypergolic propellant , manufactured by Moog Inc in Westcott, Buckinghamshire , England. [ 111 ] It uses approx. 2,000 kg (4,400 lb) of hydrazine and nitrogen tetroxide for propulsion, including 1,232 kg (2,716 lb) available for the Jupiter Orbit Insertion plus subsequent orbital maneuvers. The engine provides a thrust of 645 newtons . The engine bell is enclosed in a debris shield fixed to the spacecraft body, and is used for major burns. For control of the vehicle's orientation ( attitude control ) and to perform trajectory correction maneuvers, Juno utilizes a monopropellant reaction control system (RCS) consisting of twelve small thrusters that are mounted on four engine modules. [ 105 ] Galileo plaque and minifigures [ edit ] Galileo Galilei plaque Juno carries a plaque to Jupiter, dedicated to Galileo Galilei . The plaque was provided by the Italian Space Agency (ASI) and measures 7.1 by 5.1 cm (2.8 by 2.0 in). It is made of flight-grade aluminum and weighs 6 g (0.21 oz). [ 112 ] The plaque depicts a portrait of Galileo and a text in Galileo's own handwriting, penned in January 1610, while observing what would later be known to be the Galilean moons . [ 112 ] The text translates as: On the 11th it was in this formation – and the star closest to Jupiter was half the size than the other and very close to the other so that during the previous nights all of the three observed stars looked of the same dimension and among them equally afar; so that it is evident that around Jupiter there are three moving stars invisible till this time to everyone. The spacecraft also carries three Lego minifigures representing Galileo Galilei, the Roman god Jupiter , and his sister and wife, the goddess Juno . In Roman mythology, Jupiter drew a veil of clouds around himself to hide his mischief. Juno was able to peer through the clouds and reveal Jupiter's true nature. The Juno minifigure holds a magnifying glass as a sign of searching for the truth, and Jupiter holds a lightning bolt. The third Lego crew member, Galileo Galilei, has his telescope with him on the journey. [ 113 ] The figurines were produced in partnership between NASA and Lego as part of an outreach program to inspire children's interest in science, technology, engineering, and mathematics (STEM). [ 114 ] Although most Lego toys are made of plastic, Lego specially made these minifigures of aluminum to endure the extreme conditions of space flight. [ 115 ] Scientific results [ edit ] Among early results, Juno gathered information about Jovian lightning that revised earlier theories. [ 116 ] Juno provided the first views of Jupiter's north pole, as well as providing insight about Jupiter's aurorae, magnetic field, and atmosphere. [ 117 ] In 2021, analysis of the frequency of interplanetary dust impacts (primarily on the backs of the solar panels), as Juno passed between Earth and the asteroid belt, indicated that this dust, which causes the Zodiacal light , comes from Mars , rather than from comets or asteroids that come from the outer solar system, as was previously thought. [ 118 ] Juno made many discoveries that are challenging existing theories about Jupiter's formation. When Juno flew over the poles of Jupiter it imaged clusters of stable cyclones that exist at the poles. [ 119 ] It found that the magnetosphere of Jupiter is uneven and chaotic. Using its Microwave Radiometer, Juno found that the red and white bands that can be seen on Jupiter extend hundreds of kilometers into the Jovian atmosphere, yet the interior of Jupiter is not evenly mixed. This has resulted in the theory that Jupiter does not have a solid core as previously thought, but a \"fuzzy\" core made of pieces of rock and metallic hydrogen . This peculiar core may be a result of a collision that happened early on in Jupiter's formation. [ 120 ] In April 2020, Juno detected a meteor impact on Jupiter , with estimated mass of 250-5000 kg. [ 121 ] Results from Juno on storms suggests that they are far taller than expected, with some extending 60 miles (100 kilometers) below the cloud tops and others, including the Great Red Spot, extending over 200 miles (350 kilometers). With Juno traveling low over Jupiter's cloud deck at about 130,000 mph (209,000 kph) Juno scientists were able to measure velocity changes as small 0.01 millimeter per second using a NASA's Deep Space Network tracking antenna, from a distance of more than 400 million miles (650 million kilometers). This enabled the team to constrain the depth of the Great Red Spot to about 300 miles (500 kilometers) below the cloud tops. The new results show that the cyclones are warmer on top, with lower atmospheric densities, while they are colder at the bottom, with higher densities. Anticyclones, which rotate in the opposite direction, are colder at the top but warmer at the bottom. [ 122 ] Timeline [ edit ] Date ( UTC ) Event Latitude (centric) [ 123 ] Longitude (Sys. III) [ 123 ] August 5, 2011, 16:25:00 Launched [ 124 ] August 5, 2012, 06:57:00 Deep Space Maneuvers [ 125 ] (total dV: 345 m/s + 385 m/s) [ 126 ] September 3, 2012, 06:30:00 October 9, 2013, 19:21:00 Earth gravity assist (from 126,000 to 150,000 km/h (78,000 to 93,000 mph)) [ 127 ] — Gallery July 5, 2016, 03:53:00 Arrival at Jupiter and polar orbit insertion (1st orbit). [ 4 ] [ 5 ] 3° 30° August 27, 2016, 12:50:44 Perijove 1 [ 128 ] — Gallery 4° 100° October 19, 2016, 18:10:53 Perijove 2: Planned Period Reduction Maneuver, but the main engine's fuel pressurisation system did not operate as expected. [ 129 ] 5° 350° December 11, 2016, 17:03:40 Perijove 3 [ 130 ] [ 131 ] 6° 10° February 2, 2017, 12:57:09 Perijove 4 [ 131 ] [ 132 ] 7° 270° March 27, 2017, 08:51:51 Perijove 5 [ 53 ] 8° 180° May 19, 2017, 06:00:47 Perijove 6 [ 54 ] 8° 140° July 11, 2017, 01:54:42 Perijove 7: Flyover of the Great Red Spot [ 133 ] [ 134 ] 9° 50° September 1, 2017, 21:48:50 Perijove 8 [ 135 ] 10° 320° October 24, 2017, 17:42:31 Perijove 9 [ 136 ] 11° 230° December 16, 2017, 17:56:59 Perijove 10 [ 137 ] [ 138 ] 12° 300° February 7, 2018, 13:51:49 Perijove 11 [ 124 ] 13° 210° April 1, 2018, 09:45:57 Perijove 12 [ 124 ] 14° 110° May 24, 2018, 05:40:07 Perijove 13 [ 124 ] 15° 20° July 16, 2018, 05:17:38 Perijove 14 [ 124 ] 16° 70° September 7, 2018, 01:11:55 Perijove 15 [ 124 ] 17° 340° October 29, 2018, 21:06:15 Perijove 16 [ 124 ] 17° 250° December 21, 2018, 17:00:25 Perijove 17 [ 139 ] [ 124 ] 18° 160° February 12, 2019, 16:19:48 Perijove 18 [ 124 ] 19° 240° April 6, 2019, 12:13:58 Perijove 19 [ 124 ] 20° 100° May 29, 2019, 08:08:13 Perijove 20 [ 124 ] 20° 10° July 21, 2019, 04:02:44 Perijove 21 [ 140 ] [ 124 ] 21° 280° September 12, 2019, 03:40:47 Perijove 22 [ 140 ] [ 124 ] 22° 320° November 3, 2019, 23:32:56 Perijove 23 [ 124 ] 22° 190° December 26, 2019, 16:58:59 Perijove 24: Distant Ganymede flyby [ 124 ] [ 141 ] 23° 70° February 17, 2020, 17:51:36 Perijove 25 [ 124 ] 23° 140° April 10, 2020, 14:24:34 Perijove 26 [ 124 ] 24° 50° June 2, 2020, 10:19:55 Perijove 27 [ 124 ] 25° 340° July 25, 2020, 06:15:21 Perijove 28 [ 124 ] 25° 250° September 16, 2020, 02:10:49 Perijove 29 [ 124 ] 26° 160° November 8, 2020, 01:49:39 Perijove 30 [ 124 ] 27° 210° December 30, 2020, 21:45:12 Perijove 31 [ 124 ] 27° 120° February 21, 2021, 17:40:31 Perijove 32 [ 124 ] 28° 30° April 15, 2021, 13:36:26 Perijove 33 [ 124 ] [ 142 ] 29° 300° June 8, 2021, 07:46:00 Perijove 34: Ganymede flyby, coming within 1,038 km (645 mi) of the moon's surface. [ 23 ] Orbital period reduced from 53 days to 43 days. [ 143 ] [ 124 ] [ 123 ] 28° 290° July 21, 2021, 08:15:05 Perijove 35: End of first mission extension. [ 143 ] Originally scheduled for July 30, 2021, prior to approval of second mission extension. [ 144 ] 29° 300° September 2, 2021 Perijove 36 [ 124 ] 30° 100° October 16, 2021 Perijove 37 [ 124 ] 31° 40° November 29, 2021 Perijove 38 [ 124 ] 31° 80° January 12, 2022 Perijove 39 [ 124 ] 32° 90° February 25, 2022 Perijove 40 [ 124 ] 33° 280° April 9, 2022 Perijove 41 [ 124 ] 34° 60° May 23, 2022 Perijove 42 [ 124 ] 35° 70° July 5, 2022 Perijove 43 [ 124 ] 36° 310° August 17, 2022 Perijove 44 [ 124 ] 37° 150° September 29, 2022, 09:36 Perijove 45: Europa flyby. Closest approach: 352 km (219 mi). Orbital period reduced from 43 days to 38 days. [ 58 ] [ 59 ] [ 123 ] 37° 230° November 6, 2022 Perijove 46 [ 124 ] 38° 350° December 15, 2022 Perijove 47: Io flyby on Dec 14, 2022. Closest approach: 64,000 km (40,000 mi). [ 124 ] 39° 160° January 22, 2023 Perijove 48 [ 124 ] 40° 200° March 1, 2023 Perijove 49 [ 124 ] 41° 170° April 8, 2023 Perijove 50 [ 124 ] 42° 210° May 16, 2023 Perijove 51 [ 124 ] 43° 140° June 23, 2023 Perijove 52 [ 124 ] 44° 80° July 31, 2023 Perijove 53: Io flyby on July 30, 2023. Closest approach: 22,000 km (14,000 mi). [ 145 ] 45° 120° September 7, 2023 Perijove 54 [ 124 ] 45° 190° October 15, 2023 Perijove 55 [ 124 ] 46° 110° November 22, 2023 Perijove 56 [ 124 ] 47° 120° December 30, 2023 Perijove 57: Io flyby. Closest approach: 1,500 km (930 mi). [ 146 ] 47° 90° February 3, 2024 Perijove 58: Io flyby. Closest approach: 1,500 km (930 mi). [ 146 ] Orbital period reduced from 38 to 33 days. [ 143 ] [ 123 ] 48° 290° March 7, 2024 Perijove 59:  Distant Amalthea flyby. Closest approach: 117,500 km (73,000 mi) [ 123 ] 49° 0° April 9, 2024 Perijove 60 [ 123 ] 50° 40° May 12, 2024 Perijove 61 [ 123 ] 51° 250° June 14, 2024 Perijove 62 [ 123 ] 52° 60° July 17, 2024 Perijove 63 [ 123 ] 53° 260° August 18, 2024 Perijove 64 [ 123 ] 54° 40° September 20, 2024 Perijove 65 [ 123 ] 55° 240° October 23, 2024 Perijove 66 [ 123 ] 56° 20° November 25, 2024 Perijove 67 [ 123 ] 57° 120° December 28, 2024 Perijove 68 [ 123 ] 57° 310° January 30, 2025 Perijove 69 [ 123 ] 58° 110° March 4, 2025 Perijove 70: Thebe flyby on March 2, 2025. Closest approach: 31,780 km (19,750 mi) [ 123 ] 59° 0° April 5, 2025 Perijove 71 [ 123 ] 60° 210° May 8, 2025 Perijove 72 [ 123 ] 61° 50° June 10, 2025 Perijove 73 [ 123 ] 62° 320° July 13, 2025 Perijove 74 [ 123 ] 63° 180° August 15, 2025 Perijove 75 [ 123 ] 63° 80° September 17, 2025 Perijove 76: End of second mission extension. [ 143 ] [ 123 ] 64° 320° Gallery [ edit ] Jupiter [ edit ] Perijove 26 image Image from about 94,500 km (58,700 mi) of Jupiter's southern polar region (27 August 2016) Jupiter growing and shrinking in apparent size before and after the spacecraft made its closest approach (27 August 2016) Infrared view of the southern aurora of Jupiter (27 August 2016) Southern storms of Jupiter Area of Jupiter where multiple atmospheric conditions appear to collide (27 March 2017) Retreating from Jupiter, about 46,900 km (29,100 mi) above the cloud tops (19 May 2017) Image taken from 16,535 km (10,274 mi) above the atmosphere at a latitude of −36.9° (10 July 2017) Closeup of the Great Red Spot taken from about 8,000 km (5,000 mi) above it (11 July 2017) The Great Red Spot as seen by JunoCam in April 2018 Jupiter viewed by Juno (12 February 2019) Jupiter flyover (Juno; 05:07; 2 June 2020) Photograph taken at the end of Perijove 15 (September 6, 2018) Moons [ edit ] Ganymede, taken by the JunoCam instrument during Juno ' s flyby on 7 June 2021 [ 147 ] Infrared view of Ganymede during the anniversary flyby by Juno View of Europa taken during Juno ' s flyby on 29 September 2022 Low resolution view of Io captured by JunoCam (September 2017) Io, as recorded by JunoCam (2 September 2017) Plume near Io's terminator (21 December 2018) [ 148 ] Io, viewed by JunoCam Several Volcanos (15 October 2023) Io, viewed by JunoCam Volcanic plume (15 October 2023) Io, taken by the JunoCam instrument during Juno ' s flyby (30 December 2023) [ 149 ] See also [ edit ] Atmosphere of Jupiter Comet Shoemaker–Levy 9 Europa Clipper Exploration of Jupiter Jupiter Icy Moons Explorer List of missions to the outer planets Moons of Jupiter References [ edit ] ^ a b \"Juno Mission to Jupiter\" (PDF) . NASA FACTS. NASA. April 2009. p. 1. Archived (PDF) from the original on April 6, 2020 . Retrieved April 5, 2011 . This article incorporates text from this source, which is in the public domain . ^ a b c d \"Jupiter Orbit Insertion Press Kit\" (PDF) . NASA. 2016. Archived (PDF) from the original on August 14, 2016 . Retrieved July 7, 2016 . This article incorporates text from this source, which is in the public domain . ^ a b Foust, Jeff (July 5, 2016). \"Juno enters orbit around Jupiter\" . SpaceNews. Archived from the original on December 31, 2016 . Retrieved August 25, 2016 . ^ a b c d e Chang, Kenneth (July 5, 2016). \"NASA's Juno Spacecraft Enters Jupiter's Orbit\" . The New York Times . Archived from the original on May 2, 2019 . Retrieved July 5, 2016 . ^ a b c d Greicius, Tony (September 21, 2015). \"Juno – Mission Overview\" . NASA. Archived from the original on September 7, 2018 . Retrieved October 2, 2015 . This article incorporates text from this source, which is in the public domain . ^ Dunn, Marcia (August 5, 2011). \"NASA probe blasts off for Jupiter after launch-pad snags\" . NBC News. Archived from the original on September 14, 2019 . Retrieved August 31, 2011 . ^ a b Chang, Kenneth (June 28, 2016). \"NASA's Juno Spacecraft Will Soon Be in Jupiter's Grip\" . The New York Times . Archived from the original on August 14, 2018 . Retrieved June 30, 2016 . ^ a b c d Riskin, Dan (July 4, 2016). Mission Jupiter (Television documentary). Science Channel. ^ Cheng, Andrew; Buckley, Mike; Steigerwald, Bill (May 21, 2008). \"Winds in Jupiter's Little Red Spot Almost Twice as Fast as Strongest Hurricane\" . NASA. Archived from the original on May 13, 2017 . Retrieved August 9, 2017 . This article incorporates text from this source, which is in the public domain . ^ \"Juno's Solar Cells Ready to Light Up Jupiter Mission\" . NASA. July 15, 2011. Archived from the original on February 16, 2017 . Retrieved October 4, 2015 . This article incorporates text from this source, which is in the public domain . ^ a b \"NASA's Juno Spacecraft Launches to Jupiter\" . NASA. August 5, 2011. Archived from the original on April 26, 2020 . Retrieved August 5, 2011 . This article incorporates text from this source, which is in the public domain . ^ \"Mission Acronyms & Definitions\" (PDF) . NASA. Archived (PDF) from the original on September 25, 2020 . Retrieved April 30, 2016 . This article incorporates text from this source, which is in the public domain . ^ \"Juno Launch Press Kit, Quick Facts\" (PDF) . jpl.nasa.gov . Jet Propulsion Lab. August 2011. Archived (PDF) from the original on June 17, 2019 . Retrieved May 23, 2019 . This article incorporates text from this source, which is in the public domain . ^ Leone, Dan (February 23, 2015). \"NASA Sets Next US$1 Billion New Frontiers Competition for 2016\" . SpaceNews . Retrieved January 2, 2017 . ^ Hillger, Don; Toth, Garry (September 20, 2016). \"New Frontiers-series satellites\" . Colorado State University. Archived from the original on November 30, 2016 . Retrieved January 2, 2017 . ^ \"Juno Mission to Jupiter\" . Astrobiology Magazine . June 9, 2005. Archived from the original on June 20, 2018 . Retrieved December 7, 2016 . ^ a b Ludwinski, Jan M.; Guman, Mark D.; Johannesen, Jennie R.; Mitchell, Robert T.; Staehle, Robert L. (1998). The Europa Orbiter Mission Design . 49th International Astronautical Congress, September 28 – October 2, 1998, Melbourne, Australia. hdl : 2014/20516 . ^ a b Zeller, Martin (January 2001). \"NASA Announces New Discovery Program Awards\" . NASA and University of Southern California. Archived from the original on March 5, 2017 . Retrieved December 25, 2016 . This article incorporates text from this source, which is in the public domain . ^ Dougherty, M. K.; Grasset, O.; Bunce, E.; Coustenis, A.; Titov, D. V.; et al. (2011). JUICE (JUpiter ICy moon Explorer): a European-led mission to the Jupiter system (PDF) . EPSC-DPS Joint Meeting 2011, October 2–7, 2011, Nantes, France. Bibcode : 2011epsc.conf.1343D . Archived (PDF) from the original on November 21, 2011 . Retrieved December 25, 2016 . ^ Dunn, Marcia (August 1, 2011). \"NASA going green with solar-powered Jupiter probe\" . USA Today . Archived from the original on April 26, 2020 . Retrieved October 24, 2015 . ^ \"NASA's Shuttle and Rocket Launch Schedule\" . NASA. Archived from the original on September 13, 2008 . Retrieved February 17, 2011 . This article incorporates text from this source, which is in the public domain . ^ a b c d Brown, Dwayne; Cantillo, Laurie; Agle, D. C. (February 17, 2017). \"NASA's Juno Mission to Remain in Current Orbit at Jupiter\" (Press release). NASA. Archived from the original on February 20, 2017 . Retrieved March 13, 2017 . This article incorporates text from this source, which is in the public domain . ^ a b c Greicius, Tony (June 3, 2021). \"NASA's Juno to Get a Close Look at Jupiter's Moon Ganymede\" . NASA . Archived from the original on June 3, 2021 . Retrieved June 4, 2021 . ^ a b \"See the First Images NASA's Juno Took as It Sailed by Ganymede | NASA\" . June 8, 2021. Archived from the original on June 9, 2021 . Retrieved June 9, 2021 . ^ \"NASA's Juno Mission Expands Into the Future\" (Press release). NASA. January 13, 2021. Archived from the original on January 23, 2021 . Retrieved January 21, 2021 . This article incorporates text from this source, which is in the public domain . ^ Carter, Jamie. \"Self-Destruction Of $1.4 Billion Spacecraft At Jupiter Scrubbed By NASA As It Returns More Stunning Images\" . Forbes . Retrieved November 11, 2022 . ^ a b Juno Mission Profile & Timeline Archived November 25, 2011, at the Wayback Machine ^ a b c \"Atlas/Juno launch timeline\" . Spaceflight Now. July 28, 2011. Archived from the original on March 17, 2021 . Retrieved July 29, 2011 . ^ \"Juno's Solar Cells Ready to Light Up Jupiter Mission\" . NASA. June 27, 2016. Archived from the original on April 26, 2020 . Retrieved July 5, 2016 . This article incorporates text from this source, which is in the public domain . ^ a b Whigham, Nick (July 7, 2016). \"The success of Juno's Jupiter mission has its origins in a famous idea from more than 50 years ago\" . news.com.au . Archived from the original on January 6, 2019 . Retrieved January 5, 2019 . ^ Wall, Mike (October 9, 2013). \"NASA Spacecraft Slingshots By Earth On Way to Jupiter, Snaps Photos\" . Space.com. Archived from the original on January 6, 2019 . Retrieved January 5, 2019 . ^ Agle, D. C. (August 12, 2013). \"NASA's Juno is Halfway to Jupiter\" . NASA/JPL. Archived from the original on August 2, 2020 . Retrieved August 12, 2013 . This article incorporates text from this source, which is in the public domain . ^ Greicius, Tony, ed. (March 25, 2014). \"Earth Triptych from NASA's Juno Spacecraft\" . NASA. Archived from the original on November 13, 2016 . Retrieved November 26, 2017 . This article incorporates text from this source, which is in the public domain . ^ a b c \"Earth Flyby – Mission Juno\" . missionjuno.swri.edu . Archived from the original on October 3, 2015 . Retrieved October 2, 2015 . ^ \"NASA's Juno Gives Starship-Like View of Earth Flyby\" . February 13, 2015. Archived from the original on March 3, 2020 . Retrieved October 2, 2015 . This article incorporates text from this source, which is in the public domain . ^ Greicius, Tony (August 26, 2013). \"Juno Earth Flyby\" . NASA. Archived from the original on April 26, 2020 . Retrieved October 8, 2015 . This article incorporates text from this source, which is in the public domain . ^ Greicius, Tony (February 13, 2015). \"NASA's Juno Gives Starship-Like View of Earth Flyby\" . Archived from the original on March 3, 2020 . Retrieved July 5, 2016 . This article incorporates text from this source, which is in the public domain . ^ Chang, Kenneth (July 5, 2016). \"NASA's Juno Spacecraft Enters Jupiter's Orbit\" . The New York Times . Archived from the original on May 2, 2019 . Retrieved July 5, 2016 . ^ \"NASA's Juno Spacecraft in Orbit Around Mighty Jupiter\" . NASA. July 4, 2016. Archived from the original on July 6, 2016 . Retrieved July 5, 2016 . This article incorporates text from this source, which is in the public domain . ^ Clark, Stephen (July 4, 2016). \"Live coverage: NASA's Juno spacecraft arrives at Jupiter\" . Spaceflight Now. Archived from the original on July 5, 2016 . Retrieved July 5, 2016 . ^ Gebhardt, Chris (September 3, 2016). \"Juno provides new data on Jupiter; readies for primary science mission\" . NASASpaceflight.com. Archived from the original on October 20, 2016 . Retrieved October 23, 2016 . ^ Clark, Stephen (February 21, 2017). \"NASA's Juno spacecraft to remain in current orbit around Jupiter\" . Spaceflight Now. Archived from the original on February 26, 2017 . Retrieved April 26, 2017 . ^ Moomaw, Bruce (March 11, 2007). \"Juno Gets A Little Bigger With One More Payload For Jovian Delivery\" . Space Daily. Archived from the original on January 26, 2021 . Retrieved August 31, 2011 . ^ \"Juno Armored Up to Go to Jupiter\" . NASA. July 12, 2010. Archived from the original on August 13, 2016 . Retrieved July 11, 2016 . This article incorporates text from this source, which is in the public domain . ^ \"Understanding Juno's Orbit: An Interview with NASA's Scott Bolton\" . universetoday.com . January 8, 2016. Archived from the original on February 7, 2016 . Retrieved February 6, 2016 . ^ \"Armored Spacecraft Sets Course for Jupiter - IEEE Spectrum\" . ^ \"Juno's risky rendezvous with Jupiter\" . July 2016. ^ Webster, Guy (December 17, 2002). \"Galileo Millennium Mission Status\" . NASA – Jet Propulsion Laboratory. Archived from the original on November 24, 2020 . Retrieved February 22, 2017 . This article incorporates text from this source, which is in the public domain . ^ Firth, Niall (September 5, 2016). \"NASA's Juno probe snaps first images of Jupiter's north pole\" . New Scientist. Archived from the original on September 6, 2016 . Retrieved September 5, 2016 . ^ Agle, D. C.; Brown, Dwayne; Cantillo, Laurie (October 15, 2016). \"Mission Prepares for Next Jupiter Pass\" . NASA. Archived from the original on June 17, 2019 . Retrieved October 19, 2016 . This article incorporates text from this source, which is in the public domain . ^ Grush, Loren (October 19, 2016). \"NASA's Juno spacecraft went into safe mode last night\" . The Verge. Archived from the original on March 5, 2017 . Retrieved October 23, 2016 . ^ \"NASA Juno Mission Completes Latest Jupiter Flyby\" . NASA / Jet Propulsion Laboratory. December 9, 2016. Archived from the original on May 17, 2017 . Retrieved February 4, 2017 . This article incorporates text from this source, which is in the public domain . ^ a b c Agle, D. C.; Brown, Dwayne; Cantillo, Laurie (March 27, 2017). \"NASA's Juno Spacecraft Completes Fifth Jupiter Flyby\" . NASA. Archived from the original on March 29, 2017 . Retrieved March 31, 2017 . This article incorporates text from this source, which is in the public domain . ^ a b Anderson, Natali (May 20, 2017). \"NASA's Juno Spacecraft Completes Sixth Jupiter Flyby\" . Sci-News. Archived from the original on May 25, 2017 . Retrieved June 4, 2017 . ^ Agle, D. C.; Wendel, JoAnna; Schmid, Deb (June 6, 2018). \"NASA Re-plans Juno's Jupiter Mission\" . NASA/JPL. Archived from the original on July 24, 2020 . Retrieved January 5, 2019 . ^ a b Talbert, Tricia (January 8, 2021). \"NASA Extends Exploration for Two Planetary Science Missions\" . NASA . Archived from the original on January 11, 2021 . Retrieved January 11, 2021 . ^ \"NASA spacecraft captures first closeups of Jupiter's largest moon in decades | Jupiter | the Guardian\" . www.theguardian.com . Archived from the original on June 9, 2021 . Retrieved February 2, 2022 . ^ a b \"NASA's Juno Shares First Image From Flyby of Jupiter's Moon Europa\" . NASA . September 29, 2022 . Retrieved September 30, 2022 . ^ a b Chang, Kenneth (September 30, 2022). \"New Europa Pictures Beamed Home by NASA's Juno Spacecraft\" . The New York Times . Retrieved September 30, 2022 . ^ \"NASA's Juno Orbiter Captures Stunning Images of Jupiter's Moon Io\" . February 9, 2024 . Retrieved March 7, 2024 . ^ \"Mission Name: Juno\" . NASA's Planetary Data System . July 2020. Archived from the original on January 11, 2021 . Retrieved January 9, 2021 . This article incorporates text from this source, which is in the public domain . ^ Bartels, Meghan (July 5, 2016). \"To protect potential alien life, NASA will destroy its US$1 billion Jupiter spacecraft on purpose\" . Business Insider. Archived from the original on January 8, 2018 . Retrieved January 7, 2018 . ^ Dickinson, David (February 21, 2017). \"Juno Will Stay in Current Orbit Around Jupiter\" . Sky and Telescope. Archived from the original on January 8, 2018 . Retrieved January 7, 2018 . ^ \"NASA Juno Spacecraft to remain in Elongated Capture Orbit around Jupiter\" . Spaceflight101.com. February 18, 2017. Archived from the original on October 31, 2017 . Retrieved January 7, 2018 . ^ \"Juno Institutional Partners\" . University of Wisconsin–Madison. 2008. Archived from the original on November 15, 2009 . Retrieved August 8, 2009 . ^ \"NASA Sets Launch Coverage Events For Mission To Jupiter\" . NASA. July 27, 2011. Archived from the original on September 17, 2011 . Retrieved July 27, 2011 . This article incorporates text from this source, which is in the public domain . ^ \"The Planetary Exploration Budget Dataset\" . The Planetary Society. Archived from the original on April 12, 2020 . Retrieved April 12, 2020 . ^ \"Jupiter Awaits Arrival of Juno\" . Archived from the original on June 28, 2016 . Retrieved June 28, 2016 . ^ a b \"Juno Science Objectives\" . University of Wisconsin–Madison. Archived from the original on September 19, 2015 . Retrieved October 13, 2008 . ^ Iorio, L. (August 2010). \"Juno, the angular momentum of Jupiter and the Lense–Thirring effect\". New Astronomy . 15 (6): 554– 560. arXiv : 0812.1485 . Bibcode : 2010NewA...15..554I . doi : 10.1016/j.newast.2010.01.004 . ^ Helled, R.; Anderson, J.D.; Schubert, G.; Stevenson, D.J. (December 2011). \"Jupiter's moment of inertia: A possible determination by Juno\". Icarus . 216 (2): 440– 448. arXiv : 1109.1627 . Bibcode : 2011Icar..216..440H . doi : 10.1016/j.icarus.2011.09.016 . S2CID 119077359 . ^ Iorio, L. (2013). \"A possible new test of general relativity with Juno\". Classical and Quantum Gravity . 30 (18): 195011. arXiv : 1302.6920 . Bibcode : 2013CQGra..30s5011I . doi : 10.1088/0264-9381/30/19/195011 . S2CID 119301991 . ^ \"Instrument overview\" . Wisconsin University-Madison. Archived from the original on October 16, 2008 . Retrieved October 13, 2008 . ^ a b c d Dodge, R.; Boyles, M. A.; Rasbach, C. E. (September 2007). \"Key and driving requirements for the Juno payload suite of instruments\" (PDF) . NASA. GS, p. 8; JADE and JEDI, p. 9. Archived from the original (PDF) on July 21, 2011 . Retrieved December 5, 2010 . This article incorporates text from this source, which is in the public domain . ^ a b c d \"Juno Spacecraft: Instruments\" . Mission Juno . Southwest Research Institute . Archived from the original on April 26, 2012 . Retrieved December 20, 2011 . ^ \"Juno launch: press kit August 2011\" (PDF) . NASA. pp. 16– 20. Archived (PDF) from the original on October 25, 2011 . Retrieved December 20, 2011 . This article incorporates text from this source, which is in the public domain . ^ \"More and Juno Ka-band transponder design, performance, qualification and in-flight validation\" (PDF) . Laboratorio di Radio Scienza del Dipartimento di Ingegneria Meccanica e Aerospaziale, università \"Sapienza\". 2013. Archived (PDF) from the original on March 4, 2016 . Retrieved July 10, 2015 . ^ Owen, T.; Limaye, S. (October 23, 2008). \"Instruments : microwave radiometer\" . University of Wisconsin–Madison. Archived from the original on March 28, 2014. ^ \"Juno spacecraft MWR\" . University of Wisconsin–Madison. Archived from the original on August 21, 2015 . Retrieved October 19, 2015 . ^ a b c \"After Five Years in Space, a Moment of Truth\" . Mission Juno . Southwest Research Institute. Archived from the original on April 17, 2016 . Retrieved October 18, 2016 . ^ \"About JIRAM\" . IAPS (Institute for Space Astrophysics and Planetology of the Italian INAF ). Archived from the original on August 9, 2016 . Retrieved June 27, 2016 . ^ Owen, T.; Limaye, S. (October 23, 2008). \"Instruments : the Jupiter Infrared Aural Mapper\" . University of Wisconsin–Madison. Archived from the original on March 3, 2016. ^ \"Juno spacecraft JIRAM\" . University of Wisconsin–Madison. Archived from the original on August 21, 2015 . Retrieved October 19, 2015 . ^ Rogers, John. \"JunoCam at PJ57: Part I: Io\" (PDF) . britastro.org . Retrieved April 2, 2024 . ^ Anderson, John; Mittskus, Anthony (October 23, 2008). \"Instruments: Gravity Science Experiment\" . University of Wisconsin–Madison. Archived from the original on February 4, 2016. ^ \"Juno spacecraft GS\" . University of Wisconsin–Madison. Archived from the original on August 21, 2015 . Retrieved December 31, 2015 . ^ \"Juno spacecraft JADE\" . University of Wisconsin–Madison. Archived from the original on August 21, 2015 . Retrieved December 31, 2015 . ^ \"Juno spacecraft JEDI\" . University of Wisconsin–Madison. Archived from the original on August 21, 2015 . Retrieved October 19, 2015 . ^ Agle, D. C.; Brown, Dwayne; Wendel, JoAnna; Schmid, Deb (December 12, 2018). \"NASA's Juno Mission Halfway to Jupiter Science\" . NASA/JPL. Archived from the original on December 14, 2018 . Retrieved January 5, 2019 . This article incorporates text from this source, which is in the public domain . ^ \"Understanding Juno's Orbit: An Interview with NASA's Scott Bolton\" . Universe Today. January 8, 2016. Archived from the original on February 7, 2016 . Retrieved February 6, 2016 . ^ \"Ganymede in True (RGB) and False (GRB) Colour\" . JunoCam Image Processing . NASA, SwRI, MSSS. June 12, 2021 . Retrieved June 13, 2021 . ^ \"Cruising to Jupiter: A Powerful Math Lesson – Teachable Moments\" . NASA/JPL Edu . Archived from the original on March 20, 2021 . Retrieved June 10, 2021 . ^ \"NASA's Juno Mission to Jupiter to Be Farthest Solar-Powered Trip\" . Space.com . August 4, 2011. Archived from the original on October 3, 2015 . Retrieved October 2, 2015 . ^ David Dickinson (March 21, 2013). \"U.S. to restart plutonium production for deep space exploration\" . Universe Today. Archived from the original on March 17, 2021 . Retrieved February 15, 2015 . ^ Greenfieldboyce, Nell. \"Plutonium Shortage Could Stall Space Exploration\" . NPR.org . NPR. Archived from the original on August 3, 2020 . Retrieved December 10, 2013 . ^ Greenfieldboyce, Nell. \"The Plutonium Problem: Who Pays For Space Fuel?\" . NPR.org . NPR. Archived from the original on May 3, 2018 . Retrieved December 10, 2013 . ^ Wall, Mike (April 6, 2012). \"Plutonium Production May Avert Spacecraft Fuel Shortage\" . Space.com . Archived from the original on July 3, 2013 . Retrieved December 10, 2013 . ^ \"NASA's Juno Spacecraft Breaks Solar Power Distance Record\" . NASA. January 13, 2016 . Retrieved April 29, 2023 . ^ \"Juno Solar Panels Complete Testing\" . NASA. June 24, 2016. Archived from the original on March 23, 2021 . Retrieved July 5, 2016 . This article incorporates text from this source, which is in the public domain . ^ \"JPL: Calculating solar power in space\" . Jet Propulsion Laboratory . Retrieved October 15, 2023 . ^ \"Lockheed Martin: Looking at Jupiter like never before\" . Retrieved October 15, 2023 . ^ NASA's Juno Spacecraft Launches to Jupiter Archived April 26, 2020, at the Wayback Machine \"... and that its massive solar arrays, the biggest on any NASA deep-space probe, have deployed and are generating power\". This article incorporates text from this source, which is in the public domain . ^ \"Juno's Solar Cells Ready to Light Up Jupiter Mission\" . Archived from the original on December 25, 2014 . Retrieved June 19, 2014 . ^ \"Juno prepares for mission to Jupiter\" . Machine Design. Archived from the original on October 31, 2010 . Retrieved November 2, 2010 . ^ a b c \"Juno Spacecraft Information – Power Distribution\" . Spaceflight 101.com. 2011. Archived from the original on November 25, 2011 . Retrieved August 6, 2011 . ^ \"Key Terms\" . Mission Juno . Southwest Research Institute. Section TONES. Archived from the original on May 5, 2016. ^ Asmar, Sami W.; Bolton, Scott J.; Buccino, Dustin R.; Cornish, Timothy P.; Folkner, William M.; Formaro, Roberto; Iess, Luciano; Jongeling, Andre P.; Lewis, Dorothy K.; Mittskus, Anthony P.; Mukai, Ryan; Simone, Lorenzo (2017). \"The Juno Gravity Science Instrument\" . Space Science Reviews . 213 ( 1– 4): 205. Bibcode : 2017SSRv..213..205A . doi : 10.1007/s11214-017-0428-7 . S2CID 125973393 . Doppler measurements at X-band (~8 GHz) are supported by the spacecraft telecommunications subsystem for command and telemetry and are used for spacecraft navigation as well as Gravity Science. The spacecraft also includes a Ka-band (~32 GHz) translator and amplifier specifically for the Gravity Science investigation contributed by the Italian Space Agency. ^ \"Junocam will get us great global shots down onto Jupiter's poles\" . Archived from the original on January 23, 2013 . Retrieved July 6, 2016 . ^ \"Overview | Galileo\" . solarsystem.nasa.gov . NASA . Archived from the original on February 15, 2017 . Retrieved May 14, 2021 . ^ \"Planetary Data System – Gravity Science Experiment\" . nmsu.edu . Retrieved April 29, 2023 . ^ Amos, Jonathan (September 4, 2012). \"Juno Jupiter probe gets British boost\" . BBC News. Archived from the original on July 17, 2018 . Retrieved September 4, 2012 . ^ a b \"Juno Jupiter Mission to Carry Plaque Dedicated to Galileo\" . NASA. August 3, 2011. Archived from the original on May 8, 2020 . Retrieved August 5, 2011 . ^ \" Juno Spacecraft to Carry Three Lego minifigures to Jupiter Orbit\" . NASA. August 3, 2011. Archived from the original on May 8, 2020 . Retrieved August 5, 2011 . This article incorporates text from this source, which is in the public domain . ^ \"Juno Spacecraft to Carry Three Figurines to Jupiter Orbit\" . NASA. August 3, 2011. Archived from the original on December 22, 2016 . Retrieved December 25, 2016 . This article incorporates text from this source, which is in the public domain . ^ Pachal, Peter (August 5, 2011). \"Jupiter Probe Successfully Launches With Lego On Board\" . PC Magazine . Archived from the original on July 4, 2017 . Retrieved September 2, 2017 . ^ Connerney, John; et al. (June 2018). \"Prevalent lightning sferics at 600 megahertz near Jupiter's poles\". Nature . 558 (7708): 87– 90. Bibcode : 2018Natur.558...87B . doi : 10.1038/s41586-018-0156-5 . PMID 29875484 . S2CID 46952214 . ^ \"Overview | Juno\" . NASA . Archived from the original on May 19, 2021 . Retrieved May 19, 2021 . ^ Shekhtman, Lonnie (March 9, 2021). \"Serendipitous Juno Detections Shatter Ideas About Origin of Zodiacal Light\" . Jet Propulsion Laboratory . NASA . Archived from the original on March 18, 2021 . Retrieved March 19, 2021 . ^ \"NASA's Juno Navigators Enable Jupiter Cyclone Discovery\" . NASA Jet Propulsion Laboratory (JPL) . Retrieved May 14, 2022 . ^ Crockett, Christopher (June 8, 2020). \"What has the Juno spacecraft taught us about Jupiter?\" . Astronomy.com . Retrieved May 14, 2022 . ^ \"Meteor in Jupiter's atmosphere, observed by Juno UVS\" . Mission Juno . Retrieved August 17, 2023 . ^ Margetta, Robert (October 28, 2021). \"NASA's Juno: Science Results Offer First 3D View of Jupiter Atmosphere\" . NASA . Retrieved August 17, 2023 . This article incorporates text from this source, which is in the public domain . ^ a b c d e f g h i j k l m n o p q r s t u v w \"Mission Perijoves\" . Mission Juno . Retrieved September 1, 2023 . ^ a b c d e f g h i j k l m n o p q r s t u v w x y z aa ab ac ad ae af ag ah ai aj ak al am an ao ap aq ar \"PDS: Mission Information\" . Planetary Data System . NASA . March 2022. Archived from the original on June 21, 2022 . Retrieved June 21, 2022 . ^ Agle, D. C.; Martinez, Maria (September 17, 2012). \"Juno's Two Deep Space Maneuvers are 'Back-To-Back Home Runs' \" . NASA/JPL. Archived from the original on August 2, 2020 . Retrieved October 12, 2015 . This article incorporates text from this source, which is in the public domain . ^ \"Juno Mission & Trajectory Design – Juno\" . ^ \"Juno Earth Flyby – 9 October 2013\" . NASA. August 26, 2013. Archived from the original on April 26, 2020 . Retrieved July 4, 2016 . ^ Agle, D. C.; Brown, Dwayne; Cantillo, Laurie (August 27, 2016). \"NASA's Juno Successfully Completes Jupiter Flyby\" . NASA. Archived from the original on March 9, 2021 . Retrieved October 1, 2016 . This article incorporates text from this source, which is in the public domain . ^ \"Mission Prepares for Next Jupiter Pass\" . Mission Juno . Southwest Research Institute. October 14, 2016. Archived from the original on March 17, 2021 . Retrieved October 15, 2016 . ^ Agle, D. C.; Brown, Dwayne; Cantillo, Laurie (December 12, 2016). \"NASA Juno Mission Completes Latest Jupiter Flyby\" . NASA – Jet Propulsion Laboratory. Archived from the original on May 17, 2017 . Retrieved December 12, 2016 . This article incorporates text from this source, which is in the public domain . ^ a b Thompson, Amy (December 10, 2016). \"NASA's Juno Spacecraft Preps for Third Science Orbit\" . Inverse. Archived from the original on March 17, 2021 . Retrieved December 12, 2016 . ^ \"It's Never 'Groundhog Day' at Jupiter\" . NASA – Jet Propulsion Laboratory. February 1, 2017. Archived from the original on September 22, 2020 . Retrieved February 4, 2017 . This article incorporates text from this source, which is in the public domain . ^ Witze, Alexandra (May 25, 2017). \"Jupiter's secrets revealed by NASA probe\" . Nature . doi : 10.1038/nature.2017.22027 . Archived from the original on June 4, 2017 . Retrieved June 14, 2017 . ^ Lakdawalla, Emily (November 3, 2016). \"Juno update: 53.5-day orbits for the foreseeable future, more Marble Movie\" . The Planetary Society. Archived from the original on April 26, 2020 . Retrieved June 14, 2017 . ^ \"Photos from Juno's Seventh Science Flyby of Jupiter\" . Spaceflight101.com. September 8, 2017. Archived from the original on February 13, 2018 . Retrieved February 12, 2018 . ^ Mosher, Dave (November 7, 2017). \"NASA's US$1 billion Jupiter probe just sent back stunning new photos of the gas giant\" . Business Insider. Archived from the original on March 4, 2018 . Retrieved March 4, 2018 . ^ \"Juno's Perijove-10 Jupiter Flyby, Reconstructed in 125-Fold Time-Lapse\" . NASA / JPL / SwRI / MSSS / SPICE / Gerald Eichstädt. December 25, 2017. Archived from the original on February 13, 2018 . Retrieved February 12, 2018 . ^ \"Overview of Juno's Perijove 10\" . The Planetary Society. December 16, 2017. Archived from the original on February 13, 2018 . Retrieved February 12, 2018 . ^ Boyle, Alan (December 26, 2018). \"Ho, ho, Juno! NASA orbiter delivers lots of holiday goodies from Jupiter's north pole\" . geekwire.com . Archived from the original on April 26, 2019 . Retrieved February 7, 2019 . ^ a b Lakdawalla, Emily (November 3, 2016). \"Juno update: 53.5-day orbits for the foreseeable future, more Marble Movie\" . Planetary Society. Archived from the original on April 26, 2020 . Retrieved December 25, 2018 . ^ \"Ganymede\" . Mission Juno . Retrieved February 11, 2022 . ^ Greicius, Tony (May 18, 2021). \"Juno Returns to \"Clyde's Spot\" on Jupiter\" . NASA . Archived from the original on May 27, 2021 . Retrieved June 4, 2021 . ^ a b c d \"NASA's Juno Mission Expands Into the Future\" . NASA . January 13, 2021. Archived from the original on January 13, 2021 . Retrieved January 13, 2021 . ^ Wall, Mike (June 8, 2018). \"NASA Extends Juno Jupiter Mission Until July 2021\" . Space.com. Archived from the original on June 23, 2018 . Retrieved June 23, 2018 . ^ \"NASA's Juno Is Getting Ever Closer to Jupiter's Moon Io\" . July 26, 2023 . Retrieved July 28, 2023 . ^ a b \"NASA's Juno to Get Close Look at Jupiter's Volcanic Moon Io on Dec. 30\" . NASA . December 27, 2023 . Retrieved December 27, 2023 . ^ \"See the First Images NASA's Juno Took as It Sailed by Ganymede\" . Jet Propulsion Laboratory . ^ \"Juno mission captures images of volcanic plumes on Jupiter's moon Io\" . Southwest Research Institute. December 31, 2018. Archived from the original on January 3, 2019 . Retrieved January 2, 2019 . ^ \"NASA's Juno to Get Close Look at Jupiter's Volcanic Moon Io on Dec. 30\" . External links [ edit ] Wikimedia Commons has media related to Juno . Wikinews has related news: NASA's Juno spacecraft enters Jupiter orbit Official website Juno mission at Southwest Research Institute Juno Mission at NASA's Solar System Exploration Why With Nye playlist on YouTube , Bill Nye discussing the science behind NASA's Juno mission to Jupiter JunoCam image processing web site Animation of perijove 15 flyby by Gerald Eichstädt (see channel for more) Animation of perijove 16 flyby by Gerald Eichstädt and Seán Doran (see albums 1 , 2 , 3 , 4 , 5 , 6 , 7 , 8 , 9 , 10 , 11 , 12 , 13 , 14 , 15 , 16 , 17 , 18 , 20 21 , 23 , 24 and 25 for more) Juno image album by Kevin M. Gill v t e Juno spacecraft Instruments GS (Gravity Science) JEDI (Jupiter Energetic-particle Detector Instrument) JADE (Jovian Auroral Distributions Experiment) JIRAM (Jovian Infrared Auroral Mapper) JCM (JunoCam) MAG (Magnetometer) MWR (Microwave Radiometer) UVS (Ultraviolet Spectrograph) Waves (Radio and Plasma Waves Experiment) Design Juno Radiation Vault Related articles Atlas V (launcher) Jupiter (destination) New Frontiers program NASA v t e NASA Planetary Missions Program Office Discovery program Missions Main NEAR Shoemaker Mars Pathfinder Lunar Prospector Stardust Genesis CONTOUR † MESSENGER Deep Impact Dawn Kepler GRAIL InSight Lucy Psyche DAVINCI VERITAS Opportunity ASPERA-3 EPOXI NExT Moon Mineralogy Mapper Strofio MEGANE Proposals Finalists Mission 12 Comet Hopper Titan Mare Explorer Mission 13 and 14 NEOCam Mission 15 and 16 Io Volcano Observer Trident Candidates Enceladus Life Finder Icebreaker Life ISOCHRON JET LIFE MANTIS Mars Geyser Hopper Moon Diver PADME Phobos Surveyor Whipple New Frontiers program Missions New Horizons Juno OSIRIS-REx Dragonfly Proposals Finalists Mission 2 MoonRise Mission 3 MoonRise SAGE Mission 4 CAESAR Candidates CONDOR CORSAIR ELF ELSAH Oceanus SPRITE VICI VISAGE VOX Solar System Exploration program Missions DART JUICE instruments Europa Clipper Underline indicates active current missions Italics indicate missions yet to launch Symbol † indicates failure en route or before intended mission data returned v t e Spacecraft missions to Jupiter Flybys Pioneer program Pioneer 10 11 ‡ Voyager program Voyager 1 ‡ 2 ‡ Ulysses ‡ Cassini–Huygens ‡ New Horizons ‡ Orbiters Galileo Juno (active) Atmospheric probes Galileo Probe En route Jupiter Icy Moons Explorer (JUICE) (2023, insertion 2031) Europa Clipper (2024, insertion 2030) Planned missions Tianwen-4 (2029, insertion 2035) Solar Polar Orbit Observatory ‡ (2029) Proposed missions Shensuo ‡ (2020s) Europa Lander (2025) Interstellar Probe ‡ (2036) Cancelled or not developed Argo Europa Jupiter System Mission-Laplace Jupiter Europa Orbiter Jupiter Ganymede Orbiter Jupiter Magnetospheric Orbiter Europa Orbiter FIRE Innovative Interstellar Explorer Io Volcano Observer Jovian Europa Orbiter Jupiter Icy Moons Orbiter Laplace-P New Horizons 2 OKEANOS Pioneer H SMARA Trident Tsiolkovsky mission Related topics Exploration of Jupiter Atmosphere of Jupiter Magnetosphere of Jupiter Moons of Jupiter Io Exploration Europa Ganymede Callisto Rings of Jupiter Deep Space Network Missions to outer planets Colonization of the outer Solar System Missions are ordered by launch date. Sign † indicates failure en route or before intended mission data returned. ‡ indicates use of the planet as a gravity assist en route to another destination. v t e Jupiter Outline of Jupiter Geography Atmosphere Great Red Spot Magnetosphere Rings Jupiter's North Pole Jupiter's South Pole Moons Inner Metis Adrastea Amalthea Thebe Galilean Io Europa Ganymede Callisto Irregular Himalia group Themisto Carpo group Valetudo Ananke group Carme group Pasiphae group Astronomy General Jupiter-crossing minor planets Solar eclipses Trojans Greek camp Trojan camp Impacts Comet Shoemaker–Levy 9 2009 Jupiter impact event 2010 Jupiter impact event 2016 Jupiter impact event Exploration , orbital missions Current Juno Past Cassini–Huygens Galileo project Galileo New Horizons Pioneer program Pioneer 10 Pioneer 11 Ulysses Voyager program Voyager 1 Voyager 2 Future Jupiter Icy Moons Explorer (2023, en route) Europa Clipper (2024, en route) Tianwen-4 (2029) Solar Polar Orbit Observatory (2029) Proposed Laplace-P (2023) Shensuo (2024) Io Volcano Observer (2026) SMARA (2030) Enceladus Orbilander (2038) Related Fiction Mythology Category Solar System portal v t e Science instruments on satellites and spacecraft Radar Cassini–Huygens Magellan Pioneer Venus Orbiter REASON SELENE SHARAD MARSIS Venera 4 8 9 10 15 16 WISDOM Radio science Akatsuki Cassini–Huygens Europa-UVS ExoMars lander Galileo InSight Kaguya Magellan Mariner 2 3 4 5 6, 7 9 10 Mars Express MESSENGER Nozomi Pioneer 7 10 11 Pioneer Venus Orbiter Sakigake Venus Express Venera 9 Voyager 1 2 Radiometer Microwave Near-Earth AQUA AMR-C ( Sentinel-6 ) AMSR-E (AQUA) AMSR ( ADEOS II ) AMSR2 ( Shizuku ) DMSP 5D-2/F13-F15 DMSP 5D-2/F16 ERSS Envisat GPM Core Kanopus-ST MIRAS MISR , MOPITT ( Terra ) MSR ( MOS-1 , MOS-1b) MTVZA ( Meteor-3M-1 ) MTVZA-GYa Meteor-M2 Meteor-M2-1 Nimbus 7 RM-08 and MTVZA-OK ( Sich-1M ) Seasat Sentinel-3 SMAP SMMR SMOS SSM/I SSMIS TRMM WSF-M Zond-PP Interplanetary Cassini-Huygens Electra (radio) Mariner 2 MWR ( Juno ) Rosetta Infrared-visible Near-Earth AVHRR ASTER , MISR ( Terra ) AIRS AVNIR AVNIR-2 CERES (TRMM, Terra, Aura, Suomi NPP, NOAA-20 ) ERBS ERSS GLI ( ADEOS II ) Kanopus-V-IK MESSR and VTIR MOS-1 1b Meteor-2 MODIS (Terra, Aqua) OPS ( JERS-1 ) ORI ( EURECA ) Radiation Budget Instrument SGLI ( GCOM-C ) SLSTR ( Sentinel-3 ) VIIRS ( Suomi NPP , NOAA-21 ) Interplanetary COMARS+ (on Schiaparelli ) Diviner (on LRO ) HP3 (on InSight ) IRIS Luna 13 Mariner 6 and 7 Mariner 10 Mars 96 2M No.521 2M No.522 Pioneer 10 11 PMIRR (on Mars Climate Orbiter ) Venera 9 10 Voyager 1 2 Ultraviolet (UV) Near-Earth ORI ( EURECA ) LYRA Proba-2 Spectrophotometers Long wavelength Interplanetary ISO Visible-IR (VIRS) Near-Earth CASE MOMS Multispectral Scanner SCIAMACHY TES TRMM Interplanetary AKARI Rosalind Franklin rover MA-MISS ISEM Infrared Space Observatory IRIS ( Voyager 1 and 2 ) JIRAM (on Juno) M 3 Mariner 6 and 7 MESSENGER MERIS E-THEMIS , MISE , SUDA (on Europa Clipper ) Ralph SPICAM SPICAV Venus Emissivity Mapper UV-visible (UVVS) Interplanetary Alice Mariner 6 and 7 Mariner 10 MESSENGER NOMAD SPICAM SPICAV UVS Voyager 1 2 Raman Interplanetary Raman Laser Spectrometer ( Rosalind Franklin rover) SHERLOC ( Perseverance rover ) Magnetometer Near-Earth GOES QuakeSat 1 and 2 SGVM Proba-2 Interplanetary FIELDS Pioneer 10 11 Voyager 1 2 MAG ( Juno ) ICEMAG and PIMS (Europa Clipper) Triaxial fluxgate Near-Earth Swarm Interplanetary Cassini–Huygens FIELDS Magsat Mariner 2 4 5 10 MESSENGER Pioneer 11 Venus Express Helium vapor Near-Earth Swarm Interplanetary Cassini–Huygens Particle detectors Ion detectors Near-Earth DEMETER TPMU and DSLP Proba-2 Interplanetary ASPERA-3 ASPERA-4 Mariner 2 SPS Ulysses Neutral particle detector Interplanetary ADRON-RM ( Rosalind Franklin rover) ASPERA-3 (on Mars Express ) ASPERA-4 (on Venus Express ) DAN (on Curiosity ) FREND (on ExoMars TGO) Nozomi SPS (on Mariner 2 ) Ulysses Mass spectrometer Interplanetary MASPEX (Europa Clipper) MOMA ( Rosalind Franklin rover) Seismometers SEIS (on InSight) Viking 1 2 Imagers/telescopes High Resolution Stereo Camera HiRISE LORRI Mars Orbiter Camera Microscopes MicrOmega-IR ( Rosalind Franklin rover) Astronomical instruments International Lunar Observatory MoonLIGHT Misc Deep Space Atomic Clock Inertial Stellar Compass Venetia Burney Student Dust Counter Plasma Wave Subsystem v t e NASA Policy and history History ( creation ) NACA (1915) National Aeronautics and Space Act (1958) Space Task Group (1958) Paine (1986) Rogers (1986) Ride (1987) Space Exploration Initiative (1989) Augustine (1990) U.S. National Space Policy (1996) CFUSAI (2002) CAIB (2003) Vision for Space Exploration (2004) Aldridge (2004) Augustine (2009) General Space Race Administrator and Deputy Administrator Chief Scientist Astronaut Corps Ranks and positions Chief Budget NASA research spinoff technologies NASA+ NASA TV NASA Social Launch Services Program Mercury Control Center Manned Space Flight Network Kennedy Space Center Vehicle Assembly Building Launch Complex 39 Launch Complex 48 Launch Control Center Operations and Checkout Building Johnson Space Center Mission Control Lunar Sample Laboratory Science Mission Directorate Human spaceflight programs Past X-15 ( suborbital ) Mercury Gemini Apollo Skylab Apollo–Soyuz (with the Soviet space program ) Space Shuttle Shuttle– Mir (with Roscosmos ) Constellation Current International Space Station Commercial Orbital Transportation Services Commercial Crew Orion Artemis Lunar Gateway Robotic programs Past Hitchhiker Mariner Mariner Mark II MESUR Mars Surveyor '98 New Millennium Lunar Orbiter Pioneer Planetary Observer Ranger Surveyor Viking Project Prometheus Mars Exploration Mars Exploration Rover Current Living With a Star Lunar Precursor Robotic Program Earth Observing System Great Observatories program Explorers Voyager Discovery New Frontiers Solar Terrestrial Probes Commercial Lunar Payload Services SIMPLEx Individual featured missions (human and robotic) Past Apollo 11 COBE Mercury 3 Mercury-Atlas 6 Magellan Pioneer 10 Pioneer 11 Galileo timeline GALEX GRAIL WMAP Space Shuttle Spitzer Space Telescope Sojourner rover Spirit rover LADEE MESSENGER Aquarius Cassini Dawn Kepler space telescope Opportunity rover timeline observed RHESSI InSight Ingenuity helicopter flights Currently operating Mars Reconnaissance Orbiter 2001 Mars Odyssey New Horizons International Space Station Hubble Space Telescope Swift THEMIS Mars Exploration Rover Curiosity rover timeline GOES 14 Lunar Reconnaissance Orbiter GOES 15 Van Allen Probes Solar Dynamics Observatory Juno Mars Science Laboratory timeline NuSTAR Voyager 1 Voyager 2 WISE MAVEN MMS OSIRIS-REx Transiting Exoplanet Survey Satellite Mars 2020 Perseverance rover timeline James Webb Space Telescope timeline PACE Europa Clipper Future NISAR Nancy Grace Roman Space Telescope DAVINCI VERITAS Communications and navigation Near Earth Network Space Network Deep Space Network ( Goldstone Madrid Canberra Space Flight Operations Facility ) Deep Space Atomic Clock NASA lists Astronauts by name by year Gemini astronauts Apollo astronauts Space Shuttle crews NASA aircraft NASA missions uncrewed missions Apollo missions Space Shuttle missions United States rockets NASA cancellations NASA cameras on spacecraft NASA images and artwork Earthrise The Blue Marble Family Portrait Pale Blue Dot Pillars of Creation Mystic Mountain Solar System Family Portrait The Day the Earth Smiled Fallen Astronaut Deep fields Lunar plaques Pioneer plaques Voyager Golden Record Apollo 11 goodwill messages NASA insignia Gemini and Apollo medallions Mission patches Hubble Space Telescope anniversary images Related \" We choose to go to the Moon \" Apollo 8 Genesis reading Apollo 15 postal covers incident Apollo Lunar Module Space Mirror Memorial The Astronaut Monument Lunar sample displays Moon rocks stolen or missing U.S. Astronaut Hall of Fame Space program on U.S. stamps Apollo 17 Moon mice Moon tree Other primates in space NASA International Space Apps Challenge Astronauts Day National Astronaut Day Nikon NASA F4 Category Commons v t e Jet Propulsion Laboratory Current missions Euclid Psyche ACRIMSAT ASTER Atmospheric infrared sounder (AIRS) Deep Space Atomic Clock GRACE-FO InSight Juno Keck observatory Large Binocular Telescope (LBT) Mars Odyssey Mars 2020 Perseverance rover Ingenuity helicopter Mars Reconnaissance Orbiter (MRO) Mars Science Laboratory (MSL) Microwave limb sounder (MLS) Multi-angle imaging spectroradiometer (MISR) Soil Moisture Active Passive (SMAP) Tropospheric Emission Spectrometer (TES) SWOT Voyager program Voyager 1 Voyager 2 Past missions Cassini-Huygens Dawn Deep Impact Deep Space 1 Deep Space 2 Explorers GALEX Galileo spacecraft Genesis GRACE Herschel IRAS Jason-1 Kepler Magellan Mariner Mars Climate Orbiter Mars Cube One (MarCO) Mars Observer Mars Pathfinder Mars Polar Lander Mars Global Surveyor Mars Exploration Rovers Spirit rover Opportunity rover Near-Earth Asteroid Scout NSCAT Phoenix Pioneer QuikSCAT Ranger Rosetta Seasat Shuttle Radar Topography Mission (SRTM) Solar Mesosphere Explorer (SME) Spaceborne Imaging Radar (SIR) Spitzer Space Telescope Stardust Surveyor SVLBI TOPEX/Poseidon Ulysses Viking Wide Field and Planetary Camera (WFPC) Wide Field Infrared Explorer (WIRE) Lunar Flashlight Planned missions Europa Clipper Nancy Grace Roman Space Telescope SPHEREx Proposed missions Europa Lander FINESSE Canceled missions Astrobiology Field Laboratory (AFL) Mars Astrobiology Explorer-Cacher (MAX-C) Related organizations NASA Caltech NASA Deep Space Network Goldstone Complex Table Mountain Observatory Solar System Ambassadors JPL Science Division Near-Earth Asteroid Tracking Space Flight Operations Facility v t e 21st-century space probes Active space probes (deep space missions) Sun Parker Solar Probe Solar Orbiter Aditya-L1 Moon ARTEMIS CAPSTONE Chandrayaan-2 Chang'e 3 Chang'e 4 ( Yutu-2 rover ) Chang'e 5 Danuri Lunar Reconnaissance Orbiter Queqiao Queqiao 2 Tiandu 1 and 2 Chang'e 6 ICUBE-Q Blue Ghost Mission 1 Hakuto-R Mission 2 Tenacious Mars Emirates Mars Mission ExoMars TGO Mars Express 2001 Mars Odyssey MAVEN MRO MSL Curiosity rover Tianwen-1 Mars 2020 Perseverance rover Other planets BepiColombo Mercury Akatsuki Venus Juno Jupiter Juice Jupiter Europa Clipper Jupiter Minor planets Chang'e 2 Hayabusa2 / MINERVA-II Lucy New Horizons OSIRIS-REx Hera Psyche Interstellar space Voyager 1 Voyager 2 Completed after 2000 (by termination date) 2000s 2001 NEAR Shoemaker Deep Space 1 2003 Pioneer 10 Galileo Nozomi 2004 Genesis 2005 Huygens 2006 Mars Global Surveyor 2008 Phoenix 2009 Chang'e 1 Ulysses Chandrayaan-1 SELENE LCROSS 2010s 2010 Hayabusa MER Spirit rover 2011 Stardust 2012 GRAIL 2013 Deep Impact 2014 LADEE Venus Express Chang'e 5-T1 2015 MESSENGER PROCYON IKAROS 2016 Rosetta / Philae Yutu rover ExoMars Schiaparelli 2017 LISA Pathfinder Cassini 2018 MASCOT Dawn Longjiang-1 2019 MarCO MER Opportunity rover Beresheet Longjiang-2 Chandrayaan-2 / Pragyan rover 2020s 2020 Chang'e 5 2022 Double Asteroid Redirection Test Mangalyaan InSight 2023 Hakuto-R Mission 1 Luna 25 Chandrayaan-3 / Pragyan rover Zhurong rover 2024 Peregrine Mission One Ingenuity helicopter SLIM IM-1 2025 Brokkr-2 IM-2 Lunar Trailblazer List of Solar System probes List of lunar probes List of extraterrestrial orbiters List of space telescopes v t e ← 2010 Orbital launches in 2011 2012 → January Elektro-L No.1 USA-224 Kounotori 2 Progress M-09M ( Kedr ) February Kosmos 2470 USA-225 Johannes Kepler ATV STS-133 ( Leonardo ) Kosmos 2471 March Glory , Explorer-1 [Prime] , KySat-1 , Hermes USA-226 USA-227 April Soyuz TMA-21 Compass-IGSO3 USA-229 Resourcesat-2 , YouthSat , X-Sat Yahsat 1A , New Dawn Progress M-10M May Meridian 4 USA-230 STS-134 ( AMS-02 , ELC-3 ) Telstar 14R ST-2 , GSAT-8 / INSAT-4G June Soyuz TMA-02M SAC-D Rasad 1 ChinaSat 10 Progress M-11M Kosmos 2472 USA-231 July Shijian XI-03 STS-135 ( Raffaello , PSSC-2 ) Tianlian I-02 Globalstar M083 , Globalstar M088 , Globalstar M091 , Globalstar M085 , Globalstar M081 , Globalstar M089 GSAT-12 SES-3 , KazSat-2 USA-232 Spektr-R Compass-IGSO4 Shijian XI-02 August Juno Astra 1N , BSAT-3c / JCSAT-110R Paksat-1R Hai Yang 2A Sich 2 , NigeriaSat-2 , NigeriaSat-X , RASAT , EduSAT , AprizeSat-5 , AprizeSat-6 , BPA-2 Ekspress-AM4 Shijian XI-04 Progress M-12M September GRAIL-A , GRAIL-B Zhongxing-1A Kosmos 2473 Arabsat 5C , SES-2 IGS Optical 4 Atlantic Bird 7 TacSat-4 Tiangong-1 QuetzSat 1 October Kosmos 2474 / GLONASS-M 742 Intelsat 18 Eutelsat 16A Megha-Tropiques , SRMSAT , VesselSat-1 , Jugnu ViaSat-1 Galileo-IOV FM1 , Galileo-IOV FM2 NPP , AubieSat-1 , DICE-1 , DICE-2 , M-Cubed , RAX-2 Progress M-13M Shenzhou 8 November Kosmos 2475 , Kosmos 2476 , Kosmos 2477 Fobos-Grunt , Yinghuo-1 Yaogan 12 , Tian Xun-1 Soyuz TMA-22 Shiyan Weixing 4 , Chuang Xin 1C AsiaSat 7 Mars Science Laboratory ( Curiosity ) Kosmos 2478 Yaogan 13 December Compass-IGSO5 Amos-5 , Luch 5A IGS Radar 3 Pléiades-HR 1A , SSOT , ELISA 1 , ELISA 2 , ELISA 3 , ELISA 4 NigComSat-1R Soyuz TMA-03M Ziyuan-1C Meridian 5 Globalstar M080 , Globalstar M082 , Globalstar M084 , Globalstar M086 , Globalstar M090 , Globalstar M092 Launches are separated by dots ( • ), payloads by commas ( , ), multiple names for the same satellite by slashes ( / ). Crewed flights are underlined. Launch failures are marked with the † sign. Payloads deployed from other spacecraft are (enclosed in parentheses). v t e 2016 in space « 2015 2017 » Space probe launches Hitomi (X-ray observatory; Feb 2016) ExoMars Trace Gas Orbiter (Mars orbiter; Mar 2016) OSIRIS-REx (asteroid sample-return mission; Sep 2016) Impact events DN160822 03 Selected NEOs Asteroid close approaches (85990) 1999 JV 6 1994 WR 12 2013 TX 68 2016 EU 85 469219 Kamoʻoalewa 2016 PQ (164121) 2003 YT 1 Exoplanets 38 Virginis b atmospheric composition of 55 Cancri e BD+20 594b Gliese 536 b HD 19467 b HD 131399 Ab (retracted in 2022) HD 164922 c HIP 41378 b c d e f K2-33b K2-332 b K2-72 b c d e KELT-9b KELT-11b Kepler-20g Kepler-56d Kepler-737b Kepler-1229b Kepler-1520b Kepler-1625b Kepler-1638b Kepler-1647b OGLE-2007-BLG-349(AB)b OGLE-2012-BLG-0950Lb Proxima Centauri b Pr0211 c Qatar-3b Qatar-4b Qatar-5b TRAPPIST-1 b c d TW Hydrae b V830 Tauri b 2MASS J11193254–1137466 AB 2MASS J2126–8140 as planet Discoveries GW150914 (announced) IDCS 1426 Planet Nine (hypothesized) GN-z11 SDSS J1240+6710 Crater 2 GW151226 (announced) 2015 RR 245 (announced) BOSS Great Wall GRB 160625B 471325 Taowu (announced) 2014 UZ 224 (announced) WISE J080822.18-644357.3 Virgo I Novae ASASSN-15lh SN 2016aps ASASSN-16kt ASASSN-16ma Comets 252P/LINEAR 460P/PanSTARRS 53P/Van Biesbroeck C/2016 R2 (PANSTARRS) 81P/Wild 9P/Tempel 144P/Kushida 43P/Wolf–Harrington 45P/Honda–Mrkos–Pajdušáková Space exploration Juno (entered Jupiter orbit; Jul 2016) Rosetta / Philae (end of mission to comet 67P ; Sep 2016) Schiaparelli EDM (Mars lander; Oct 2016) Outer space portal Category:2015 in outer space — Category:2016 in outer space — Category:2017 in outer space Portals : Astronomy Stars Spaceflight ScienceOngoing NASA interstellar program A poster of the planets and moons visited during the Voyager program. The Voyager program is an American scientific program that employs two interstellar probes , Voyager 1 and Voyager 2 . They were launched in 1977 to take advantage of a favorable planetary alignment to explore the two gas giants Jupiter and Saturn and potentially also the ice giants, Uranus and Neptune - to fly near them while collecting data for transmission back to Earth. After Voyager 1 successfully completed its flyby of Saturn and its moon Titan , it was decided to send Voyager 2 on flybys of Uranus and Neptune . [ 1 ] After the planetary flybys were complete, decisions were made to keep the probes in operation to explore interstellar space and the outer regions of the solar system. On 25 August 2012, data from Voyager 1 indicated that it had entered interstellar space. [ 2 ] On 5 November 2019, data from Voyager 2 indicated that it also had entered interstellar space. [ 3 ] On 4 November 2019, scientists reported that on 5 November 2018, the Voyager 2 probe had officially reached the interstellar medium (ISM), a region of outer space beyond the influence of the solar wind , as did Voyager 1 in 2012. [ 4 ] [ 5 ] [ 6 ] In August 2018, NASA confirmed, based on results by the New Horizons spacecraft, the existence of a \" hydrogen wall \" at the outer edges of the Solar System that was first detected in 1992 by the two Voyager spacecraft. [ 7 ] [ 8 ] [ 9 ] As of 2024, [update] the Voyagers are still in operation beyond the outer boundary of the heliosphere in interstellar space . Voyager 1 is moving with a velocity of 61,198 kilometers per hour (38,027 mph), or 17 km/s, (10.5 miles/second) relative to the Sun, and is 24,475,900,000 kilometers (1.52086 × 10 10 mi) from the Sun [ 10 ] reaching a distance of 162 AU (24.2 billion km ; 15.1 billion mi ) from Earth as of May 25, 2024. [ 11 ] As of 2024 [update] , Voyager 2 is moving with a velocity of 55,347 kilometers per hour (34,391 mph), or 15 km/s, relative to the Sun, and is 20,439,100,000 kilometers (1.27003 × 10 10 mi) from the Sun [ 12 ] reaching a distance of 136.627 AU (20.4 billion km ; 12.7 billion mi ) from Earth as of May 25, 2024. [ 11 ] The two Voyagers are the only human-made objects to date that have passed into interstellar space — a record they will hold until at least the 2040s — and Voyager 1 is the farthest human-made object from Earth. [ 13 ] History [ edit ] Further information: Grand Tour program Mariner Jupiter-Saturn [ edit ] See also: Grand Tour program § Mariner Jupiter-Saturn The trajectories that enabled the Voyager spacecraft to visit the outer planets and achieve velocity to escape the Solar System Plot of Voyager 2 ' s heliocentric velocity against its distance from the Sun, illustrating the use of gravity assist to accelerate the spacecraft by Jupiter, Saturn and Uranus. To observe Triton , Voyager 2 passed over Neptune's north pole, resulting in an acceleration out of the plane of the ecliptic and reduced its velocity away from the Sun. [ 14 ] Voyager did things no one predicted, found scenes no one expected, and promises to outlive its inventors. Like a great painting or an abiding institution, it has acquired an existence of its own, a destiny beyond the grasp of its handlers. — Stephen J. Pyne [ 1 ] The two Voyager space probes were originally conceived as part of the Planetary Grand Tour planned during the late 1960s and early 70s that aimed to explore Jupiter , Saturn , Saturn's moon , Titan , Uranus , Neptune , and Pluto . The mission originated from the Grand Tour program , conceptualized by Gary Flandro , an aerospace engineer at the Jet Propulsion Laboratory, in 1964, which leveraged a rare planetary alignment occurring once every 175 years. [ 15 ] [ 16 ] This alignment allowed a craft to reach all outer planets using gravitational assists . The mission was to send several pairs of probes and gained momentum in 1966 when it was endorsed by NASA 's Jet Propulsion Laboratory . However, in December 1971, the Grand Tour mission was canceled when funding was redirected to the Space Shuttle program . [ 17 ] In 1972, a scaled-down (four planets, two identical spacecraft) mission was proposed, utilizing a spacecraft derived from the Mariner series, initially intended to be Mariner 11 and Mariner 12 . The gravity-assist technique, successfully demonstrated by Mariner 10 , would be used to achieve significant velocity changes by maneuvering through an intermediate planet's gravitational field to minimize time towards Saturn. [ 18 ] The spacecrafts were then moved into a separate program named Mariner Jupiter-Saturn (also Mariner Jupiter-Saturn-Uranus , [ 19 ] MJS , or MJSU ), part of the Mariner program , later renamed because it was thought that the design of the two space probes had progressed sufficiently beyond that of the Mariner family to merit a separate name. [ 20 ] Voyager probes [ edit ] Interactive 3D model of the Voyager spacecraft . On March 4, 1977, NASA announced a competition to rename the mission, believing the existing name was not appropriate as the mission had differed significantly from previous Mariner missions. Voyager was chosen as the new name, referencing an earlier suggestion by William Pickering , who had proposed the name Navigator . Due to the name change occurring close to launch, the probes were still occasionally referred to as Mariner 11 and Mariner 12, or even Voyager 11 and Voyager 12. [ 17 ] Two mission trajectories were established: JST aimed at Jupiter, Saturn, and enhancing a Titan flyby, while JSX served as a contingency plan. JST focused on a Titan flyby, while JSX provided a flexible mission plan. If JST succeeded, JSX could proceed with the Grand Tour, but in case of failure, JSX could be redirected for a separate Titan flyby, forfeiting the Grand Tour opportunity. [ 18 ] The second probe, now Voyager 2 , followed the JSX trajectory, granting it the option to continue on to Uranus and Neptune. Upon Voyager 1 completing its main objectives at Saturn, Voyager 2 received a mission extension, enabling it to proceed to Uranus and Neptune. This allowed Voyager 2 to diverge from the originally planned JST trajectory. [ 17 ] The probes would be launched in August or September 1977, with their main objective being to compare the characteristics of Jupiter and Saturn, such as their atmospheres , magnetic fields , particle environments, ring systems , and moons . They would fly by planets and moons in either a JST or JSX trajectory. After completing their flybys, the probes would communicate with Earth, relaying vital data using their magnetometers , spectrometers , and other instruments to detect interstellar , solar , and cosmic radiation . Their radioisotope thermoelectric generators (RTGs) would limit the maximum communication time with the probes to roughly a decade . Following their primary missions, the probes would continue to drift into interstellar space. [ 18 ] Voyager 2 was the first to be launched. Its trajectory was designed to allow flybys of Jupiter, Saturn, Uranus, and Neptune. Voyager 1 was launched after Voyager 2 , but along a shorter and faster trajectory that was designed to provide an optimal flyby of Saturn's moon Titan , [ 21 ] which was known to be quite large and to possess a dense atmosphere. This encounter sent Voyager 1 out of the plane of the ecliptic, ending its planetary science mission. [ 22 ] Had Voyager 1 been unable to perform the Titan flyby, the trajectory of Voyager 2 could have been altered to explore Titan, forgoing any visit to Uranus and Neptune. [ 23 ] Voyager 1 was not launched on a trajectory that would have allowed it to continue to Uranus and Neptune, but could have continued from Saturn to Pluto without exploring Titan. [ 24 ] During the 1990s, Voyager 1 overtook the slower deep-space probes Pioneer 10 and Pioneer 11 to become the most distant human-made object from Earth, a record that it will keep for the foreseeable future. The New Horizons probe, which had a higher launch velocity than Voyager 1 , is travelling more slowly due to the extra speed Voyager 1 gained from its flybys of Jupiter and Saturn. Voyager 1 and Pioneer 10 are the most widely separated human-made objects anywhere since they are travelling in roughly opposite directions from the Solar System . In December 2004, Voyager 1 crossed the termination shock , where the solar wind is slowed to subsonic speed, and entered the heliosheath , where the solar wind is compressed and made turbulent due to interactions with the interstellar medium . On 10 December 2007, Voyager 2 also reached the termination shock, about 1.6 billion kilometres (1 billion miles) closer to the Sun than from where Voyager 1 first crossed it, indicating that the Solar System is asymmetrical . [ 25 ] In 2010 Voyager 1 reported that the outward velocity of the solar wind had dropped to zero, and scientists predicted it was nearing interstellar space . [ 26 ] In 2011, data from the Voyagers determined that the heliosheath is not smooth, but filled with giant magnetic bubbles, theorized to form when the magnetic field of the Sun becomes warped at the edge of the Solar System. [ 27 ] In June 2012, Scientists at NASA reported that Voyager 1 was very close to entering interstellar space, indicated by a sharp rise in high-energy particles from outside the Solar System. [ 28 ] [ 29 ] In September 2013, NASA announced that Voyager 1 had crossed the heliopause on 25 August 2012, making it the first spacecraft to enter interstellar space. [ 30 ] [ 31 ] [ 32 ] In December 2018, NASA announced that Voyager 2 had crossed the heliopause on 5 November 2018, making it the second spacecraft to enter interstellar space. [ 3 ] As of 2017 [update] Voyager 1 and Voyager 2 continue to monitor conditions in the outer expanses of the Solar System. [ 33 ] The Voyager spacecraft are expected to be able to operate science instruments through 2020, when limited power will require instruments to be deactivated one by one. Sometime around 2025, there will no longer be sufficient power to operate any science instruments. In July 2019, a revised power management plan was implemented to better manage the two probes' dwindling power supply. [ 34 ] Spacecraft design [ edit ] Voyager spacecraft diagram The Voyager spacecraft each weighed 815 kilograms (1,797 pounds) at launch, but after fuel usage are now about 733 kilograms (1,616 pounds). [ 35 ] Of this weight, each spacecraft carries 105 kilograms (231 pounds) of scientific instruments. [ 36 ] The identical Voyager spacecraft use three-axis-stabilized guidance systems that use gyroscopic and accelerometer inputs to their attitude control computers to point their high-gain antennas towards the Earth and their scientific instruments towards their targets, sometimes with the help of a movable instrument platform for the smaller instruments and the electronic photography system. The diagram shows the high-gain antenna (HGA) with a 3.7 m (12 ft) diameter dish attached to the hollow decagonal electronics container. There is also a spherical tank that contains the hydrazine monopropellant fuel. The Voyager Golden Record is attached to one of the bus sides. The angled square panel to the right is the optical calibration target and excess heat radiator. The three radioisotope thermoelectric generators (RTGs) are mounted end-to-end on the lower boom. The scan platform comprises: the Infrared Interferometer Spectrometer (IRIS) (largest camera at top right); the Ultraviolet Spectrometer (UVS) just above the IRIS; the two Imaging Science Subsystem (ISS) vidicon cameras to the left of the UVS; and the Photopolarimeter System (PPS) under the ISS. Only five investigation teams are still supported, though data is collected for two additional instruments. [ 37 ] The Flight Data Subsystem (FDS) and a single eight-track digital tape recorder (DTR) provide the data handling functions. The FDS configures each instrument and controls instrument operations. It also collects engineering and science data and formats the data for transmission . The DTR is used to record high-rate Plasma Wave Subsystem (PWS) data, which is played back every six months. The Imaging Science Subsystem made up of a wide-angle and a narrow-angle camera is a modified version of the slow scan vidicon camera designs that were used in the earlier Mariner flights. The Imaging Science Subsystem consists of two television-type cameras, each with eight filters in a commandable filter wheel mounted in front of the vidicons. One has a low resolution 200 mm (7.9 in) focal length wide-angle lens with an aperture of f/3 (the wide-angle camera), while the other uses a higher resolution 1,500 mm (59 in) narrow-angle f/8.5 lens (the narrow-angle camera). Three spacecraft were built, Voyager 1 (VGR 77-1), Voyager 2 (VGR 77-3), and test spare model (VGR 77-2). [ 38 ] [ 13 ] Scientific instruments [ edit ] List of scientific instruments Instrument name Abbreviation Description Imaging Science System ISS Used a two-camera system (narrow-angle/wide-angle) to provide imagery of Jupiter, Saturn and other objects along the trajectory. Filters Narrow-angle camera [ 39 ] Name Wavelength Spectrum Sensitivity 0 – Clear 280–640 nm 4 – Clear 280–640 nm 7 – UV 280–370 nm 1 – Violet 350–450 nm 2 – Blue 430–530 nm 5 – Green 530–640 nm 6 – Green 530–640 nm 3 – Orange 590–640 nm Wide-angle camera [ 40 ] Name Wavelength Spectrum Sensitivity 2 – Clear 280–640 nm 3 – Violet 350–450 nm 1 – Blue 430–530 nm 6 – CH 4 -U 536–546 nm 5 – Green 530–640 nm 4 – Na -D 588–590 nm 7 – Orange 590–640 nm 0 – CH 4 -JST 614–624 nm Principal investigator: Bradford Smith / University of Arizona Data: PDS/PDI data catalog, PDS/PRN data catalog Radio Science System RSS Used the telecommunications system of the Voyager spacecraft to determine the physical properties of planets and satellites (ionospheres, atmospheres, masses, gravity fields, densities) and the amount and size distribution of material in the Saturn rings and the ring dimensions. Principal investigator: G. Tyler / Stanford University Data: PDS/PPI data catalog , PDS/PRN data catalog ( VG_2803 ) , NSSDC data archive Infrared interferometer spectrometer and radiometer IRIS Investigated both global and local energy balance and atmospheric composition. Vertical temperature profiles were also obtained from the planets and satellites, as well as the composition, thermal properties, and size of particles in Saturn's rings . Principal investigator: Rudolf Hanel / NASA Goddard Space Flight Center Data: PDS/PRN data catalog, PDS/PRN expanded data catalog ( VGIRIS_0001, VGIRIS_002 ) , NSSDC Jupiter data archive Ultraviolet Spectrometer UVS Designed to measure atmospheric properties, and to measure radiation. Principal investigator: A. Broadfoot / University of Southern California Data: PDS/PRN data catalog Triaxial Fluxgate Magnetometer MAG Designed to investigate the magnetic fields of Jupiter and Saturn, the solar-wind interaction with the magnetospheres of these planets, and the interplanetary magnetic field out to the solar wind boundary with the interstellar magnetic field and beyond, if crossed. Principal investigator: Norman Ness / NASA Goddard Space Flight Center Data: PDS/PPI data catalog , NSSDC data archive Plasma Spectrometer PLS Investigated the macroscopic properties of the plasma ions and measures electrons in the energy range from 5 eV to 1 keV. Principal investigator: John Richardson / MIT Data: PDS/PPI data catalog , NSSDC data archive Low Energy Charged Particle Instrument LECP Measures the differential in energy fluxes and angular distributions of ions, electrons and the differential in energy ion composition. Principal investigator: Stamatios Krimigis / JHU/APL / University of Maryland Data: UMD data plotting, PDS/PPI data catalog , NSSDC data archive Cosmic Ray System CRS Determines the origin and acceleration process, life history, and dynamic contribution of interstellar cosmic rays, the nucleosynthesis of elements in cosmic-ray sources, the behavior of cosmic rays in the interplanetary medium, and the trapped planetary energetic-particle environment. Principal investigator: Edward Stone / Caltech / NASA Goddard Space Flight Center Data: PDS/PPI data catalog , NSSDC data archive Planetary Radio Astronomy Investigation PRA Used a sweep-frequency radio receiver to study the radio-emission signals from Jupiter and Saturn. Principal investigator: James Warwick / University of Colorado Data: PDS/PPI data catalog, NSSDC data archive Photopolarimeter System PPS Used a 6-inch f/1.4 Dahl-Kirkham-type Cassegrain telescope with an analyzer wheel containing five analyzers of 0,60,120,45 and 135 degrees and filter wheel with eight spectral bands covering 2350 to 7500A to gather information on surface texture and composition of Jupiter, Saturn, Uranus and Neptune and information on atmospheric scattering properties and density for these planets. Data: PDS/PRN data catalog and PDS Atmospheric Node Plasma Wave Subsystem PWS Provides continuous, sheath-independent measurements of the electron-density profiles at Jupiter and Saturn as well as basic information on local wave-particle interaction, useful in studying the magnetospheres. Principal investigator: Donald Gurnett / University of Iowa Data: PDS/PPI data catalog A view of some of Voyager's instruments from below. Left: the cameras, ultraviolet and infrared spectrometers (far left), plasma detector (black box lower right), particle and radiation detectors (far right). On the boom, center and right, are plasma, particle, and cosmic ray detectors. Voyager's fully extended 13-meter-long magnetometer boom Computers and data processing [ edit ] There are three different computer types on the Voyager spacecraft, two of each kind, sometimes used for redundancy. They are proprietary, custom-built computers built from CMOS and TTL medium-scale CMOS integrated circuits and discrete components, mostly from the 7400 series of Texas Instruments . [ 41 ] Total number of words among the six computers is about 32K. Voyager 1 and Voyager 2 have identical computer systems. [ 35 ] [ 42 ] The Computer Command System (CCS), the central controller of the spacecraft, has two 18-bit word, interrupt-type processors with 4096 words each of non-volatile plated-wire memory . During most of the Voyager mission the two CCS computers on each spacecraft were used non-redundantly to increase the command and processing capability of the spacecraft. The CCS is nearly identical to the system flown on the Viking spacecraft. [ 43 ] The Flight Data System (FDS) is two 16-bit word machines with modular memories and 8198 words each. The Attitude and Articulation Control System (AACS) is two 18-bit word machines with 4096 words each. Unlike the other on-board instruments, the operation of the cameras for visible light is not autonomous, but rather it is controlled by an imaging parameter table contained in one of the on-board digital computers , the Flight Data Subsystem (FDS). More recent space probes, since about 1990, usually have completely autonomous cameras. The computer command subsystem (CCS) controls the cameras. The CCS contains fixed computer programs such as command decoding, fault detection, and correction routines, antenna-pointing routines, and spacecraft sequencing routines. This computer is an improved version of the one that was used in the Viking orbiter . [ 43 ] The hardware in both custom-built CCS subsystems in the Voyagers is identical. There is only a minor software modification for one of them that has a scientific subsystem that the other lacks. According to Guinness Book of Records, CCS holds record of \"longest period of continual operation for a computer\". It has been running continuously since 20 August 1977. [ 44 ] The Attitude and Articulation Control Subsystem (AACS) controls the spacecraft orientation (its attitude). It keeps the high-gain antenna pointing towards the Earth, controls attitude changes, and points the scan platform. The custom-built AACS systems on both craft are identical. It has been erroneously reported [ 45 ] on the Internet that the Voyager space probes were controlled by a version of the RCA 1802 (RCA CDP1802 \"COSMAC\" microprocessor ), but such claims are not supported by the primary design documents. The CDP1802 microprocessor was used later in the Galileo space probe , which was designed and built years later. The digital control electronics of the Voyagers were not based on a microprocessor integrated-circuit chip. Communications [ edit ] The uplink communications are executed via S-band microwave communications . The downlink communications are carried out by an X-band microwave transmitter on board the spacecraft, with an S-band transmitter as a back-up. All long-range communications to and from the two Voyagers have been carried out using their 3.7-meter (12 ft) high-gain antennas. The high-gain antenna has a beamwidth of 0.5° for X-band, and 2.3° for S-band. [ 46 ] : 17 (The low-gain antenna has a 7 dB gain and 60° beamwidth.) [ 46 ] : 17 Because of the inverse-square law in radio communications , the digital data rates used in the downlinks from the Voyagers have been continually decreasing the farther that they get from the Earth. For example, the data rate used from Jupiter was about 115,000 bits per second. That was halved at the distance of Saturn, and it has gone down continually since then. [ 46 ] Some measures were taken on the ground along the way to reduce the effects of the inverse-square law. In between 1982 and 1985, the diameters of the three main parabolic dish antennas of the Deep Space Network were increased from 64 to 70 m (210 to 230 ft) [ 46 ] : 34 dramatically increasing their areas for gathering weak microwave signals. Whilst the craft were between Saturn and Uranus the onboard software was upgraded to do a degree of image compression and to use a more efficient Reed-Solomon error-correcting encoding . [ 46 ] : 33 Then between 1986 and 1989, new techniques were brought into play to combine the signals from multiple antennas on the ground into one, more powerful signal, in a kind of an antenna array . [ 46 ] : 34 This was done at Goldstone, California , Canberra (Australia) , and Madrid (Spain) using the additional dish antennas available there. Also, in Australia, the Parkes Radio Telescope was brought into the array in time for the fly-by of Neptune in 1989. In the United States, the Very Large Array in New Mexico was brought into temporary use along with the antennas of the Deep Space Network at Goldstone. [ 46 ] : 34 Using this new technology of antenna arrays helped to compensate for the immense radio distance from Neptune to the Earth. Power [ edit ] RTGs for the Voyager program Electrical power is supplied by three MHW-RTG radioisotope thermoelectric generators (RTGs). They are powered by plutonium-238 (distinct from the Pu-239 isotope used in nuclear weapons) and provided approximately 470 W at 30 volts DC when the spacecraft was launched. Plutonium-238 decays with a half-life of 87.74 years, [ 47 ] so RTGs using Pu-238 will lose a factor of 1−0.5 (1/87.74) = 0.79% of their power output per year. In 2011, 34 years after launch, the thermal power generated by such an RTG would be reduced to (1/2) (34/87.74) ≈ 76% of its initial power. The RTG thermocouples , which convert thermal power into electricity, also degrade over time reducing available electric power below this calculated level. By 7 October 2011 the power generated by Voyager 1 and Voyager 2 had dropped to 267.9 W and 269.2 W respectively, about 57% of the power at launch. The level of power output was better than pre-launch predictions based on a conservative thermocouple degradation model. As the electrical power decreases, spacecraft loads must be turned off, eliminating some capabilities. There may be insufficient power for communications by 2032. [ 48 ] Voyager Interstellar Mission [ edit ] Voyager 1 crossed the heliopause, or the edge of the heliosphere , in August 2012. Voyager 2 crossed the heliosheath in November 2018. [ 3 ] [ 49 ] The Voyager primary mission was completed in 1989, with the close flyby of Neptune by Voyager 2 . The Voyager Interstellar Mission (VIM) is a mission extension, which began when the two spacecraft had already been in flight for over 12 years. [ 50 ] The Heliophysics Division of the NASA Science Mission Directorate conducted a Heliophysics Senior Review in 2008. The panel found that the VIM \"is a mission that is absolutely imperative to continue\" and that VIM \"funding near the optimal level and increased DSN ( Deep Space Network ) support is warranted.\" [ 51 ] The main objective of the VIM was to extend the exploration of the Solar System beyond the outer planets to the heliopause (the farthest extent at which the Sun's radiation predominates over interstellar winds) and if possible even beyond. Voyager 1 crossed the heliopause boundary in 2012, followed by Voyager 2 in 2018. Passing through the heliopause boundary has allowed both spacecraft to make measurements of the interstellar fields, particles and waves unaffected by the solar wind . Two significant findings so far have been the discovery of a region of magnetic bubbles [ 52 ] and no indication of an expected shift in the Solar magnetic field. [ 53 ] The entire Voyager 2 scan platform, including all of the platform instruments, was switched off in 1998. All platform instruments on Voyager 1 , except for the ultraviolet spectrometer (UVS) [ 54 ] have also been switched off. The Voyager 1 scan platform was scheduled to go off-line in late 2000 but has been left on to investigate UV emission from the upwind direction.\n",
            "UVS data are still captured but scans are no longer possible. [ 55 ] Gyro operations ended in 2016 for Voyager 2 and in 2017 for Voyager 1 . Gyro operations are used to rotate the probe 360 degrees six times per year to measure the magnetic field of the spacecraft, which is then subtracted from the magnetometer science data. The two spacecraft continue to operate, with some loss in subsystem redundancy but retain the capability to return scientific data from a full complement of Voyager Interstellar Mission (VIM) science instruments. Both spacecraft also have adequate electrical power and attitude control propellant to continue operating until around 2025, after which there may not be electrical power to support science instrument operation; science data return and spacecraft operations will cease. [ 56 ] Mission details [ edit ] This diagram about the heliosphere was released on 28 June 2013 and incorporates results from the Voyager spacecraft. [ 57 ] By the start of VIM, Voyager 1 was at a distance of 40 AU from the Earth, while Voyager 2 was at 31 AU. VIM is in three phases: termination shock, heliosheath exploration, and interstellar exploration phase. The spacecraft began VIM in an environment controlled by the Sun's magnetic field, with the plasma particles being dominated by those contained in the expanding supersonic solar wind. This is the characteristic environment of the termination shock phase. At some distance from the Sun, the supersonic solar wind will be held back from further expansion by the interstellar wind. The first feature encountered by a spacecraft as a result of this interaction – between interstellar wind and solar wind – was the termination shock, where the solar wind slows to subsonic speed, and large changes in plasma flow direction and magnetic field orientation occur. Voyager 1 completed the phase of termination shock in December 2004 at a distance of 94 AU, while Voyager 2 completed it in August 2007 at a distance of 84 AU. After entering into the heliosheath, the spacecraft were in an area that is dominated by the Sun's magnetic field and solar wind particles. After passing through the heliosheath, the two Voyagers began the phase of interstellar exploration. The outer boundary of the heliosheath is called the heliopause. This is the region where the Sun's influence begins to decrease and interstellar space can be detected. [ 58 ] Voyager 1 is escaping the Solar System at the speed of 3.6 AU per year 35° north of the ecliptic in the general direction of the solar apex in Hercules , while Voyager 2 ' s speed is about 3.3 AU per year, heading 48° south of the ecliptic. The Voyager spacecraft will eventually go on to the stars. In about 40,000 years , Voyager 1 will be within 1.6 light years (ly) of AC+79 3888, also known as Gliese 445 , which is approaching the Sun. In 40,000 years Voyager 2 will be within 1.7 ly of Ross 248 (another star which is approaching the Sun), and in 296,000 years it will pass within 4.6 ly of Sirius , which is the brightest star in the night-sky. [ 2 ] The spacecraft are not expected to collide with a star for 1 sextillion (10 20 ) years. [ 59 ] In October 2020, astronomers reported a significant unexpected increase in density in the space beyond the Solar System , as detected by the Voyager space probes . According to the researchers, this implies that \"the density gradient is a large-scale feature of the VLISM (very local interstellar medium ) in the general direction of the heliospheric nose \". [ 60 ] [ 61 ] Voyager Golden Record [ edit ] Main article: Voyager Golden Record The cover of the golden record Both spacecraft carry a 12-inch (30 cm) golden phonograph record that contains pictures and sounds of Earth, symbolic directions on the cover for playing the record, and data detailing the location of Earth. [ 33 ] [ 29 ] The record is intended as a combination time capsule and an interstellar message to any civilization, alien or far-future human, that may recover either of the Voyagers. The contents of this record were selected by a committee that included Timothy Ferris and was chaired by Carl Sagan . [ 29 ] Pale Blue Dot [ edit ] Main article: Pale Blue Dot Seen from 6 billion kilometers (3.7 billion miles), Earth appears as a \" pale blue dot \" (the blueish-white speck approximately halfway down the light band to the right). Pale Blue Dot is a photograph of Earth taken on February 14, 1990, by the Voyager 1 space probe from a distance of approximately 6 billion kilometers ( 3.7 billion miles, 40.5 AU ), as part of that day's Family Portrait series of images of the Solar System . [ 62 ] The Voyager program's discoveries during the primary phase of its mission, including new close-up color photos of the major planets, were regularly documented by print and electronic media outlets. Among the best-known of these is an image of the Earth as a Pale Blue Dot , taken in 1990 by Voyager 1 , and popularized by Carl Sagan, [ 63 ] Consider again that dot. That's here. That's home. That's us....The Earth is a very small stage in a vast cosmic arena.... To my mind, there is perhaps no better demonstration of the folly of human conceits than this distant image of our tiny world. To me, it underscores our responsibility to deal more kindly and compassionately with one another and to preserve and cherish that pale blue dot, the only home we've ever known. See also [ edit ] Family Portrait The Farthest , a 2017 documentary on the program. Interstellar Express , a pair of Chinese probes inspired in part by the Voyagers. Interstellar probe Pioneer program Planetary Grand Tour Timeline of Solar System exploration References [ edit ] ^ a b \"The Fantastic Voyage of Voyager\" . The Attic . 9 January 2020. Archived from the original on 13 April 2020 . Retrieved 3 March 2020 . ^ a b Jpl.Nasa.Gov. \"Voyager Enters Interstellar Space – NASA Jet Propulsion Laboratory\" . Jpl.nasa.gov. Archived from the original on 13 April 2020 . Retrieved 14 September 2013 . ^ a b c Brown, Dwayne; Fox, Karen; Cofield, Calia; Potter, Sean (10 December 2018). \"Release 18-115 – NASA's Voyager 2 Probe Enters Interstellar Space\" . NASA . Archived from the original on 27 June 2023 . Retrieved 10 December 2018 . ^ University of Iowa (4 November 2019). \"Voyager 2 reaches interstellar space – Iowa-led instrument detects plasma density jump, confirming spacecraft has entered the realm of the stars\" . EurekAlert! . Archived from the original on 13 April 2020 . Retrieved 4 November 2019 . ^ Chang, Kenneth (4 November 2019). \"Voyager 2's Discoveries From Interstellar Space – In its journey beyond the boundary of the solar wind's bubble, the probe observed some notable differences from its twin, Voyager 1\" . The New York Times . Archived from the original on 13 April 2020 . Retrieved 5 November 2019 . ^ \"Solar System Exploration\" . JPL-NASA. Archived from the original on 18 April 2019 . Retrieved 19 February 2021 . ^ Gladstone, G. Randall; et al. (7 August 2018). \"The Lyman-α Sky Background as Observed by New Horizons\". Geophysical Research Letters . 45 (16): 8022– 8028. arXiv : 1808.00400 . Bibcode : 2018GeoRL..45.8022G . doi : 10.1029/2018GL078808 . S2CID 119395450 . ^ Letzter, Rafi (9 August 2018). \"NASA Spotted a Vast, Glowing 'Hydrogen Wall' at the Edge of Our Solar System\" . Live Science . Archived from the original on 13 April 2020 . Retrieved 10 August 2018 . ^ \"Voyager – Fact Sheet\" . voyager.jpl.nasa.gov . Archived from the original on 13 April 2020 . Retrieved 17 May 2018 . ^ \"Voyager Mission Status\" . JPL. Archived from the original on 1 January 2018 . Retrieved 10 February 2022 . ^ a b \"Voyager – Mission Status\" . Jet Propulsion Laboratory . National Aeronautics and Space Administration . Archived from the original on 1 January 2018 . Retrieved 24 April 2021 . ^ \"In Depth – Voyager 2\" . JPL. Archived from the original on 20 April 2017 . Retrieved 10 February 2022 . ^ a b Folger, Tim (July 2022). \"Record-Breaking Voyager Spacecraft Begin to Power Down\" . Scientific American . Archived from the original on 23 June 2022 . Retrieved 12 April 2024 . ^ Dave Doody (15 September 2004). \"Basics of Space Flight Section I. The Environment of Space\" . .jpl.nasa.gov. Archived from the original on 17 August 2015 . Retrieved 29 December 2017 . ^ Flandro, Gary (1966). \"Fast Reconnaissance Missions to the Outer Solar System Using Energy Derived from the Gravitational Field of Jupiter\" (PDF) . Astronautica Acta . 12 : 329– 337. Archived (PDF) from the original on 30 March 2019 . Retrieved 1 June 2024 . ^ \"Planetary Voyage\" . USA.gov. 30 October 2013. Archived from the original on 27 November 2013 . Retrieved 15 October 2013 . ^ a b c Butrica, Andrew J. (1998). \"Voyager: The Grand Tour of Big Science\". In Mack, Pamela E. (ed.). From Engineering Science to Big Science: The NACA and NASA Collier Trophy Research Project Winners . Washington, D.C.: NASA. ISBN 978-1-4102-2531-3 . Archived from the original on 23 August 2014 . Retrieved 25 August 2014 . ^ a b c Smurmeier, H. M. (1 April 1974). \"The Mariner Jupiter/Saturn 1977 Mission\" (1974)\" . Embry–Riddle Aeronautical University . Archived from the original on 20 April 2023 . Retrieved 16 May 2024 . ^ \"The Voyagers: An unprecedented on-going mission of exploration\" . NASASpaceFlight.com . Jeff Goldader, Chris Gebhardt. 7 August 2011. Archived from the original on 17 May 2024 . Retrieved 17 May 2024 . ^ Chapter 11 \"Voyager: The Grand Tour of Big Science\" Archived 29 February 2020 at the Wayback Machine (sec. 268.), by Andrew,J. Butrica, found in From Engineering Science To Big Science ISBN 978-0-16-049640-0 edited by Pamela E. Mack, NASA, 1998 ^ David W. Swift (1 January 1997). Voyager Tales: Personal Views of the Grand Tour . AIAA. p. 69. ISBN 978-1-56347-252-7 . ^ \"Voyager FAQ\" . Jet Propulsion Laboratory . Archived from the original on 21 July 2011 . Retrieved 1 January 2015 . ^ Jim Bell (24 February 2015). The Interstellar Age: Inside the Forty-Year Voyager Mission . Penguin Publishing Group. p. 94. ISBN 978-0-698-18615-6 . Archived from the original on 24 July 2024 . Retrieved 9 February 2016 . ^ Alan Stern (23 June 2014). \"The PI's Perspective: What If Voyager Had Explored Pluto?\" . New Horizons: NASA's Mission to Pluto and the Kuiper Belt . Retrieved 29 August 2020 . ^ \"NASA - Voyager 2 Proves Solar System Is Squashed\" . www.nasa.gov . Archived from the original on 13 April 2020 . Retrieved 6 February 2020 . ^ Brown, Dwayne; Cook, Jia-Rui; Buckley, M. (14 December 2010). \"Nearing Interstellar Space, NASA Probe Sees Solar Wind Decline\" . Applied Physics Lab, Johns Hopkins University. Archived from the original on 15 December 2010. ^ Smith, Catharine (10 June 2011). \"WATCH: NASA Discovers 'Bubbles' At Solar System's Edge\" . Huffington Post . Archived from the original on 13 April 2020 . Retrieved 11 June 2011 . ^ Amos, Jonathan (15 June 2012). \"Particles point way for Nasa's Voyager\" . BBC News . Archived from the original on 15 June 2012 . Retrieved 15 June 2012 . ^ a b c Ferris, Timothy (May 2012). \"Timothy Ferris on Voyagers' Never-Ending Journey\" . Smithsonian Magazine . Archived from the original on 4 November 2013 . Retrieved 15 June 2012 . ^ Cook, Jia-Rui C.; Agle, D. C.; Brown, Dwayne (12 September 2013). \"NASA Spacecraft Embarks on Historic Journey into Interstellar Space\" . NASA . Archived from the original on 11 June 2020 . Retrieved 12 September 2013 . ^ \"Voyager 1 has entered a new region of space, sudden changes in cosmic rays indicate\" . Archived from the original on 22 March 2013 . Retrieved 20 March 2013 . ^ \"Report: NASA Voyager Status Update on Voyager 1 Location\" . NASA. Archived from the original on 13 April 2020 . Retrieved 20 March 2013 . ^ a b Krauss, Lawrence M. (5 September 2017). \"Pondering Voyagers' Interstellar Journeys, and Our Own\" . The New York Times . Archived from the original on 13 April 2020 . Retrieved 5 September 2017 . ^ Cofield, Calla (8 July 2019). \"A New Plan for Keeping NASA's Oldest Explorers Going\" . NASA . Archived from the original on 13 April 2020 . Retrieved 12 July 2019 . ^ a b \"Voyager Frequently Asked Questions\" . Archived from the original on 21 July 2011. ^ Haynes, Robert (January 1987). \"How We Get Pictures from Space, Revised Edition\" . NASA Facts . NTRS. Archived from the original on 30 July 2023 . Retrieved 7 July 2017 . ^ Voyager - Spacecraft Archived 24 March 2007 at the Wayback Machine Nasa website ^ Pyne 2010 , p. 39. ^ \"Voyager 1 Narrow Angle Camera Description\" . NASA. Archived from the original on 11 August 2011 . Retrieved 17 January 2011 . ^ \"Voyager 1 Wide Angle Camera Description\" . NASA. Archived from the original on 7 November 2021 . Retrieved 17 January 2011 . ^ \"Voyagers 1 and 2 Take Embedded Computers into Interstellar Space\" . 25 July 2022. Archived from the original on 5 August 2023 . Retrieved 5 August 2023 . ^ \"Voyager 1 Instrument Host Information\" . seti.org. Archived from the original on 24 July 2024 . Retrieved 10 August 2019 . ^ a b Tomayko, James E. (3 August 1987). \"Distributed Computing On Board Voyager and Galileo (chapter 6)\" . In Kent, Allen; Williams, James G. (eds.). Computers in Spaceflight: The NASA Experience . Encyclopedia of Computer Science and Technology. Vol. 18. Supplement 3. NASA. ISBN 978-0-8247-2268-5 . Archived from the original on 18 October 2023 . Retrieved 26 July 2022 – via NASA History. ^ \"Longest period of continual operation for a computer\" . Guinness World Records . 20 August 1977. Archived from the original on 28 April 2023 . Retrieved 28 April 2023 . ^ Johnson, Herb (November 2014). \"COSMAC 1802 History in Space\" . Archived from the original on 15 July 2015 . Retrieved 27 July 2015 . ^ a b c d e f g Ludwig, Roger; Taylor, Jim (March 2002). \"Voyager Telecommunications\" (PDF) . NASA. Archived (PDF) from the original on 18 March 2021 . Retrieved 26 March 2016 . ^ \"The Actinide Research Quarterly: Summer 1997\" . lanl.gov . Archived from the original on 8 March 2022 . Retrieved 6 February 2020 . ^ Segal, Michael (1 September 2017). \"Beyond Voyager\" . Nautilus . Archived from the original on 2 September 2017 . Retrieved 2 September 2017 . ^ Cofield, Calia; Cook, Jia-Rui; Fox, Karen (5 October 2018). \"NASA Voyager 2 Could Be Nearing Interstellar Space\" . NASA . Archived from the original on 5 October 2018 . Retrieved 6 October 2018 . ^ \"Interstellar Mission\" . NASA. Archived from the original on 15 October 2009 . Retrieved 30 May 2008 . ^ \"Senior Review 2008 of the Mission Operations and Data Analysis Program for the Heliophysics Operating Missions\" (PDF) . NASA. p. 7. Archived from the original (PDF) on 26 June 2008 . Retrieved 30 May 2008 . ^ \"GMS: Voyager Satellites Find Magnetic Bubbles at Edge of Solar System\" . 9 June 2011. Archived from the original on 5 December 2022 . Retrieved 11 August 2022 . ^ Grant, Andrew (2019). \"The confounding magnetic readings of Voyager 1\" . Physics Today (2): 30645. Bibcode : 2019PhT..2019b0645G . doi : 10.1063/pt.6.3.20190215a . S2CID 242207067 . Archived from the original on 15 August 2022 . Retrieved 11 August 2022 . ^ \"Ultraviolet Spectrometer\" . Voyager: The Interstellar Mission . NASA JPL. Archived from the original on 5 March 2006 . Retrieved 11 June 2006 . ^ E. C. Stone; J. D. Richardson; E. B. Massey. \"The Voyager Interstellar Mission Proposal to Senior Review 2010 of the Mission Operations and Data Analysis Program for the Heliophysics Operating Missions\" (PDF) . NASA. p. 24. Archived from the original (PDF) on 23 December 2016 . Retrieved 20 November 2016 . ^ \"Voyager – Spacecraft Lifetime NASA website\" . Archived from the original on 1 March 2017 . Retrieved 13 September 2011 . ^ \"NASA – Transitional Regions at the Heliosphere's Outer Limits\" . Archived from the original on 8 July 2013. ^ JPL.NASA.GOV. \"Voyager – The Interstellar Mission\" . voyager.jpl.nasa.gov . Archived from the original on 15 October 2009 . Retrieved 27 May 2016 . ^ Coryn A.L. Bailer-Jones, Davide Farnocchia (3 April 2019). \"Future stellar flybys of the Voyager and Pioneer spacecraft\" . Research Notes of the American Astronomical Society . 3 (4): 59. arXiv : 1912.03503 . Bibcode : 2019RNAAS...3...59B . doi : 10.3847/2515-5172/ab158e . S2CID 134524048 . ^ Starr, Michelle (19 October 2020). \"Voyager Spacecraft Detect an Increase in The Density of Space Outside The Solar System\" . ScienceAlert . Archived from the original on 19 October 2020 . Retrieved 19 October 2020 . ^ Kurth, W.S.; Gurnett, D.A. (25 August 2020). \"Observations of a Radial Density Gradient in the Very Local Interstellar Medium by Voyager 2\" . The Astrophysical Journal Letters . 900 (1): L1. Bibcode : 2020ApJ...900L...1K . doi : 10.3847/2041-8213/abae58 . S2CID 225312823 . ^ Staff (12 February 2020). \"Pale Blue Dot Revisited\" . NASA . Archived from the original on 12 February 2020 . Retrieved 12 February 2020 . ^ Sagan, Carl (1997). Pale Blue Dot . United States: Random House USA Inc. p. 6 - 7 . ISBN 978-0-345-37659-6 . Further reading [ edit ] Swift, David W. (1997). Voyager Tales . Reston, Va: American Institute of Aeronautics and Astronautics. ISBN 978-1-56347-252-7 . Gallentine, Jay (2009). Ambassadors from Earth: Pioneering Explorations with Unmanned Spacecraft . Lincoln: U of Nebraska Press. ISBN 978-0-8032-2220-5 . Pyne, Stephen J. (2010). Voyager: Exploration, Space, and the Third Great Age of Discovery . Penguin Books. ISBN 978-0-14-311959-3 . Bell, Jim (2015). The Interstellar Age: Inside the Forty-Year Voyager Mission . Penguin Publishing Group. ISBN 978-0-698-18615-6 . External links [ edit ] Wikimedia Commons has media related to Voyager program . NASA sites NASA Voyager website Voyager Mission status (updated in real time) Voyager Spacecraft Lifetime NASA Facts – Voyager Mission to the Outer Planets Voyager 1 and 2 atlas of six Saturnian satellites, 1984 JPL Voyager Telecom Manual NASA instrument information pages: \"Voyager instrument overview\" . Archived from the original on 21 July 2011. \"CRS – COSMIC RAY SUBSYSTEM\" . Archived from the original on 3 August 2014 . Retrieved 11 November 2017 . \"ISS NA – IMAGING SCIENCE SUBSYSTEM – NARROW ANGLE\" . NASA . Retrieved 2 April 2023 . \"ISS WA – IMAGING SCIENCE SUBSYSTEM – WIDE ANGLE\" . Archived from the original on 18 July 2009 . Retrieved 29 October 2009 . \"IRIS – INFRARED INTERFEROMETER SPECTROMETER AND RADIOMETER\" . Archived from the original on 18 July 2009 . Retrieved 29 October 2009 . \"LECP – LOW ENERGY CHARGED PARTICLE\" . Archived from the original on 18 July 2009 . Retrieved 29 October 2009 . \"MAG – TRIAXIAL FLUXGATE MAGNETOMETER\" . Archived from the original on 18 July 2009 . Retrieved 29 October 2009 . \"PLS – PLASMA SCIENCE EXPERIMENT\" . Archived from the original on 18 July 2009 . Retrieved 29 October 2009 . \"PPS – PHOTOPOLARIMETER SUBSYSTEM\" . Archived from the original on 25 August 2009 . Retrieved 29 October 2009 . \"PRA – PLANETARY RADIO ASTRONOMY RECEIVER\" . Archived from the original on 18 July 2009 . Retrieved 29 October 2009 . \"PWS – PLASMA WAVE RECEIVER\" . Archived from the original on 18 July 2009 . Retrieved 29 October 2009 . \"RSS – RADIO SCIENCE SUBSYSTEM\" . Archived from the original on 3 August 2014 . Retrieved 11 November 2017 . \"UVS – ULTRAVIOLET SPECTROMETER\" . Archived from the original on 3 August 2014 . Retrieved 11 November 2017 . Non-NASA sites Spacecraft Escaping the Solar System – current positions and diagrams NPR: Science Friday 8/24/07 Interviews for 30th anniversary of Voyager spacecraft Illustrated technical paper by RL Heacock , the project engineer Gray, Meghan. \"Voyager and Interstellar Space\" . Deep Space Videos . Brady Haran . PBS featured documentary The Farthest-Voyager in Space Voyager image album by Kevin M. Gill v t e Voyager program Spacecraft Voyager 1 Voyager 2 Components MHW-RTG Cosmic Ray Subsystem (CRS) Infrared interferometer spectrometer and radiometer (IRIS) Plasma Wave Subsystem (PWS) Voyager Golden Record ( contents ) Images Pale Blue Dot Family Portrait Voyager team Stamatios Krimigis Carolyn Porco Raymond Heacock Jim Blinn Larry Soderblom Edward C. Stone Timothy Ferris Related Gravity assist Radioisotope thermoelectric generator Specific orbital energy of Voyager 1 Titan IIIE Grand Tour program Rings of Jupiter NASA Deep Space Network Frank Drake Carl Sagan Observation targets Exploration of Jupiter and its moon Io with volcanos Masubi Pele Prometheus Surt Exploration of Saturn and its moon Enceladus with craters Dunyazad Shahrazad Exploration of Uranus and its rings Exploration of Neptune and its moon Triton Popular culture The Farthest (2017 documentary film) v t e NASA Policy and history History ( creation ) NACA (1915) National Aeronautics and Space Act (1958) Space Task Group (1958) Paine (1986) Rogers (1986) Ride (1987) Space Exploration Initiative (1989) Augustine (1990) U.S. National Space Policy (1996) CFUSAI (2002) CAIB (2003) Vision for Space Exploration (2004) Aldridge (2004) Augustine (2009) General Space Race Administrator and Deputy Administrator Chief Scientist Astronaut Corps Ranks and positions Chief Budget NASA research spinoff technologies NASA+ NASA TV NASA Social Launch Services Program Mercury Control Center Manned Space Flight Network Kennedy Space Center Vehicle Assembly Building Launch Complex 39 Launch Complex 48 Launch Control Center Operations and Checkout Building Johnson Space Center Mission Control Lunar Sample Laboratory Science Mission Directorate Human spaceflight programs Past X-15 ( suborbital ) Mercury Gemini Apollo Skylab Apollo–Soyuz (with the Soviet space program ) Space Shuttle Shuttle– Mir (with Roscosmos ) Constellation Current International Space Station Commercial Orbital Transportation Services Commercial Crew Orion Artemis Lunar Gateway Robotic programs Past Hitchhiker Mariner Mariner Mark II MESUR Mars Surveyor '98 New Millennium Lunar Orbiter Pioneer Planetary Observer Ranger Surveyor Viking Project Prometheus Mars Exploration Mars Exploration Rover Current Living With a Star Lunar Precursor Robotic Program Earth Observing System Great Observatories program Explorers Voyager Discovery New Frontiers Solar Terrestrial Probes Commercial Lunar Payload Services SIMPLEx Individual featured missions (human and robotic) Past Apollo 11 COBE Mercury 3 Mercury-Atlas 6 Magellan Pioneer 10 Pioneer 11 Galileo timeline GALEX GRAIL WMAP Space Shuttle Spitzer Space Telescope Sojourner rover Spirit rover LADEE MESSENGER Aquarius Cassini Dawn Kepler space telescope Opportunity rover timeline observed RHESSI InSight Ingenuity helicopter flights Currently operating Mars Reconnaissance Orbiter 2001 Mars Odyssey New Horizons International Space Station Hubble Space Telescope Swift THEMIS Mars Exploration Rover Curiosity rover timeline GOES 14 Lunar Reconnaissance Orbiter GOES 15 Van Allen Probes Solar Dynamics Observatory Juno Mars Science Laboratory timeline NuSTAR Voyager 1 Voyager 2 WISE MAVEN MMS OSIRIS-REx Transiting Exoplanet Survey Satellite Mars 2020 Perseverance rover timeline James Webb Space Telescope timeline PACE Europa Clipper Future NISAR Nancy Grace Roman Space Telescope DAVINCI VERITAS Communications and navigation Near Earth Network Space Network Deep Space Network ( Goldstone Madrid Canberra Space Flight Operations Facility ) Deep Space Atomic Clock NASA lists Astronauts by name by year Gemini astronauts Apollo astronauts Space Shuttle crews NASA aircraft NASA missions uncrewed missions Apollo missions Space Shuttle missions United States rockets NASA cancellations NASA cameras on spacecraft NASA images and artwork Earthrise The Blue Marble Family Portrait Pale Blue Dot Pillars of Creation Mystic Mountain Solar System Family Portrait The Day the Earth Smiled Fallen Astronaut Deep fields Lunar plaques Pioneer plaques Voyager Golden Record Apollo 11 goodwill messages NASA insignia Gemini and Apollo medallions Mission patches Hubble Space Telescope anniversary images Related \" We choose to go to the Moon \" Apollo 8 Genesis reading Apollo 15 postal covers incident Apollo Lunar Module Space Mirror Memorial The Astronaut Monument Lunar sample displays Moon rocks stolen or missing U.S. Astronaut Hall of Fame Space program on U.S. stamps Apollo 17 Moon mice Moon tree Other primates in space NASA International Space Apps Challenge Astronauts Day National Astronaut Day Nikon NASA F4 Category Commons v t e NASA planetary exploration programs Active Large strategic science missions Lunar Discovery & Exploration Mars Exploration Planetary Missions Discovery New Frontiers Solar System Exploration Ocean Worlds Exploration Voyager Completed Lunar Orbiter Lunar Precursor Mariner MESUR New Millennium Pioneer Planetary Observer Ranger Surveyor Viking Cancelled Grand Tour Mariner Mark II Project Prometheus Voyager (Mars) List of NASA missions v t e Flagship Program Planetary Science Division Past Viking 1, 2 Galileo Cassini–Huygens Current Mars Science Laboratory / Curiosity rover Mars 2020 / Perseverance + Ingenuity helicopter Voyager 1, 2 Future Europa Clipper (2024) NASA-ESA Mars Sample Return Mission (2028-30 proposed) Uranus Orbiter and Probe (2032 proposed) Enceladus Orbilander (2038 proposed) Astrophysics Division Past Compton Gamma Ray Observatory Current Hubble Space Telescope Chandra X-ray Observatory James Webb Space Telescope Future Nancy Grace Roman Space Telescope (2027) Heliophysics Division Past Van Allen Probes Current Solar Dynamics Observatory Magnetospheric Multiscale Mission (MMS) Parker Solar Probe Earth Science Division Past ICESat Current Terra Aqua Aura Joint Polar Satellite System (JPSS) Plankton, Aerosol, Cloud, ocean Ecosystem (PACE) See also: Discovery Program · New Frontiers program · Explorers program · Great Observatories program v t e Jet Propulsion Laboratory Current missions Euclid Psyche ACRIMSAT ASTER Atmospheric infrared sounder (AIRS) Deep Space Atomic Clock GRACE-FO InSight Juno Keck observatory Large Binocular Telescope (LBT) Mars Odyssey Mars 2020 Perseverance rover Ingenuity helicopter Mars Reconnaissance Orbiter (MRO) Mars Science Laboratory (MSL) Microwave limb sounder (MLS) Multi-angle imaging spectroradiometer (MISR) Soil Moisture Active Passive (SMAP) Tropospheric Emission Spectrometer (TES) SWOT Voyager program Voyager 1 Voyager 2 Past missions Cassini-Huygens Dawn Deep Impact Deep Space 1 Deep Space 2 Explorers GALEX Galileo spacecraft Genesis GRACE Herschel IRAS Jason-1 Kepler Magellan Mariner Mars Climate Orbiter Mars Cube One (MarCO) Mars Observer Mars Pathfinder Mars Polar Lander Mars Global Surveyor Mars Exploration Rovers Spirit rover Opportunity rover Near-Earth Asteroid Scout NSCAT Phoenix Pioneer QuikSCAT Ranger Rosetta Seasat Shuttle Radar Topography Mission (SRTM) Solar Mesosphere Explorer (SME) Spaceborne Imaging Radar (SIR) Spitzer Space Telescope Stardust Surveyor SVLBI TOPEX/Poseidon Ulysses Viking Wide Field and Planetary Camera (WFPC) Wide Field Infrared Explorer (WIRE) Lunar Flashlight Planned missions Europa Clipper Nancy Grace Roman Space Telescope SPHEREx Proposed missions Europa Lander FINESSE Canceled missions Astrobiology Field Laboratory (AFL) Mars Astrobiology Explorer-Cacher (MAX-C) Related organizations NASA Caltech NASA Deep Space Network Goldstone Complex Table Mountain Observatory Solar System Ambassadors JPL Science Division Near-Earth Asteroid Tracking Space Flight Operations Facility Portals : Astronomy Stars Spaceflight Outer space Solar System Science Authority control databases : National United States IsraelNASA space telescope for exoplanetology (2009–2018) This article is about the space telescope. For the style of refracting telescope invented by Johannes Kepler, see Keplerian telescope . Kepler Artist's impression of the Kepler telescope Mission type Space telescope Operator NASA / LASP COSPAR ID 2009-011A SATCAT no. 34380 Website www .nasa .gov /kepler Mission duration Planned: 3.5 years Final: 9 years, 7 months, 23 days Spacecraft properties Manufacturer Ball Aerospace & Technologies Launch mass 1,052.4 kg (2,320 lb) [ 1 ] Dry mass 1,040.7 kg (2,294 lb) [ 1 ] Payload mass 478 kg (1,054 lb) [ 1 ] Dimensions 4.7 m × 2.7 m (15.4 ft × 8.9 ft) [ 1 ] Power 1100 watts [ 1 ] Start of mission Launch date March 7, 2009, 03:49:57 ( 2009-03-07UTC03:49:57 ) UTC [ 2 ] Rocket Delta II (7925-10L) Launch site Cape Canaveral SLC-17B Contractor United Launch Alliance Entered service May 12, 2009, 09:01 UTC End of mission Deactivated November 15, 2018 ( 2018-11-15 ) Orbital parameters Reference system Heliocentric Regime Earth -trailing Semi-major axis 1.0133 AU Eccentricity 0.036116 Perihelion altitude 0.97671 AU Aphelion altitude 1.0499 AU Inclination 0.4474 degrees Period 372.57 days Argument of perihelion 294.04 degrees Mean anomaly 311.67 degrees Mean motion 0.96626 deg/day Epoch January 1, 2018 ( J2000 : 2458119.5) [ 3 ] Main telescope Type Schmidt Diameter 0.95 m (3.1 ft) Collecting area 0.708 m 2 (7.62 sq ft) [ A ] Wavelengths 430–890 nm [ 3 ] Transponders Bandwidth X band up: 7.8 bit/s – 2 kbit/s [ 3 ] X band down: 10 bit/s – 16 kbit/s [ 3 ] K a band down: Up to 4.3 Mbit/s [ 3 ] Discovery program ← Dawn GRAIL → The Kepler space telescope is a defunct space telescope launched by NASA in 2009 [ 5 ] to discover Earth-sized planets orbiting other stars . [ 6 ] [ 7 ] Named after astronomer Johannes Kepler , [ 8 ] the spacecraft was launched into an Earth-trailing heliocentric orbit . The principal investigator was William J. Borucki . After nine and a half years of operation, the telescope's reaction control system fuel was depleted, and NASA announced its retirement on October 30, 2018. [ 9 ] [ 10 ] Designed to survey a portion of Earth's region of the Milky Way to discover Earth-size exoplanets in or near habitable zones and to estimate how many of the billions of stars in the Milky Way have such planets, [ 6 ] [ 11 ] [ 12 ] Kepler's sole scientific instrument is a photometer that continually monitored the brightness of approximately 150,000 main sequence stars in a fixed field of view. [ 13 ] These data were transmitted to Earth, then analyzed to detect periodic dimming caused by exoplanets that cross in front of their host star. Only planets whose orbits are seen edge-on from Earth could be detected. Kepler observed 530,506 stars, and had detected 2,778 confirmed planets as of June 16, 2023. [ 14 ] [ 15 ] History [ edit ] Pre-launch development [ edit ] The Kepler space telescope was part of NASA's Discovery Program of relatively low-cost science missions. The telescope's construction and initial operation were managed by NASA's Jet Propulsion Laboratory , with Ball Aerospace responsible for developing the Kepler flight system. [ 16 ] In January 2006, the project's launch was delayed eight months because of budget cuts and consolidation at NASA. [ 17 ] It was delayed again by four months in March 2006 due to fiscal problems. [ 17 ] During this time, the high-gain antenna was changed from a design using a gimbal to one fixed to the frame of the spacecraft to reduce cost and complexity, at the cost of one observation day per month. [ 18 ] Post launch [ edit ] The Ames Research Center was responsible for the ground system development, mission operations since December 2009, and scientific data analysis. The initial planned lifetime was three and a half years, [ 19 ] but greater-than-expected noise in the data , from both the stars and the spacecraft, meant additional time was needed to fulfill all mission goals. Initially, in 2012, the mission was expected to be extended until 2016, [ 20 ] but on July 14, 2012, one of the four reaction wheels used for pointing the spacecraft stopped turning, and completing the mission would only be possible if the other three all remained reliable. [ 21 ] Then, on May 11, 2013, a second one failed, disabling the collection of science data [ 22 ] and threatening the continuation of the mission. [ 23 ] On August 15, 2013, NASA announced that they had given up trying to fix the two failed reaction wheels. This meant the current mission needed to be modified, but it did not necessarily mean the end of planet hunting. NASA had asked the space science community to propose alternative mission plans \"potentially including an exoplanet search, using the remaining two good reaction wheels and thrusters\". [ 24 ] [ 25 ] [ 26 ] [ 27 ] On November 18, 2013, the K2 \"Second Light\" proposal was reported. This would include utilizing the disabled Kepler in a way that could detect habitable planets around smaller, dimmer red dwarfs . [ 28 ] [ 29 ] [ 30 ] [ 31 ] On May 16, 2014, NASA announced the approval of the K2 extension. [ 32 ] By January 2015, Kepler and its follow-up observations had found 1,013 confirmed exoplanets in about 440 star systems , along with a further 3,199 unconfirmed planet candidates. [ B ] [ 33 ] [ 34 ] Four planets have been confirmed through Kepler's K2 mission. [ 35 ] In November 2013, astronomers estimated, based on Kepler space mission data, that there could be as many as 40 billion rocky Earth-size exoplanets orbiting in the habitable zones of Sun-like stars and red dwarfs within the Milky Way . [ 36 ] [ 37 ] [ 38 ] It is estimated that 11 billion of these planets may be orbiting Sun-like stars. [ 39 ] The nearest such planet may be 3.7 parsecs (12 ly ) away, according to the scientists. [ 36 ] [ 37 ] On January 6, 2015, NASA announced the 1,000th confirmed exoplanet discovered by the Kepler space telescope. Four of the newly confirmed exoplanets were found to orbit within habitable zones of their related stars : three of the four, Kepler-438b , Kepler-442b and Kepler-452b , are almost Earth-size and likely rocky; the fourth, Kepler-440b , is a super-Earth . [ 40 ] On May 10, 2016, NASA verified 1,284 new exoplanets found by Kepler, the single largest finding of planets to date. [ 41 ] [ 42 ] [ 43 ] Kepler data have also helped scientists observe and understand supernovae ; measurements were collected every half-hour so the light curves were especially useful for studying these types of astronomical events. [ 44 ] On October 30, 2018, after the spacecraft ran out of fuel, NASA announced that the telescope would be retired. [ 45 ] The telescope was shut down the same day, bringing an end to its nine-year service. Kepler observed 530,506 stars and discovered 2,662 exoplanets over its lifetime. [ 15 ] A newer NASA mission, TESS , launched in 2018, is continuing the search for exoplanets. [ 46 ] Spacecraft design [ edit ] Kepler in Astrotech's Hazardous Processing Facility Interactive 3D model of Kepler The telescope has a mass of 1,039 kilograms (2,291 lb) and contains a Schmidt camera with a 0.95-meter (37.4 in) front corrector plate (lens) feeding a 1.4-meter (55 in) primary mirror —at the time of its launch this was the largest mirror on any telescope outside Earth orbit, [ 47 ] though the Herschel Space Observatory took this title a few months later. Its telescope has a 115 deg 2 (about 12-degree diameter) field of view (FoV), roughly equivalent to the size of one's fist held at arm's length. Of this, 105 deg 2 is of science quality, with less than 11% vignetting . The photometer has a soft focus to provide excellent photometry , rather than sharp images. The mission goal was a combined differential photometric precision (CDPP) of 20 ppm for a m (V)=12 Sun-like star for a 6.5-hour integration, though the observations fell short of this objective (see mission status ). Camera [ edit ] Kepler's image sensor array. The array is curved to account for Petzval field curvature . The focal plane of the spacecraft's camera is made out of forty-two 50 × 25 mm (2 × 1 in) CCDs at 2200×1024 pixels each, possessing a total resolution of 94.6 megapixels , [ 48 ] [ 49 ] which at the time made it the largest camera system launched into space. [ 19 ] The array was cooled by heat pipes connected to an external radiator. [ 1 ] The CCDs were read out every 6.5 seconds (to limit saturation) and co-added on board for 58.89 seconds for short cadence targets, and 1765.5 seconds (29.4 minutes) for long cadence targets. [ 50 ] Due to the larger bandwidth requirements for the former, these were limited in number to 512 compared to 170,000 for long cadence. However, even though at launch Kepler had the highest data rate of any NASA mission, [ citation needed ] the 29-minute sums of all 95 million pixels constituted more data than could be stored and sent back to Earth. Therefore, the science team pre-selected the relevant pixels associated with each star of interest, amounting to about 6 percent of the pixels (5.4 megapixels). The data from these pixels was then requantized, compressed and stored, along with other auxiliary data, in the on-board 16 gigabyte solid-state recorder. Data that was stored and downlinked includes science stars, p-mode stars , smear, black level, background and full field-of-view images. [ 1 ] [ 51 ] Primary mirror [ edit ] Comparison of primary mirror sizes for the Kepler telescope and other notable optical telescopes. The Kepler primary mirror is 1.4 meters (4.6 ft) in diameter. Manufactured by glass maker Corning using ultra-low expansion (ULE) glass , the mirror is specifically designed to have a mass only 14% that of a solid mirror of the same size. [ 52 ] [ 53 ] To produce a space telescope system with sufficient sensitivity to detect relatively small planets, as they pass in front of stars, a very high reflectance coating on the primary mirror was required. Using ion assisted evaporation , Surface Optics Corp. applied a protective nine-layer silver coating to enhance reflection and a dielectric interference coating to minimize the formation of color centers and atmospheric moisture absorption. [ 54 ] [ 55 ] Photometric performance [ edit ] In terms of photometric performance, Kepler worked well, much better than any Earth-bound telescope, but short of design goals. The objective was a combined differential photometric precision (CDPP) of 20 parts per million (PPM) on a magnitude 12 star for a 6.5-hour integration. This estimate was developed allowing 10 ppm for stellar variability, roughly the value for the Sun. The obtained accuracy for this observation has a wide range, depending on the star and position on the focal plane, with a median of 29 ppm. Most of the additional noise appears to be due to a larger-than-expected variability in the stars themselves (19.5 ppm as opposed to the assumed 10.0 ppm), with the rest due to instrumental noise sources slightly larger than predicted. [ 56 ] [ 48 ] Because decrease in brightness from an Earth-size planet transiting a Sun-like star is so small, only 80 ppm, the increased noise means each individual transit is only a 2.7 σ event, instead of the intended 4 σ. This, in turn, means more transits must be observed to be sure of a detection. Scientific estimates indicated that a mission lasting 7 to 8 years, as opposed to the originally planned 3.5 years, would be needed to find all transiting Earth-sized planets. [ 57 ] On April 4, 2012, the Kepler mission was approved for extension through the fiscal year 2016, [ 20 ] [ 58 ] but this also depended on all remaining reaction wheels staying healthy, which turned out not to be the case (see Reaction wheel issues below). Orbit and orientation [ edit ] Kepler's search volume, in the context of the Milky Way The motion of Kepler relative to Earth, slowly drifting away from Earth in a similar orbit, looking like a spiral over time Kepler orbits the Sun , [ 59 ] [ 60 ] which avoids Earth occultations , stray light, and gravitational perturbations and torques inherent in an Earth orbit. NASA has characterized Kepler's orbit as \"Earth-trailing\". [ 61 ] With an orbital period of 372.5 days, Kepler is slowly falling farther behind Earth (about 16 million miles per annum ). As of May 1, 2018 [update] , the distance to Kepler from Earth was about 0.917 AU (137 million km). [ 3 ] This means that after about 26 years Kepler will reach the other side of the Sun and will get back to the neighborhood of the Earth after 51 years. Until 2013 the photometer pointed to a field in the northern constellations of Cygnus , Lyra and Draco , which is well out of the ecliptic plane, so that sunlight never enters the photometer as the spacecraft orbits. [ 1 ] This is also the direction of the Solar System's motion around the center of the galaxy. Thus, the stars which Kepler observed are roughly the same distance from the Galactic Center as the Solar System , and also close to the galactic plane . This fact is important if position in the galaxy is related to habitability, as suggested by the Rare Earth hypothesis . Orientation is three-axis stabilized by sensing rotations using fine-guidance sensors located on the instrument focal plane (instead of rate sensing gyroscopes, e.g. as used on Hubble ). [ 1 ] and using reaction wheels and hydrazine thrusters [ 62 ] to control the orientation. Animation of Kepler 's trajectory Relative to the Sun Relative to Earth Relative to Sun and Earth Kepler · Earth · Sun Operations [ edit ] Kepler's orbit. The telescope's solar array was adjusted at solstices and equinoxes . Kepler was operated out of Boulder, Colorado , by the Laboratory for Atmospheric and Space Physics (LASP) under contract to Ball Aerospace & Technologies . The spacecraft's solar array was rotated to face the Sun at the solstices and equinoxes , so as to optimize the amount of sunlight falling on the solar array and to keep the heat radiator pointing towards deep space. [ 1 ] Together, LASP and Ball Aerospace controlled the spacecraft from a mission operations center located on the research campus of the University of Colorado . LASP performs essential mission planning and the initial collection and distribution of the science data. The mission's initial life-cycle cost was estimated at US$600 million, including funding for 3.5 years of operation. [ 1 ] In 2012, NASA announced that the Kepler mission would be funded until 2016 at a cost of about $20 million per year. [ 20 ] Communications [ edit ] NASA contacted the spacecraft using the X band communication link twice a week for command and status updates. Scientific data are downloaded once a month using the K a band link at a maximum data transfer rate of approximately 550 kB/s . The high gain antenna is not steerable so data collection is interrupted for a day to reorient the whole spacecraft and the high gain antenna for communications to  Earth. [ 1 ] : 16 The Kepler space telescope conducted its own partial analysis on board and only transmitted scientific data deemed necessary to the mission in order to conserve bandwidth. [ 63 ] Data management [ edit ] Science data telemetry collected during mission operations at LASP is sent for processing to the Kepler Data Management Center (DMC) which is located at the Space Telescope Science Institute on the campus of Johns Hopkins University in Baltimore, Maryland . The science data telemetry is decoded and processed into uncalibrated FITS -format science data products by the DMC, which are then passed along to the Science Operations Center (SOC) at NASA Ames Research Center, for calibration and final processing. The SOC at NASA Ames Research Center (ARC) develops and operates the tools needed to process scientific data for use by the Kepler Science Office (SO). Accordingly, the SOC develops the pipeline data processing software based on scientific algorithms developed jointly by the SO and SOC. During operations, the SOC: [ 64 ] Receives uncalibrated pixel data from the DMC Applies the analysis algorithms to produce calibrated pixels and light curves for each star Performs transit searches for detection of planets (threshold-crossing events, or TCEs) Performs data validation of candidate planets by evaluating various data products for consistency as a way to eliminate false positive detections The SOC also evaluates the photometric performance on an ongoing basis and provides the performance metrics to the SO and Mission Management Office. Finally, the SOC develops and maintains the project's scientific databases, including catalogs and processed data. The SOC finally returns calibrated data products and scientific results back to the DMC for long-term archiving, and distribution to astronomers around the world through the Multimission Archive at STScI (MAST). Reaction wheel failures [ edit ] On July 14, 2012, one of the four reaction wheels used for fine pointing of the spacecraft failed. [ 65 ] While Kepler requires only three reaction wheels to accurately aim the telescope, another failure would leave the spacecraft unable to aim at its original field. [ 66 ] After showing some problems in January 2013, a second reaction wheel failed on May 11, 2013, ending Kepler's primary mission. The spacecraft was put into safe mode, then from June to August 2013 a series of engineering tests were done to try to recover either failed wheel. By August 15, 2013, it was decided that the wheels were unrecoverable, [ 24 ] [ 25 ] [ 26 ] and an engineering report was ordered to assess the spacecraft's remaining capabilities. [ 24 ] This effort ultimately led to the \"K2\" follow-on mission observing different fields near the ecliptic. Operational timeline [ edit ] Kepler's launch on March 7, 2009 Interior illustration of Kepler A 2004 illustration of Kepler In January 2006, the project's launch was delayed eight months because of budget cuts and consolidation at NASA. [ 17 ] It was delayed again by four months in March 2006 due to fiscal problems. [ 17 ] At this time, the high-gain antenna was changed from a gimballed design to one fixed to the frame of the spacecraft to reduce cost and complexity, at the cost of one observation day per month. The Kepler observatory was launched on March 7, 2009, at 03:49:57 UTC aboard a Delta II rocket from Cape Canaveral Air Force Station , Florida. [ 2 ] [ 5 ] The launch was a success and all three stages were completed by 04:55 UTC. The cover of the telescope was jettisoned on April 7, 2009, and the first light images were taken on the next day. [ 67 ] [ 68 ] On April 20, 2009, it was announced that the Kepler science team had concluded that further refinement of the focus would dramatically increase the scientific return. [ 69 ] On April 23, 2009, it was announced that the focus had been successfully optimized by moving the primary mirror 40 micrometers (1.6 thousandths of an inch) towards the focal plane and tilting the primary mirror 0.0072 degree. [ 70 ] On May 13, 2009, at 00:01 UTC, Kepler successfully completed its commissioning phase and began its search for planets around other stars. [ 71 ] [ 72 ] On June 19, 2009, the spacecraft successfully sent its first science data to Earth. It was discovered that Kepler had entered safe mode on June 15. A second safe mode event occurred on July 2. In both cases the event was triggered by a processor reset . The spacecraft resumed normal operation on July 3 and the science data that had been collected since June 19 was downlinked that day. [ 73 ] On October 14, 2009, the cause of these safing events was determined to be a low voltage power supply that provides power to the RAD750 processor. [ 74 ] On January 12, 2010, one portion of the focal plane transmitted anomalous data, suggesting a problem with focal plane MOD-3 module, covering two out of Kepler's 42 CCDs . As of October 2010 [update] , the module was described as \"failed\", but the coverage still exceeded the science goals. [ 75 ] Kepler downlinked roughly twelve gigabytes of data [ 76 ] about once per month. [ 77 ] Field of view [ edit ] Diagram of Kepler's investigated area with celestial coordinates Kepler has a fixed field of view (FOV) against the sky. The diagram to the right shows the celestial coordinates and where the detector fields are located, along with the locations of a few bright stars with celestial north at the top left corner. The mission website has a calculator [ 78 ] that will determine if a given object falls in the FOV, and if so, where it will appear in the photo detector output data stream. Data on exoplanet candidates is submitted to the Kepler Follow-up Program , or KFOP, to conduct follow-up observations. The photometer's field of view in the constellations Cygnus , Lyra and Draco Kepler's field of view covers 115 square degrees , around 0.25 percent of the sky, or \"about two scoops of the Big Dipper\". Thus, it would require around 400 Kepler-like telescopes to cover the whole sky. [ 79 ] The Kepler field contains portions of the constellations Cygnus , Lyra , and Draco . The nearest star system in Kepler's field of view is the triple star system Gliese 1245 , 15 light years from the Sun. The brown dwarf WISE J2000+3629, 22.8 ± 1 light years from the Sun is also in the field of view, but is invisible to Kepler due to emitting light primarily in infrared wavelengths. Objectives and methods [ edit ] The scientific objective of the Kepler space telescope was to explore the structure and diversity of planetary systems . [ 80 ] This spacecraft observes a large sample of stars to achieve several key goals: To determine how many Earth-size and larger planets there are in or near the habitable zone (often called \"Goldilocks planets\") [ 81 ] of a wide variety of spectral types of stars. To determine the range of size and shape of the orbits of these planets. To estimate how many planets there are in multiple-star systems. To determine the range of orbit size, brightness, size, mass and density of short-period giant planets. To identify additional members of each discovered planetary system using other techniques. Determine the properties of those stars that harbor planetary systems. Most of the exoplanets previously detected by other projects were giant planets , mostly the size of Jupiter and bigger. Kepler was designed to look for planets 30 to 600 times less massive, closer to the order of Earth's mass (Jupiter is 318 times more massive than Earth). The method used, the transit method , involves observing repeated transit of planets in front of their stars, which causes a slight reduction in the star's apparent magnitude , on the order of 0.01% for an Earth-size planet. The degree of this reduction in brightness can be used to deduce the diameter of the planet, and the interval between transits can be used to deduce the planet's orbital period, from which estimates of its orbital semi-major axis (using Kepler's laws ) and its temperature (using models of stellar radiation) can be calculated. [ citation needed ] The probability of a random planetary orbit being along the line-of-sight to a star is the diameter of the star divided by the diameter of the orbit. [ 82 ] For an Earth-size planet at 1 AU transiting a Sun-like star the probability is 0.47%, or about 1 in 210. [ 82 ] For a planet like Venus orbiting a Sun-like star the probability is slightly higher, at 0.65%; [ 82 ] If the host star has multiple planets, the probability of additional detections is higher than the probability of initial detection assuming planets in a given system tend to orbit in similar planes—an assumption consistent with current models of planetary system formation. [ 82 ] For instance, if a Kepler -like mission conducted by aliens observed Earth transiting the Sun, there is a 7% chance that it would also see Venus transiting. [ 82 ] Kepler's 115 deg 2 field of view gives it a much higher probability of detecting Earth-sized planets than the Hubble Space Telescope , which has a field of view of only 10 sq. arc-minutes . Moreover, Kepler is dedicated to detecting planetary transits, while the Hubble Space Telescope is used to address a wide range of scientific questions, and rarely looks continuously at just one starfield. Of the approximately half-million stars in Kepler's field of view, around 150,000 stars were selected for observation. More than 90,000 are G-type stars on, or near, the main sequence . Thus, Kepler was designed to be sensitive to wavelengths of 400–865 nm where brightness of those stars peaks. Most of the stars observed by Kepler have apparent visual magnitude between 14 and 16 but the brightest observed stars have apparent visual magnitude of 8 or lower. Most of the planet candidates were initially not expected to be confirmed due to being too faint for follow-up observations. [ 83 ] All the selected stars are observed simultaneously, with the spacecraft measuring variations in their brightness every thirty minutes. This provides a better chance for seeing a transit. The mission was designed to maximize the probability of detecting planets orbiting other stars. [ 1 ] [ 84 ] Because Kepler must observe at least three transits to confirm that the dimming of a star was caused by a transiting planet, and because larger planets give a signal that is easier to check, scientists expected the first reported results to be larger Jupiter-size planets in tight orbits. The first of these were reported after only a few months of operation. Smaller planets, and planets farther from their sun would take longer, and discovering planets comparable to Earth were expected to take three years or longer. [ 59 ] Data collected by Kepler is also being used for studying variable stars of various types and performing asteroseismology , [ 85 ] particularly on stars showing solar-like oscillations . [ 86 ] Planet finding process [ edit ] Finding planet candidates [ edit ] Artist's impression of Kepler Once Kepler has collected and sent back the data, raw light curves are constructed. Brightness values are then adjusted to take the brightness variations due to the rotation of the spacecraft into account. The next step is processing (folding) light curves into a more easily observable form and letting software select signals that seem potentially transit-like. At this point, any signal that shows potential transit-like features is called a threshold crossing event. These signals are individually inspected in two inspection rounds, with the first round taking only a few seconds per target. This inspection eliminates erroneously selected non-signals, signals caused by instrumental noise and obvious eclipsing binaries. [ 87 ] Threshold crossing events that pass these tests are called Kepler Objects of Interest (KOI), receive a KOI designation and are archived. KOIs are inspected more thoroughly in a process called dispositioning. Those which pass the dispositioning are called Kepler planet candidates. The KOI archive is not static, meaning that a Kepler candidate could end up in the false-positive list upon further inspection. In turn, KOIs that were mistakenly classified as false positives could end up back in the candidates list. [ 88 ] Not all the planet candidates go through this process. Circumbinary planets do not show strictly periodic transits, and have to be inspected through other methods. In addition, third-party researchers use different data-processing methods, or even search planet candidates from the unprocessed light curve data. As a consequence, those planets may be missing KOI designation. Confirming planet candidates [ edit ] Kepler mission – new exoplanet candidates – as of June 19, 2017. [ 89 ] Once suitable candidates have been found from Kepler data, it is necessary to rule out false positives with follow-up tests. Usually, Kepler candidates are imaged individually with more-advanced ground-based telescopes in order to resolve any background objects which could contaminate the brightness signature of the transit signal. [ 90 ] Another method to rule out planet candidates is astrometry for which Kepler can collect good data even though doing so was not a design goal. While Kepler cannot detect planetary-mass objects with this method, it can be used to determine if the transit was caused by a stellar-mass object. [ 91 ] Through other detection methods [ edit ] There are a few different exoplanet detection methods which help to rule out false positives by giving further proof that a candidate is a real planet. One of the methods, called doppler spectroscopy , requires follow-up observations from ground-based telescopes. This method works well if the planet is massive or is located around a relatively bright star. While current spectrographs are insufficient for confirming planetary candidates with small masses around relatively dim stars, this method can be used to discover additional massive non-transiting planet candidates around targeted stars. [ citation needed ] A photo taken by Kepler with two points of interest outlined. Celestial north is towards the lower left corner. In multiplanetary systems, planets can often be confirmed through transit timing variation by looking at the time between successive transits, which may vary if planets are gravitationally perturbed by each other. This helps to confirm relatively low-mass planets even when the star is relatively distant. Transit timing variations indicate that two or more planets belong to the same planetary system. There are even cases where a non-transiting planet is also discovered in this way. [ 92 ] Circumbinary planets show much larger transit timing variations between transits than planets gravitationally disturbed by other planets. Their transit duration times also vary significantly. Transit timing and duration variations for circumbinary planets are caused by the orbital motion of the host stars, rather than by other planets. [ 93 ] In addition, if the planet is massive enough, it can cause slight variations of the host stars' orbital periods. Despite being harder to find circumbinary planets due to their non-periodic transits, it is much easier to confirm them, as timing patterns of transits cannot be mimicked by an eclipsing binary or a background star system. [ 94 ] In addition to transits, planets orbiting around their stars undergo reflected-light variations—like the Moon , they go through phases from full to new and back again. Because Kepler cannot resolve the planet from the star, it sees only the combined light, and the brightness of the host star seems to change over each orbit in a periodic manner. Although the effect is small—the photometric precision required to see a close-in giant planet is about the same as to detect an Earth-sized planet in transit across a solar-type star—Jupiter-sized planets with an orbital period of a few days or less are detectable by sensitive space telescopes such as Kepler. In the long run, this method may help find more planets than the transit method, because the reflected light variation with orbital phase is largely independent of the planet's orbital inclination, and does not require the planet to pass in front of the disk of the star. In addition, the phase function of a giant planet is also a function of its thermal properties and atmosphere, if any. Therefore, the phase curve may constrain other planetary properties, such as the particle size distribution of the atmospheric particles. [ 95 ] Kepler's photometric precision is often high enough to observe a star's brightness changes caused by doppler beaming or a star's shape deformation by a companion. These can sometimes be used to rule out hot Jupiter candidates as false positives caused by a star or a brown dwarf when these effects are too noticeable. [ 96 ] However, there are some cases where such effects are detected even by planetary-mass companions such as TrES-2b . [ 97 ] Through validation [ edit ] If a planet cannot be detected through at least one of the other detection methods, it can be confirmed by determining if the possibility of a Kepler candidate being a real planet is significantly larger than any false-positive scenarios combined. One of the first methods was to see if other telescopes can see the transit as well. The first planet confirmed through this method was Kepler-22b which was also observed with the Spitzer Space Telescope in addition to analyzing any other false-positive possibilities. [ 98 ] Such confirmation is costly, as small planets can generally be detected only with space telescopes. In 2014, a new confirmation method called \"validation by multiplicity\" was announced. From the planets previously confirmed through various methods, it was found that planets in most planetary systems orbit in a relatively flat plane, similar to the planets found in the Solar System. This means that if a star has multiple planet candidates, it is very likely a real planetary system. [ 99 ] Transit signals still need to meet several criteria which rule out false-positive scenarios. For instance, it has to have considerable signal-to-noise ratio, it has at least three observed transits, orbital stability of those systems have to be stable and transit curve has to have a shape that partly eclipsing binaries could not mimic the transit signal. In addition, its orbital period needs to be 1.6 days or longer to rule out common false positives caused by eclipsing binaries. [ 100 ] Validation by multiplicity method is very efficient and allows to confirm hundreds of Kepler candidates in a relatively short amount of time. A new validation method using a tool called PASTIS has been developed. It makes it possible to confirm a planet even when only a single candidate transit event for the host star has been detected. A drawback of this tool is that it requires a relatively high signal-to-noise ratio from Kepler data, so it can mainly confirm only larger planets or planets around quiet and relatively bright stars. Currently, the analysis of Kepler candidates through this method is underway. [ 101 ] PASTIS was first successful for validating the planet Kepler-420b. [ 102 ] K2 Extension [ edit ] Predicted structure of the Milky Way overlaid with the original Kepler search space. [ 6 ] In April 2012, an independent panel of senior NASA scientists recommended that the Kepler mission be continued through 2016. According to the senior review, Kepler observations needed to continue until at least 2015 to achieve all the stated scientific goals. [ 103 ] On November 14, 2012, NASA announced the completion of Kepler's primary mission, and the beginning of its extended mission, which ended in 2018 when it ran out of fuel. [ 104 ] Reaction wheel issues [ edit ] In July 2012, one of Kepler's four reaction wheels (wheel 2) failed. [ 24 ] On May 11, 2013, a second wheel (wheel 4) failed, jeopardizing the continuation of the mission, as three wheels are necessary for its planet hunting. [ 22 ] [ 23 ] Kepler had not collected science data since May because it was not able to point with sufficient accuracy. [ 105 ] On July 18 and 22 reaction wheels 4 and 2 were tested respectively; wheel 4 only rotated counter-clockwise but wheel 2 ran in both directions, albeit with significantly elevated friction levels. [ 106 ] A further test of wheel 4 on July 25 managed to achieve bi-directional rotation. [ 107 ] Both wheels, however, exhibited too much friction to be useful. [ 26 ] On August 2, NASA put out a call for proposals to use the remaining capabilities of Kepler for other scientific missions. Starting on August 8, a full systems evaluation was conducted. It was determined that wheel 2 could not provide sufficient precision for scientific missions and the spacecraft was returned to a \"rest\" state to conserve fuel. [ 24 ] Wheel 4 was previously ruled out because it exhibited higher friction levels than wheel 2 in previous tests. [ 107 ] Sending astronauts to fix Kepler is not an option because it orbits the Sun and is millions of kilometers from Earth. [ 26 ] On August 15, 2013, NASA announced that Kepler would not continue searching for planets using the transit method after attempts to resolve issues with two of the four reaction wheels failed. [ 24 ] [ 25 ] [ 26 ] An engineering report was ordered to assess the spacecraft's capabilities, its two good reaction wheels and its thrusters. [ 24 ] Concurrently, a scientific study was conducted to determine whether enough knowledge can be obtained from Kepler's limited scope to justify its $18 million per year cost. Possible ideas included searching for asteroids and comets, looking for evidence of supernovas, and finding huge exoplanets through gravitational microlensing . [ 26 ] Another proposal was to modify the software on Kepler to compensate for the disabled reaction wheels. Instead of the stars being fixed and stable in Kepler's field of view, they will drift. Proposed software was to track this drift and more or less completely recover the mission goals despite being unable to hold the stars in a fixed view. [ 108 ] Previously collected data continued to be analyzed. [ 109 ] Second Light (K2) [ edit ] In November 2013, a new mission plan named K2 \"Second Light\" was presented for consideration. [ 29 ] [ 30 ] [ 31 ] [ 110 ] K2 would involve using Kepler's remaining capability, photometric precision of about 300 parts per million, compared with about 20 parts per million earlier, to collect data for the study of \" supernova explosions , star formation and Solar-System bodies such as asteroids and comets , ... \" and for finding and studying more exoplanets . [ 29 ] [ 30 ] [ 110 ] In this proposed mission plan, Kepler would search a much larger area in the plane of Earth's orbit around the Sun . [ 29 ] [ 30 ] [ 110 ] Celestial objects, including exoplanets, stars and others, detected by the K2 mission would be associated with the EPIC acronym , standing for Ecliptic Plane Input Catalog . K2 mission timeline (August 8, 2014). [ 111 ] In early 2014, the spacecraft underwent successful testing for the K2 mission. [ 112 ] From March to May 2014, data from a new field called Field 0 was collected as a testing run. [ 113 ] On May 16, 2014, NASA announced the approval of extending the Kepler mission to the K2 mission. [ 32 ] Kepler's photometric precision for the K2 mission was estimated to be 50 ppm on a magnitude 12 star for a 6.5-hour integration. [ 114 ] In February 2014, photometric precision for the K2 mission using two-wheel, fine-point precision operations was measured as 44 ppm on magnitude 12 stars for a 6.5-hour integration. The analysis of these measurements by NASA suggests the K2 photometric precision approaches that of the Kepler archive of three-wheel, fine-point precision data. [ 115 ] On May 29, 2014, campaign fields 0 to 13 were reported and described in detail. [ 116 ] K2 proposal explained (December 11, 2013). [ 30 ] Field 1 of the K2 mission is set towards the Leo - Virgo region of the sky, while Field 2 is towards the \"head\" area of Scorpius and includes two globular clusters, Messier 4 and Messier 80 , [ 117 ] and part of the Scorpius–Centaurus association , which is only about 11 million years old [ 118 ] and 120–140 parsecs (380–470 ly ) distant [ 119 ] with probably over 1,000 members. [ 120 ] On December 18, 2014, NASA announced that the K2 mission had detected its first confirmed exoplanet, a super-Earth named HIP 116454 b . Its signature was found in a set of engineering data meant to prepare the spacecraft for the full K2 mission. Radial velocity follow-up observations were needed as only a single transit of the planet was detected. [ 121 ] During a scheduled contact on April 7, 2016, Kepler was found to be operating in emergency mode, the lowest operational and most fuel intensive mode. Mission operations declared a spacecraft emergency, which afforded them priority access to NASA's Deep Space Network . [ 122 ] [ 123 ] By the evening of April 8 the spacecraft had been upgraded to safe mode, and on April 10 it was placed into point-rest state, [ 124 ] a stable mode which provides normal communication and the lowest fuel burn. [ 122 ] At that time, the cause of the emergency was unknown, but it was not believed that Kepler's reaction wheels or a planned maneuver to support K2 's Campaign 9 were responsible. Operators downloaded and analyzed engineering data from the spacecraft, with the prioritization of returning to normal science operations. [ 122 ] [ 125 ] Kepler was returned to science mode on April 22. [ 126 ] The emergency caused the first half of Campaign 9 to be shortened by two weeks. [ 127 ] In June 2016, NASA announced a K2 mission extension of three additional years, beyond the expected exhaustion of on-board fuel in 2018. [ 128 ] In August 2018, NASA roused the spacecraft from sleep mode, applied a modified configuration to deal with thruster problems that degraded pointing performance, and began collecting scientific data for the 19th observation campaign, finding that the onboard fuel was not yet utterly exhausted. [ 129 ] On October 30, 2018, NASA announced that the spacecraft was out of fuel and its mission was officially ended. [ 130 ] Mission results [ edit ] Detail of Kepler 's image of the investigated area showing open star cluster NGC 6791 . Celestial north is towards the lower left corner. Detail of Kepler 's image of the investigated area. The location of TrES-2b within this image is shown. Celestial north is towards the lower left corner. The Kepler space telescope was in active operation from 2009 through 2013, with the first main results announced on January 4, 2010. As expected, the initial discoveries were all short-period planets. As the mission continued, additional longer-period candidates were found. As of November 2018 [update] , Kepler has discovered 5,011 exoplanet candidates and 2,662 confirmed exoplanets. [ 131 ] [ 132 ] As of August 2022, 2,056 exoplanet candidates remain to be confirmed and 2,711 are now confirmed exoplanets. [ 133 ] 2009 [ edit ] NASA held a press conference to discuss early science results of the Kepler mission on August 6, 2009. [ 134 ] At this press conference, it was revealed that Kepler had confirmed the existence of the previously known transiting exoplanet HAT-P-7b , and was functioning well enough to discover Earth-size planets. [ 135 ] [ 136 ] Because Kepler's detection of planets depends on seeing very small changes in brightness, stars that vary in brightness by themselves ( variable stars ) are not useful in this search. [ 77 ] From the first few months of data, Kepler scientists determined that about 7,500 stars from the initial target list are such variable stars. These were dropped from the target list, and replaced by new candidates. On November 4, 2009, the Kepler project publicly released the light curves of the dropped stars. [ 137 ] The first new planet candidate observed by Kepler was originally marked as a false positive because of uncertainties in the mass of its parent star. However, it was confirmed ten years later and is now designated Kepler-1658b . [ 138 ] [ 139 ] The first six weeks of data revealed five previously unknown planets, all very close to their stars. [ 140 ] [ 141 ] Among the notable results are one of the least dense planets yet found, [ 142 ] two low-mass white dwarfs [ 143 ] that were initially reported as being members of a new class of stellar objects, [ 144 ] and Kepler-16b , a well-characterized planet orbiting a binary star. 2010 [ edit ] On June 15, 2010, the Kepler mission released data on all but 400 of the ~156,000 planetary target stars to the public. 706 targets from this first data set have viable exoplanet candidates, with sizes ranging from as small as Earth to larger than Jupiter. The identity and characteristics of 306 of the 706 targets were given. The released targets included five [ citation needed ] candidate multi-planet systems, including six extra exoplanet candidates. [ 145 ] Only 33.5 days of data were available for most of the candidates. [ 145 ] NASA also announced data for another 400 candidates were being withheld to allow members of the Kepler team to perform follow-up observations. [ 146 ] The data for these candidates was published February 2, 2011. [ 147 ] (See the Kepler results for 2011 below.) The Kepler results, based on the candidates in the list released in 2010, implied that most candidate planets have radii less than half that of Jupiter. The  results also imply that small candidate planets with periods less than thirty days are much more common than large candidate planets with periods less than thirty days and that the ground-based discoveries are sampling the large-size tail of the size distribution. [ 145 ] This contradicted older theories which had suggested small and Earth-size planets would be relatively infrequent. [ 148 ] [ 149 ] Based on extrapolations from the Kepler data, an estimate of around 100 million habitable planets in the Milky Way may be realistic. [ 150 ] Some media reports of the TED talk have led to the misunderstanding that Kepler had actually found these planets. This was clarified in a letter to the Director of the NASA Ames Research Center , for the Kepler Science Council dated August 2, 2010 states, \"Analysis of the current Kepler data does not support the assertion that Kepler has found any Earth-like planets.\" [ 7 ] [ 151 ] [ 152 ] In 2010, Kepler identified two systems containing objects which are smaller and hotter than their parent stars: KOI 74 and KOI 81 . [ 153 ] These objects are probably low-mass white dwarfs produced by previous episodes of mass transfer in their systems. [ 143 ] 2011 [ edit ] A size comparison of the exoplanets Kepler-20e [ 154 ] and Kepler-20f [ 155 ] with Venus and Earth On February 2, 2011, the Kepler team announced the results of analysis of the data taken between 2 May and September 16, 2009. [ 147 ] They found 1235 planetary candidates circling 997 host stars. (The numbers that follow assume the candidates are really planets, though the official papers called them only candidates. Independent analysis indicated that at least 90% of them are real planets and not false positives). [ 156 ] 68 planets were approximately Earth-size, 288 super-Earth -size, 662 Neptune-size, 165 Jupiter-size, and 19 up to twice the size of Jupiter. In contrast to previous work, roughly 74% of the planets are smaller than Neptune, most likely as a result of previous work finding large planets more easily than smaller ones. That February 2, 2011 release of 1235 exoplanet candidates included 54 that may be in the \" habitable zone \", including five less than twice the size of Earth. [ 157 ] [ 158 ] There were previously only two planets thought to be in the \"habitable zone\", so these new findings represent an enormous expansion of the potential number of \"Goldilocks planets\" (planets of the right temperature to support liquid water). [ 159 ] All of the habitable zone candidates found thus far orbit stars significantly smaller and cooler than the Sun (habitable candidates around Sun-like stars will take several additional years to accumulate the three transits required for detection). [ 160 ] Of all the new planet candidates, 68 are 125% of Earth 's size or smaller, or smaller than all previously discovered exoplanets. [ 158 ] \"Earth-size\" and \"super-Earth-size\" is defined as \"less than or equal to 2 Earth radii (Re)\" [(or, Rp ≤ 2.0 Re) – Table 5]. [ 147 ] Six such planet candidates [namely: KOI 326.01 (Rp=0.85), KOI 701.03 (Rp=1.73), KOI 268.01 (Rp=1.75), KOI 1026.01 (Rp=1.77), KOI 854.01 (Rp=1.91), KOI 70.03 (Rp=1.96) – Table 6] [ 147 ] are in the \"habitable zone.\" [ 157 ] A more recent study found that one of these candidates (KOI 326.01) is in fact much larger and hotter than first reported. [ 161 ] The frequency of planet observations was highest for exoplanets two to three times Earth-size, and then declined in inverse proportionality to the area of the planet. The best estimate (as of March 2011), after accounting for observational biases, was: 5.4% of stars host Earth-size candidates, 6.8% host super-Earth-size candidates, 19.3% host Neptune-size candidates, and 2.55% host Jupiter-size or larger candidates. Multi-planet systems are common; 17% of the host stars have multi-candidate systems, and 33.9% of all the planets are in multiple planet systems. [ 162 ] By December 5, 2011, the Kepler team announced that they had discovered 2,326 planetary candidates, of which 207 are similar in size to Earth, 680 are super-Earth-size, 1,181 are Neptune-size, 203 are Jupiter-size and 55 are larger than Jupiter. Compared to the February 2011 figures, the number of Earth-size and super-Earth-size planets increased by 200% and 140% respectively. Moreover, 48 planet candidates were found in the habitable zones of surveyed stars, marking a decrease from the February figure; this was due to the more stringent criteria in use in the December data. [ 163 ] On December 20, 2011, the Kepler team announced the discovery of the first Earth-size exoplanets , Kepler-20e [ 154 ] and Kepler-20f , [ 155 ] orbiting a Sun-like star , Kepler-20 . [ 164 ] Based on Kepler's findings, astronomer Seth Shostak estimated in 2011 that \"within a thousand light-years of Earth\", there are \"at least 30,000\" habitable planets. [ 165 ] Also based on the findings, the Kepler team has estimated that there are \"at least 50 billion planets in the Milky Way\", of which \"at least 500 million\" are in the habitable zone . [ 166 ] In March 2011, astronomers at NASA's Jet Propulsion Laboratory (JPL) reported that about \"1.4 to 2.7 percent\" of all Sun-like stars are expected to have Earth-size planets \"within the habitable zones of their stars\". This means there are \"two billion\" of these \"Earth analogs\" in the Milky Way alone. The JPL astronomers also noted that there are \"50 billion other galaxies\", potentially yielding more than one sextillion \"Earth analog\" planets if all galaxies have similar numbers of planets to the Milky Way. [ 167 ] 2012 [ edit ] In January 2012, an international team of astronomers reported that each star in the Milky Way may host \" on average...at least 1.6 planets \", suggesting that over 160 billion star-bound planets may exist in the Milky Way. [ 168 ] [ 169 ] Kepler also recorded distant stellar super-flares , some of which are 10,000 times more powerful than the 1859 Carrington event . [ 170 ] The superflares may be triggered by close-orbiting Jupiter -sized planets. [ 170 ] The Transit Timing Variation (TTV) technique, which was used to discover Kepler-9d , gained popularity for confirming exoplanet discoveries. [ 171 ] A planet in a system with four stars was also confirmed, the first time such a system had been discovered. [ 172 ] As of 2012 [update] , there were a total of 2,321 candidates . [ 163 ] [ 173 ] [ 174 ] Of these, 207 are similar in size to Earth, 680 are super-Earth-size, 1,181 are Neptune-size, 203 are Jupiter-size and 55 are larger than Jupiter. Moreover, 48 planet candidates were found in the habitable zones of surveyed stars. The Kepler team estimated that 5.4% of all stars host Earth-size planet candidates, and that 17% of all stars have multiple planets. 2013 [ edit ] A chart showing Kepler discoveries, in context of all discovered exoplanets (through 2013), with some transit probabilities indicated for example scenarios. According to a study by Caltech astronomers published in January 2013, the Milky Way contains at least as many planets as it does stars, resulting in 100–400 billion exoplanets . [ 175 ] [ 176 ] The study, based on planets orbiting the star Kepler-32 , suggests that planetary systems may be common around stars in the Milky Way. The discovery of 461 more candidates was announced on January 7, 2013. [ 105 ] The longer Kepler watches, the more planets with long periods it can detect. [ 105 ] Since the last Kepler catalog was released in February 2012, the number of candidates discovered in the Kepler data has increased by 20 percent and now totals 2,740 potential planets orbiting 2,036 stars A candidate, newly announced on January 7, 2013, was Kepler-69c (formerly, KOI-172.02 ), an Earth-size exoplanet orbiting a star similar to the Sun in the habitable zone and possibly habitable. [ 177 ] In April 2013, a white dwarf was discovered bending the light of its companion red dwarf in the KOI-256 star system. [ 178 ] In April 2013, NASA announced the discovery of three new Earth-size exoplanets— Kepler-62e , Kepler-62f , and Kepler-69c —in the habitable zones of their respective host stars, Kepler-62 and Kepler-69 . The new exoplanets are considered prime candidates for possessing liquid water and thus a habitable environment. [ 179 ] [ 180 ] [ 181 ] A more recent analysis has shown that Kepler-69c is likely more analogous to Venus, and thus unlikely to be habitable. [ 182 ] On May 15, 2013, NASA announced the space telescope had been crippled by failure of a reaction wheel that keeps it pointed in the right direction. A second wheel had previously failed, and the telescope required three wheels (out of four total) to be operational for the instrument to function properly. Further testing in July and August determined that while Kepler was capable of using its damaged reaction wheels to prevent itself from entering safe mode and of downlinking previously collected science data it was not capable of collecting further science data as previously configured. [ 183 ] Scientists working on the Kepler project said there was a backlog of data still to be looked at, and that more discoveries would be made in the following couple of years, despite the setback. [ 184 ] Although no new science data from Kepler field had been collected since the problem, an additional sixty-three candidates were announced in July 2013 based on the previously collected observations. [ 185 ] In November 2013, the second Kepler science conference was held. The discoveries included the median size of planet candidates getting smaller compared to early 2013, preliminary results of the discovery of a few circumbinary planets and planets in the habitable zone. [ 186 ] 2014 [ edit ] Histogram of exoplanet discoveries. The yellow shaded bar shows newly announced planets including those verified by the multiplicity technique (February 26, 2014). On February 13, over 530 additional planet candidates were announced residing around single planet systems. Several of them were nearly Earth-sized and located in the habitable zone. This number was further increased by about 400 in June 2014. [ 187 ] On February 26, scientists announced that data from Kepler had confirmed the existence of 715 new exoplanets. A new statistical method of confirmation was used called \"verification by multiplicity\" which is based on how many planets around multiple stars were found to be real planets. This allowed much quicker confirmation of numerous candidates which are part of multiplanetary systems. 95% of the discovered exoplanets were smaller than Neptune and four, including Kepler-296f, were less than 2 1/2 the size of Earth and were in habitable zones where surface temperatures are suitable for liquid water . [ 99 ] [ 188 ] [ 189 ] [ 190 ] In March, a study found that small planets with orbital periods of less than one day are usually accompanied by at least one additional planet with orbital period of 1–50 days. This study also noted that ultra-short period planets are almost always smaller than 2 Earth radii unless it is a misaligned hot Jupiter. [ 191 ] On April 17, the Kepler team announced the discovery of Kepler-186f , the first nearly Earth-sized planet located in the habitable zone. This planet orbits around a red dwarf. [ 192 ] In May 2014, K2 observations fields 0 to 13 were announced and described in detail. [ 116 ] K2 observations began in June 2014. In July 2014, the first discoveries from K2 field data were reported in the form of eclipsing binaries . Discoveries were derived from a Kepler engineering data set which was collected prior to campaign 0 [ 193 ] in preparation to the main K2 mission. [ 194 ] On September 23, 2014, NASA reported that the K2 mission had completed campaign 1, [ 195 ] the first official set of science observations, and that campaign 2 [ 196 ] was underway. [ 197 ] Kepler observed KSN 2011b, a Type Ia supernova , in the process of exploding: before, during and after. [ 198 ] Campaign 3 [ 199 ] lasted from November 14, 2014, to February 6, 2015, and included \"16,375 standard long cadence and 55 standard short cadence targets\". [ 116 ] 2015 [ edit ] This section is in list format but may read better as prose . You can help by converting this section , if appropriate. Editing help is available. ( March 2023 ) In January 2015, the number of confirmed Kepler planets exceeded 1000. At least two ( Kepler-438b and Kepler-442b ) of the discovered planets announced that month were likely rocky and in the habitable zone . [ 40 ] Also in January 2015, NASA reported that five confirmed sub-earth-sized rocky exoplanets , all smaller than the planet Venus , were found orbiting the 11.2 billion year old star Kepler-444 , making this star system, at 80% of the age of the universe , the oldest yet discovered. [ 200 ] [ 201 ] [ 202 ] In April 2015, campaign 4 [ 203 ] was reported to last between February 7, 2015, and April 24, 2015, and to include observations of nearly 16,000 target stars and two notable open star clusters, Pleiades and Hyades. [ 204 ] In May 2015, Kepler observed a newly discovered supernova , KSN 2011b ( Type 1a ), before, during and after explosion. Details of the pre-nova moments may help scientists better understand dark energy . [ 198 ] On July 24, 2015, NASA announced the discovery of Kepler-452b , a confirmed exoplanet that is near-Earth in size and found orbiting the habitable zone of a Sun-like star. [ 205 ] [ 206 ] The seventh Kepler planet candidate catalog was released, containing 4,696 candidates, and increase of 521 candidates since the previous catalog release in January 2015. [ 207 ] [ 208 ] On September 14, 2015, astronomers reported unusual light fluctuations of KIC 8462852 , an F-type main-sequence star in the constellation Cygnus , as detected by Kepler, while searching for exoplanets . Various hypotheses have been presented, including comets , asteroids , and an alien civilization . [ 209 ] [ 210 ] [ 211 ] 2016 [ edit ] By May 10, 2016, the Kepler mission had verified 1,284 new planets. [ 41 ] Based on their size, about 550 could be rocky planets. Nine of these orbit in their stars' habitable zone : Kepler-560b , Kepler-705b , Kepler-1229b , Kepler-1410b , Kepler-1455b , Kepler-1544 b , Kepler-1593b , Kepler-1606b , and Kepler-1638b . [ 41 ] Data releases [ edit ] The Kepler team originally promised to release data within one year of observations. [ 212 ] However, this plan was changed after launch, with data being scheduled for release up to three years after its collection. [ 213 ] This resulted in considerable criticism, [ 214 ] [ 215 ] [ 216 ] [ 217 ] [ 218 ] leading the Kepler science team to release the third quarter of their data one year and nine months after collection. [ 219 ] The data through September 2010 (quarters 4, 5, and 6) was made public in January 2012. [ 220 ] Follow-ups by others [ edit ] Periodically, the Kepler team releases a list of candidates ( Kepler Objects of Interest , or KOIs) to the public. Using this information, a team of astronomers collected radial velocity data using the SOPHIE échelle spectrograph to confirm the existence of the candidate KOI-428b in 2010, later named Kepler-40b . [ 221 ] In 2011, the same team confirmed candidate KOI-423b, later named Kepler-39b . [ 222 ] Citizen scientist participation [ edit ] Since December 2010, Kepler mission data has been used for the Planet Hunters project, which allows volunteers to look for transit events in the light curves of Kepler images to identify planets that computer algorithms might miss. [ 223 ] By June 2011, users had found sixty-nine potential candidates that were previously unrecognized by the Kepler mission team. [ 224 ] The team has plans to publicly credit amateurs who spot such planets. In January 2012, the BBC program Stargazing Live aired a public appeal for volunteers to analyse Planethunters.org data for potential new exoplanets. This led two amateur astronomers—one in Peterborough , England—to discover a new Neptune -sized exoplanet, to be named Threapleton Holmes B. [ 225 ] One hundred thousand other volunteers were also engaged in the search by late January, analyzing over one million Kepler images by early 2012. [ 226 ] One such exoplanet, PH1b (or Kepler-64b from its Kepler designation), was discovered in 2012. A second exoplanet, PH2b (Kepler-86b) was discovered in 2013. In April 2017, ABC Stargazing Live , a variation of BBC Stargazing Live , launched the Zooniverse project \"Exoplanet Explorers\". While Planethunters.org worked with archived data, Exoplanet Explorers used recently downlinked data from the K2 mission. On the first day of the project, 184 transit candidates were identified that passed simple tests. On the second day, the research team identified a star system, later named K2-138 , with a Sun-like star and four super-Earths in a tight orbit. In the end, volunteers helped to identify 90 exoplanet candidates. [ 227 ] [ 228 ] The citizen scientists that helped discover the new star system will be added as co-authors in the research paper when published. [ 229 ] Confirmed exoplanets [ edit ] Main article: List of exoplanets discovered by the Kepler space telescope Main article: List of planets observed during Kepler's K2 mission See also: List of exoplanetary host stars and List of exoplanets Confirmed small exoplanets in habitable zones ( Kepler-62e , Kepler-62f , Kepler-186f , Kepler-296e , Kepler-296f , Kepler-438b , Kepler-440b , Kepler-442b ). [ 40 ] Exoplanets discovered using Kepler 's data, but confirmed by outside researchers, include Kepler-39b, [ 222 ] Kepler-40b, [ 221 ] Kepler-41b , [ 230 ] Kepler-43b , [ 231 ] Kepler-44b , [ 232 ] Kepler-45b , [ 233 ] as well as the planets orbiting Kepler-223 [ 234 ] and Kepler-42 . [ 235 ] The \"KOI\" acronym indicates that the star is a K epler O bject of I nterest . Kepler Input Catalog [ edit ] Main article: Kepler Input Catalog The Kepler Input Catalog is a publicly searchable database of roughly 13.2 million targets used for the Kepler Spectral Classification Program and the Kepler mission. [ 236 ] [ 237 ] The catalog alone is not used for finding Kepler targets, because only a portion of the listed stars (about one-third of the catalog) can be observed by the spacecraft. [ 236 ] Solar System observations [ edit ] Kepler has been assigned an observatory code ( C55 ) in order to report its astrometric observations of small Solar System bodies to the Minor Planet Center . In 2013 the alternative NEOKepler mission was proposed, a search for near-Earth objects , in particular potentially hazardous asteroids (PHAs). Its unique orbit and larger field of view than existing survey telescopes allow it to look for objects inside Earth's orbit. It was predicted a 12-month survey could make a significant contribution to the hunt for PHAs as well as potentially locating targets for NASA's Asteroid Redirect Mission . [ 238 ] Kepler's first discovery in the Solar System, however, was (506121) 2016 BP 81 , a 200-kilometer cold classical Kuiper belt object located beyond the orbit of Neptune . [ 239 ] Retirement [ edit ] Artwork commissioned by NASA to commemorate the retirement of Kepler in October–November 2018. [ 9 ] [ 10 ] On October 30, 2018, NASA announced that the Kepler space telescope, having run out of fuel, and after nine years of service and the discovery of over 2,600 exoplanets , has been officially retired, and will maintain its current, safe orbit, away from Earth. [ 9 ] [ 10 ] The spacecraft was deactivated with a \"goodnight\" command sent from the mission's control center at the Laboratory for Atmospheric and Space Physics on November 15, 2018. [ 240 ] Kepler's retirement coincides with the 388th anniversary of Johannes Kepler 's death in 1630. [ 241 ] See also [ edit ] Kepler-22b , the first exoplanet confirmed by Kepler to have an average orbital distance within its star's habitable zone List of exoplanets discovered using the Kepler spacecraft List of exoplanets List of multiplanetary systems List of stars that dim oddly Hunt for Exomoons with Kepler William J. Borucki , the chief investigator for Kepler NASA Exoplanet Archive , online exoplanet catalog Other space-based exoplanet search projects CHEOPS (since 2019) CoRoT (2006–2012) Gaia (since 2013) PlanetQuest (since 2002) PLATO (2026) TESS (since 2018) Other ground-based exoplanet search projects APF (since 2013) HATNet (since 2001) HARPS (since 2003) NGTS (since 2015) PlanetQuest (since 2002) SuperWASP (since 2002) Notes [ edit ] ^ Aperture of 0.95 m yields a light-gathering area of Pi×(0.95/2) 2 = 0.708 m 2 ; the 42 CCDs each sized 0.050 m × 0.025m yields a total sensor area of 0.0525 m 2 : [ 4 ] ^ This does not include Kepler candidates without a KOI designation, such as circumbinary planets, or candidates found in the Planet Hunters project. References [ edit ] ^ a b c d e f g h i j k l m \" Kepler : NASA's First Mission Capable of Finding Earth-Size Planets\" (PDF) . NASA . February 2009. Archived (PDF) from the original on September 27, 2024 . Retrieved March 13, 2015 . ^ a b \"KASC Scientific Webpage\" . Kepler Asteroseismic Science Consortium . Aarhus University. March 14, 2009. Archived from the original on May 5, 2012 . Retrieved March 14, 2009 . ^ a b c d e f \"Kepler (spacecraft)\" . JPL Horizons On-Line Ephemeris System . NASA / JPL . January 6, 2018. Archived from the original on March 4, 2016 . Retrieved January 6, 2018 . ^ \"Kepler Spacecraft and Instrument\" . NASA . June 26, 2013. Archived from the original on January 19, 2014 . Retrieved January 18, 2014 . ^ a b \"Kepler Launch\" . NASA . Archived from the original on March 17, 2010 . Retrieved September 18, 2009 . ^ a b c \"Kepler: About the Mission\" . NASA Ames Research Center . 2013. Archived from the original on May 20, 2011 . Retrieved April 11, 2016 . ^ a b Dunham, Edward W.; Gautier, Thomas N.; Borucki, William J. (August 2, 2010). \"Statement from the Kepler Science Council\" (Press release). NASA Ames Research Center . Archived from the original on August 10, 2011 . Retrieved April 14, 2016 . ^ DeVore, Edna (June 9, 2008). \"Closing in on Extrasolar Earths\" . Space.com . Archived from the original on June 14, 2024 . Retrieved March 14, 2009 . ^ a b c Chou, Felicia; Hawkes, Alison; Cofield, Calia (October 30, 2018). \"NASA Retires Kepler Space Telescope\" (Press release). NASA / JPL . 2018-254. Archived from the original on September 10, 2024 . Retrieved October 30, 2018 . ^ a b c Overbye, Dennis (October 30, 2018). \"Kepler, the Little NASA Spacecraft That Could, No Longer Can\" . The New York Times . Archived from the original on October 30, 2018 . Retrieved October 30, 2018 . ^ Overbye, Dennis (May 12, 2013). \"Finder of New Worlds\" . The New York Times . Archived from the original on April 4, 2024 . Retrieved May 13, 2014 . ^ Overbye, Dennis (January 6, 2015). \"As Ranks of Goldilocks Planets Grow, Astronomers Consider What's Next\" . The New York Times . Archived from the original on October 7, 2024 . Retrieved January 6, 2015 . ^ Borucki, William J.; Koch, David; Basri, Gibor; Batalha, Natalie; Brown, Timothy; Caldwell, Douglas; Caldwell, John; Christensen-Dalsgaard, Jørgen; Cochran, William D.; DeVore, Edna; Dunham, Edward W.; Dupree, Andrea K.; Gautier, Thomas N.; Geary, John C.; Gilliland, Ronald; Gould, Alan; Howell, Steve B.; Jenkins, Jon M.; Kondo, Yoji; et al. (February 2010). \"Kepler Planet-Detection Mission: Introduction and First Results\" (PDF) . Science . 327 (5968): 977– 980. Bibcode : 2010Sci...327..977B . doi : 10.1126/science.1185402 . PMID 20056856 . S2CID 22858074 . Archived (PDF) from the original on November 2, 2022. ^ \"Exoplanet and Candidate Statistics\" . exoplanetarchive.ipac.caltech.edu . NASA / Caltech . Archived from the original on October 7, 2024 . Retrieved June 16, 2023 . ^ a b Overbye, Dennis (October 30, 2018). \"Kepler, the Little NASA Spacecraft That Could, No Longer Can\" . The New York Times . Archived from the original on October 30, 2018 . Retrieved October 31, 2018 . ^ \"Ball Aerospace Kepler Satellite Marks Five Years of Planet Hunting\" (Press release). Ball Aerospace & Technologies . March 6, 2014. Archived from the original on October 21, 2024 . Retrieved July 25, 2024 – via SpaceNews . ^ a b c d Borucki, W. J. (May 22, 2010). \"Brief History of the Kepler Mission\" . NASA . Archived from the original on July 21, 2011 . Retrieved April 23, 2011 . ^ Taylor, Travis S.; Osborn, Stephanie (November 15, 2012). A New American Space Plan . Baen Publishing Enterprises. ISBN 978-1-61824-961-6 . ^ a b \"Nasa launches Earth hunter probe\" . BBC News . March 7, 2009. Archived from the original on December 7, 2023 . Retrieved March 14, 2009 . ^ a b c Wall, Mike (April 4, 2012). \"NASA Extends Planet-Hunting Kepler Mission Through 2016\" . Space.com . Archived from the original on July 15, 2024 . Retrieved May 2, 2012 . ^ Clark, Stephen (October 16, 2012). \"Kepler's exoplanet survey jeopardized by two issues\" . Spaceflight Now . Archived from the original on June 16, 2024 . Retrieved October 17, 2012 . ^ a b \"Kepler Mission Manager Update\" (Press release). NASA . May 21, 2013. Archived from the original on July 11, 2023 . Retrieved June 14, 2013 . ^ a b Overbye, Dennis (May 15, 2013). \"Equipment Failure May Cut Kepler Mission Short\" . The New York Times . Archived from the original on May 16, 2013 . Retrieved May 15, 2013 . ^ a b c d e f g \"NASA Ends Attempts to Fully Recover Kepler Spacecraft, Potential New Missions Considered\" (Press release). NASA . August 15, 2013. 13-254. Archived from the original on March 12, 2024 . Retrieved August 15, 2013 . ^ a b c Overbye, Dennis (August 15, 2013). \"NASA's Kepler Mended, but May Never Fully Recover\" . The New York Times . Archived from the original on August 16, 2013 . Retrieved August 15, 2013 . ^ a b c d e f Wall, Mike (August 15, 2013). \"Planet-Hunting Days of NASA's Kepler Spacecraft Likely Over\" . Space.com . Archived from the original on June 27, 2024 . Retrieved August 15, 2013 . ^ \"Kepler: NASA retires prolific telescope from planet-hunting duties\" . BBC News . August 16, 2013. Archived from the original on December 26, 2022. ^ Overbye, Dennis (November 18, 2013). \"New Plan for a Disabled Kepler\" . The New York Times . Mountain View, California. Archived from the original on November 19, 2013 . Retrieved November 18, 2013 . ^ a b c d Johnson, Michele (November 25, 2013). Johnson, Michele (ed.). \"A Sunny Outlook for NASA Kepler's Second Light\" . NASA Official: Brian Dunbar; Image credits: NASA Ames; NASA Ames/W Stenzel. NASA . Archived from the original on April 18, 2014 . Retrieved December 12, 2013 . ^ a b c d e Johnson, Michele (December 11, 2013). Johnson, Michele (ed.). \"Kepler's Second Light: How K2 Will Work\" . NASA Official: Brian Dunbar; Image credit: NASA Ames/W Stenzel. NASA . Archived from the original on April 18, 2014 . Retrieved December 12, 2013 . ^ a b Hunter, Roger (December 11, 2013). Johnson, Michele (ed.). \"Kepler Mission Manager Update: Invited to 2014 Senior Review\" . NASA Official: Brian Dunbar. NASA . Archived from the original on April 18, 2014 . Retrieved December 12, 2013 . ^ a b Sobeck, Charlie (May 16, 2014). Johnson, Michele (ed.). \"Kepler Mission Manager Update: K2 Has Been Approved!\" . NASA Official: Brian Dunbar; Image credit(s): NASA Ames/W. Stenzel. NASA . Archived from the original on May 17, 2014 . Retrieved May 17, 2014 . ^ Wall, Mike (June 14, 2013). \"Ailing NASA Telescope Spots 503 New Alien Planet Candidates\" . Space.com . TechMediaNetwork. Archived from the original on June 17, 2024 . Retrieved June 15, 2013 . ^ \"NASA's Exoplanet Archive KOI table\" . NASA. Archived from the original on February 26, 2014 . Retrieved February 28, 2014 . ^ Crossfield, Ian J. M.; Petigura, Erik; Schlieder, Joshua; Howard, Andrew W.; Fulton, B. J.; et al. (January 2015). \"A nearby M star with three transiting super-Earths discovered by K2\". The Astrophysical Journal . 804 (1): 10. arXiv : 1501.03798 . Bibcode : 2015ApJ...804...10C . doi : 10.1088/0004-637X/804/1/10 . S2CID 14204860 . ^ a b Overbye, Dennis (November 4, 2013). \"Far-Off Planets Like the Earth Dot the Galaxy\" . The New York Times . Archived from the original on March 24, 2015 . Retrieved November 5, 2013 . ^ a b Petigura, Erik A.; Howard, Andrew W.; Marcy, Geoffrey W. (October 31, 2013). \"Prevalence of Earth-size planets orbiting Sun-like stars\" . Proceedings of the National Academy of Sciences of the United States . 110 (48): 19273– 19278. arXiv : 1311.6806 . Bibcode : 2013PNAS..11019273P . doi : 10.1073/pnas.1319909110 . PMC 3845182 . PMID 24191033 . ^ \"17 Billion Earth-Size Alien Planets Inhabit Milky Way\" . Space.com . January 7, 2013. Archived from the original on September 20, 2024 . Retrieved January 8, 2013 . ^ Khan, Amina (November 4, 2013). \"Milky Way may host billions of Earth-size planets\" . Los Angeles Times . Archived from the original on May 25, 2024 . Retrieved November 5, 2013 . ^ a b c Clavin, Whitney; Chou, Felicia; Johnson, Michele (January 6, 2015). \"NASA's Kepler Marks 1,000th Exoplanet Discovery, Uncovers More Small Worlds in Habitable Zones\" (Press release). NASA / JPL . 2015-003. Archived from the original on September 27, 2024 . Retrieved January 6, 2015 . ^ a b c \"NASA's Kepler Mission Announces Largest Collection of Planets Ever Discovered\" (Press release). NASA . May 10, 2016. 16-051. Archived from the original on October 3, 2024 . Retrieved May 10, 2016 . ^ \"Briefing materials: 1,284 Newly Validated Kepler Planets\" . NASA . May 10, 2016. Archived from the original on May 5, 2019 . Retrieved May 10, 2016 . ^ Overbye, Dennis (May 10, 2016). \"Kepler Finds 1,284 New Planets\" . The New York Times . Archived from the original on May 10, 2016 . Retrieved May 11, 2016 . ^ Cowen, Ron (January 16, 2014). \"Kepler clue to supernova puzzle\" . Nature . 505 (7483). Nature Publishing Group : 274– 275. Bibcode : 2014Natur.505..274C . doi : 10.1038/505274a . ISSN 1476-4687 . OCLC 01586310 . PMID 24429610 . ^ \"NASA Retires Kepler Space Telescope, Passes Planet-Hunting Torch\" (Press release). NASA . October 30, 2018. 18-092. Archived from the original on October 3, 2024. ^ Wiessinger, Scott; Lepsch, Aaron E.; Kazmierczak, Jeanette; Reddy, Francis; Boyd, Padi (September 17, 2018). \"NASA's TESS Releases First Science Image\" . NASA . Retrieved October 31, 2018 . ^ Atkins, William (December 28, 2008). \"Exoplanet Search Begins with French Launch of Corot Telescope Satellite\" . iTWire. Archived from the original on December 4, 2008 . Retrieved May 6, 2009 . ^ a b Caldwell, Douglas A.; van Cleve, Jeffrey E.; Jenkins, Jon M.; Argabright, Vic S.; Kolodziejczak, Jeffery J.; et al. (July 2010). Oschmann, Jacobus M. Jr.; Clampin, Mark C.; MacEwen, Howard A. (eds.). Kepler instrument performance: An in-flight update (PDF) . Space Telescopes and Instrumentation 2010: Optical, Infrared, and Millimeter Wave . Vol. 7731. San Diego, California, United States: SPIE . 773117. Bibcode : 2010SPIE.7731E..17C . doi : 10.1117/12.856638 . S2CID 121398671 . Archived from the original (PDF) on July 21, 2011. ^ Johnson, Michele, ed. (July 30, 2015). \"Kepler: Spacecraft and Instrument\" . NASA . Retrieved December 11, 2016 . ^ Barentsen, Geert, ed. (August 16, 2017). \"Kepler and K2 data products\" . NASA. Archived from the original on January 7, 2016 . Retrieved August 24, 2017 . ^ \"PyKE Primer – 2. Data Resources\" . NASA . Archived from the original on February 17, 2013 . Retrieved March 12, 2014 . ^ \"Kepler Primary Mirror\" . NASA. Archived from the original on June 18, 2020 . Retrieved April 5, 2013 . ^ \"Corning To Build Primary Mirror For Kepler Photometer\" . Retrieved April 5, 2013 . ^ Fulton L., Michael; Dummer, Richard S. (2011). \"Advanced Large Area Deposition Technology for Astronomical and Space Applications\" . Vacuum & Coating Technology (December 2011): 43– 47. Archived from the original on May 12, 2013 . Retrieved April 6, 2013 . ^ \"Ball Aerospace Completes Primary Mirror and Detector Array Assembly Milestones for Kepler Mission\" . SpaceRef.com (Press release). Ball Aerospace and Technologies. September 25, 2007. Archived from the original on June 16, 2013 . Retrieved April 6, 2013 . ^ Gilliland, Ronald L.; et al. (2011). \"Kepler Mission Stellar and Instrument Noise Properties\". The Astrophysical Journal Supplement Series . 197 (1): 6. arXiv : 1107.5207 . Bibcode : 2011ApJS..197....6G . doi : 10.1088/0067-0049/197/1/6 . S2CID 118626534 . ^ Beatty, Kelly (September 2011). \"Kepler's Dilemma: Not Enough Time\" . Sky and Telescope. Archived from the original on October 22, 2013 . Retrieved August 2, 2011 . ^ \"NASA Approves Kepler Mission Extension\" . NASA. April 4, 2012. Archived from the original on July 7, 2012. ^ a b \"Kepler Mission Rockets to Space in Search of Other Earth\" (Press release). NASA . March 6, 2009. Archived from the original on March 15, 2009 . Retrieved March 14, 2009 . ^ Koch, David; Gould, Alan (March 2009). \"Kepler Mission: Launch Vehicle and Orbit\" . NASA . Archived from the original on June 22, 2007 . Retrieved March 14, 2009 . ^ \"Kepler: Spacecraft and Instrument\" . NASA. Archived from the original on October 6, 2020 . Retrieved December 21, 2011 . ^ \"NASA Astrobiology\" . ^ Ng, Jansen (March 8, 2009). \"Kepler Mission Sets Out to Find Planets Using CCD Cameras\" . DailyTech . Archived from the original on March 10, 2009 . Retrieved March 14, 2009 . ^ Jenkins, Jon M. (January 25, 2017). \"Kepler Data Processing Handbook (KSCI-19081-002)\" (PDF) . NASA. ^ Hunter, Roger (July 24, 2012). \"Kepler Mission Manager Update\" . NASA. Archived from the original on January 6, 2021 . Retrieved July 27, 2012 . ^ McKee, Maggie (July 24, 2012). \"Kepler glitch may lower odds of finding Earth's twin\" . New Scientist . Archived from the original on July 2, 2024. ^ DeVore, Edna (April 9, 2009). \"Planet-Hunting Kepler Telescope Lifts Its Lid\" . Space.com . Archived from the original on June 29, 2024 . Retrieved April 14, 2009 . ^ \"NASA's Kepler Captures First Views of Planet-Hunting Territory\" . NASA . April 16, 2009. Archived from the original on April 18, 2009 . Retrieved April 16, 2009 . ^ \"04.20.09 – Kepler Mission Manager Update\" . NASA . April 20, 2009. Archived from the original on March 3, 2016 . Retrieved April 20, 2009 . ^ \"04.23.09 – Kepler Mission Manager Update\" . NASA . April 23, 2009. Archived from the original on July 22, 2016 . Retrieved April 27, 2009 . ^ \"05.14.09 – Kepler Mission Manager Update\" . NASA . May 14, 2009. Archived from the original on August 4, 2020 . Retrieved May 16, 2009 . ^ \"Let the Planet Hunt Begin\" . NASA . May 13, 2009. Archived from the original on July 28, 2020 . Retrieved May 13, 2009 . ^ \"2009 July 7 Mission Manager Update\" . NASA . July 7, 2009. Archived from the original on May 28, 2010 . Retrieved April 23, 2011 . ^ \"Kepler Mission Manager Update\" . NASA . October 14, 2009. Archived from the original on May 10, 2020 . Retrieved October 18, 2009 . ^ \"Kepler outlook positive; Followup Observing Program in full swing\" . August 23, 2010. Archived from the original on July 21, 2011 . Retrieved April 23, 2011 . ^ \"Kepler Mission Manager Update\" . NASA . September 23, 2009. Archived from the original on April 17, 2020 . Retrieved September 25, 2009 . ^ a b \"Kepler Mission Manager Update\" . NASA . November 5, 2009. Archived from the original on July 23, 2020 . Retrieved November 8, 2009 . ^ mission website calculator ^ \"Kepler mission & program information\" . Ball Aerospace & Technologies . Retrieved September 18, 2012 . ^ Koch, David; Gould, Alan (2004). \"Overview of the Kepler Mission\" (PDF) . SPIE . Retrieved December 9, 2010 . ^ Muir, Hazel (April 25, 2007). \" 'Goldilocks' planet may be just right for life\" . New Scientist . Archived from the original on July 4, 2024 . Retrieved April 2, 2009 . ^ a b c d e David Koch and Alan Gould, curators (March 2009). \"Kepler Mission: Characteristics of Transits (section 'Geometric Probability')\" . NASA. Archived from the original on August 25, 2009 . Retrieved September 21, 2009 . ^ Batalha, N. M.; Borucki, W. J.; Koch, D. G.; Bryson, S. T.; Haas, M. R.; et al. (January 3, 2010). \"Selection, Prioritization, and Characteristics of Kepler Target Stars\". The Astrophysical Journal . 713 (2): L109 – L114 . arXiv : 1001.0349 . Bibcode : 2010ApJ...713L.109B . doi : 10.1088/2041-8205/713/2/L109 . S2CID 39251116 . ^ \"Kepler Mission: Frequently Asked Questions\" . NASA . March 2009. Archived from the original on August 20, 2007 . Retrieved March 14, 2009 . ^ Grigahcène, A.; et al. (2010). \"Hybrid γ Doradus – δ Scuti pulsators: New insights into the physics of the oscillations from Kepler observations\". The Astrophysical Journal . 713 (2): L192 – L197 . arXiv : 1001.0747 . Bibcode : 2010ApJ...713L.192G . doi : 10.1088/2041-8205/713/2/L192 . S2CID 56144432 . ^ Chaplin, W. J.; et al. (2010). \"The asteroseismic potential of Kepler : first results for solar-type stars\". The Astrophysical Journal . 713 (2): L169 – L175 . arXiv : 1001.0506 . Bibcode : 2010ApJ...713L.169C . doi : 10.1088/2041-8205/713/2/L169 . S2CID 67758571 . ^ \"Purpose of Kepler Objects of Interest (KOI) Activity Tables\" . NASA Exoplanet Archive . NASA Exoplanet Science Institute. ^ Haas, Michael (May 31, 2013). \"New NASA Kepler Mission Data\" (Interview). NASA Official: Brian Dunbar; Image credit: NASA Ames/W. Stenzel. NASA . Archived from the original on April 20, 2014 . Retrieved April 20, 2014 . ^ Chen, Rick, ed. (June 19, 2017). \"New Kepler Planet Candidates\" . NASA . Archived from the original on October 5, 2024 . Retrieved August 4, 2017 . ^ Batalha, Natalie M.; et al. (2010). \"Pre-Spectroscopic False Positive Elimination of Kepler Planet Candidates\". The Astrophysical Journal . 713 (2): L103 – L108 . arXiv : 1001.0392 . Bibcode : 2010ApJ...713L.103B . doi : 10.1088/2041-8205/713/2/L103 . S2CID 119236240 . ^ Monet, David G.; et al. (2010). \"Preliminary Astrometric Results from Kepler\". arXiv : 1001.0305 [ astro-ph.IM ]. ^ \"The Transit Timing Variation (TTV) Planet-finding Technique Begins to Flower\" . NASA . August 23, 2012. Archived from the original on January 28, 2013. ^ Nascimbeni, V.; Piotto, G.; Bedin, L. R.; Damasso, M. (September 29, 2010). \"TASTE: The Asiago Survey for Timing transit variations of Exoplanets\". arXiv : 1009.5905 [ astro-ph.EP ]. ^ Doyle, Laurance R.; Carter, Joshua A.; Fabrycky, Daniel C.; Slawson, Robert W.; Howell, Steve B.; et al. (September 2011). \"Kepler-16: A Transiting Circumbinary Planet\". Science . 333 (6049): 1602– 1606. arXiv : 1109.3432 . Bibcode : 2011Sci...333.1602D . doi : 10.1126/science.1210923 . PMID 21921192 . S2CID 206536332 . ^ Jenkins, J.M.; Doyle, Laurance R. (September 20, 2003). \"Detecting reflected light from close-in giant planets using space-based photometers\". Astrophysical Journal . 1 (595): 429– 445. arXiv : astro-ph/0305473 . Bibcode : 2003ApJ...595..429J . doi : 10.1086/377165 . S2CID 17773111 . ^ Rowe, Jason F.; Bryson, Stephen T.; Marcy, Geoffrey W.; Lissauer, Jack J.; Jontof-Hutter, Daniel; et al. (February 26, 2014). \"Validation of Kepler's Multiple Planet Candidates. III: Light Curve Analysis & Announcement of Hundreds of New Multi-planet Systems\". The Astrophysical Journal . 784 (1): 45. arXiv : 1402.6534 . Bibcode : 2014ApJ...784...45R . doi : 10.1088/0004-637X/784/1/45 . S2CID 119118620 . ^ Angerhausen, Daniel; DeLarme, Emily; Morse, Jon A. (April 16, 2014). \"A comprehensive study of Kepler phase curves and secondary eclipses – temperatures and albedos of confirmed Kepler giant planets\". Publications of the Astronomical Society of the Pacific . 127 (957): 1113– 1130. arXiv : 1404.4348 . Bibcode : 2015PASP..127.1113A . doi : 10.1086/683797 . S2CID 118462488 . ^ \"Kepler 22-b: Earth-like planet confirmed\" . BBC Online . December 5, 2011. Archived from the original on January 6, 2024 . Retrieved December 6, 2011 . ^ a b Johnson, Michele; Harrington, J.D. (February 26, 2014). \"NASA's Kepler Mission Announces a Planet Bonanza, 715 New Worlds\" . NASA . Archived from the original on February 26, 2014 . Retrieved February 26, 2014 . ^ Lissauer, Jack J.; Marcy, Geoffrey W.; Bryson, Stephen T.; Rowe, Jason F.; Jontof-Hutter, Daniel; et al. (February 25, 2014). \"Validation of Kepler's Multiple Planet Candidates. II: Refined Statistical Framework and Descriptions of Systems of Special Interest\". The Astrophysical Journal . 784 (1): 44. arXiv : 1402.6352 . Bibcode : 2014ApJ...784...44L . doi : 10.1088/0004-637X/784/1/44 . S2CID 119108651 . ^ Díaz, Rodrigo F.; Almenara, José M.; Santerne, Alexandre; Moutou, Claire; Lethuillier, Anthony; Deleuil, Magali (March 26, 2014). \"PASTIS: Bayesian Extrasolar Planet Validation. I. General Framework, Models, and Performance\" . Monthly Notices of the Royal Astronomical Society . 441 (2): 983– 1004. arXiv : 1403.6725 . Bibcode : 2014MNRAS.441..983D . doi : 10.1093/mnras/stu601 . S2CID 118387716 . ^ Santerne, A.; Hébrard, G.; Deleuil, M.; Havel, M.; Correia, A. C. M.; et al. (June 24, 2014). \"SOPHIE Velocimetry of Kepler Transit Candidates: XII. KOI-1257 b: A Highly-Eccentric 3-Month Period Transiting Exoplanet\". Astronomy & Astrophysics . 571 : A37. arXiv : 1406.6172 . Bibcode : 2014A&A...571A..37S . doi : 10.1051/0004-6361/201424158 . S2CID 118582477 . ^ Clark, Stephen (April 4, 2012). \"Kepler planet-hunting mission extended until 2016\" . Spaceflight Now . Archived from the original on February 22, 2024 . Retrieved April 4, 2012 . ^ \"Release : 12–394 – NASA's Kepler Completes Prime Mission, Begins Extended Mission\" . NASA. Archived from the original on July 31, 2020 . Retrieved November 17, 2012 . ^ a b c \"NASA's Kepler Mission Discovers 461 New Planet Candidates\" . Archived from the original on March 1, 2013 . Retrieved January 7, 2013 . ^ \"Kepler Mission Manager Update: Initial Recovery Tests\" . NASA . July 24, 2013. Archived from the original on September 22, 2020 . Retrieved September 9, 2013 . ^ a b \"Kepler Mission Manager Update: Pointing Test\" . NASA . August 2, 2013. Archived from the original on July 25, 2020 . Retrieved August 3, 2013 . ^ Ofir, Aviv (August 9, 2013). \"KeSeF - Kepler Self Follow-up Mission\". arXiv : 1308.2252 [ astro-ph.EP ]. ^ \"Kepler Mission Manager Update\" . NASA. June 7, 2013. Archived from the original on July 31, 2020 . Retrieved June 14, 2013 . ^ a b c Wall, Mike (November 5, 2013). \"NASA's Hobbled Planet-Hunting Spacecraft May Resume Search for Alien Worlds\" . Space.com . Image credit: NASA. TechMediaNetwork . Archived from the original on April 18, 2014 . Retrieved April 17, 2014 . ^ \"Kepler Mission Manager Update: K2 collecting data\" . NASA . August 8, 2014. Archived from the original on May 10, 2020 . Retrieved August 9, 2014 . ^ Hunter, Roger (February 14, 2014). Johnson, Michele (ed.). \"Kepler Mission Manager Update: K2 spacecraft operation tests continue\" . NASA Official: Brian Dunbar; Image Credit: NASA Ames/T. Barclay. NASA . Archived from the original on April 18, 2014 . Retrieved April 17, 2014 . ^ Bakos, G. Á.; Hartman, J. D.; Bhatti, W.; Bieryla, A.; de Val-Borro, M.; et al. (April 17, 2014). \"HAT-P-54b: A hot jupiter transiting a 0.64 Msun star in field 0 of the K2 mission\". The Astronomical Journal . 149 (4): 149. arXiv : 1404.4417 . Bibcode : 2015AJ....149..149B . doi : 10.1088/0004-6256/149/4/149 . S2CID 119239193 . ^ Still, Martin, ed. (May 29, 2014). \"Kepler Guest Observer Program\" . NASA Official: Jessie Dotson. NASA. Archived from the original on June 13, 2014 . Retrieved June 12, 2014 . ^ Still, Martin, ed. (May 29, 2014). \"K2 Performance\" . NASA Official: Jessie Dotson. NASA. Archived from the original on June 13, 2014 . Retrieved June 12, 2014 . ^ a b c Barclay, Thomas; Dotson, Jessie (May 29, 2014). \"K2 Campaign Fields – 0 to 13\" . NASA . Archived from the original on April 26, 2014 . Retrieved April 4, 2015 . ^ Molnár, L.; Plachy, E.; Szabó, R. (May 29, 2014). \"Cepheids and RR Lyrae Stars in the K2 Fields\". Information Bulletin on Variable Stars . 6108 (1): 1. arXiv : 1405.7690 . Bibcode : 2014IBVS.6108....1M . ^ Pecaut, Mark J.; Mamajek, Eric E.; Bubar, Eric J. (February 2012). \"A Revised Age for Upper Scorpius and the Star Formation History among the F-type Members of the Scorpius-Centaurus OB Association\". Astrophysical Journal . 746 (2): 154. arXiv : 1112.1695 . Bibcode : 2012ApJ...746..154P . doi : 10.1088/0004-637X/746/2/154 . S2CID 118461108 . ^ de Zeeuw, P. T.; Hoogerwerf, R.; de Bruijne, J. H. J.; Brown, A. G. A.; Blaauw, A. (1999). \"A Hipparcos Census of Nearby OB Associations\". Astronomical Journal . 117 (1): 354– 399. arXiv : astro-ph/9809227 . Bibcode : 1999AJ....117..354D . doi : 10.1086/300682 . S2CID 16098861 . ^ Mamajek, E. E.; Meyer, M. R.; Liebert, James (2002). \"Post-T Tauri Stars in the Nearest OB Association\". Astronomical Journal . 124 (3): 1670– 1694. arXiv : astro-ph/0205417 . Bibcode : 2002AJ....124.1670M . doi : 10.1086/341952 . S2CID 16855894 . ^ Chou, Felicia; Johnson, Michele (December 18, 2014). \"NASA's Kepler Reborn, Makes First Exoplanet Find of New Mission\" (Press release). NASA . Release 14-335. Archived from the original on September 29, 2024 . Retrieved December 19, 2014 . ^ a b c Sobeck, Charlie (April 11, 2016). \"Mission Manager Update: Kepler Recovered from Emergency and Stable\" . NASA. Archived from the original on November 8, 2020 . Retrieved April 14, 2016 . ^ Witze, Alexandra (April 10, 2016). \"Kepler spacecraft in emergency mode\" . Nature . doi : 10.1038/nature.2016.19720 . eISSN 1476-4687 . ISSN 0028-0836 . Archived from the original on July 1, 2024 . Retrieved April 14, 2016 . ^ Khan, Amina (April 11, 2016). \"NASA Kepler spacecraft recovers from emergency mode, but what triggered it?\" . Los Angeles Times . Archived from the original on April 29, 2024 . Retrieved April 14, 2016 . ^ Clark, Stephen (April 11, 2016). \"Kepler telescope recovered from spacecraft emergency\" . Spaceflight Now . Archived from the original on June 19, 2024 . Retrieved April 14, 2016 . ^ Johnson, Michele; Sobeck, Charlie (May 3, 2016). \"Mission Manager Q&A: Recovering The Kepler Spacecraft To Hunt For Exoplanets Again\" . NASA. Archived from the original on November 8, 2020 . Retrieved August 25, 2016 . ^ Johnson, Michele; Sobeck, Charlie (June 9, 2016). \"Mission Manager Update: K2 Marches On\" . NASA. Archived from the original on November 8, 2020 . Retrieved August 25, 2016 . ^ Colon, Knicole (June 9, 2016). \"K2 mission officially extended through end of mission\" . NASA. Archived from the original on August 14, 2016 . Retrieved August 25, 2016 . ^ \"Kepler and K2\" . Kepler Spacecraft Updates . September 5, 2018. Archived from the original on November 9, 2020 . Retrieved September 7, 2018 . ^ Griggs, Mary Beth (October 30, 2018). \"The Kepler Space Telescope is dead\" . The Verge . Archived from the original on April 10, 2024. ^ \"How many exoplanets has Kepler discovered?\" . NASA. October 27, 2017 . Retrieved October 28, 2017 . ^ \"Kepler by the Numbers\" . NASA . November 2, 2018. Archived from the original on April 22, 2024 . Retrieved September 10, 2021 . ^ \"Exoplanet and Candidate Statistics\" . exoplanetarchive.ipac.caltech.edu . Retrieved August 26, 2022 . ^ \"NASA Announces Briefing About Kepler's Early Science Results\" . NASA . August 3, 2009. Archived from the original on May 11, 2020 . Retrieved April 23, 2011 . ^ \"NASA's Kepler Spies Changing Phases on a Distant World\" . NASA . August 6, 2009. Archived from the original on April 18, 2020 . Retrieved August 6, 2009 . ^ Borucki, W. J.; Koch, D.; Jenkins, J.; Sasselov, D.; Gilliland, R.; et al. (August 7, 2009). \"Kepler's Optical Phase Curve of the Exoplanet HAT-P-7b\" . Science . 325 (5941). Washington, DC : AAAS : 709. Bibcode : 2009Sci...325..709B . doi : 10.1126/science.1178312 . ISSN 1095-9203 . OCLC 1644869 . PMID 19661420 . S2CID 206522122 . ^ \"Kepler dropped stars now public\" . NASA . November 4, 2009. Archived from the original on July 7, 2024 . Retrieved April 23, 2011 . ^ Chontos, Ashley; Huber, Daniel; Latham, David W.; Bieryla, Allyson; van Eylen, Vincent; Bedding, Timothy R.; Berger, Travis; Buchhave, Lars A.; Campante, Tiago L.; Chaplin, William J; Colman, Isabel L.; Coughlin, Jeff L.; Davies, Guy; Hirano, Teruyuki; Howard, Andrew W.; Isaacson, Howard (March 2019). \"The Curious Case of KOI 4: Confirming Kepler's First Exoplanet Detection\" . The Astronomical Journal . 157 (5): 192. arXiv : 1903.01591 . Bibcode : 2019AJ....157..192C . doi : 10.3847/1538-3881/ab0e8e . S2CID 119240124 . ^ Chen, Rick (March 5, 2019). \"Kepler's First Planet Candidate Confirmed 10 Years Later\" (Press release). NASA . Archived from the original on October 11, 2023 . Retrieved March 6, 2019 . ^ \"Kepler space telescope finds its first extrasolar planets\" . Sciencenews.org . January 30, 2010. Archived from the original on September 25, 2012 . Retrieved February 5, 2011 . ^ MacRobert, Robert (January 4, 2010). \"Kepler's First Exoplanet Results – News Blog\" . Sky & Telescope . Archived from the original on September 14, 2011 . Retrieved April 21, 2011 . ^ Gilster, Paul (February 2, 2011). \"The Remarkable Kepler-11\" . Tau Zero Foundation . Retrieved April 21, 2011 . ^ a b van Kerkwijk, Marten H.; Rappaport, Saul A.; Breton, René P.; Justham, Stephen; Podsiadlowski, Philipp; Han, Zhanwen (May 20, 2010). \"Observations of Doppler Boosting in Kepler Light Curves\". The Astrophysical Journal . 715 (1): 51– 58. arXiv : 1001.4539 . Bibcode : 2010ApJ...715...51V . doi : 10.1088/0004-637X/715/1/51 . ISSN 0004-637X . S2CID 15893663 . ^ Villard, Ray. \"Blazing Stellar Companion Defies Explanation\" . Discovery.com . Archived from the original on March 2, 2012 . Retrieved April 20, 2011 . ^ a b c Borucki, William J.; et al. (2010). Characteristics of Kepler Planetary Candidates Based on the First Data Set: The Majority are Found to be Neptune-Size and Smaller (Report). arXiv : 1006.2799 . doi : 10.1088/0004-637X/728/2/117 . S2CID 93116 . ^ \"Kepler News: First 43 Days of Kepler Data Released\" . NASA . May 15, 2010. Archived from the original on August 11, 2010 . Retrieved April 24, 2011 . ^ a b c d Borucki, William J.; et al. (2011). \"Characteristics of planetary candidates observed by Kepler, II: Analysis of the first four months of data\". The Astrophysical Journal . 736 (1): 19. arXiv : 1102.0541 . Bibcode : 2011ApJ...736...19B . doi : 10.1088/0004-637X/736/1/19 . S2CID 15233153 . ^ Woolfson, M. M. (1993). \"The Solar System: Its Origin and Evolution\". Journal of the Royal Astronomical Society . 34 : 1– 20. Bibcode : 1993QJRAS..34....1W . Page 18 in particular states that models that required a near collision of stars imply about 1% will have planets. ^ Ward, W.R. (1997). \"Protoplanet Migration by Nebula Tides\" (PDF) . Icarus . 126 (2). Elsevier : 261– 281. Bibcode : 1997Icar..126..261W . doi : 10.1006/icar.1996.5647 . Archived from the original (PDF) on June 14, 2011 . Retrieved April 23, 2011 . ^ Sasselov, Dimitar (July 2010). \"How we found hundreds of Earth-like planets\" . Ted.com . Archived from the original on July 27, 2010 . Retrieved February 5, 2011 . ^ Steffen, Jason H.; et al. (November 9, 2010). \"Five Kepler target stars that show multiple transiting exoplanet candidates\". Astrophysical Journal . 725 (1): 1226– 1241. arXiv : 1006.2763 . Bibcode : 2010ApJ...725.1226S . doi : 10.1088/0004-637X/725/1/1226 . ISSN 0004-637X . S2CID 14775394 . ^ Prsa, Andrej; Batalha, Natalie M.; Slawson, Robert W.; Doyle, Laurance R.; Welsh, William F.; et al. (January 21, 2011). \"Kepler Eclipsing Binary Stars. I. Catalog and Principal Characterization of 1879 Eclipsing Binaries in the First Data Release\". The Astronomical Journal . 141 (3): 83. arXiv : 1006.2815 . Bibcode : 2011AJ....141...83P . doi : 10.1088/0004-6256/141/3/83 . S2CID 13440062 . ^ Rowe, Jason F.; Borucki, William J.; Koch, David; Howell, Steve B.; Basri, Gibor; et al. (2010). \"Kepler Observations of Transiting Hot Compact Objects\". The Astrophysical Journal Letters . 713 (2): L150 – L154 . arXiv : 1001.3420 . Bibcode : 2010ApJ...713L.150R . doi : 10.1088/2041-8205/713/2/L150 . S2CID 118578253 . ^ a b \"Kepler: A Search For Habitable Planets – Kepler-20e\" . NASA . December 20, 2011. Archived from the original on March 10, 2012 . Retrieved December 23, 2011 . ^ a b \"Kepler: A Search For Habitable Planets – Kepler-20f\" . NASA . December 20, 2011. Archived from the original on March 10, 2012 . Retrieved December 23, 2011 . ^ Morton, Timothy D.; Johnson, John Asher (2011). \"On the Low False Positive Probabilities of Kepler Planet Candidates\". The Astrophysical Journal . 738 (2): 170. arXiv : 1101.5630 . Bibcode : 2011ApJ...738..170M . doi : 10.1088/0004-637X/738/2/170 . S2CID 35223956 . ^ a b \"NASA Finds Earth-size Planet Candidates in Habitable Zone, Six Planet System\" . NASA . February 2, 2011. Archived from the original on April 29, 2011 . Retrieved April 24, 2011 . ^ a b Overbye, Dennis (February 2, 2011). \"Kepler Planet Hunter Finds 1,200 Possibilities\" . The New York Times . Archived from the original on January 2, 2013 . Retrieved April 24, 2011 . ^ Borenstein, Seth (February 2, 2011). \"NASA spots scores of potentially livable worlds\" . MSNBC News . Archived from the original on October 30, 2022 . Retrieved April 24, 2011 . ^ Alexander, Amir (February 3, 2011). \"Kepler Discoveries Suggest a Galaxy Rich in Life\" . The Planetary Society . Archived from the original on February 5, 2011 . Retrieved February 4, 2011 . ^ Grant, Andrew (March 8, 2011). \"Exclusive: \"Most Earth-Like\" Exoplanet Gets Major Demotion – It Isn't Habitable\" . Discover Magazine . Archived from the original on March 9, 2011 . Retrieved April 24, 2011 . ^ Borucki, William J.; et al. (2011). \"Characteristics of planetary candidates observed by Kepler, II: Analysis of the first four months of data\". The Astrophysical Journal . 736 (1). IOP Publishing: 19. arXiv : 1102.0541 . Bibcode : 2011ApJ...736...19B . doi : 10.1088/0004-637X/736/1/19 . ISSN 0004-637X . S2CID 15233153 . ^ a b \"Kepler-22b, Super-Earth in the habitable zone of a Sun-like Star\" . NASA. December 5, 2011. Archived from the original on March 16, 2012. ^ Johnson, Michele (December 20, 2011). \"NASA Discovers First Earth-size Planets Beyond Our Solar System\" . NASA . Archived from the original on May 16, 2020 . Retrieved December 20, 2011 . ^ Shostak, Seth (February 3, 2011). \"A Bucketful of Worlds\" . Huffington Post . Archived from the original on September 5, 2024 . Retrieved April 24, 2011 . ^ Borenstein, Seth (February 19, 2011). \"Cosmic census finds crowd of planets in our galaxy\" . Associated Press. Archived from the original on September 27, 2011 . Retrieved April 24, 2011 . ^ Choi, Charles Q. (March 21, 2011). \"New Estimate for Alien Earths: 2 Billion in Our Galaxy Alone\" . Space.com . Archived from the original on March 22, 2023 . Retrieved April 24, 2011 . ^ Wall, Mike (January 11, 2012). \"160 Billion Alien Planets May Exist in Our Milky Way Galaxy\" . Space.com . Archived from the original on August 2, 2024 . Retrieved January 11, 2012 . ^ Cassan, A.; Kubas, D.; Beaulieu, J.-P.; Dominik, M.; Horne, K.; et al. (January 11, 2012). \"One or more bound planets per Milky Way star from microlensing observations\". Nature . 481 (7380): 167– 169. arXiv : 1202.0903 . Bibcode : 2012Natur.481..167C . doi : 10.1038/nature10684 . PMID 22237108 . S2CID 2614136 . ^ a b Amos, Jonathan (May 17, 2012). \"Kepler telescope studies star superflares\" . BBC News . Archived from the original on October 28, 2022 . Retrieved May 31, 2012 . ^ The Transit Timing Variation (TTV) Planet-finding Technique Begins to Flower . NASA.gov. ^ Planet Hunters Find Circumbinary Planet in 4-Star System – 10.16.2012 . ^ Schilling, Govert (September 12, 2011). \" 'Super-Earth' Found in Habitable Zone\" . AAAS. Archived from the original on September 25, 2011. ^ \"Released Kepler Planetary Candidates\" . MAST. February 27, 2012 . Retrieved November 26, 2012 . ^ Claven, Whitney (January 3, 2013). \"Billions and Billions of Planets\" . NASA . Archived from the original on April 21, 2020 . Retrieved January 3, 2013 . ^ \"100 Billion Alien Planets Fill Our Milky Way Galaxy: Study\" . Space.com . January 2, 2013. Archived from the original on January 3, 2013 . Retrieved January 3, 2013 . ^ Moskowitz, Clara (January 9, 2013). \"Most Earth-Like Alien Planet Possibly Found\" . Space.com . Archived from the original on May 25, 2024 . Retrieved January 9, 2013 . ^ \"Gravity-Bending Find Leads to Kepler Meeting Einstein\" . NASA. April 4, 2013. Archived from the original on July 5, 2015 . Retrieved April 6, 2013 . ^ Johnson, Michele; Harrington, J.D. (April 18, 2013). \"NASA's Kepler Discovers Its Smallest 'Habitable Zone' Planets to Date\" . NASA . Archived from the original on May 8, 2020 . Retrieved April 18, 2013 . ^ Overbye, Dennis (April 18, 2013). \"2 Good Places to Live, 1,200 Light-Years Away\" . The New York Times . Archived from the original on April 18, 2013 . Retrieved April 18, 2013 . ^ \"NASA's Kepler Discovers Its Smallest 'Habitable Zone' Planets to Date\" . YouTube. April 18, 2013. Archived from the original on November 13, 2021 . Retrieved April 19, 2013 . ^ Kane, Stephen R.; Barclay, Thomas; Gelino, Dawn M. (2013). \"A Potential Super-Venus in the Kepler-69 System\". The Astrophysical Journal Letters . 770 (2). IOP Publishing: L20. arXiv : 1305.2933 . Bibcode : 2013ApJ...770L..20K . doi : 10.1088/2041-8205/770/2/L20 . ISSN 2041-8205 . S2CID 9808447 . ^ \"Kepler Mission Manager Update: Pointing Test Results\" . NASA . August 19, 2013. Archived from the original on May 7, 2020 . Retrieved September 9, 2013 . ^ \"Kepler broken – mission may be over\" . 3 News NZ . May 20, 2013. Archived from the original on July 5, 2014 . Retrieved May 20, 2013 . ^ \"NASA – Kepler Mission Manager Update: Preparing for Recovery\" . Archived from the original on August 26, 2020 . Retrieved July 16, 2013 . ^ Agenda . Second Kepler Science Conference – NASA Ames Research Center, Mountain View, CA. Nov. 4–8, 2013 . ^ \"Welcome to the NASA Exoplanet Archive\" . California Institute of Technology. February 27, 2014. Archived from the original on February 27, 2014 . Retrieved February 27, 2014 . February 13, 2014: The Kepler project has updated dispositions for 534 KOIs in the Q1–Q16 KOI activity table. This brings the total number of Kepler candidates and confirmed planets to 3,841. For more information, see the Purpose of KOI Table document and the interactive tables. ^ Wall, Mike (February 26, 2014). \"Population of Known Alien Planets Nearly Doubles as NASA Discovers 715 New Worlds\" . Space.com . Archived from the original on September 29, 2024 . Retrieved February 26, 2014 . ^ Amos, Jonathan (February 26, 2014). \"Kepler telescope bags huge haul of planets\" . BBC News . Archived from the original on October 9, 2024 . Retrieved February 27, 2014 . ^ Overbye, Dennis (February 27, 2014). \"From Kepler Data, Astronomers Find Galaxy Filled With More but Smaller Worlds\" . The New York Times . Archived from the original on February 27, 2014 . Retrieved February 28, 2014 . ^ Sanchis-Ojeda, Roberto; Rappaport, Saul; Winn, Joshua N.; Kotson, Michael C.; Levine, Alan M.; El Mellah, Ileyk (March 10, 2014). \"A Study of the Shortest-Period Planets Found With Kepler\". The Astrophysical Journal . 787 (1): 47. arXiv : 1403.2379 . Bibcode : 2014ApJ...787...47S . doi : 10.1088/0004-637X/787/1/47 . S2CID 14380222 . ^ Culler, Jessica (April 17, 2014). Jessica Culler (ed.). \"NASA's Kepler Discovers First Earth-Size Planet In The 'Habitable Zone' of Another Star\" . NASA Official: Brian Dunbar; Image credit(s): 2xNASA Ames/SETI Institute/JPL-Caltech; NASA Ames. NASA . Archived from the original on April 26, 2014 . Retrieved April 26, 2014 . ^ Barclay, Thomas; Dotson, Jessie (May 29, 2014). \"K2 Campaign 0 (March 8, 2014 – May 30, 2014)\" . NASA . Archived from the original on August 1, 2014 . Retrieved April 4, 2015 . ^ Conroy, Kyle E.; Prša, Andrej; Stassun, Keivan G.; Bloemen, Steven; Parvizi, Mahmoud; et al. (October 2014). \"Kepler Eclipsing Binary Stars. V. Identification of 31 Candidate Eclipsing Binaries in the K2 Engineering Dataset\". Publications of the Astronomical Society of the Pacific . 126 (944): 914– 922. arXiv : 1407.3780 . Bibcode : 2014PASP..126..914C . doi : 10.1086/678953 . S2CID 8232628 . ^ Barclay, Thomas; Dotson, Jessie (May 29, 2014). \"K2 Campaign 1 (May 30, 2014 – August 21, 2014)\" . NASA . Archived from the original on August 1, 2014 . Retrieved April 4, 2015 . ^ Barclay, Thomas; Dotson, Jessie (May 29, 2014). \"K2 Campaign 2 (August 22, 2014 – November 11, 2014)\" . NASA . Archived from the original on November 5, 2014 . Retrieved April 4, 2015 . ^ Sobeck, Charlie (September 23, 2014). \"Mission Manager Update: C1 data on the ground; C2 underway\" . NASA . Archived from the original on April 17, 2018 . Retrieved September 23, 2014 . ^ a b Johnson, Michele; Chandler, Lynn (May 20, 2015). \"NASA Spacecraft Capture Rare, Early Moments of Baby Supernovae\" . NASA. Archived from the original on November 8, 2020 . Retrieved May 21, 2015 . ^ Barclay, Thomas; Dotson, Jessie (May 29, 2014). \"K2 Campaign 3 (November 14, 2014 – February 6, 2014)\" . NASA . Archived from the original on January 2, 2015 . Retrieved April 4, 2015 . ^ Campante, T. L.; Barclay, T.; Swift, J. J.; Huber, D.; Adibekyan, V. Zh.; et al. (February 2015). \"An Ancient Extrasolar System with Five Sub-Earth-size Planets\". The Astrophysical Journal . 799 (2). article 170. arXiv : 1501.06227 . Bibcode : 2015ApJ...799..170C . doi : 10.1088/0004-637X/799/2/170 . S2CID 5404044 . ^ Dunn, Marcia (January 27, 2015). \"Astronomers find solar system more than double ours in age\" . Associated Press . Archived from the original on January 7, 2024 . Retrieved January 27, 2015 . ^ Atkinson, Nancy (January 27, 2015). \"Oldest Planetary System Discovered, Improving the Chances for Intelligent Life Everywhere\" . Universe Today . Archived from the original on April 24, 2024 . Retrieved January 27, 2015 . ^ Barclay, Thomas; Dotson, Jessie (May 29, 2014). \"K2 Campaign 4 (February 7, 2015 – April 24, 2015)\" . NASA. Archived from the original on February 24, 2015 . Retrieved April 4, 2015 . ^ Sobeck, Charlie; Johnson, Michele; Dunbar, Brian (April 2, 2015). \"Mission Manager Update: K2 in Campaign 4\" . NASA. Archived from the original on September 23, 2020 . Retrieved April 4, 2015 . ^ Chou, Felicia; Johnson, Michele (July 23, 2015). \"NASA's Kepler Mission Discovers Bigger, Older Cousin to Earth\" (Press release). NASA . 15-156. Archived from the original on October 7, 2024 . Retrieved July 23, 2015 . ^ Jenkins, Jon M.; Twicken, Joseph D.; Batalha, Natalie M.; Caldwell, Douglas A.; Cochran, William D.; et al. (July 2015). \"Discovery and Validation of Kepler-452b: A 1.6 R⨁ Super Earth Exoplanet in the Habitable Zone of a G2 Star\". The Astronomical Journal . 150 (2): 56. arXiv : 1507.06723 . Bibcode : 2015AJ....150...56J . doi : 10.1088/0004-6256/150/2/56 . S2CID 26447864 . ^ Overbye, Dennis (July 23, 2015). \"NASA Says Data Reveals an Earth-Like Planet, Kepler 452b\" . The New York Times . Archived from the original on July 24, 2015 . Retrieved July 24, 2015 . ^ Johnson, Michele (July 23, 2015). \"Kepler Planet Candidates, July 2015\" . NASA . Archived from the original on March 15, 2024 . Retrieved July 24, 2015 . ^ Kaplan, Sarah (October 15, 2015). \"The strange star that has serious scientists talking about an alien megastructure\" . The Washington Post . ISSN 0190-8286 . Archived from the original on October 17, 2015 . Retrieved October 15, 2015 . ^ Andersen, Ross (October 13, 2015). \"The Most Mysterious Star in Our Galaxy\" . The Atlantic . eISSN 2151-9463 . ISSN 1072-7825 . Archived from the original on October 2, 2024 . Retrieved October 13, 2015 . ^ Boyajian, T. S.; LaCourse, D. M.; Rappaport, S. A.; Fabrycky, D.; Fischer, D. A.; et al. (April 2016). \"Planet Hunters IX. KIC 8462852 – Where's the flux?\" . Monthly Notices of the Royal Astronomical Society . 457 (4): 3988– 4004. arXiv : 1509.03622 . Bibcode : 2016MNRAS.457.3988B . doi : 10.1093/mnras/stw218 . S2CID 54859232 . ^ \"Frequently Asked Questions from the Public\" . Archived from the original on May 27, 2010 . Retrieved September 6, 2011 . Data for each 3-month observation period will be made public within one year of the end the observation period. ^ \"NASA's Kepler Mission Data Release Schedule\" . NASA . Archived from the original on October 16, 2009 . Retrieved October 18, 2011 . On this schedule, the data from the quarter ending June 2010 was scheduled to be released in June 2013. ^ Overbye, Dennis (June 14, 2010). \"In the Hunt for Planets, Who Owns the Data?\" . The New York Times . Archived from the original on June 17, 2010. ^ Hand, Eric (April 14, 2010). \"Telescope team may be allowed to sit on exoplanet data\" . Nature . doi : 10.1038/news.2010.182 . eISSN 1476-4687 . ISSN 0028-0836 . Archived from the original on April 16, 2010. ^ MacRobert, Alan (May 26, 2011). \"Kepler's Exoplanets: A Progress Report\" . Sky & Telescope . Archived from the original on October 11, 2023. ^ Brown, Alex (March 28–29, 2011). \"Minutes of the Kepler Users Panel\" (PDF) . Archived from the original (PDF) on October 15, 2011. ^ Gugliucci, Nicole (June 15, 2010). \"Kepler Exoplanet Controversy Erupts\" . Discovery News. Archived from the original on November 12, 2012 . Retrieved October 4, 2011 . ^ \"NASA's Kepler Mission Announces Next Data Release to Public Archive\" . March 31, 2015. Archived from the original on October 19, 2011. ^ \"Kepler Data Collection and Archive Timeline\" . Archived from the original on October 16, 2009 . Retrieved January 1, 2012 . ^ a b Santerne, A.; Diaz, R. F.; Bouchy, F.; Deleuil, M.; Moutou, C.; et al. (April 2011). \"SOPHIE velocimetry of Kepler transit candidates. II. KOI-428b: A hot Jupiter transiting a subgiant F-star\". Astronomy & Astrophysics . 528 . A63. arXiv : 1101.0196 . Bibcode : 2011A&A...528A..63S . doi : 10.1051/0004-6361/201015764 . S2CID 119275985 . ^ a b Bouchy, F.; Bonomo, A. S.; Santerne, A.; Moutou, C.; Deleuil, M.; et al. (September 2011). \"SOPHIE velocimetry of Kepler transit candidates. III. KOI-423b: an 18 M Jup transiting companion around an F7IV star\". Astronomy & Astrophysics . 533 . A83. arXiv : 1106.3225 . Bibcode : 2011A&A...533A..83B . doi : 10.1051/0004-6361/201117095 . S2CID 62836749 . ^ Andrews, Bill (December 20, 2010). \"Become a Planet Hunter!\" . Astronomy . Archived from the original on January 26, 2022 . Retrieved April 24, 2011 . ^ \"Planetometer\" . Zooniverse . Archived from the original on July 21, 2011 . Retrieved June 15, 2011 . ^ \"Amateur stargazers discover new planet\" . The Daily Telegraph . January 20, 2012. Archived from the original on January 12, 2022 . Retrieved January 20, 2012 . ^ Amos, Jonathan (January 18, 2012). \"Stargazing viewer in planet coup\" . BBC News . Archived from the original on September 12, 2024 . Retrieved January 19, 2012 . ^ \"We Got One!!!\" . Zooniverse.org . Exoplanet Explorers . Retrieved April 18, 2017 . ^ \"Stargazing Live 2017: Thank you all!\" . Zooniverse.org . April 7, 2017. Archived from the original on June 16, 2024 . Retrieved April 18, 2017 . ^ Miller, Daniel (April 6, 2017). \"Stargazing Live viewers find four-planet solar system via crowd-sourcing project\" . ABC . Archived from the original on July 25, 2024 . Retrieved April 18, 2017 . ^ Dedieu, Cyril. \"Star: KOI-196\" . Extrasolar Planets Encyclopaedia . Archived from the original on January 11, 2012 . Retrieved December 21, 2011 . ^ \"Star: KOI-135\" . Extrasolar Planets Encyclopaedia . Archived from the original on January 1, 2012 . Retrieved December 21, 2011 . ^ \"Star: KOI-204\" . Extrasolar Planets Encyclopaedia . Archived from the original on January 1, 2012 . Retrieved December 21, 2011 . ^ \"Star: KOI-254\" . Extrasolar Planets Encyclopaedia . Archived from the original on January 19, 2012 . Retrieved December 21, 2011 . ^ \"Star: KOI-730\" . Extrasolar Planets Encyclopaedia . Archived from the original on June 16, 2012 . Retrieved December 21, 2011 . ^ \"Star: KOI-961\" . Extrasolar Planets Encyclopaedia . Archived from the original on February 8, 2012 . Retrieved January 1, 2012 . ^ a b \"MAST KIC Search Help\" . Space Telescope Science Institute . Retrieved April 23, 2011 . ^ \"KIC10 Search\" . Retrieved April 23, 2011 . ^ Stevenson, Kevin B.; Fabrycky, Daniel; Jedicke, Robert; Bottke, William; Denneau, Larry (September 2013). \"NEOKepler: Discovering Near-Earth Objects Using the Kepler Spacecraft\". arXiv : 1309.1096 [ astro-ph.EP ]. ^ \"506121 (2016 BP81)\" . Minor Planet Center . Archived from the original on December 22, 2017 . Retrieved March 28, 2018 . ^ Wall, Mike (November 16, 2018). \"Farewell, Kepler: NASA Shuts Down Prolific Planet-Hunting Space Telescope\" . Space.com . Archived from the original on November 16, 2018 . Retrieved November 16, 2018 . NASA decommissioned the Kepler space telescope last night (Nov. 15), beaming \"goodnight\" commands to the sun-orbiting observatory. [...] The final commands were sent from Kepler's operations center at the University of Colorado Boulder's Laboratory for Atmospheric and Space Physics... ^ Chou, Felicia; Hawkes, Alison; Cofield, Calla (November 16, 2018). \"Kepler Telescope Bids 'Goodnight' with Final Commands\" (Press release). NASA / JPL . 208-266. Archived from the original on April 19, 2024 . Retrieved November 16, 2018 . Coincidentally, Kepler's \"goodnight\" falls on the same date as the 388-year anniversary of the death of its namesake, German astronomer Johannes Kepler... External links [ edit ] Wikimedia Commons has media related to Kepler (spacecraft) . Official website by NASA's Ames Research Center Kepler website by NASA Kepler Science Center by NASA's Ames Research Center Kepler public data archive by the Space Telescope Science Institute Kepler – Tally of Exoplanets ( NYT ; October 30, 2018) Strömgren survey for Asteroseismology and Galactic Archaeology Video (1:00): Kepler Orrey V (Oct 30, 2018) on YouTube Exoplanet catalogs and databases NASA Exoplanet Archive Extrasolar Planets Encyclopaedia by the Paris Observatory The Habitable Exoplanets Catalog by UPR Arecibo New Worlds Atlas by the NASA/JPL PlanetQuest v t e Space telescopes Operating Radio and Microwave NCLE (since 2018) Solar Orbiter (since 2020) STEREO (since 2006) Queqiao (since 2018) Wind (since 1994) Queqiao 2 (since 2024) Infrared Odin (since 2001) SOLAR (since 2008) James Webb (since 2022) Optical Aoi (since 2018) Astrosat (since 2015) BRITE constellation (since 2013) CHASE (since 2021) CHEOPS (since 2019) DSCOVR (since 2015) Euclid (since 2023) Hayabusa2 (since 2021) Gaia (since 2013) HiRISE (since 2005) Hubble (since 1990) Hinode (Solar-B) (since 2006) NEOSSat (since 2013) Odin (since 2001) SDO (since 2010) SOHO (since 1995) SOLAR (since 2008) Swift (since 2004) TESS (since 2018) PROBA-3 (since 2024) Ultraviolet Aditya-L1 (since 2023) ASO-S (since 2022) Astrosat (since 2015) Hibari (since 2021) Hinode (Solar-B) (since 2006) IRIS (since 2013) SDO (since 2010) SOHO (since 1995) SOLAR (since 2008) Solar Orbiter (since 2020) STEREO (since 2006) Swift (since 2004) PROBA-3 (since 2024) X-ray and Gamma-ray CALET (since 2015) Chandra (AXAF) (since 1999) DAMPE (since 2015) Einstein Probe (since 2024) HXMT (Insight) (since 2017) INTEGRAL (since 2002) Fermi (since 2008) GECAM (since 2020) IXPE (since 2021) Spektr-RG (since 2019) SVOM (since 2024) Swift (since 2004) Max Valier Sat (since 2017) MAXI (since 2009) MinXSS-2 (since 2018) NICER (since 2017) NuSTAR (since 2012) LEIA (since 2022) XRISM (since 2023) XPoSat (since 2024) XMM-Newton (since 1999) Other (particle or unclassified) ACE (since 1997) AMS-02 (since 2011) CALET (since 2015) DAMPE (since 2015) IBEX (since 2008) ISS-CREAM (since 2017) Mini-EUSO (since 2019) SOHO (since 1995) Solar Orbiter (since 2020) STEREO (since 2006) Planned PETREL (2025) SPHEREx (2025) K-EUSO (2026) Nancy Grace Roman Space Telescope (2026) PLATO (2026) Xuntian (2026) COSI (2027) LORD (2027) NEO Surveyor (2027) JASMINE (2028) Solar-C EUVST (2028) ARIEL (2029) Spektr-UV (2030) UVEX (2030) Spektr-M (2030+) LiteBIRD (2032) Taiji (2033) Athena (2035) LISA (2035) Proposed Arcus Astro-1 Telescope AstroSat-2 EXCEDE Fresnel Imager FOCAL GSST-PMM HabEx HWO Hypertelescope ILO-1 iWF-MAXI JEM-EUSO LUCI LUVOIR Lynx Nano-JASMINE Nautilus Deep Space Observatory New Worlds Mission NRO donation to NASA ORBIS OST PhoENiX Solar-D Space Solar Telescope THEIA THESEUS Retired AGILE (2007–2024) Akari (Astro-F) (2006–2011) ALEXIS (1993–2005) Alouette 1 (1962–1972) Ariel 1 (1962, 1964) Ariel 2 (1964) Ariel 3 (1967–1969) Ariel 4 (1971–1972) Ariel 5 (1974–1980) Ariel 6 (1979–1982) ASTERIA (2017–2019) ATM (1973–1974) ASCA (Astro-D) (1993–2000) Astro-1 (1990) BBXRT HUT Astro-2 ( HUT ) (1995) Astron (1983–1991) ANS (1974–1976) BeppoSAX (1996–2003) CHIPSat (2003–2008) Compton (CGRO) (1991–2000) CoRoT (2006–2013) Cos-B (1975–1982) COBE (1989–1993) CXBN-2 (2017–2019) DXS (1993) EPOCh (2008) EPOXI (2010) Explorer 11 (1961) EXOSAT (1983–1986) EUVE (1992–2001) FUSE (1999–2007) Kvant-1 (1987–2001) GALEX (2003–2013) Gamma (1990–1992) Ginga (Astro-C) (1987–1991) Granat (1989–1998) Hakucho (CORSA-b) (1979–1985) HALCA (MUSES-B) (1997–2005) HEAO-1 (1977–1979) Herschel (2009–2013) Hinotori (Astro-A) (1981–1991) Hisaki (SPRINT-A) (2013–2023) HEAO-2 (Einstein Obs.) (1978–1982) HEAO-3 (1979–1981) HETE-2 (2000–2008) Hipparcos (1989–1993) ILO-X (2024) IRAS (1983) IRTS (1995–1996) ISO (1996–1998) IUE (1978–1996) IXAE (1996–2004) Kepler (2009–2018) Kristall (1990–2001) LEGRI (1997–2002) LISA Pathfinder (2015–2017) MinXSS (2015–2017) MOST (2003–2019) MSX (1996–1997) Mikhailo Lomonosov (2016–2019?) OAO-2 (1968–1973) OAO-3 (Copernicus) (1972–1981) Orbiting Solar Observatory OSO 1 OSO B OSO 3 OSO 4 OSO 5 OSO 6 OSO 7 OSO 8 Orion 1 (1971) Orion 2 (1973) PAMELA (2006–2016) PicSat (2018) Planck (2009–2013) RELIKT-1 (1983–1984) R/HESSI (2002–2018) ROSAT (1990–1999) RXTE (1995–2012) SAMPEX (1992–2004) SAS-B (1972–1973) SAS-C (1975–1979) Solwind (1979–1985) Spektr-R (2011–2019) Spitzer (2003–2020) Suzaku (Astro-EII) (2005–2015) Taiyo (SRATS) (1975–1980) Tenma (Astro-B) (1983–1985) Uhuru (1970–1973) Vanguard 3 (1959) WMAP (2001–2010) WISE (2009–2024) Yokoh (Solar-A) (1991–2001) Hibernating (Mission completed) SWAS (1998–2005) TRACE (1998–2010) Lost/Failed OAO-1 (1966) OAO-B (1970) CORSA (1976) CXBN (2012–2013) OSO C (1965) ABRIXAS (1999) HETE-1 (1996) WIRE (1999) Astro-E (2000) Tsubame (2014–2015) Hitomi (Astro-H) (2016) Cancelled Aelita AOSO Astro-G Constellation-X Darwin Destiny EChO Eddington FAME FINESSE GEMS HOP IXO JDEM LOFT OSO J OSO K Sentinel SIM & SIMlite SNAP SPICA SPOrt TAUVEX TPF XEUS XIPE Related Great Observatories program List of space telescopes List of proposed space telescopes X-ray telescope List of heliophysics missions List of planetariums Hubble (2010 documentary) Unknown: Cosmic Time Machine (2023 documentary) Category:Space telescopes v t e Exoplanet search projects Exoplanetology Exoplanet Ground-based AAPS APF CORALIE EAPSNet ELODIE EPICS ESPRESSO FINDS Exo-Earths Geneva HARPS HARPS-N GPI HATNet HEK HiCIAO HIRES KELT LCES Magellan MARVELS MASCARA MEarth MicroFUN MINERVA Australis MOA N2K NGTS NESSI OGLE OPSP PlanetPol Project 1640 PARAS SEEDS SETI SOPHIE SPECULOOS SPHERE SuperWASP Systemic TrES XO Telescope ZIMPOL/CHEOPS Space missions Past MOST (2003–2019) SWEEPS using HST (2006) CoRoT (2006–2013) EPOXI using Deep Impact (2008–2013) Kepler (2009–2018) detected exoplanets ASTERIA (2017–2020) Current Gaia (2013–present) TESS (2018–present) CHEOPS (2019–present) Hayabusa2 (2021–present) James Webb Space Telescope (2021–present) Planned PLATO (2026) ARIEL (2029) Nancy Grace Roman Space Telescope (mid-2020s) Proposed EXCEDE HabEx LIFE LUVOIR Nautilus Deep Space Observatory New Worlds Mission OST PEGASE Cancelled Darwin EChO Eddington Space Interferometry Mission Terrestrial Planet Finder Related Detection methods Discoveries of exoplanets Habitable zone for complex life Lists of exoplanets nearest Category Commons v t e Johannes Kepler Scientific career Kepler conjecture Kepler's laws of planetary motion Kepler orbit Kepler triangle Kepler's equation Kepler polyhedra Kepler's Supernova Keplerian telescope Works Mysterium Cosmographicum (1596) De Stella Nova (1606) Astronomia nova (1609) Epitome Astronomiae Copernicanae (1618, 1620-21) Harmonice Mundi (1619) Rudolphine Tables (1627) Somnium (1634) Related Die Harmonie der Welt (opera) Katharina Kepler (mother) Jakob Bartsch (son-in-law) Kepler (opera) Kepler space telescope Johannes Kepler ATV Astronomers Monument List of namesakes Articles related to the Kepler space telescope v t e NASA Planetary Missions Program Office Discovery program Missions Main NEAR Shoemaker Mars Pathfinder Lunar Prospector Stardust Genesis CONTOUR † MESSENGER Deep Impact Dawn Kepler GRAIL InSight Lucy Psyche DAVINCI VERITAS Opportunity ASPERA-3 EPOXI NExT Moon Mineralogy Mapper Strofio MEGANE Proposals Finalists Mission 12 Comet Hopper Titan Mare Explorer Mission 13 and 14 NEOCam Mission 15 and 16 Io Volcano Observer Trident Candidates Enceladus Life Finder Icebreaker Life ISOCHRON JET LIFE MANTIS Mars Geyser Hopper Moon Diver PADME Phobos Surveyor Whipple New Frontiers program Missions New Horizons Juno OSIRIS-REx Dragonfly Proposals Finalists Mission 2 MoonRise Mission 3 MoonRise SAGE Mission 4 CAESAR Candidates CONDOR CORSAIR ELF ELSAH Oceanus SPRITE VICI VISAGE VOX Solar System Exploration program Missions DART JUICE instruments Europa Clipper Underline indicates active current missions Italics indicate missions yet to launch Symbol † indicates failure en route or before intended mission data returned v t e Jet Propulsion Laboratory Current missions Euclid Psyche ACRIMSAT ASTER Atmospheric infrared sounder (AIRS) Deep Space Atomic Clock GRACE-FO InSight Juno Keck observatory Large Binocular Telescope (LBT) Mars Odyssey Mars 2020 Perseverance rover Ingenuity helicopter Mars Reconnaissance Orbiter (MRO) Mars Science Laboratory (MSL) Microwave limb sounder (MLS) Multi-angle imaging spectroradiometer (MISR) Soil Moisture Active Passive (SMAP) Tropospheric Emission Spectrometer (TES) SWOT Voyager program Voyager 1 Voyager 2 Past missions Cassini-Huygens Dawn Deep Impact Deep Space 1 Deep Space 2 Explorers GALEX Galileo spacecraft Genesis GRACE Herschel IRAS Jason-1 Kepler Magellan Mariner Mars Climate Orbiter Mars Cube One (MarCO) Mars Observer Mars Pathfinder Mars Polar Lander Mars Global Surveyor Mars Exploration Rovers Spirit rover Opportunity rover Near-Earth Asteroid Scout NSCAT Phoenix Pioneer QuikSCAT Ranger Rosetta Seasat Shuttle Radar Topography Mission (SRTM) Solar Mesosphere Explorer (SME) Spaceborne Imaging Radar (SIR) Spitzer Space Telescope Stardust Surveyor SVLBI TOPEX/Poseidon Ulysses Viking Wide Field and Planetary Camera (WFPC) Wide Field Infrared Explorer (WIRE) Lunar Flashlight Planned missions Europa Clipper Nancy Grace Roman Space Telescope SPHEREx Proposed missions Europa Lander FINESSE Canceled missions Astrobiology Field Laboratory (AFL) Mars Astrobiology Explorer-Cacher (MAX-C) Related organizations NASA Caltech NASA Deep Space Network Goldstone Complex Table Mountain Observatory Solar System Ambassadors JPL Science Division Near-Earth Asteroid Tracking Space Flight Operations Facility v t e ← 2008 Orbital launches in 2009 2010 → January USA-202 / Orion 6 Ibuki , Kukai , SDS-1 , Sohla-1 Koronas-Foton February Omid NOAA-19 Progress M-66 Ekspress-AM44 , Ekspress-MD1 Hot Bird 10 , NSS-9 , Spirale-A , Spirale-B OCO Telstar 11N Raduga-1 March Kepler STS-119 ( ITS S6 ) GOCE USA-203 Soyuz TMA-14 April Eutelsat W2A USA-204 Kwangmyŏngsŏng-2 Compass-G2 RISAT-2 , ANUSAT SICRAL 1B Yaogan 6 Kosmos 2450 May USA-205 Progress M-02M STS-125 Herschel , Planck ProtoStar 2 TacSat-3 , PharmaSat , AeroCube-3 , HawkSat-1 , CP6 Meridian 2 Soyuz TMA-15 June LRO , LCROSS MEASAT-3a GOES 14 Sirius FM-5 July TerreStar-1 Kosmos 2451 , Kosmos 2452 , Kosmos 2453 RazakSAT STS-127 ( JEM-EF , AggieSat 2 , BEVO-1 , Castor , Pollux ) Kosmos 2454 , Sterkh No.11L Progress M-67 DubaiSat-1 , Deimos-1 , UK-DMC 2 , Nanosat-1B , AprizeSat-3 , AprizeSat-4 August AsiaSat 5 USA-206 JCSAT-RA , Optus D3 STSat-2A STS-128 ( Leonardo MPLM ) Palapa-D September USA-207 / PAN HTV-1 Meteor-M No.1 , BLITS , Sterkh-2 , SumbandilaSat , UGATUSAT , Universitetsky-Tatyana-2 Nimiq 5 Oceansat-2 , Rubin 9.1 , Rubin 9.2 , BeeSat-1 , UWE-2 , ITU-pSat1 , SwissCube-1 USA-208 / STSS-Demo 1 , USA-209 / STSS-Demo 2 Soyuz TMA-16 October Amazonas-2 , COMSATBw-1 WorldView-2 Progress M-03M USA-210 Thor 6 , NSS-12 November SMOS , PROBA-2 Progress M-MIM2 ( Poisk ) Shijian 11-01 STS-129 ( ExPRESS-1 , ExPRESS-2 ) Kosmos 2455 Intelsat 14 Eutelsat W7 IGS Optical 3 Intelsat 15 December USA-211 Yaogan 7 Kosmos 2456 , Kosmos 2457 , Kosmos 2458 Yaogan 8 , Xi Wang 1 Helios IIB Soyuz TMA-17 DirecTV-12 Launches are separated by dots ( • ), payloads by commas ( , ), multiple names for the same satellite by slashes ( / ). Crewed flights are underlined. Launch failures are marked with the † sign. Payloads deployed from other spacecraft are (enclosed in parentheses). v t e 2018 in space « 2017 2019 » Space probe launches TESS (lunar flyby; Apr 2018) Queqiao (mission to the Moon ; May 2018) InSight / Mars Cube One (mission to Mars ; May 2018) Parker Solar Probe (solar space mission; Aug 2018) BepiColombo (mission to Mercury ; Oct 2018) Chang'e 4 / Yutu-2 (mission to the Moon ; Dec 2018) Impact events 2018 LA Kamchatka meteor Selected NEOs Asteroid close approaches 2010 WC 9 2017 VR 12 2017 YE 5 (585310) 2017 YZ 1 2018 AH 2018 BD 2018 BF 3 2018 CB 2018 CC (276033) 2002 AJ 129 (505657) 2014 SR 339 2018 CF 2 2018 CL 2018 CN 2 2018 CY 2 2018 DV 1 2018 GE 3 2018 PD 20 2018 LF 16 2018 WV 1 (163899) 2003 SD 220 Exoplanets Gliese 1132 c possible exomoon Kepler-1625b I K2-141b K2-146b K2-148b K2-155d K2-229b K2-239b K2-239c K2-239d K2-288Bb EPIC 211945201 b HD 89345 b KELT-21b NGTS-3Ab Discoveries LSPM J0207+3331 VVV-WIT-07 MACS J1149 Lensed Star 1 10 moons of Jupiter 541132 Leleākūhonua (announced) Hyperion proto-supercluster 2MASS J18082002−5104378 Farout ( 2018 VG 18 ) FarFarOut ( 2018 AG 37 first imaged ) AT2018hyz SN 2018cow Novae V357 Muscae (Nova Muscae) V906 Carinae (Nova Carinae) V392 Persei (Nova Persei) Comets C/2017 T1 (Heinze) C/2017 U7 C/2018 C2 (Lemmon) 37P/Forbes 66P/du Toit 64P/Swift–Gehrels 38P/Stephan–Oterma C/2018 F4 (PanSTARRS) C/2018 V1 (Machholz-Fujikawa-Iwamoto) 46P/Wirtanen Space exploration Hayabusa2 (asteroid Ryugu arrival; Jun 2018) Kepler retirement (Oct 2018) InSight (Mars landing; Oct 2018) Dawn retirement (Nov 2018) OSIRIS-REx (asteroid Bennu arrival; Dec 2018) Voyager 2 (enters interstellar space; Dec 2018) New Horizons (encounter with 486958 Arrokoth ; Dec 2018 / Jan 2019) Outer space portal 2017 in outer space — 2018 in outer space — 2019 in outer space Portals : Astronomy Stars Spaceflight Outer space Solar System\n"
          ]
        }
      ]
    },
    {
      "cell_type": "markdown",
      "source": [
        "## Component 2: Data embedding and Storage"
      ],
      "metadata": {
        "id": "_uMz7JBoNhtL"
      }
    },
    {
      "cell_type": "code",
      "source": [
        "source_text = \"llm.txt\"\n",
        "\n",
        "# creating chunks\n",
        "with open(source_text, 'r') as f:\n",
        "  text = f.read()\n",
        "\n",
        "CHUNK_SIZE = 1000\n",
        "chunked_text = [text[i:i+CHUNK_SIZE] for i in range(0,len(text), CHUNK_SIZE)]\n",
        "\n",
        "# vectorize data\n",
        "vector_store_path = \"hub://sam4410/space_exploration_v1\""
      ],
      "metadata": {
        "id": "lOcwAe5nNnPA"
      },
      "execution_count": 7,
      "outputs": []
    },
    {
      "cell_type": "code",
      "source": [
        "try:\n",
        "  # attempt to load the vectorstore\n",
        "  vector_store = VectorStore(path=vector_store_path)\n",
        "  print(\"Vector store exists\")\n",
        "except FileNotFoundError:\n",
        "  print(\"Vector store does not exist. You can create it.\")\n",
        "  # Code to create the vector store\n",
        "  create_vector_store = True"
      ],
      "metadata": {
        "colab": {
          "base_uri": "https://localhost:8080/"
        },
        "id": "LWmTZmX_QC0r",
        "outputId": "e33ee9ba-3a63-418b-8f73-3d1d14213188"
      },
      "execution_count": 8,
      "outputs": [
        {
          "output_type": "stream",
          "name": "stdout",
          "text": [
            "Deep Lake Dataset in hub://sam4410/space_exploration_v1 already exists, loading from the storage\n",
            "Vector store exists\n"
          ]
        }
      ]
    },
    {
      "cell_type": "code",
      "source": [
        "# The embedding function will transform the chunks of data we created into vectors to enable vector-based search\n",
        "# will use \"text-embedding-3-small\" to embed the documents\n",
        "def embedding_function(texts, model=\"text-embedding-3-small\"):\n",
        "  if isinstance(texts, str):\n",
        "    texts = [texts]\n",
        "  texts = [t.replace(\"\\n\", \" \") for t in texts]\n",
        "  return [data.embedding for data in openai.embeddings.create(input = texts, model=model).data]"
      ],
      "metadata": {
        "id": "jPSfR0QVQmEe"
      },
      "execution_count": 9,
      "outputs": []
    },
    {
      "cell_type": "code",
      "source": [
        "# Adding Data to Vector store\n",
        "add_to_vector_store = True\n",
        "if add_to_vector_store == True:\n",
        "  with open(source_text, 'r') as f:\n",
        "    text = f.read()\n",
        "    CHUNK_SIZE = 1000\n",
        "    chunked_text = [text[i:i+1000] for i in range(0, len(text), CHUNK_SIZE)]\n",
        "\n",
        "vector_store.add(text = chunked_text,\n",
        "                 embedding_function = embedding_function,\n",
        "                 embedding_data = chunked_text,\n",
        "                 metadata = [{\"source\": source_text}]*len(chunked_text))"
      ],
      "metadata": {
        "colab": {
          "base_uri": "https://localhost:8080/"
        },
        "id": "4QwrIQFpjseB",
        "outputId": "17076c81-0663-45ed-9752-eaaa12165761"
      },
      "execution_count": 10,
      "outputs": [
        {
          "output_type": "stream",
          "name": "stderr",
          "text": [
            "Creating 348 embeddings in 1 batches of size 348:: 100%|██████████| 1/1 [00:08<00:00,  8.04s/it]"
          ]
        },
        {
          "output_type": "stream",
          "name": "stdout",
          "text": [
            "Dataset(path='hub://sam4410/space_exploration_v1', tensors=['embedding', 'id', 'metadata', 'text'])\n",
            "\n",
            "  tensor      htype       shape      dtype  compression\n",
            "  -------    -------     -------    -------  ------- \n",
            " embedding  embedding  (696, 1536)  float32   None   \n",
            "    id        text      (696, 1)      str     None   \n",
            " metadata     json      (696, 1)      str     None   \n",
            "   text       text      (696, 1)      str     None   \n"
          ]
        },
        {
          "output_type": "stream",
          "name": "stderr",
          "text": [
            "\n"
          ]
        }
      ]
    },
    {
      "cell_type": "markdown",
      "source": [
        "Dataset contains 4 tensors:\n",
        "1. embedding: Each chunk of data is embedded in a vector\n",
        "2. id: The ID is a string of characters and is unique\n",
        "3. metadata: The metadata contains the source of the data—in this case, the llm.txt file.\n",
        "4. text: The content of a chunk of text in the dataset"
      ],
      "metadata": {
        "id": "TRQ9P_JgnBQW"
      }
    },
    {
      "cell_type": "code",
      "source": [
        "# visualize how the dataset is organized to verify the structure\n",
        "print(vector_store.summary())"
      ],
      "metadata": {
        "colab": {
          "base_uri": "https://localhost:8080/"
        },
        "id": "tojqdC6rnQVw",
        "outputId": "cd2fb8a7-39a3-4848-b85a-66f1e21454ce"
      },
      "execution_count": 11,
      "outputs": [
        {
          "output_type": "stream",
          "name": "stdout",
          "text": [
            "Dataset(path='hub://sam4410/space_exploration_v1', tensors=['embedding', 'id', 'metadata', 'text'])\n",
            "\n",
            "  tensor      htype       shape      dtype  compression\n",
            "  -------    -------     -------    -------  ------- \n",
            " embedding  embedding  (696, 1536)  float32   None   \n",
            "    id        text      (696, 1)      str     None   \n",
            " metadata     json      (696, 1)      str     None   \n",
            "   text       text      (696, 1)      str     None   \n",
            "None\n"
          ]
        }
      ]
    },
    {
      "cell_type": "code",
      "source": [
        "# Vector store information\n",
        "# Activeloop's API reference provides us with all the information we need to manage our datasets: https://docs.deeplake.ai/en/latest/.\n",
        "# We can visualize our datasets once we sign in at https://app.activeloop.ai/datasets/mydatasets/\n",
        "# we can load our data using 1 line of code\n",
        "ds = deeplake.load(\"hub://sam4410/space_exploration_v1\")"
      ],
      "metadata": {
        "colab": {
          "base_uri": "https://localhost:8080/"
        },
        "id": "xz9opuINnhi_",
        "outputId": "00dd6dab-da5a-402f-bb6c-cdaa566b88bb"
      },
      "execution_count": 12,
      "outputs": [
        {
          "output_type": "stream",
          "name": "stderr",
          "text": [
            "|"
          ]
        },
        {
          "output_type": "stream",
          "name": "stdout",
          "text": [
            "This dataset can be visualized in Jupyter Notebook by ds.visualize() or at https://app.activeloop.ai/sam4410/space_exploration_v1\n",
            "\n"
          ]
        },
        {
          "output_type": "stream",
          "name": "stderr",
          "text": [
            "/"
          ]
        },
        {
          "output_type": "stream",
          "name": "stdout",
          "text": [
            "hub://sam4410/space_exploration_v1 loaded successfully.\n",
            "\n"
          ]
        },
        {
          "output_type": "stream",
          "name": "stderr",
          "text": [
            "\r \r\r\r"
          ]
        }
      ]
    },
    {
      "cell_type": "code",
      "source": [
        "# display the estimated size of a dataset\n",
        "ds_size = ds.size_approx()\n",
        "# Convert bytes to megabytes and limit to 5 decimal places\n",
        "ds_size_mb = ds_size / 1048576\n",
        "print(f\"Dataset size in megabytes: {ds_size_mb:.5f} MB\")\n",
        "ds_size_gb = ds_size / 1073741824\n",
        "print(f\"Dataset size in gigabytes: {ds_size_gb:.5f} GB\")"
      ],
      "metadata": {
        "colab": {
          "base_uri": "https://localhost:8080/"
        },
        "id": "P8qmgSo2ocsM",
        "outputId": "7048b48d-72b9-45eb-e459-3ba7a2804a47"
      },
      "execution_count": 13,
      "outputs": [
        {
          "output_type": "stream",
          "name": "stdout",
          "text": [
            "Dataset size in megabytes: 55.31311 MB\n",
            "Dataset size in gigabytes: 0.05402 GB\n"
          ]
        }
      ]
    },
    {
      "cell_type": "markdown",
      "source": [
        "## Step 3: Augmented input generation"
      ],
      "metadata": {
        "id": "GzYJkWp2wgxe"
      }
    },
    {
      "cell_type": "code",
      "source": [
        "# Augmented generation is the third pipeline component. We will use the data we retrieved to augment the user input. This component processes the user input, queries the vector store,\n",
        "#augments the input, and calls gpt-4-turbo model\n",
        "# load dataset from vector store\n",
        "vector_store_path = \"hub://sam4410/space_exploration_v1\"\n",
        "ds = deeplake.load(vector_store_path)"
      ],
      "metadata": {
        "colab": {
          "base_uri": "https://localhost:8080/"
        },
        "id": "7KST1yW1wTu9",
        "outputId": "9db97da4-fed9-4475-ddd6-df265cf84cbc"
      },
      "execution_count": 14,
      "outputs": [
        {
          "output_type": "stream",
          "name": "stderr",
          "text": [
            "-"
          ]
        },
        {
          "output_type": "stream",
          "name": "stdout",
          "text": [
            "This dataset can be visualized in Jupyter Notebook by ds.visualize() or at https://app.activeloop.ai/sam4410/space_exploration_v1\n",
            "\n"
          ]
        },
        {
          "output_type": "stream",
          "name": "stderr",
          "text": [
            "/"
          ]
        },
        {
          "output_type": "stream",
          "name": "stdout",
          "text": [
            "hub://sam4410/space_exploration_v1 loaded successfully.\n",
            "\n"
          ]
        },
        {
          "output_type": "stream",
          "name": "stderr",
          "text": [
            "\r \r\r\r"
          ]
        }
      ]
    },
    {
      "cell_type": "code",
      "source": [
        "# Input and query retrieval\n",
        "# will need the same embedding function, defined above to embed the user input ensure full compatibility between the input and the vector dataset\n",
        "# now either use an interactive prompt for an input or process user inputs in batches\n",
        "def get_user_prompt():\n",
        "  # Request user input for the search prompt\n",
        "  return input(\"Enter your search query: \")"
      ],
      "metadata": {
        "id": "-nitbrHAxT_V"
      },
      "execution_count": 15,
      "outputs": []
    },
    {
      "cell_type": "code",
      "source": [
        "user_prompt = get_user_prompt()"
      ],
      "metadata": {
        "colab": {
          "base_uri": "https://localhost:8080/"
        },
        "id": "JDtJsA1ax7x2",
        "outputId": "0ffc8c7a-6dad-420d-f91d-bf7886468350"
      },
      "execution_count": 16,
      "outputs": [
        {
          "name": "stdout",
          "output_type": "stream",
          "text": [
            "Enter your search query: Tell me about space exploration on the Moon and Mars.\n"
          ]
        }
      ]
    },
    {
      "cell_type": "code",
      "source": [
        "# plug the prompt into the search query and store the output\n",
        "search_results = vector_store.search(embedding_data=user_prompt,\n",
        "                                     embedding_function=embedding_function)"
      ],
      "metadata": {
        "id": "2FTH1aICyXX9"
      },
      "execution_count": 17,
      "outputs": []
    },
    {
      "cell_type": "code",
      "source": [
        "# wrap the retrieved text to obtain a formatted output\n",
        "def wrap_text(text, width=80):\n",
        "  lines = []\n",
        "  while len(text) > width:\n",
        "    split_index = text.rfind(' ', 0, width)\n",
        "    if split_index == -1:\n",
        "      split_index = width\n",
        "    lines.append(text[:split_index])\n",
        "    text = text[split_index:].strip()\n",
        "  lines.append(text)\n",
        "  return '\\n'.join(lines)"
      ],
      "metadata": {
        "id": "_2hJ6CEvy1HA"
      },
      "execution_count": 18,
      "outputs": []
    },
    {
      "cell_type": "code",
      "source": [
        "# Assuming the search results are ordered with the top result first\n",
        "top_score = search_results['score'][0]\n",
        "top_text = search_results['text'][0]\n",
        "top_metadata = search_results['metadata'][0]['source']\n",
        "\n",
        "# Print the top search result\n",
        "print(\"Top Search Result:\")\n",
        "print(f\"Score: {top_score}\")\n",
        "print(f\"Source: {top_metadata}\")\n",
        "print(\"Text:\")\n",
        "print(wrap_text(top_text))"
      ],
      "metadata": {
        "colab": {
          "base_uri": "https://localhost:8080/"
        },
        "id": "R8Q_XqGnzOMP",
        "outputId": "f29038b6-b2e4-42c1-fd67-4519cfbfca8f"
      },
      "execution_count": 19,
      "outputs": [
        {
          "output_type": "stream",
          "name": "stdout",
          "text": [
            "Top Search Result:\n",
            "Score: 0.6073837280273438\n",
            "Source: llm.txt\n",
            "Text:\n",
            "Exploration of space, planets, and moons For broader coverage of this topic,\n",
            "see Exploration . Buzz Aldrin taking a core sample of the Moon during the\n",
            "Apollo 11 mission Self-portrait of Curiosity rover on Mars 's surface Part of a\n",
            "series on Spaceflight History History of spaceflight Space Race Timeline of\n",
            "spaceflight Space probes Lunar missions Mars missions Applications\n",
            "Communications Earth observation Exploration Espionage Military Navigation\n",
            "Colonization Habitation Exploration Telescopes Tourism Spacecraft Robotic\n",
            "spacecraft Satellite Space probe Cargo spacecraft Crewed spacecraft Apollo\n",
            "Lunar Module Space capsules Space Shuttle Space stations Spaceplanes Vostok\n",
            "Space launch Spaceport Launch pad Expendable and reusable launch vehicles\n",
            "Escape velocity Non-rocket spacelaunch Spaceflight types Sub-orbital Orbital\n",
            "Interplanetary Interstellar Intergalactic List of space organizations Space\n",
            "agencies Space forces Companies Spaceflight portal v t e Space exploration is\n",
            "the use of astronomy\n"
          ]
        }
      ]
    },
    {
      "cell_type": "code",
      "source": [
        "# Augmented input by adding the top retrieved text to the user input (pronmpt)\n",
        "augmented_input = user_prompt+\" \"+ top_text\n",
        "print(augmented_input)"
      ],
      "metadata": {
        "colab": {
          "base_uri": "https://localhost:8080/"
        },
        "id": "P_4EGXeGzcMr",
        "outputId": "9fcee4aa-cb5c-434c-f21f-a9a1b4e510b0"
      },
      "execution_count": 20,
      "outputs": [
        {
          "output_type": "stream",
          "name": "stdout",
          "text": [
            "Tell me about space exploration on the Moon and Mars. Exploration of space, planets, and moons For broader coverage of this topic, see Exploration . Buzz Aldrin taking a core sample of the Moon during the Apollo 11 mission Self-portrait of Curiosity rover on Mars 's surface Part of a series on Spaceflight History History of spaceflight Space Race Timeline of spaceflight Space probes Lunar missions Mars missions Applications Communications Earth observation Exploration Espionage Military Navigation Colonization Habitation Exploration Telescopes Tourism Spacecraft Robotic spacecraft Satellite Space probe Cargo spacecraft Crewed spacecraft Apollo Lunar Module Space capsules Space Shuttle Space stations Spaceplanes Vostok Space launch Spaceport Launch pad Expendable and reusable launch vehicles Escape velocity Non-rocket spacelaunch Spaceflight types Sub-orbital Orbital Interplanetary Interstellar Intergalactic List of space organizations Space agencies Space forces Companies Spaceflight portal v t e Space exploration is the use of astronomy \n"
          ]
        }
      ]
    },
    {
      "cell_type": "code",
      "source": [
        "from openai import OpenAI\n",
        "client = OpenAI()\n",
        "import time\n",
        "\n",
        "gpt_model = \"gpt-4o-mini\"\n",
        "start_time = time.time()\n",
        "\n",
        "# write the generative AI call, adding roles to the message we create for the model\n",
        "def call_gpt4_with_full_text(itext):\n",
        "  # Join all lines to form a single string\n",
        "  text_input = '\\n'.join(itext)\n",
        "  prompt = f\"Please summarize or elaborate on the following content:\\n{text_input}\"\n",
        "\n",
        "  try:\n",
        "    response = client.chat.completions.create(\n",
        "      model=gpt_model,\n",
        "      messages=[\n",
        "        {\"role\": \"system\", \"content\": \"You are a space exploration expert.\"},\n",
        "        {\"role\": \"assistant\", \"content\": \"You can read the input and answer in detail.\" },\n",
        "        {\"role\": \"user\", \"content\": prompt}\n",
        "        ],\n",
        "      temperature=0.1\n",
        "    )\n",
        "    return response.choices[0].message.content.strip()\n",
        "  except Exception as e:\n",
        "    return str(e)"
      ],
      "metadata": {
        "id": "OX0uWKOi0iuI"
      },
      "execution_count": 23,
      "outputs": []
    },
    {
      "cell_type": "code",
      "source": [
        "# call the generative model giving aumented input\n",
        "gpt4_response = call_gpt4_with_full_text(augmented_input)\n",
        "\n",
        "response_time = time.time() - start_time # Measure response time\n",
        "print(f\"Response Time: {response_time:.2f} seconds\")\n",
        "print(gpt_model, \"Response:\", gpt4_response)"
      ],
      "metadata": {
        "colab": {
          "base_uri": "https://localhost:8080/"
        },
        "id": "yjqL_ZKt2Zjf",
        "outputId": "869d6239-36f9-4156-8a9b-5e0c29aa1156"
      },
      "execution_count": 24,
      "outputs": [
        {
          "output_type": "stream",
          "name": "stdout",
          "text": [
            "Response Time: 13.34 seconds\n",
            "gpt-4o-mini Response: Space exploration refers to the investigation and study of outer space through the use of various technologies, including spacecraft, satellites, and telescopes. This field encompasses a wide range of activities, including the exploration of celestial bodies such as the Moon and Mars, as well as the broader study of planets, moons, and other astronomical phenomena.\n",
            "\n",
            "### Moon Exploration\n",
            "The Moon has been a focal point of human space exploration, particularly during the Apollo missions. Notably, Buzz Aldrin famously took a core sample of the lunar surface during the Apollo 11 mission, marking a significant achievement in lunar exploration. The Moon serves as a valuable site for scientific research, offering insights into the early solar system and the geological history of celestial bodies.\n",
            "\n",
            "### Mars Exploration\n",
            "Mars is another primary target for exploration due to its potential for past or present life and its similarities to Earth. Robotic missions, such as the Curiosity rover, have been instrumental in studying the Martian surface, atmosphere, and geology. These missions aim to gather data that could inform future human exploration and potential colonization.\n",
            "\n",
            "### Historical Context\n",
            "The history of space exploration is marked by significant milestones, including the Space Race, which saw the United States and the Soviet Union competing to achieve various spaceflight objectives. Key events include the launch of the first artificial satellite, Sputnik, and the first human in space, Yuri Gagarin. The timeline of spaceflight highlights the evolution of technology and the increasing complexity of missions.\n",
            "\n",
            "### Types of Spacecraft\n",
            "Space exploration employs various types of spacecraft, including:\n",
            "- **Robotic Spacecraft**: Unmanned vehicles designed for exploration and data collection.\n",
            "- **Crewed Spacecraft**: Vehicles that carry astronauts, such as the Apollo Lunar Module and the Space Shuttle.\n",
            "- **Space Probes**: Instruments sent to gather data from distant celestial bodies.\n",
            "- **Satellites**: Used for communication, Earth observation, and scientific research.\n",
            "\n",
            "### Future of Space Exploration\n",
            "Looking ahead, space exploration is poised to expand further with plans for lunar bases, Mars colonization, and missions to asteroids and beyond. The development of reusable launch vehicles and advancements in propulsion technology are expected to make space travel more accessible and sustainable.\n",
            "\n",
            "### Applications of Space Exploration\n",
            "The benefits of space exploration extend beyond scientific knowledge. Applications include advancements in telecommunications, Earth observation for climate monitoring, navigation systems, and even military uses. The technologies developed for space missions often find applications in everyday life, contributing to various industries.\n",
            "\n",
            "### Conclusion\n",
            "Space exploration is a multifaceted endeavor that combines science, technology, and human curiosity. As we continue to explore the Moon, Mars, and beyond, we gain not only a deeper understanding of our universe but also the potential for future human habitation and resource utilization in space.\n"
          ]
        }
      ]
    },
    {
      "cell_type": "code",
      "source": [
        "# format the output with textwrap and print the result. First, checks if the response returned contains Markdown features\n",
        "import textwrap\n",
        "import re\n",
        "from IPython.display import display, Markdown, HTML\n",
        "import markdown\n",
        "\n",
        "def print_formatted_response(response):\n",
        "# Check for markdown by looking for patterns like headers, bold, lists, etc.\n",
        "  markdown_patterns = [\n",
        "  r\"^#+\\s\", # Headers\n",
        "  r\"^\\*+\", # Bullet points\n",
        "  r\"\\*\\*\", # Bold\n",
        "  r\"_\", # Italics\n",
        "  r\"\\[.+\\]\\(.+\\)\", # Links\n",
        "  r\"-\\s\", # Dashes used for lists\n",
        "  r\"\\`\\`\\`\" # Code blocks\n",
        "  ]\n",
        "\n",
        "  # If any pattern matches, assume the response is in markdown\n",
        "  if any(re.search(pattern, response, re.MULTILINE) for pattern in markdown_patterns):\n",
        "    # Markdown detected, convert to HTML for nicer display\n",
        "    html_output = markdown.markdown(response)\n",
        "    display(HTML(html_output)) # Use display(HTML()) to render HTML in Colab\n",
        "  else:\n",
        "    # No markdown detected, wrap and print as plain text\n",
        "    wrapper = textwrap.TextWrapper(width=80)\n",
        "    wrapped_text = wrapper.fill(text=response)\n",
        "    print(\"Text Response:\")\n",
        "    print(\"--------------------\")\n",
        "    print(wrapped_text)\n",
        "    print(\"--------------------\\n\")"
      ],
      "metadata": {
        "id": "jACn6LYVYTYA"
      },
      "execution_count": 26,
      "outputs": []
    },
    {
      "cell_type": "code",
      "source": [
        "print_formatted_response(gpt4_response)"
      ],
      "metadata": {
        "colab": {
          "base_uri": "https://localhost:8080/",
          "height": 605
        },
        "id": "Jvt1WW_rZjx4",
        "outputId": "2ed2c5c5-deea-46b1-87bc-5dec67481359"
      },
      "execution_count": 27,
      "outputs": [
        {
          "output_type": "display_data",
          "data": {
            "text/plain": [
              "<IPython.core.display.HTML object>"
            ],
            "text/html": [
              "<p>Space exploration refers to the investigation and study of outer space through the use of various technologies, including spacecraft, satellites, and telescopes. This field encompasses a wide range of activities, including the exploration of celestial bodies such as the Moon and Mars, as well as the broader study of planets, moons, and other astronomical phenomena.</p>\n",
              "<h3>Moon Exploration</h3>\n",
              "<p>The Moon has been a focal point of human space exploration, particularly during the Apollo missions. Notably, Buzz Aldrin famously took a core sample of the lunar surface during the Apollo 11 mission, marking a significant achievement in lunar exploration. The Moon serves as a valuable site for scientific research, offering insights into the early solar system and the geological history of celestial bodies.</p>\n",
              "<h3>Mars Exploration</h3>\n",
              "<p>Mars is another primary target for exploration due to its potential for past or present life and its similarities to Earth. Robotic missions, such as the Curiosity rover, have been instrumental in studying the Martian surface, atmosphere, and geology. These missions aim to gather data that could inform future human exploration and potential colonization.</p>\n",
              "<h3>Historical Context</h3>\n",
              "<p>The history of space exploration is marked by significant milestones, including the Space Race, which saw the United States and the Soviet Union competing to achieve various spaceflight objectives. Key events include the launch of the first artificial satellite, Sputnik, and the first human in space, Yuri Gagarin. The timeline of spaceflight highlights the evolution of technology and the increasing complexity of missions.</p>\n",
              "<h3>Types of Spacecraft</h3>\n",
              "<p>Space exploration employs various types of spacecraft, including:\n",
              "- <strong>Robotic Spacecraft</strong>: Unmanned vehicles designed for exploration and data collection.\n",
              "- <strong>Crewed Spacecraft</strong>: Vehicles that carry astronauts, such as the Apollo Lunar Module and the Space Shuttle.\n",
              "- <strong>Space Probes</strong>: Instruments sent to gather data from distant celestial bodies.\n",
              "- <strong>Satellites</strong>: Used for communication, Earth observation, and scientific research.</p>\n",
              "<h3>Future of Space Exploration</h3>\n",
              "<p>Looking ahead, space exploration is poised to expand further with plans for lunar bases, Mars colonization, and missions to asteroids and beyond. The development of reusable launch vehicles and advancements in propulsion technology are expected to make space travel more accessible and sustainable.</p>\n",
              "<h3>Applications of Space Exploration</h3>\n",
              "<p>The benefits of space exploration extend beyond scientific knowledge. Applications include advancements in telecommunications, Earth observation for climate monitoring, navigation systems, and even military uses. The technologies developed for space missions often find applications in everyday life, contributing to various industries.</p>\n",
              "<h3>Conclusion</h3>\n",
              "<p>Space exploration is a multifaceted endeavor that combines science, technology, and human curiosity. As we continue to explore the Moon, Mars, and beyond, we gain not only a deeper understanding of our universe but also the potential for future human habitation and resource utilization in space.</p>"
            ]
          },
          "metadata": {}
        }
      ]
    },
    {
      "cell_type": "markdown",
      "source": [
        "## Evaluating the output with cosine similarity"
      ],
      "metadata": {
        "id": "uA_XQOtQZw1Z"
      }
    },
    {
      "cell_type": "code",
      "source": [
        "# implement cosine similarity to measure the similarity between user input and the generative AI model's output\n",
        "# will also measure the augmented user input with the generative AI model's output. Let's first define a cosine similarity function:\n",
        "from sklearn.feature_extraction.text import TfidfVectorizer\n",
        "from sklearn.metrics.pairwise import cosine_similarity\n",
        "\n",
        "def calculate_cosine_similarity(text1, text2):\n",
        "  vectorizer = TfidfVectorizer()\n",
        "  tfidf = vectorizer.fit_transform([text1, text2])\n",
        "  similarity = cosine_similarity(tfidf[0:1], tfidf[1:2])\n",
        "  return similarity[0][0]"
      ],
      "metadata": {
        "id": "_aHOKop5ZyVq"
      },
      "execution_count": 28,
      "outputs": []
    },
    {
      "cell_type": "code",
      "source": [
        "# let’s calculate a score that measures the similarity between the user prompt and GPT-4’s response\n",
        "cosine_similarity_score = calculate_cosine_similarity(user_prompt, gpt4_response)\n",
        "print(f\"Cosine Similarity Score: {cosine_similarity_score}\")"
      ],
      "metadata": {
        "colab": {
          "base_uri": "https://localhost:8080/"
        },
        "id": "Ivat27PfaS0A",
        "outputId": "d0d5a80a-9e7c-4484-845a-4a1bfca41196"
      },
      "execution_count": 29,
      "outputs": [
        {
          "output_type": "stream",
          "name": "stdout",
          "text": [
            "Cosine Similarity Score: 0.3852138472642536\n"
          ]
        }
      ]
    },
    {
      "cell_type": "code",
      "source": [
        "# calculate the similarity between the augmented input and GPT-4’s response\n",
        "cosine_similarity_score_augmented = calculate_cosine_similarity(augmented_input, gpt4_response)\n",
        "print(f\"Cosine Similarity Score (Augmented Input): {cosine_similarity_score_augmented}\")"
      ],
      "metadata": {
        "colab": {
          "base_uri": "https://localhost:8080/"
        },
        "id": "h7s5GpyCaVyF",
        "outputId": "3d77b187-479c-4561-816e-9b8b16681b88"
      },
      "execution_count": 30,
      "outputs": [
        {
          "output_type": "stream",
          "name": "stdout",
          "text": [
            "Cosine Similarity Score (Augmented Input): 0.5904078875104394\n"
          ]
        }
      ]
    },
    {
      "cell_type": "code",
      "source": [
        "# TF-IDF relies heavily on exact vocabulary overlap and takes into account important language features such as semantic meanings, synonyms, or contextual usage\n",
        "# this method may produce lower similarity scores for texts that are conceptually similar but differ in word choice\n",
        "# In contrast, using Sentence Transformers to calculate similarity involves embeddings that capture deeper semantic relationships between words and phrases\n",
        "# This approach is more effective in recognizing the contextual and conceptual similarity between texts\n",
        "# !pip install sentence-transformers"
      ],
      "metadata": {
        "id": "84DiHtGfabUv"
      },
      "execution_count": 32,
      "outputs": []
    },
    {
      "cell_type": "code",
      "source": [
        "# use the MiniLM architecture to perform the task with all-MiniLM-L6-v2. This model is available through the Hugging Face Model Hub.\n",
        "# It's part of the sentence-transformers library, which is an extension of the Hugging Face Transformers library.\n",
        "from sentence_transformers import SentenceTransformer\n",
        "model = SentenceTransformer('all-MiniLM-L6-v2')\n",
        "\n",
        "def calculate_cosine_similarity_with_embeddings(text1, text2):\n",
        "  embeddings1 = model.encode(text1)\n",
        "  embeddings2 = model.encode(text2)\n",
        "  similarity = cosine_similarity([embeddings1], [embeddings2])\n",
        "  return similarity[0][0]"
      ],
      "metadata": {
        "colab": {
          "base_uri": "https://localhost:8080/",
          "height": 369,
          "referenced_widgets": [
            "0f00f2ae51874702ab9a77da2dd3672a",
            "c08702bcd16b411a8732aacf2301f5e0",
            "06f0d285cddd4ab5a690869349974470",
            "b904439f63764f19a6e90215b88265f6",
            "eb13f78111c54d7c98ae7c7bde6cf545",
            "41eaa68892ed41b0a22ebceed4a39380",
            "1f05da9545d141208aafca1d343468b7",
            "d108c818c03045a3819e3f8a052c6a98",
            "cb38c595c3914e57a890057fc1bf40fd",
            "e02a86cc022344b485820e411fb06421",
            "74b2a2c34fe8449a96194c334ef66072",
            "e02401d95f404fe2a7da80405dc42895",
            "d55fe9559c3b4d64adcb6ec990b92e43",
            "9f5c5cfb9d1a4265ba95322c457a23bc",
            "033110efc25041f6ad631e40837fcf79",
            "7e6726a3be7746eaab1462d565e87c8c",
            "09c7ddced0344ccca3d1b639860b741f",
            "8261fa41b0c64af5abc754a03ddc8e49",
            "4a5580fb97724fca9d467a3fcaaaaa91",
            "df4504c57e0543509607c10380e11879",
            "998cc55529204861a718939034dc73cb",
            "2a993a5acc3d403ba58731848861990a",
            "8587c4d7cb4b4ad0a1093ee22ae30a0f",
            "b1c592bfdf3f41fcb8300f386c3a20ff",
            "0f4f536de21b4e7bad3a0354db96e159",
            "58c93f3d81da4d249a6ca5cef8dd3517",
            "9d15a0ae52264711b5b52f668e53bbac",
            "b3537c01f0cc449cabe29b736f24d400",
            "0f0dd057100a4f499d57d56c006a70dc",
            "9050d983439744288e2db2ea341fd7b4",
            "6014ea3c75c64ab49908145cb0d5dba4",
            "9554f9f852e2494aa7c58593bd235f16",
            "07a8d2f99de04f40ac63f6a1b5c02403",
            "ae4f5773cfee4d91b136bb42446510b7",
            "136367418535404a98bd2aaba31e63ae",
            "073331b0541e458da9e50244e5ce8f86",
            "8dea50b78b764c95a2d0d466e924497d",
            "3a83ee395f3a4778ac8b12a4083f811f",
            "e712e0de78134070b0c9e11667758ec3",
            "e0ac1ec0920341f884936a2fcfb89c6a",
            "3397be7bb8ff479189a642ee0e960011",
            "2692589e37e249028e36f3bdc7471b16",
            "756573b2ca6f4baf957f94009ac5167e",
            "40ca3ae70d1b460986719e18d6e5d6d0",
            "7e2bcbbe7b234f64943401005f56de0b",
            "36c1aecf7a2d4317a5d7140c45261abb",
            "68448c6a67ed4009a89e5b08e5b9cb82",
            "a44eb758b208435baaa3c0c26b5e77da",
            "6a482a2a37ea438f883540b7e92f69bd",
            "cac2270ca224412cad28ccc47bf7d3f4",
            "0cf800eb13954d95bf7fdc2d1dbae150",
            "cdb6776067144fc387571557df71460a",
            "4a7976ce78d54665a4e4fe9b8828f8db",
            "9fca524560224840be5d1cda30d5543f",
            "1a566261572e47f48d24ffb00cb1ec1a",
            "f9d7953b1b53492fbd1373c59a5be927",
            "101d78b351364cdebd6a962f9ba2cb0d",
            "aa3792fbb27e432cbfae8ea8a676909e",
            "9d4666fa24b642ed9690c12727f6a9d6",
            "fcd9b78a36e44e9c8f8759c424037724",
            "ba178ef6ec7942259e3f7d6b7d4a544a",
            "591fd0d4edc34628a33b271eed307d65",
            "7dca50addf7e41efb3618ce3d552cd26",
            "6d3faf8bfa00412480eaa9ecf4bfc8b7",
            "4f01cdd498734561a9955be9d9448da2",
            "1551702968154e7ab173330029a6754b",
            "25d3321d3ee444789d704ce6bb63983a",
            "fc79c78cd4be491784b402fc2e7917d1",
            "b2ffb2393b7b4cb78a483f026b31a096",
            "aeab57a882074fb8a6546545f787ebf5",
            "7a2ca663e8c148faac484e139f08e973",
            "633a0fcbddd24d7fb769e4dce1465f54",
            "046f990104b44a92870aff4dd5ad2f58",
            "f2aa8ccb1c12483ba664b5746b51e61b",
            "2ed661f218d54e7abc30bcb20ab5e1c5",
            "2268f8b4ce0a4c779a0378743d76a3ca",
            "00f2cd4dc8774eecab79cb09bb678b87",
            "15ad47325e854f518f985b1abc65a2fb",
            "2d7508fc05964083aec82b5f9c087139",
            "c1247d92d8d34b3c94f6d85fdecb725b",
            "4316ce463dea4386be491d26a487ac71",
            "ea2843d43a824c0dbfb7284d94405773",
            "33d974fcfaa844269add859d89f60406",
            "3a6623343dbd4afb8ce9a32192de1522",
            "955bc8f6ae34471e8f7fa8a632f41573",
            "3490299b0c794331b7d4ae188d074e94",
            "db0fa388bea8492cb54555ecf8c5e9de",
            "91791b2da2da49cf8dd1f50d639a35d2",
            "3cd62c1d4c6a4e91ad3f159dd3a9f8f0",
            "7dcc12fd9b534b909e13f318ac23d69a",
            "5e0d714d840f4b5c9d5b0c1c82d3381d",
            "451baf440ef944ae9137aad8794dedd9",
            "89bb404ef6074dc0b354920adc992093",
            "a92f2a0ad01d4493acd7b61731799b4e",
            "1701c1694a9e4e239d078ffffa1f75ff",
            "bdc24235ed9e48c19e64f6b213c5f7fa",
            "3126686ba16344eaac2a870c39420c49",
            "eab184d3aeb945f89520ab7c0ad175a0",
            "55a27e22631b4d839816c1d6d46f6d87",
            "0574d0ac855447f1bcb7ea4ea0833d7f",
            "6164eb455fea41e0ba956f16e84eb472",
            "a0b4ccbd9b5443f79a92c4fcc67913b1",
            "21272a50f265406c90da278df9562a80",
            "9ff394877ed548d28d0debbbf260819f",
            "5dc50ad7ef2b4a05b92178243f18b5a6",
            "1259007af1a94bdb86af5cc43d0f67ca",
            "7cbcf0c93d5742898e8407bb2f1cdb27",
            "4e83e6778a3c412ebb8f587935537bdf",
            "921cbe734fe84613a32abc49311f9363",
            "4691c32d76d14d0bb98cf3e7fd39a2a5",
            "cc4cd111dc034700a19a9f6ba31f6de7",
            "01aa3617cba54816a2c0cf0763831538",
            "9e42653ebaed430d8ee5581a9bf7ad7f",
            "196817ad94134fc89717475748751bab",
            "92696bb318f24b459f6138ca9c591174",
            "314cc814cd4c48b68e4c20e19856b2e7",
            "a4ec229e4d5c467893c9461453c98a82",
            "3b91a306d32c4b4e830e90c09909f265",
            "4b423177e1624b618579a22935e831e9",
            "7aba59bf5ce642d8a9000334d17c2964",
            "07e4a85aa3bc404baa532d5078022804"
          ]
        },
        "id": "d-pANN5EbA6M",
        "outputId": "5e38f9e0-49d8-40a2-f036-3646dff2a0ff"
      },
      "execution_count": 33,
      "outputs": [
        {
          "output_type": "display_data",
          "data": {
            "text/plain": [
              "modules.json:   0%|          | 0.00/349 [00:00<?, ?B/s]"
            ],
            "application/vnd.jupyter.widget-view+json": {
              "version_major": 2,
              "version_minor": 0,
              "model_id": "0f00f2ae51874702ab9a77da2dd3672a"
            }
          },
          "metadata": {}
        },
        {
          "output_type": "display_data",
          "data": {
            "text/plain": [
              "config_sentence_transformers.json:   0%|          | 0.00/116 [00:00<?, ?B/s]"
            ],
            "application/vnd.jupyter.widget-view+json": {
              "version_major": 2,
              "version_minor": 0,
              "model_id": "e02401d95f404fe2a7da80405dc42895"
            }
          },
          "metadata": {}
        },
        {
          "output_type": "display_data",
          "data": {
            "text/plain": [
              "README.md:   0%|          | 0.00/10.5k [00:00<?, ?B/s]"
            ],
            "application/vnd.jupyter.widget-view+json": {
              "version_major": 2,
              "version_minor": 0,
              "model_id": "8587c4d7cb4b4ad0a1093ee22ae30a0f"
            }
          },
          "metadata": {}
        },
        {
          "output_type": "display_data",
          "data": {
            "text/plain": [
              "sentence_bert_config.json:   0%|          | 0.00/53.0 [00:00<?, ?B/s]"
            ],
            "application/vnd.jupyter.widget-view+json": {
              "version_major": 2,
              "version_minor": 0,
              "model_id": "ae4f5773cfee4d91b136bb42446510b7"
            }
          },
          "metadata": {}
        },
        {
          "output_type": "display_data",
          "data": {
            "text/plain": [
              "config.json:   0%|          | 0.00/612 [00:00<?, ?B/s]"
            ],
            "application/vnd.jupyter.widget-view+json": {
              "version_major": 2,
              "version_minor": 0,
              "model_id": "7e2bcbbe7b234f64943401005f56de0b"
            }
          },
          "metadata": {}
        },
        {
          "output_type": "display_data",
          "data": {
            "text/plain": [
              "model.safetensors:   0%|          | 0.00/90.9M [00:00<?, ?B/s]"
            ],
            "application/vnd.jupyter.widget-view+json": {
              "version_major": 2,
              "version_minor": 0,
              "model_id": "f9d7953b1b53492fbd1373c59a5be927"
            }
          },
          "metadata": {}
        },
        {
          "output_type": "display_data",
          "data": {
            "text/plain": [
              "tokenizer_config.json:   0%|          | 0.00/350 [00:00<?, ?B/s]"
            ],
            "application/vnd.jupyter.widget-view+json": {
              "version_major": 2,
              "version_minor": 0,
              "model_id": "25d3321d3ee444789d704ce6bb63983a"
            }
          },
          "metadata": {}
        },
        {
          "output_type": "display_data",
          "data": {
            "text/plain": [
              "vocab.txt:   0%|          | 0.00/232k [00:00<?, ?B/s]"
            ],
            "application/vnd.jupyter.widget-view+json": {
              "version_major": 2,
              "version_minor": 0,
              "model_id": "15ad47325e854f518f985b1abc65a2fb"
            }
          },
          "metadata": {}
        },
        {
          "output_type": "display_data",
          "data": {
            "text/plain": [
              "tokenizer.json:   0%|          | 0.00/466k [00:00<?, ?B/s]"
            ],
            "application/vnd.jupyter.widget-view+json": {
              "version_major": 2,
              "version_minor": 0,
              "model_id": "3cd62c1d4c6a4e91ad3f159dd3a9f8f0"
            }
          },
          "metadata": {}
        },
        {
          "output_type": "display_data",
          "data": {
            "text/plain": [
              "special_tokens_map.json:   0%|          | 0.00/112 [00:00<?, ?B/s]"
            ],
            "application/vnd.jupyter.widget-view+json": {
              "version_major": 2,
              "version_minor": 0,
              "model_id": "0574d0ac855447f1bcb7ea4ea0833d7f"
            }
          },
          "metadata": {}
        },
        {
          "output_type": "display_data",
          "data": {
            "text/plain": [
              "config.json:   0%|          | 0.00/190 [00:00<?, ?B/s]"
            ],
            "application/vnd.jupyter.widget-view+json": {
              "version_major": 2,
              "version_minor": 0,
              "model_id": "cc4cd111dc034700a19a9f6ba31f6de7"
            }
          },
          "metadata": {}
        }
      ]
    },
    {
      "cell_type": "code",
      "source": [
        "# calculate the similarity between the augmented user input and GPT-4's response\n",
        "similarity_score = calculate_cosine_similarity_with_embeddings(augmented_input,\n",
        "                                                               gpt4_response)\n",
        "print(f\"Cosine Similarity Score: {similarity_score:.3f}\")"
      ],
      "metadata": {
        "colab": {
          "base_uri": "https://localhost:8080/"
        },
        "id": "wfBSte8gcTsi",
        "outputId": "175a7b5d-9228-42cb-a359-85bfe3d79e2c"
      },
      "execution_count": 34,
      "outputs": [
        {
          "output_type": "stream",
          "name": "stdout",
          "text": [
            "Cosine Similarity Score: 0.784\n"
          ]
        }
      ]
    },
    {
      "cell_type": "code",
      "source": [
        "\"\"\"\n",
        "The output shows that the Sentence Transformer captures semantic similarities between the texts more effectively, resulting in a high cosine similarity score.\n",
        "\"\"\""
      ],
      "metadata": {
        "id": "ElzqZEzoceCR"
      },
      "execution_count": null,
      "outputs": []
    }
  ]
}